{
 "cells": [
  {
   "cell_type": "code",
   "execution_count": 1,
   "metadata": {},
   "outputs": [
    {
     "name": "stdout",
     "output_type": "stream",
     "text": [
      "Processing /home/jovyan\n",
      "Requirement already satisfied: plotly in /opt/conda/lib/python3.8/site-packages (from aptviz==0.0.1) (4.14.3)\n",
      "Requirement already satisfied: retrying>=1.3.3 in /opt/conda/lib/python3.8/site-packages (from plotly->aptviz==0.0.1) (1.3.3)\n",
      "Requirement already satisfied: six in /opt/conda/lib/python3.8/site-packages (from plotly->aptviz==0.0.1) (1.15.0)\n",
      "Building wheels for collected packages: aptviz\n",
      "  Building wheel for aptviz (setup.py) ... \u001b[?25ldone\n",
      "\u001b[?25h  Created wheel for aptviz: filename=aptviz-0.0.1-py3-none-any.whl size=10717 sha256=15a6fbb91229e7a76839528ba09cf556d3f848ed0307905233289368ae9b1fab\n",
      "  Stored in directory: /tmp/pip-ephem-wheel-cache-7u2a3kj9/wheels/fc/c4/49/78b5bd16ca276f2916d0829d47c131046b6e4575f7dd51e987\n",
      "Successfully built aptviz\n",
      "Installing collected packages: aptviz\n",
      "Successfully installed aptviz-0.0.1\n",
      "Note: you may need to restart the kernel to use updated packages.\n"
     ]
    }
   ],
   "source": [
    "\n",
    "pip install ..\n"
   ]
  },
  {
   "cell_type": "code",
   "execution_count": 6,
   "metadata": {},
   "outputs": [],
   "source": [
    "## Load packages \n",
    "\n",
    "# General packages\n",
    "import numpy as np\n",
    "import sys\n",
    "import pandas as pd\n",
    "import matplotlib.colors\n",
    "import matplotlib.cm\n",
    "\n",
    "# Plotly\n",
    "import plotly.figure_factory as ff\n",
    "import plotly.express as px\n",
    "import plotly.graph_objects as go\n",
    "import plotly.io as pio\n",
    "\n",
    "# ApTViz\n",
    "from aptviz import aptviz_themes\n",
    "from aptviz.supporting import *\n",
    "from aptviz.viz import *\n",
    "\n",
    "# Load ApTViz visualization theme\n",
    "pio.templates.default = \"aptviz\"\n",
    "\n",
    "# Other\n",
    "from jinja2 import Environment, FileSystemLoader, Template\n",
    "import json"
   ]
  },
  {
   "cell_type": "code",
   "execution_count": 3,
   "metadata": {},
   "outputs": [
    {
     "name": "stdout",
     "output_type": "stream",
     "text": [
      "Created df with length 555. Expected 555.\n"
     ]
    },
    {
     "data": {
      "text/html": [
       "<div>\n",
       "<style scoped>\n",
       "    .dataframe tbody tr th:only-of-type {\n",
       "        vertical-align: middle;\n",
       "    }\n",
       "\n",
       "    .dataframe tbody tr th {\n",
       "        vertical-align: top;\n",
       "    }\n",
       "\n",
       "    .dataframe thead th {\n",
       "        text-align: right;\n",
       "    }\n",
       "</style>\n",
       "<table border=\"1\" class=\"dataframe\">\n",
       "  <thead>\n",
       "    <tr style=\"text-align: right;\">\n",
       "      <th></th>\n",
       "      <th>cell_id</th>\n",
       "      <th>dim</th>\n",
       "      <th>nodes</th>\n",
       "      <th>weight</th>\n",
       "      <th>faces</th>\n",
       "      <th>rank</th>\n",
       "      <th>is_maximal</th>\n",
       "    </tr>\n",
       "  </thead>\n",
       "  <tbody>\n",
       "    <tr>\n",
       "      <th>0</th>\n",
       "      <td>0</td>\n",
       "      <td>0</td>\n",
       "      <td>[0]</td>\n",
       "      <td>7.214734</td>\n",
       "      <td>[]</td>\n",
       "      <td>3</td>\n",
       "      <td>0</td>\n",
       "    </tr>\n",
       "    <tr>\n",
       "      <th>1</th>\n",
       "      <td>1</td>\n",
       "      <td>0</td>\n",
       "      <td>[1]</td>\n",
       "      <td>7.025988</td>\n",
       "      <td>[]</td>\n",
       "      <td>67</td>\n",
       "      <td>0</td>\n",
       "    </tr>\n",
       "    <tr>\n",
       "      <th>2</th>\n",
       "      <td>2</td>\n",
       "      <td>0</td>\n",
       "      <td>[2]</td>\n",
       "      <td>7.418547</td>\n",
       "      <td>[]</td>\n",
       "      <td>16</td>\n",
       "      <td>0</td>\n",
       "    </tr>\n",
       "    <tr>\n",
       "      <th>3</th>\n",
       "      <td>3</td>\n",
       "      <td>0</td>\n",
       "      <td>[3]</td>\n",
       "      <td>7.991380</td>\n",
       "      <td>[]</td>\n",
       "      <td>64</td>\n",
       "      <td>1</td>\n",
       "    </tr>\n",
       "    <tr>\n",
       "      <th>4</th>\n",
       "      <td>4</td>\n",
       "      <td>0</td>\n",
       "      <td>[4]</td>\n",
       "      <td>7.461050</td>\n",
       "      <td>[]</td>\n",
       "      <td>86</td>\n",
       "      <td>0</td>\n",
       "    </tr>\n",
       "  </tbody>\n",
       "</table>\n",
       "</div>"
      ],
      "text/plain": [
       "   cell_id  dim nodes    weight faces  rank  is_maximal\n",
       "0        0    0   [0]  7.214734    []     3           0\n",
       "1        1    0   [1]  7.025988    []    67           0\n",
       "2        2    0   [2]  7.418547    []    16           0\n",
       "3        3    0   [3]  7.991380    []    64           1\n",
       "4        4    0   [4]  7.461050    []    86           0"
      ]
     },
     "execution_count": 3,
     "metadata": {},
     "output_type": "execute_result"
    }
   ],
   "source": [
    "## Generate data\n",
    "\n",
    "# Parameters\n",
    "n_nodes = 100\n",
    "n_simps = [n_nodes, 150, 110, 90, 40, 30, 20, 15]\n",
    "max_dim = int(len(n_simps)-1)\n",
    "indicator_col = \"is_maximal\"\n",
    "\n",
    "# Construct data frame\n",
    "fsc_df = create_fake_fsc_df(n_nodes, n_simps, max_dim)\n",
    "\n",
    "# Add indicator column\n",
    "fsc_df = add_fake_indicator(fsc_df, indicator_col)\n",
    "\n",
    "fsc_df.head()"
   ]
  },
  {
   "cell_type": "code",
   "execution_count": 4,
   "metadata": {},
   "outputs": [
    {
     "data": {
      "text/html": [
       "<div>\n",
       "<style scoped>\n",
       "    .dataframe tbody tr th:only-of-type {\n",
       "        vertical-align: middle;\n",
       "    }\n",
       "\n",
       "    .dataframe tbody tr th {\n",
       "        vertical-align: top;\n",
       "    }\n",
       "\n",
       "    .dataframe thead th {\n",
       "        text-align: right;\n",
       "    }\n",
       "</style>\n",
       "<table border=\"1\" class=\"dataframe\">\n",
       "  <thead>\n",
       "    <tr style=\"text-align: right;\">\n",
       "      <th></th>\n",
       "      <th>bar_id</th>\n",
       "      <th>bar_dim</th>\n",
       "      <th>bar_birth</th>\n",
       "      <th>bar_death</th>\n",
       "      <th>rep</th>\n",
       "      <th>lifetime</th>\n",
       "    </tr>\n",
       "  </thead>\n",
       "  <tbody>\n",
       "    <tr>\n",
       "      <th>0</th>\n",
       "      <td>0</td>\n",
       "      <td>3</td>\n",
       "      <td>4.703244</td>\n",
       "      <td>3.530858</td>\n",
       "      <td>[441, 396, 399, 424]</td>\n",
       "      <td>1.172387</td>\n",
       "    </tr>\n",
       "    <tr>\n",
       "      <th>1</th>\n",
       "      <td>1</td>\n",
       "      <td>0</td>\n",
       "      <td>7.153205</td>\n",
       "      <td>6.018766</td>\n",
       "      <td>[34, 57, 62, 48]</td>\n",
       "      <td>1.134439</td>\n",
       "    </tr>\n",
       "    <tr>\n",
       "      <th>2</th>\n",
       "      <td>2</td>\n",
       "      <td>3</td>\n",
       "      <td>4.291002</td>\n",
       "      <td>3.780809</td>\n",
       "      <td>[367, 397, 371, 398]</td>\n",
       "      <td>0.510193</td>\n",
       "    </tr>\n",
       "    <tr>\n",
       "      <th>3</th>\n",
       "      <td>3</td>\n",
       "      <td>0</td>\n",
       "      <td>7.019271</td>\n",
       "      <td>6.146577</td>\n",
       "      <td>[49, 26, 41, 36]</td>\n",
       "      <td>0.872695</td>\n",
       "    </tr>\n",
       "    <tr>\n",
       "      <th>4</th>\n",
       "      <td>4</td>\n",
       "      <td>4</td>\n",
       "      <td>3.826761</td>\n",
       "      <td>2.892253</td>\n",
       "      <td>[472, 461, 462, 473]</td>\n",
       "      <td>0.934509</td>\n",
       "    </tr>\n",
       "  </tbody>\n",
       "</table>\n",
       "</div>"
      ],
      "text/plain": [
       "   bar_id bar_dim  bar_birth  bar_death                   rep  lifetime\n",
       "0       0       3   4.703244   3.530858  [441, 396, 399, 424]  1.172387\n",
       "1       1       0   7.153205   6.018766      [34, 57, 62, 48]  1.134439\n",
       "2       2       3   4.291002   3.780809  [367, 397, 371, 398]  0.510193\n",
       "3       3       0   7.019271   6.146577      [49, 26, 41, 36]  0.872695\n",
       "4       4       4   3.826761   2.892253  [472, 461, 462, 473]  0.934509"
      ]
     },
     "execution_count": 4,
     "metadata": {},
     "output_type": "execute_result"
    }
   ],
   "source": [
    "## Generate barcode\n",
    "\n",
    "n_bars = 100\n",
    "filter_on = \"weight\"\n",
    "\n",
    "bar_df = create_fake_barcode(fsc_df, n_bars, filter_on)\n",
    "bar_df.head()"
   ]
  },
  {
   "cell_type": "code",
   "execution_count": 10,
   "metadata": {},
   "outputs": [
    {
     "data": {
      "text/plain": [
       "'[{\"bar_id\":0,\"bar_dim\":\"3\",\"bar_birth\":4.7032444241,\"bar_death\":3.5308577044,\"rep\":[441,396,399,424],\"lifetime\":1.1723867197},{\"bar_id\":1,\"bar_dim\":\"0\",\"bar_birth\":7.1532045741,\"bar_death\":6.0187660343,\"rep\":[34,57,62,48],\"lifetime\":1.1344385398},{\"bar_id\":2,\"bar_dim\":\"3\",\"bar_birth\":4.2910015324,\"bar_death\":3.7808085471,\"rep\":[367,397,371,398],\"lifetime\":0.5101929852},{\"bar_id\":3,\"bar_dim\":\"0\",\"bar_birth\":7.019271234,\"bar_death\":6.1465767062,\"rep\":[49,26,41,36],\"lifetime\":0.8726945278},{\"bar_id\":4,\"bar_dim\":\"4\",\"bar_birth\":3.826761148,\"bar_death\":2.8922525254,\"rep\":[472,461,462,473],\"lifetime\":0.9345086226},{\"bar_id\":5,\"bar_dim\":\"0\",\"bar_birth\":7.8984035667,\"bar_death\":6.6280511512,\"rep\":[70,68,44,75],\"lifetime\":1.2703524155},{\"bar_id\":6,\"bar_dim\":\"0\",\"bar_birth\":7.2251616105,\"bar_death\":6.3529193926,\"rep\":[82,85,24,70],\"lifetime\":0.8722422179},{\"bar_id\":7,\"bar_dim\":\"5\",\"bar_birth\":2.0105715732,\"bar_death\":1.5823452577,\"rep\":[517,519,510,490],\"lifetime\":0.4282263154},{\"bar_id\":8,\"bar_dim\":\"5\",\"bar_birth\":2.1090509617,\"bar_death\":1.5823452577,\"rep\":[512,511,499,506],\"lifetime\":0.526705704},{\"bar_id\":9,\"bar_dim\":\"5\",\"bar_birth\":2.1749219598,\"bar_death\":1.0132020036,\"rep\":[512,506,518,496],\"lifetime\":1.1617199562},{\"bar_id\":10,\"bar_dim\":\"4\",\"bar_birth\":3.826761148,\"bar_death\":2.7113328714,\"rep\":[473,450,474,475],\"lifetime\":1.1154282766},{\"bar_id\":11,\"bar_dim\":\"3\",\"bar_birth\":4.7893195736,\"bar_death\":3.2342752125,\"rep\":[430,369,448,384],\"lifetime\":1.5550443612},{\"bar_id\":12,\"bar_dim\":\"0\",\"bar_birth\":7.9913799891,\"bar_death\":6.7413764135,\"rep\":[68,50,99,70],\"lifetime\":1.2500035756},{\"bar_id\":13,\"bar_dim\":\"4\",\"bar_birth\":3.8534889835,\"bar_death\":2.2142215736,\"rep\":[481,465,463,472],\"lifetime\":1.63926741},{\"bar_id\":14,\"bar_dim\":\"5\",\"bar_birth\":2.217187345,\"bar_death\":1.2581860217,\"rep\":[503,502,506,500],\"lifetime\":0.9590013232},{\"bar_id\":15,\"bar_dim\":\"0\",\"bar_birth\":7.0666143765,\"bar_death\":6.4541918917,\"rep\":[12,75,51,26],\"lifetime\":0.6124224848},{\"bar_id\":16,\"bar_dim\":\"2\",\"bar_birth\":5.6728656149,\"bar_death\":4.5527740959,\"rep\":[340,320,287,295],\"lifetime\":1.120091519},{\"bar_id\":17,\"bar_dim\":\"1\",\"bar_birth\":6.1539383524,\"bar_death\":5.8944725152,\"rep\":[115,103,193,160],\"lifetime\":0.2594658372},{\"bar_id\":18,\"bar_dim\":\"0\",\"bar_birth\":7.6021835938,\"bar_death\":6.2037121036,\"rep\":[60,70,85,76],\"lifetime\":1.3984714902},{\"bar_id\":19,\"bar_dim\":\"3\",\"bar_birth\":4.7849946398,\"bar_death\":3.2415230811,\"rep\":[361,405,415,399],\"lifetime\":1.5434715587},{\"bar_id\":20,\"bar_dim\":\"2\",\"bar_birth\":5.8187269368,\"bar_death\":4.164013883,\"rep\":[304,273,308,257],\"lifetime\":1.6547130538},{\"bar_id\":21,\"bar_dim\":\"1\",\"bar_birth\":6.3682233794,\"bar_death\":5.964335958,\"rep\":[210,137,175,156],\"lifetime\":0.4038874213},{\"bar_id\":22,\"bar_dim\":\"1\",\"bar_birth\":6.6578478373,\"bar_death\":5.7216985795,\"rep\":[172,210,233,230],\"lifetime\":0.9361492578},{\"bar_id\":23,\"bar_dim\":\"4\",\"bar_birth\":3.9979487096,\"bar_death\":2.5063110267,\"rep\":[480,468,454,472],\"lifetime\":1.4916376829},{\"bar_id\":24,\"bar_dim\":\"3\",\"bar_birth\":4.4752470919,\"bar_death\":3.3212604503,\"rep\":[380,418,372,365],\"lifetime\":1.1539866417},{\"bar_id\":25,\"bar_dim\":\"0\",\"bar_birth\":7.7146349471,\"bar_death\":6.1879880748,\"rep\":[94,0,16,71],\"lifetime\":1.5266468722},{\"bar_id\":26,\"bar_dim\":\"1\",\"bar_birth\":6.1977182305,\"bar_death\":5.5479283328,\"rep\":[172,121,153,167],\"lifetime\":0.6497898977},{\"bar_id\":27,\"bar_dim\":\"0\",\"bar_birth\":7.700557878,\"bar_death\":6.2934305743,\"rep\":[7,69,16,67],\"lifetime\":1.4071273037},{\"bar_id\":28,\"bar_dim\":\"4\",\"bar_birth\":3.5101891676,\"bar_death\":2.7318229895,\"rep\":[488,484,451,469],\"lifetime\":0.7783661782},{\"bar_id\":29,\"bar_dim\":\"3\",\"bar_birth\":4.9927728018,\"bar_death\":3.2342752125,\"rep\":[405,443,395,429],\"lifetime\":1.7584975894},{\"bar_id\":30,\"bar_dim\":\"5\",\"bar_birth\":2.3079985403,\"bar_death\":1.9707796288,\"rep\":[506,500,501,512],\"lifetime\":0.3372189115},{\"bar_id\":31,\"bar_dim\":\"1\",\"bar_birth\":6.4922688754,\"bar_death\":5.8334292158,\"rep\":[124,148,161,208],\"lifetime\":0.6588396596},{\"bar_id\":32,\"bar_dim\":\"0\",\"bar_birth\":7.9299310767,\"bar_death\":6.5315784248,\"rep\":[88,23,71,61],\"lifetime\":1.3983526519},{\"bar_id\":33,\"bar_dim\":\"4\",\"bar_birth\":3.608515164,\"bar_death\":2.8296063516,\"rep\":[457,466,484,451],\"lifetime\":0.7789088124},{\"bar_id\":34,\"bar_dim\":\"3\",\"bar_birth\":4.5718186814,\"bar_death\":3.3872096711,\"rep\":[409,370,401,404],\"lifetime\":1.1846090103},{\"bar_id\":35,\"bar_dim\":\"1\",\"bar_birth\":6.3501312167,\"bar_death\":5.393666213,\"rep\":[230,117,120,113],\"lifetime\":0.9564650037},{\"bar_id\":36,\"bar_dim\":\"0\",\"bar_birth\":7.0357124385,\"bar_death\":6.069793734,\"rep\":[77,42,58,20],\"lifetime\":0.9659187045},{\"bar_id\":37,\"bar_dim\":\"4\",\"bar_birth\":3.530549298,\"bar_death\":2.7318229895,\"rep\":[466,480,474,482],\"lifetime\":0.7987263086},{\"bar_id\":38,\"bar_dim\":\"0\",\"bar_birth\":7.9410215894,\"bar_death\":6.1544776563,\"rep\":[25,67,76,86],\"lifetime\":1.7865439331},{\"bar_id\":39,\"bar_dim\":\"0\",\"bar_birth\":7.9873848725,\"bar_death\":6.9528942817,\"rep\":[98,15,67,42],\"lifetime\":1.0344905908},{\"bar_id\":40,\"bar_dim\":\"4\",\"bar_birth\":3.8844420247,\"bar_death\":2.3884219775,\"rep\":[474,481,451,486],\"lifetime\":1.4960200473},{\"bar_id\":41,\"bar_dim\":\"4\",\"bar_birth\":3.8534889835,\"bar_death\":2.4417734304,\"rep\":[478,471,467,460],\"lifetime\":1.4117155531},{\"bar_id\":42,\"bar_dim\":\"4\",\"bar_birth\":3.5101891676,\"bar_death\":2.8922525254,\"rep\":[464,483,486,462],\"lifetime\":0.6179366422},{\"bar_id\":43,\"bar_dim\":\"3\",\"bar_birth\":4.9282951081,\"bar_death\":3.3872096711,\"rep\":[362,425,400,447],\"lifetime\":1.541085437},{\"bar_id\":44,\"bar_dim\":\"4\",\"bar_birth\":3.4838892181,\"bar_death\":2.0661897647,\"rep\":[477,451,466,471],\"lifetime\":1.4176994534},{\"bar_id\":45,\"bar_dim\":\"2\",\"bar_birth\":5.7624783803,\"bar_death\":4.5649235767,\"rep\":[322,258,354,264],\"lifetime\":1.1975548036},{\"bar_id\":46,\"bar_dim\":\"5\",\"bar_birth\":2.217187345,\"bar_death\":1.7893144794,\"rep\":[499,518,496,510],\"lifetime\":0.4278728656},{\"bar_id\":47,\"bar_dim\":\"4\",\"bar_birth\":3.826761148,\"bar_death\":2.7113328714,\"rep\":[464,457,469,477],\"lifetime\":1.1154282766},{\"bar_id\":48,\"bar_dim\":\"4\",\"bar_birth\":3.5101891676,\"bar_death\":2.8296063516,\"rep\":[475,477,455,453],\"lifetime\":0.680582816},{\"bar_id\":49,\"bar_dim\":\"0\",\"bar_birth\":7.8027259222,\"bar_death\":6.7933687305,\"rep\":[89,53,7,21],\"lifetime\":1.0093571917},{\"bar_id\":50,\"bar_dim\":\"1\",\"bar_birth\":6.8589231012,\"bar_death\":5.6728656149,\"rep\":[242,248,135,121],\"lifetime\":1.1860574863},{\"bar_id\":51,\"bar_dim\":\"4\",\"bar_birth\":3.8844420247,\"bar_death\":2.1090509617,\"rep\":[457,461,474,483],\"lifetime\":1.775391063},{\"bar_id\":52,\"bar_dim\":\"4\",\"bar_birth\":3.5101891676,\"bar_death\":2.7113328714,\"rep\":[477,475,455,452],\"lifetime\":0.7988562962},{\"bar_id\":53,\"bar_dim\":\"5\",\"bar_birth\":2.8296063516,\"bar_death\":1.9707796288,\"rep\":[499,492,512,509],\"lifetime\":0.8588267228},{\"bar_id\":54,\"bar_dim\":\"1\",\"bar_birth\":6.1266522715,\"bar_death\":5.848372861,\"rep\":[248,127,205,190],\"lifetime\":0.2782794105},{\"bar_id\":55,\"bar_dim\":\"4\",\"bar_birth\":3.3710446902,\"bar_death\":2.7581573508,\"rep\":[474,478,484,453],\"lifetime\":0.6128873394},{\"bar_id\":56,\"bar_dim\":\"4\",\"bar_birth\":3.1389578289,\"bar_death\":2.7113328714,\"rep\":[467,464,487,469],\"lifetime\":0.4276249575},{\"bar_id\":57,\"bar_dim\":\"2\",\"bar_birth\":5.4146717332,\"bar_death\":4.5136675202,\"rep\":[278,355,253,276],\"lifetime\":0.901004213},{\"bar_id\":58,\"bar_dim\":\"1\",\"bar_birth\":6.149216763,\"bar_death\":5.0615587227,\"rep\":[127,224,109,137],\"lifetime\":1.0876580403},{\"bar_id\":59,\"bar_dim\":\"1\",\"bar_birth\":6.1923823694,\"bar_death\":5.6363405798,\"rep\":[182,120,150,136],\"lifetime\":0.5560417896},{\"bar_id\":60,\"bar_dim\":\"3\",\"bar_birth\":4.8693379129,\"bar_death\":3.3932183889,\"rep\":[421,411,408,387],\"lifetime\":1.476119524},{\"bar_id\":61,\"bar_dim\":\"4\",\"bar_birth\":3.7654139075,\"bar_death\":2.663138681,\"rep\":[482,450,456,469],\"lifetime\":1.1022752264},{\"bar_id\":62,\"bar_dim\":\"4\",\"bar_birth\":3.3837586523,\"bar_death\":2.8642862102,\"rep\":[469,460,478,453],\"lifetime\":0.5194724422},{\"bar_id\":63,\"bar_dim\":\"5\",\"bar_birth\":2.1090509617,\"bar_death\":1.9707796288,\"rep\":[512,506,515,508],\"lifetime\":0.1382713329},{\"bar_id\":64,\"bar_dim\":\"5\",\"bar_birth\":2.754911906,\"bar_death\":1.2907791065,\"rep\":[515,509,512,493],\"lifetime\":1.4641327995},{\"bar_id\":65,\"bar_dim\":\"1\",\"bar_birth\":6.3546935441,\"bar_death\":5.5643963333,\"rep\":[125,229,119,143],\"lifetime\":0.7902972108},{\"bar_id\":66,\"bar_dim\":\"4\",\"bar_birth\":3.6596810136,\"bar_death\":2.2910791321,\"rep\":[487,478,461,479],\"lifetime\":1.3686018816},{\"bar_id\":67,\"bar_dim\":\"4\",\"bar_birth\":3.5885489707,\"bar_death\":2.0105715732,\"rep\":[463,467,480,458],\"lifetime\":1.5779773975},{\"bar_id\":68,\"bar_dim\":\"1\",\"bar_birth\":6.3660023689,\"bar_death\":5.9221459839,\"rep\":[133,138,203,222],\"lifetime\":0.443856385},{\"bar_id\":69,\"bar_dim\":\"4\",\"bar_birth\":3.3212604503,\"bar_death\":2.8922525254,\"rep\":[488,471,450,469],\"lifetime\":0.4290079249},{\"bar_id\":70,\"bar_dim\":\"5\",\"bar_birth\":2.1749219598,\"bar_death\":1.2907791065,\"rep\":[519,508,493,498],\"lifetime\":0.8841428533},{\"bar_id\":71,\"bar_dim\":\"5\",\"bar_birth\":2.8588581057,\"bar_death\":1.9673405583,\"rep\":[516,499,495,501],\"lifetime\":0.8915175474},{\"bar_id\":72,\"bar_dim\":\"1\",\"bar_birth\":6.8734683472,\"bar_death\":5.3058282292,\"rep\":[108,112,210,185],\"lifetime\":1.567640118},{\"bar_id\":73,\"bar_dim\":\"4\",\"bar_birth\":3.3932183889,\"bar_death\":2.7318229895,\"rep\":[455,465,483,462],\"lifetime\":0.6613953995},{\"bar_id\":74,\"bar_dim\":\"1\",\"bar_birth\":6.1857339883,\"bar_death\":5.926523163,\"rep\":[122,213,240,246],\"lifetime\":0.2592108254},{\"bar_id\":75,\"bar_dim\":\"4\",\"bar_birth\":3.3932183889,\"bar_death\":2.2142215736,\"rep\":[462,473,452,459],\"lifetime\":1.1789968154},{\"bar_id\":76,\"bar_dim\":\"4\",\"bar_birth\":3.3267227642,\"bar_death\":2.754911906,\"rep\":[471,479,481,480],\"lifetime\":0.5718108582},{\"bar_id\":77,\"bar_dim\":\"4\",\"bar_birth\":3.8534889835,\"bar_death\":2.9192795037,\"rep\":[464,461,480,458],\"lifetime\":0.9342094798},{\"bar_id\":78,\"bar_dim\":\"5\",\"bar_birth\":2.5063110267,\"bar_death\":1.8318489492,\"rep\":[506,504,500,495],\"lifetime\":0.6744620775},{\"bar_id\":79,\"bar_dim\":\"1\",\"bar_birth\":6.4299049862,\"bar_death\":5.5282001905,\"rep\":[234,111,220,227],\"lifetime\":0.9017047957},{\"bar_id\":80,\"bar_dim\":\"5\",\"bar_birth\":2.0105715732,\"bar_death\":1.7041537846,\"rep\":[518,495,492,517],\"lifetime\":0.3064177886},{\"bar_id\":81,\"bar_dim\":\"1\",\"bar_birth\":6.4620373658,\"bar_death\":5.4854217363,\"rep\":[216,136,237,197],\"lifetime\":0.9766156295},{\"bar_id\":82,\"bar_dim\":\"2\",\"bar_birth\":5.4506558196,\"bar_death\":4.3187112497,\"rep\":[340,352,334,345],\"lifetime\":1.1319445699},{\"bar_id\":83,\"bar_dim\":\"4\",\"bar_birth\":3.6867466524,\"bar_death\":2.3079985403,\"rep\":[467,459,485,451],\"lifetime\":1.378748112},{\"bar_id\":84,\"bar_dim\":\"5\",\"bar_birth\":2.4417734304,\"bar_death\":1.7893144794,\"rep\":[504,513,512,510],\"lifetime\":0.652458951},{\"bar_id\":85,\"bar_dim\":\"4\",\"bar_birth\":3.3212604503,\"bar_death\":2.7481485981,\"rep\":[469,465,480,476],\"lifetime\":0.5731118522},{\"bar_id\":86,\"bar_dim\":\"1\",\"bar_birth\":6.0772215383,\"bar_death\":5.393666213,\"rep\":[115,136,198,101],\"lifetime\":0.6835553253},{\"bar_id\":87,\"bar_dim\":\"5\",\"bar_birth\":2.754911906,\"bar_death\":1.6288783294,\"rep\":[515,495,497,492],\"lifetime\":1.1260335766},{\"bar_id\":88,\"bar_dim\":\"2\",\"bar_birth\":5.3212391299,\"bar_death\":4.9927728018,\"rep\":[308,300,282,293],\"lifetime\":0.328466328},{\"bar_id\":89,\"bar_dim\":\"2\",\"bar_birth\":5.4506558196,\"bar_death\":4.2924252833,\"rep\":[345,279,290,275],\"lifetime\":1.1582305363},{\"bar_id\":90,\"bar_dim\":\"3\",\"bar_birth\":4.953418666,\"bar_death\":3.2627878474,\"rep\":[375,377,381,436],\"lifetime\":1.6906308186},{\"bar_id\":91,\"bar_dim\":\"3\",\"bar_birth\":4.6731954807,\"bar_death\":3.5308577044,\"rep\":[386,382,365,418],\"lifetime\":1.1423377764},{\"bar_id\":92,\"bar_dim\":\"3\",\"bar_birth\":4.4489027854,\"bar_death\":3.320912833,\"rep\":[377,440,400,445],\"lifetime\":1.1279899525},{\"bar_id\":93,\"bar_dim\":\"1\",\"bar_birth\":6.5043813578,\"bar_death\":5.7624807329,\"rep\":[232,224,119,239],\"lifetime\":0.7419006248},{\"bar_id\":94,\"bar_dim\":\"2\",\"bar_birth\":5.3481570008,\"bar_death\":4.2760150328,\"rep\":[358,292,287,298],\"lifetime\":1.072141968},{\"bar_id\":95,\"bar_dim\":\"4\",\"bar_birth\":3.8534889835,\"bar_death\":2.0105715732,\"rep\":[457,450,469,466],\"lifetime\":1.8429174104},{\"bar_id\":96,\"bar_dim\":\"3\",\"bar_birth\":4.790617885,\"bar_death\":3.115391395,\"rep\":[428,364,368,395],\"lifetime\":1.6752264901},{\"bar_id\":97,\"bar_dim\":\"5\",\"bar_birth\":2.5063110267,\"bar_death\":1.8318489492,\"rep\":[501,500,511,497],\"lifetime\":0.6744620775},{\"bar_id\":98,\"bar_dim\":\"0\",\"bar_birth\":7.1532045741,\"bar_death\":6.0772215383,\"rep\":[72,21,56,25],\"lifetime\":1.0759830358},{\"bar_id\":99,\"bar_dim\":\"1\",\"bar_birth\":6.8823816348,\"bar_death\":5.2337359905,\"rep\":[124,152,230,157],\"lifetime\":1.6486456443}]'"
      ]
     },
     "execution_count": 10,
     "metadata": {},
     "output_type": "execute_result"
    }
   ],
   "source": [
    "## Step 1 - write bar_df to json\n",
    "\n",
    "bar_json = bar_df.to_json(orient=\"records\")\n",
    "bar_json"
   ]
  },
  {
   "cell_type": "code",
   "execution_count": null,
   "metadata": {},
   "outputs": [],
   "source": []
  }
 ],
 "metadata": {
  "kernelspec": {
   "display_name": "Python 3",
   "language": "python",
   "name": "python3"
  },
  "language_info": {
   "codemirror_mode": {
    "name": "ipython",
    "version": 3
   },
   "file_extension": ".py",
   "mimetype": "text/x-python",
   "name": "python",
   "nbconvert_exporter": "python",
   "pygments_lexer": "ipython3",
   "version": "3.8.6"
  }
 },
 "nbformat": 4,
 "nbformat_minor": 4
}
