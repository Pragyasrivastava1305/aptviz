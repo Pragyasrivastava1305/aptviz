{
 "cells": [
  {
   "cell_type": "markdown",
   "metadata": {},
   "source": [
    "# Example plots for visualizing persistent homology output\n",
    "\n",
    "This notebook contains example visualizations that can be used to answer questions about the filtered complex's persistent homology. For example, these functions can be used to show\n",
    "\n",
    "- persistence diagrams\n",
    "- barcodes\n",
    "- interactive barcodes with generators\n",
    "\n",
    "\n",
    "We will generate fake data here for sake of the examples."
   ]
  },
  {
   "cell_type": "code",
   "execution_count": 1,
   "metadata": {},
   "outputs": [
    {
     "name": "stdout",
     "output_type": "stream",
     "text": [
      "Processing /home/jovyan\n",
      "Requirement already satisfied: plotly in /opt/conda/lib/python3.8/site-packages (from aptviz==0.0.1) (4.14.3)\n",
      "Requirement already satisfied: retrying>=1.3.3 in /opt/conda/lib/python3.8/site-packages (from plotly->aptviz==0.0.1) (1.3.3)\n",
      "Requirement already satisfied: six in /opt/conda/lib/python3.8/site-packages (from plotly->aptviz==0.0.1) (1.15.0)\n",
      "Building wheels for collected packages: aptviz\n",
      "  Building wheel for aptviz (setup.py) ... \u001b[?25ldone\n",
      "\u001b[?25h  Created wheel for aptviz: filename=aptviz-0.0.1-py3-none-any.whl size=7812 sha256=1e5f03f5b3bb9c35812c1e4dfe18d7f61f058a9a50b7d13fedd7a5618215046d\n",
      "  Stored in directory: /tmp/pip-ephem-wheel-cache-blo4gp9m/wheels/fc/c4/49/78b5bd16ca276f2916d0829d47c131046b6e4575f7dd51e987\n",
      "Successfully built aptviz\n",
      "Installing collected packages: aptviz\n",
      "  Attempting uninstall: aptviz\n",
      "    Found existing installation: aptviz 0.0.1\n",
      "    Uninstalling aptviz-0.0.1:\n",
      "      Successfully uninstalled aptviz-0.0.1\n",
      "Successfully installed aptviz-0.0.1\n",
      "Note: you may need to restart the kernel to use updated packages.\n"
     ]
    }
   ],
   "source": [
    "pip install .."
   ]
  },
  {
   "cell_type": "code",
   "execution_count": 2,
   "metadata": {},
   "outputs": [],
   "source": [
    "## Load packages \n",
    "\n",
    "# General packages\n",
    "import numpy as np\n",
    "import sys\n",
    "import pandas as pd\n",
    "\n",
    "# Plotly\n",
    "import plotly.figure_factory as ff\n",
    "import plotly.express as px\n",
    "import plotly.graph_objects as go\n",
    "import plotly.io as pio\n",
    "\n",
    "# ApTViz\n",
    "from aptviz import aptviz_themes\n",
    "from aptviz.supporting import *\n",
    "from aptviz.viz import *\n",
    "\n",
    "# Load ApTViz visualization theme\n",
    "pio.templates.default = \"aptviz\""
   ]
  },
  {
   "cell_type": "markdown",
   "metadata": {},
   "source": [
    "### Construct data\n",
    "\n",
    "The first cell creates a fake simplicial complex intended for demonstrating the visualiation functions. Consider modifying the parameters `n_nodes`, `n_simps`, `max_dim`, and adding any indicator column you may find useful (such as `is_maximal`).\n",
    "\n",
    "The second cell generates a fake barcode from a filtered simplicial complex and a parameter `n_bars` specifying the number of bars to generate. Bar dimension, birth, death, and representative simplices will be chosen at random."
   ]
  },
  {
   "cell_type": "code",
   "execution_count": 3,
   "metadata": {},
   "outputs": [
    {
     "name": "stdout",
     "output_type": "stream",
     "text": [
      "Created df with length 555. Expected 555.\n"
     ]
    },
    {
     "data": {
      "text/html": [
       "<div>\n",
       "<style scoped>\n",
       "    .dataframe tbody tr th:only-of-type {\n",
       "        vertical-align: middle;\n",
       "    }\n",
       "\n",
       "    .dataframe tbody tr th {\n",
       "        vertical-align: top;\n",
       "    }\n",
       "\n",
       "    .dataframe thead th {\n",
       "        text-align: right;\n",
       "    }\n",
       "</style>\n",
       "<table border=\"1\" class=\"dataframe\">\n",
       "  <thead>\n",
       "    <tr style=\"text-align: right;\">\n",
       "      <th></th>\n",
       "      <th>cell_id</th>\n",
       "      <th>dim</th>\n",
       "      <th>nodes</th>\n",
       "      <th>weight</th>\n",
       "      <th>faces</th>\n",
       "      <th>rank</th>\n",
       "      <th>is_maximal</th>\n",
       "    </tr>\n",
       "  </thead>\n",
       "  <tbody>\n",
       "    <tr>\n",
       "      <th>0</th>\n",
       "      <td>0</td>\n",
       "      <td>0</td>\n",
       "      <td>[0]</td>\n",
       "      <td>7.115579</td>\n",
       "      <td>[]</td>\n",
       "      <td>3</td>\n",
       "      <td>1</td>\n",
       "    </tr>\n",
       "    <tr>\n",
       "      <th>1</th>\n",
       "      <td>1</td>\n",
       "      <td>0</td>\n",
       "      <td>[1]</td>\n",
       "      <td>7.893902</td>\n",
       "      <td>[]</td>\n",
       "      <td>23</td>\n",
       "      <td>0</td>\n",
       "    </tr>\n",
       "    <tr>\n",
       "      <th>2</th>\n",
       "      <td>2</td>\n",
       "      <td>0</td>\n",
       "      <td>[2]</td>\n",
       "      <td>7.467068</td>\n",
       "      <td>[]</td>\n",
       "      <td>98</td>\n",
       "      <td>0</td>\n",
       "    </tr>\n",
       "    <tr>\n",
       "      <th>3</th>\n",
       "      <td>3</td>\n",
       "      <td>0</td>\n",
       "      <td>[3]</td>\n",
       "      <td>7.982615</td>\n",
       "      <td>[]</td>\n",
       "      <td>58</td>\n",
       "      <td>1</td>\n",
       "    </tr>\n",
       "    <tr>\n",
       "      <th>4</th>\n",
       "      <td>4</td>\n",
       "      <td>0</td>\n",
       "      <td>[4]</td>\n",
       "      <td>7.455165</td>\n",
       "      <td>[]</td>\n",
       "      <td>19</td>\n",
       "      <td>1</td>\n",
       "    </tr>\n",
       "  </tbody>\n",
       "</table>\n",
       "</div>"
      ],
      "text/plain": [
       "   cell_id  dim nodes    weight faces  rank  is_maximal\n",
       "0        0    0   [0]  7.115579    []     3           1\n",
       "1        1    0   [1]  7.893902    []    23           0\n",
       "2        2    0   [2]  7.467068    []    98           0\n",
       "3        3    0   [3]  7.982615    []    58           1\n",
       "4        4    0   [4]  7.455165    []    19           1"
      ]
     },
     "execution_count": 3,
     "metadata": {},
     "output_type": "execute_result"
    }
   ],
   "source": [
    "## Generate data\n",
    "\n",
    "# Parameters\n",
    "n_nodes = 100\n",
    "n_simps = [n_nodes, 150, 110, 90, 40, 30, 20, 15]\n",
    "max_dim = int(len(n_simps)-1)\n",
    "indicator_col = \"is_maximal\"\n",
    "\n",
    "# Construct data frame\n",
    "fsc_df = create_fake_fsc_df(n_nodes, n_simps, max_dim)\n",
    "\n",
    "# Add indicator column\n",
    "fsc_df = add_fake_indicator(fsc_df, indicator_col)\n",
    "\n",
    "fsc_df.head()"
   ]
  },
  {
   "cell_type": "code",
   "execution_count": 4,
   "metadata": {},
   "outputs": [
    {
     "data": {
      "text/html": [
       "<div>\n",
       "<style scoped>\n",
       "    .dataframe tbody tr th:only-of-type {\n",
       "        vertical-align: middle;\n",
       "    }\n",
       "\n",
       "    .dataframe tbody tr th {\n",
       "        vertical-align: top;\n",
       "    }\n",
       "\n",
       "    .dataframe thead th {\n",
       "        text-align: right;\n",
       "    }\n",
       "</style>\n",
       "<table border=\"1\" class=\"dataframe\">\n",
       "  <thead>\n",
       "    <tr style=\"text-align: right;\">\n",
       "      <th></th>\n",
       "      <th>bar_id</th>\n",
       "      <th>bar_dim</th>\n",
       "      <th>bar_birth</th>\n",
       "      <th>bar_death</th>\n",
       "      <th>rep</th>\n",
       "      <th>lifetime</th>\n",
       "    </tr>\n",
       "  </thead>\n",
       "  <tbody>\n",
       "    <tr>\n",
       "      <th>0</th>\n",
       "      <td>0</td>\n",
       "      <td>1</td>\n",
       "      <td>6.792394</td>\n",
       "      <td>5.857690</td>\n",
       "      <td>[178, 192, 187, 249]</td>\n",
       "      <td>0.934705</td>\n",
       "    </tr>\n",
       "    <tr>\n",
       "      <th>1</th>\n",
       "      <td>1</td>\n",
       "      <td>5</td>\n",
       "      <td>2.827757</td>\n",
       "      <td>1.481210</td>\n",
       "      <td>[497, 515, 506, 507]</td>\n",
       "      <td>1.346546</td>\n",
       "    </tr>\n",
       "    <tr>\n",
       "      <th>2</th>\n",
       "      <td>2</td>\n",
       "      <td>2</td>\n",
       "      <td>5.653710</td>\n",
       "      <td>4.756081</td>\n",
       "      <td>[341, 313, 257, 324]</td>\n",
       "      <td>0.897629</td>\n",
       "    </tr>\n",
       "    <tr>\n",
       "      <th>3</th>\n",
       "      <td>3</td>\n",
       "      <td>2</td>\n",
       "      <td>5.734144</td>\n",
       "      <td>4.314789</td>\n",
       "      <td>[280, 272, 304, 292]</td>\n",
       "      <td>1.419355</td>\n",
       "    </tr>\n",
       "    <tr>\n",
       "      <th>4</th>\n",
       "      <td>4</td>\n",
       "      <td>5</td>\n",
       "      <td>2.006781</td>\n",
       "      <td>1.392422</td>\n",
       "      <td>[519, 516, 497, 493]</td>\n",
       "      <td>0.614359</td>\n",
       "    </tr>\n",
       "  </tbody>\n",
       "</table>\n",
       "</div>"
      ],
      "text/plain": [
       "   bar_id bar_dim  bar_birth  bar_death                   rep  lifetime\n",
       "0       0       1   6.792394   5.857690  [178, 192, 187, 249]  0.934705\n",
       "1       1       5   2.827757   1.481210  [497, 515, 506, 507]  1.346546\n",
       "2       2       2   5.653710   4.756081  [341, 313, 257, 324]  0.897629\n",
       "3       3       2   5.734144   4.314789  [280, 272, 304, 292]  1.419355\n",
       "4       4       5   2.006781   1.392422  [519, 516, 497, 493]  0.614359"
      ]
     },
     "execution_count": 4,
     "metadata": {},
     "output_type": "execute_result"
    }
   ],
   "source": [
    "## Generate barcode\n",
    "\n",
    "n_bars = 100\n",
    "filter_on = \"weight\"\n",
    "\n",
    "bar_df = create_fake_barcode(fsc_df, n_bars, filter_on)\n",
    "bar_df.head()"
   ]
  },
  {
   "cell_type": "markdown",
   "metadata": {},
   "source": [
    "## Persistence diagram (overlayed)\n",
    "\n",
    "The following creates a standard persistence diagram with dimensions overlayed. The `plot_pd` function takes the barcode as well as an `axis_range` parameter (=`[max, min]` or `[min, max]`) that controls the x and y ranges. If bar birth and death are based on weight, ensure that the `axis_range[0] > axis_range[1]`, and the opposite for rank.\n",
    "\n",
    "Depending on the number of bars, it may be helpful to adjust the marker size. The function has the marker size set to 12, but one can change this property (for example, to 10) with\n",
    "`fig.update_traces(marker_size = 10)` ."
   ]
  },
  {
   "cell_type": "code",
   "execution_count": 10,
   "metadata": {},
   "outputs": [
    {
     "data": {
      "application/vnd.plotly.v1+json": {
       "config": {
        "plotlyServerURL": "https://plot.ly"
       },
       "data": [
        {
         "customdata": [
          [
           [
            31,
            45,
            55,
            20
           ]
          ],
          [
           [
            49,
            16,
            26,
            43
           ]
          ],
          [
           [
            75,
            14,
            5,
            72
           ]
          ],
          [
           [
            41,
            98,
            93,
            29
           ]
          ],
          [
           [
            76,
            43,
            85,
            5
           ]
          ],
          [
           [
            75,
            76,
            18,
            91
           ]
          ],
          [
           [
            27,
            49,
            34,
            50
           ]
          ],
          [
           [
            85,
            76,
            96,
            22
           ]
          ],
          [
           [
            57,
            25,
            48,
            20
           ]
          ],
          [
           [
            80,
            55,
            75,
            35
           ]
          ],
          [
           [
            69,
            55,
            47,
            31
           ]
          ],
          [
           [
            37,
            19,
            67,
            90
           ]
          ],
          [
           [
            21,
            12,
            59,
            8
           ]
          ],
          [
           [
            57,
            95,
            41,
            26
           ]
          ],
          [
           [
            7,
            28,
            6,
            68
           ]
          ],
          [
           [
            20,
            75,
            81,
            48
           ]
          ],
          [
           [
            66,
            24,
            65,
            47
           ]
          ],
          [
           [
            2,
            40,
            38,
            41
           ]
          ],
          [
           [
            3,
            18,
            33,
            73
           ]
          ],
          [
           [
            38,
            66,
            77,
            26
           ]
          ],
          [
           [
            22,
            71,
            62,
            97
           ]
          ]
         ],
         "hovertemplate": "bar_dim=0<br>bar_birth=%{x}<br>bar_death=%{y}<br>rep=%{customdata[0]}<extra></extra>",
         "legendgroup": "0",
         "marker": {
          "color": "rgb(44, 26, 76)",
          "line": {
           "color": "#3f4142",
           "width": 0.2
          },
          "opacity": 0.7,
          "size": 12,
          "symbol": "circle"
         },
         "mode": "markers",
         "name": "0",
         "orientation": "v",
         "showlegend": true,
         "type": "scatter",
         "x": [
          7.142947425501082,
          7.552857177746884,
          7.892761680473939,
          7.65042938942568,
          7.3548487104240055,
          7.664491818276322,
          7.232049682651223,
          7.2068915722085505,
          7.688116371641864,
          7.339656767141991,
          7.5172573189496745,
          7.452158553019506,
          7.664491818276322,
          7.491760610718701,
          7.452158553019506,
          7.034180303423812,
          7.491760610718701,
          7.142947425501082,
          7.268845978880737,
          7.12475875268919,
          7.563940776042391
         ],
         "xaxis": "x",
         "y": [
          6.340212558843747,
          6.212122464632207,
          6.4036924008129255,
          6.978426075434247,
          6.397459951106165,
          6.68789442885015,
          6.711037093153946,
          6.122768777415719,
          6.793424053564918,
          6.212122464632207,
          6.538480877993744,
          6.561915760096871,
          6.063272630833543,
          6.375807734429834,
          6.60816730384887,
          6.499859502784533,
          6.833996214510417,
          6.341145301226739,
          6.765713037908542,
          6.305322438881594,
          6.793424053564918
         ],
         "yaxis": "y"
        },
        {
         "customdata": [
          [
           [
            178,
            192,
            187,
            249
           ]
          ],
          [
           [
            208,
            214,
            141,
            133
           ]
          ],
          [
           [
            215,
            114,
            158,
            156
           ]
          ],
          [
           [
            185,
            164,
            220,
            141
           ]
          ],
          [
           [
            160,
            228,
            183,
            139
           ]
          ],
          [
           [
            172,
            203,
            143,
            137
           ]
          ],
          [
           [
            111,
            160,
            185,
            100
           ]
          ],
          [
           [
            116,
            197,
            112,
            144
           ]
          ],
          [
           [
            205,
            101,
            149,
            182
           ]
          ],
          [
           [
            179,
            210,
            107,
            123
           ]
          ],
          [
           [
            213,
            227,
            194,
            112
           ]
          ],
          [
           [
            182,
            115,
            217,
            108
           ]
          ],
          [
           [
            162,
            179,
            115,
            242
           ]
          ],
          [
           [
            116,
            188,
            204,
            165
           ]
          ],
          [
           [
            190,
            209,
            139,
            212
           ]
          ]
         ],
         "hovertemplate": "bar_dim=1<br>bar_birth=%{x}<br>bar_death=%{y}<br>rep=%{customdata[0]}<extra></extra>",
         "legendgroup": "1",
         "marker": {
          "color": "rgb(40, 59, 110)",
          "line": {
           "color": "#3f4142",
           "width": 0.2
          },
          "opacity": 0.7,
          "size": 12,
          "symbol": "circle"
         },
         "mode": "markers",
         "name": "1",
         "orientation": "v",
         "showlegend": true,
         "type": "scatter",
         "x": [
          6.792394457124896,
          6.599293764594221,
          6.48660220136189,
          6.394055754303082,
          6.243169299158298,
          6.387457048226617,
          6.050064896869508,
          6.833996214510417,
          6.4213674350465935,
          6.348037236518117,
          6.635823737942863,
          6.077070392890487,
          6.9805297047232635,
          6.021915147314423,
          6.3450620167655085
         ],
         "xaxis": "x",
         "y": [
          5.857689902186825,
          5.125157740115405,
          5.6320973755353885,
          5.865907903133397,
          5.146248478112594,
          5.865907903133397,
          5.154758984454143,
          5.2892046437860785,
          5.946264348173306,
          5.5454666128627075,
          5.5288405556922315,
          5.768748300749071,
          5.726679057486605,
          5.654442857309675,
          5.337682670469381
         ],
         "yaxis": "y"
        },
        {
         "customdata": [
          [
           [
            341,
            313,
            257,
            324
           ]
          ],
          [
           [
            280,
            272,
            304,
            292
           ]
          ],
          [
           [
            255,
            358,
            269,
            338
           ]
          ],
          [
           [
            297,
            321,
            270,
            279
           ]
          ],
          [
           [
            342,
            314,
            289,
            308
           ]
          ],
          [
           [
            333,
            250,
            351,
            344
           ]
          ],
          [
           [
            356,
            353,
            336,
            352
           ]
          ],
          [
           [
            257,
            260,
            345,
            250
           ]
          ],
          [
           [
            312,
            311,
            306,
            267
           ]
          ],
          [
           [
            343,
            320,
            306,
            300
           ]
          ],
          [
           [
            260,
            327,
            267,
            358
           ]
          ],
          [
           [
            319,
            303,
            308,
            273
           ]
          ],
          [
           [
            254,
            271,
            260,
            282
           ]
          ],
          [
           [
            339,
            305,
            321,
            319
           ]
          ],
          [
           [
            287,
            253,
            324,
            251
           ]
          ],
          [
           [
            345,
            250,
            282,
            325
           ]
          ],
          [
           [
            287,
            352,
            269,
            252
           ]
          ],
          [
           [
            342,
            286,
            299,
            352
           ]
          ]
         ],
         "hovertemplate": "bar_dim=2<br>bar_birth=%{x}<br>bar_death=%{y}<br>rep=%{customdata[0]}<extra></extra>",
         "legendgroup": "2",
         "marker": {
          "color": "rgb(42, 94, 151)",
          "line": {
           "color": "#3f4142",
           "width": 0.2
          },
          "opacity": 0.7,
          "size": 12,
          "symbol": "circle"
         },
         "mode": "markers",
         "name": "2",
         "orientation": "v",
         "showlegend": true,
         "type": "scatter",
         "x": [
          5.653709726888387,
          5.734144367814124,
          5.622770807068898,
          5.154758984454143,
          5.001338866910404,
          5.619296621739944,
          5.3348974105338085,
          5.337682670469381,
          5.966429727891737,
          5.091947698443027,
          5.223856387995003,
          5.0748951925968555,
          5.115663163272108,
          5.905879976676882,
          5.337682670469381,
          5.474854615831578,
          5.622770807068898,
          5.030578398742029
         ],
         "xaxis": "x",
         "y": [
          4.756080827157376,
          4.314788907818891,
          4.116510326556592,
          4.422203525515922,
          4.346922184894447,
          4.468511143644,
          4.194486570994999,
          4.490420108848657,
          4.907954641709949,
          4.227532855094781,
          4.833390493408562,
          4.269318640448317,
          4.0436389594894715,
          4.009981282140786,
          4.365574259737421,
          4.110388031997928,
          4.083048647709932,
          4.035510309966354
         ],
         "yaxis": "y"
        },
        {
         "customdata": [
          [
           [
            417,
            434,
            382,
            398
           ]
          ],
          [
           [
            430,
            399,
            360,
            392
           ]
          ],
          [
           [
            423,
            379,
            395,
            408
           ]
          ],
          [
           [
            415,
            423,
            389,
            410
           ]
          ],
          [
           [
            413,
            425,
            416,
            391
           ]
          ],
          [
           [
            426,
            434,
            376,
            382
           ]
          ],
          [
           [
            362,
            372,
            420,
            371
           ]
          ],
          [
           [
            446,
            365,
            428,
            448
           ]
          ],
          [
           [
            362,
            390,
            415,
            429
           ]
          ],
          [
           [
            441,
            369,
            360,
            397
           ]
          ],
          [
           [
            386,
            432,
            389,
            428
           ]
          ],
          [
           [
            440,
            419,
            433,
            431
           ]
          ]
         ],
         "hovertemplate": "bar_dim=3<br>bar_birth=%{x}<br>bar_death=%{y}<br>rep=%{customdata[0]}<extra></extra>",
         "legendgroup": "3",
         "marker": {
          "color": "rgb(68, 117, 193)",
          "line": {
           "color": "#3f4142",
           "width": 0.2
          },
          "opacity": 0.7,
          "size": 12,
          "symbol": "circle"
         },
         "mode": "markers",
         "name": "3",
         "orientation": "v",
         "showlegend": true,
         "type": "scatter",
         "x": [
          4.209228675058555,
          4.992752284155715,
          4.833390493408562,
          4.368905495906725,
          4.083048647709932,
          4.70692225734648,
          4.346922184894447,
          4.2400872736279664,
          4.039907298080224,
          4.741850675683413,
          4.116510326556592,
          4.454442599639256
         ],
         "xaxis": "x",
         "y": [
          3.737658377456473,
          3.645928243066991,
          3.716628861736811,
          3.766889708492334,
          3.501597333779646,
          3.973422167750025,
          3.9394684435238725,
          3.8520727487903974,
          3.198098018053035,
          3.7503320209086497,
          3.0976401256644057,
          3.4939308924386503
         ],
         "yaxis": "y"
        },
        {
         "customdata": [
          [
           [
            479,
            486,
            472,
            465
           ]
          ],
          [
           [
            472,
            450,
            452,
            462
           ]
          ],
          [
           [
            473,
            454,
            451,
            456
           ]
          ],
          [
           [
            480,
            450,
            460,
            466
           ]
          ],
          [
           [
            457,
            461,
            482,
            465
           ]
          ],
          [
           [
            489,
            461,
            480,
            456
           ]
          ],
          [
           [
            480,
            478,
            472,
            464
           ]
          ],
          [
           [
            459,
            473,
            460,
            480
           ]
          ],
          [
           [
            472,
            481,
            479,
            487
           ]
          ],
          [
           [
            481,
            469,
            476,
            486
           ]
          ],
          [
           [
            465,
            471,
            469,
            457
           ]
          ],
          [
           [
            476,
            483,
            464,
            456
           ]
          ],
          [
           [
            466,
            453,
            461,
            484
           ]
          ],
          [
           [
            479,
            478,
            487,
            463
           ]
          ],
          [
           [
            474,
            465,
            486,
            455
           ]
          ],
          [
           [
            488,
            484,
            462,
            473
           ]
          ],
          [
           [
            480,
            484,
            457,
            489
           ]
          ],
          [
           [
            478,
            481,
            453,
            466
           ]
          ],
          [
           [
            470,
            455,
            485,
            451
           ]
          ],
          [
           [
            465,
            452,
            471,
            477
           ]
          ]
         ],
         "hovertemplate": "bar_dim=4<br>bar_birth=%{x}<br>bar_death=%{y}<br>rep=%{customdata[0]}<extra></extra>",
         "legendgroup": "4",
         "marker": {
          "color": "rgb(96, 137, 190)",
          "line": {
           "color": "#3f4142",
           "width": 0.2
          },
          "opacity": 0.7,
          "size": 12,
          "symbol": "circle"
         },
         "mode": "markers",
         "name": "4",
         "orientation": "v",
         "showlegend": true,
         "type": "scatter",
         "x": [
          3.737658377456473,
          3.0976401256644057,
          3.4939308924386503,
          3.766889708492334,
          3.375748938101691,
          3.641365944592879,
          3.8520727487903974,
          3.03529866720742,
          3.538771733011007,
          3.7503320209086497,
          3.501597333779646,
          3.641365944592879,
          3.8605387939113873,
          3.107528745869529,
          3.538771733011007,
          3.375748938101691,
          3.645928243066991,
          3.973422167750025,
          3.175454055539553,
          3.375748938101691
         ],
         "xaxis": "x",
         "y": [
          2.743689506421095,
          2.552644817424506,
          2.524166589921519,
          2.827756641914416,
          2.4816855379870795,
          2.5344511725733585,
          2.517469140750224,
          2.938259403832843,
          2.50461166127586,
          2.595695654830487,
          2.1660623888877257,
          2.718385968715889,
          2.392966001719074,
          2.6161684936364793,
          2.1680018715512364,
          2.5344511725733585,
          2.5347639759042027,
          2.684609830139574,
          2.50461166127586,
          2.524166589921519
         ],
         "yaxis": "y"
        },
        {
         "customdata": [
          [
           [
            497,
            515,
            506,
            507
           ]
          ],
          [
           [
            519,
            516,
            497,
            493
           ]
          ],
          [
           [
            491,
            517,
            504,
            495
           ]
          ],
          [
           [
            497,
            507,
            501,
            509
           ]
          ],
          [
           [
            500,
            507,
            519,
            493
           ]
          ],
          [
           [
            490,
            491,
            497,
            493
           ]
          ],
          [
           [
            501,
            516,
            518,
            517
           ]
          ],
          [
           [
            499,
            490,
            504,
            512
           ]
          ],
          [
           [
            504,
            502,
            517,
            516
           ]
          ],
          [
           [
            511,
            495,
            496,
            515
           ]
          ],
          [
           [
            507,
            498,
            515,
            500
           ]
          ],
          [
           [
            494,
            508,
            503,
            500
           ]
          ],
          [
           [
            514,
            495,
            505,
            493
           ]
          ],
          [
           [
            508,
            491,
            511,
            497
           ]
          ]
         ],
         "hovertemplate": "bar_dim=5<br>bar_birth=%{x}<br>bar_death=%{y}<br>rep=%{customdata[0]}<extra></extra>",
         "legendgroup": "5",
         "marker": {
          "color": "rgb(125, 156, 181)",
          "line": {
           "color": "#3f4142",
           "width": 0.2
          },
          "opacity": 0.7,
          "size": 12,
          "symbol": "circle"
         },
         "mode": "markers",
         "name": "5",
         "orientation": "v",
         "showlegend": true,
         "type": "scatter",
         "x": [
          2.827756641914416,
          2.006780573013361,
          2.2487941368712243,
          2.595695654830487,
          2.524166589921519,
          2.595695654830487,
          2.743689506421095,
          2.1680018715512364,
          2.359007883912835,
          2.8403435016216396,
          2.6524124094640595,
          2.595695654830487,
          2.0190087791867506,
          2.517469140750224
         ],
         "xaxis": "x",
         "y": [
          1.4812104134137618,
          1.392421669384479,
          1.5793294885920435,
          1.8684402341839674,
          1.445962644041875,
          1.178520371452846,
          1.5246961436061275,
          1.4706637071164463,
          1.392421669384479,
          1.8846530499459726,
          1.7597826291035856,
          1.8041755751985615,
          1.445962644041875,
          1.5246961436061275
         ],
         "yaxis": "y"
        },
        {
         "line": {
          "color": "rgba(187, 190, 191, .9)",
          "width": 0.5
         },
         "mode": "lines",
         "opacity": 0.6,
         "showlegend": false,
         "type": "scatter",
         "x": [
          8.482615299323811,
          -0.2924473932076881
         ],
         "y": [
          8.482615299323811,
          -0.2924473932076881
         ]
        }
       ],
       "layout": {
        "hovermode": "closest",
        "legend": {
         "title": {
          "text": "bar_dim"
         },
         "tracegroupgap": 0
        },
        "template": {
         "data": {
          "scatter": [
           {
            "marker": {
             "symbol": "circle"
            },
            "type": "scatter"
           }
          ]
         },
         "layout": {
          "colorscale": {
           "sequential": [
            [
             0,
             "rgb(44, 26, 76)"
            ],
            [
             0.1,
             "rgb(40, 59, 110)"
            ],
            [
             0.2,
             "rgb(42, 94, 151)"
            ],
            [
             0.3,
             "rgb(68, 117, 193)"
            ],
            [
             0.4,
             "rgb(96, 137, 190)"
            ],
            [
             0.5,
             "rgb(125, 156, 181)"
            ],
            [
             0.6,
             "rgb(155, 175, 172)"
            ],
            [
             0.7,
             "rgb(186, 196, 163)"
            ],
            [
             0.8,
             "rgb(215, 217, 161)"
            ],
            [
             0.9,
             "rgb(237, 236, 206)"
            ],
            [
             1,
             "rgb(255, 255, 255)"
            ]
           ]
          },
          "colorway": [
           "rgb(44, 26, 76)",
           "rgb(40, 59, 110)",
           "rgb(42, 94, 151)",
           "rgb(68, 117, 193)",
           "rgb(96, 137, 190)",
           "rgb(125, 156, 181)",
           "rgb(155, 175, 172)",
           "rgb(186, 196, 163)",
           "rgb(215, 217, 161)",
           "rgb(237, 236, 206)",
           "rgb(255, 255, 255)"
          ],
          "font": {
           "color": "#3f4142",
           "family": "Avenir"
          },
          "paper_bgcolor": "#fff",
          "plot_bgcolor": "#fff",
          "violingap": 0.4,
          "xaxis": {
           "color": "#3f4142",
           "gridcolor": "#ebf0f2",
           "gridwidth": 0.5,
           "linewidth": 1
          },
          "yaxis": {
           "color": "#3f4142",
           "gridcolor": "#ebf0f2",
           "gridwidth": 0.5,
           "linewidth": 1
          }
         }
        },
        "title": {
         "text": "Persistence Diagrams (overlayed)"
        },
        "xaxis": {
         "anchor": "y",
         "constrain": "domain",
         "domain": [
          0,
          1
         ],
         "layer": "above traces",
         "range": [
          8.482615299323811,
          -0.2924473932076881
         ],
         "title": {
          "text": "birth"
         },
         "zeroline": false
        },
        "yaxis": {
         "anchor": "x",
         "domain": [
          0,
          1
         ],
         "range": [
          8.482615299323811,
          -0.2924473932076881
         ],
         "scaleanchor": "x",
         "scaleratio": 1,
         "title": {
          "text": "death"
         },
         "zeroline": false
        }
       }
      },
      "text/html": [
       "<div>                            <div id=\"fb0ae4ae-1e0d-427e-bde4-b33ddaad463a\" class=\"plotly-graph-div\" style=\"height:525px; width:100%;\"></div>            <script type=\"text/javascript\">                require([\"plotly\"], function(Plotly) {                    window.PLOTLYENV=window.PLOTLYENV || {};                                    if (document.getElementById(\"fb0ae4ae-1e0d-427e-bde4-b33ddaad463a\")) {                    Plotly.newPlot(                        \"fb0ae4ae-1e0d-427e-bde4-b33ddaad463a\",                        [{\"customdata\": [[[31, 45, 55, 20]], [[49, 16, 26, 43]], [[75, 14, 5, 72]], [[41, 98, 93, 29]], [[76, 43, 85, 5]], [[75, 76, 18, 91]], [[27, 49, 34, 50]], [[85, 76, 96, 22]], [[57, 25, 48, 20]], [[80, 55, 75, 35]], [[69, 55, 47, 31]], [[37, 19, 67, 90]], [[21, 12, 59, 8]], [[57, 95, 41, 26]], [[7, 28, 6, 68]], [[20, 75, 81, 48]], [[66, 24, 65, 47]], [[2, 40, 38, 41]], [[3, 18, 33, 73]], [[38, 66, 77, 26]], [[22, 71, 62, 97]]], \"hovertemplate\": \"bar_dim=0<br>bar_birth=%{x}<br>bar_death=%{y}<br>rep=%{customdata[0]}<extra></extra>\", \"legendgroup\": \"0\", \"marker\": {\"color\": \"rgb(44, 26, 76)\", \"line\": {\"color\": \"#3f4142\", \"width\": 0.2}, \"opacity\": 0.7, \"size\": 12, \"symbol\": \"circle\"}, \"mode\": \"markers\", \"name\": \"0\", \"orientation\": \"v\", \"showlegend\": true, \"type\": \"scatter\", \"x\": [7.142947425501082, 7.552857177746884, 7.892761680473939, 7.65042938942568, 7.3548487104240055, 7.664491818276322, 7.232049682651223, 7.2068915722085505, 7.688116371641864, 7.339656767141991, 7.5172573189496745, 7.452158553019506, 7.664491818276322, 7.491760610718701, 7.452158553019506, 7.034180303423812, 7.491760610718701, 7.142947425501082, 7.268845978880737, 7.12475875268919, 7.563940776042391], \"xaxis\": \"x\", \"y\": [6.340212558843747, 6.212122464632207, 6.4036924008129255, 6.978426075434247, 6.397459951106165, 6.68789442885015, 6.711037093153946, 6.122768777415719, 6.793424053564918, 6.212122464632207, 6.538480877993744, 6.561915760096871, 6.063272630833543, 6.375807734429834, 6.60816730384887, 6.499859502784533, 6.833996214510417, 6.341145301226739, 6.765713037908542, 6.305322438881594, 6.793424053564918], \"yaxis\": \"y\"}, {\"customdata\": [[[178, 192, 187, 249]], [[208, 214, 141, 133]], [[215, 114, 158, 156]], [[185, 164, 220, 141]], [[160, 228, 183, 139]], [[172, 203, 143, 137]], [[111, 160, 185, 100]], [[116, 197, 112, 144]], [[205, 101, 149, 182]], [[179, 210, 107, 123]], [[213, 227, 194, 112]], [[182, 115, 217, 108]], [[162, 179, 115, 242]], [[116, 188, 204, 165]], [[190, 209, 139, 212]]], \"hovertemplate\": \"bar_dim=1<br>bar_birth=%{x}<br>bar_death=%{y}<br>rep=%{customdata[0]}<extra></extra>\", \"legendgroup\": \"1\", \"marker\": {\"color\": \"rgb(40, 59, 110)\", \"line\": {\"color\": \"#3f4142\", \"width\": 0.2}, \"opacity\": 0.7, \"size\": 12, \"symbol\": \"circle\"}, \"mode\": \"markers\", \"name\": \"1\", \"orientation\": \"v\", \"showlegend\": true, \"type\": \"scatter\", \"x\": [6.792394457124896, 6.599293764594221, 6.48660220136189, 6.394055754303082, 6.243169299158298, 6.387457048226617, 6.050064896869508, 6.833996214510417, 6.4213674350465935, 6.348037236518117, 6.635823737942863, 6.077070392890487, 6.9805297047232635, 6.021915147314423, 6.3450620167655085], \"xaxis\": \"x\", \"y\": [5.857689902186825, 5.125157740115405, 5.6320973755353885, 5.865907903133397, 5.146248478112594, 5.865907903133397, 5.154758984454143, 5.2892046437860785, 5.946264348173306, 5.5454666128627075, 5.5288405556922315, 5.768748300749071, 5.726679057486605, 5.654442857309675, 5.337682670469381], \"yaxis\": \"y\"}, {\"customdata\": [[[341, 313, 257, 324]], [[280, 272, 304, 292]], [[255, 358, 269, 338]], [[297, 321, 270, 279]], [[342, 314, 289, 308]], [[333, 250, 351, 344]], [[356, 353, 336, 352]], [[257, 260, 345, 250]], [[312, 311, 306, 267]], [[343, 320, 306, 300]], [[260, 327, 267, 358]], [[319, 303, 308, 273]], [[254, 271, 260, 282]], [[339, 305, 321, 319]], [[287, 253, 324, 251]], [[345, 250, 282, 325]], [[287, 352, 269, 252]], [[342, 286, 299, 352]]], \"hovertemplate\": \"bar_dim=2<br>bar_birth=%{x}<br>bar_death=%{y}<br>rep=%{customdata[0]}<extra></extra>\", \"legendgroup\": \"2\", \"marker\": {\"color\": \"rgb(42, 94, 151)\", \"line\": {\"color\": \"#3f4142\", \"width\": 0.2}, \"opacity\": 0.7, \"size\": 12, \"symbol\": \"circle\"}, \"mode\": \"markers\", \"name\": \"2\", \"orientation\": \"v\", \"showlegend\": true, \"type\": \"scatter\", \"x\": [5.653709726888387, 5.734144367814124, 5.622770807068898, 5.154758984454143, 5.001338866910404, 5.619296621739944, 5.3348974105338085, 5.337682670469381, 5.966429727891737, 5.091947698443027, 5.223856387995003, 5.0748951925968555, 5.115663163272108, 5.905879976676882, 5.337682670469381, 5.474854615831578, 5.622770807068898, 5.030578398742029], \"xaxis\": \"x\", \"y\": [4.756080827157376, 4.314788907818891, 4.116510326556592, 4.422203525515922, 4.346922184894447, 4.468511143644, 4.194486570994999, 4.490420108848657, 4.907954641709949, 4.227532855094781, 4.833390493408562, 4.269318640448317, 4.0436389594894715, 4.009981282140786, 4.365574259737421, 4.110388031997928, 4.083048647709932, 4.035510309966354], \"yaxis\": \"y\"}, {\"customdata\": [[[417, 434, 382, 398]], [[430, 399, 360, 392]], [[423, 379, 395, 408]], [[415, 423, 389, 410]], [[413, 425, 416, 391]], [[426, 434, 376, 382]], [[362, 372, 420, 371]], [[446, 365, 428, 448]], [[362, 390, 415, 429]], [[441, 369, 360, 397]], [[386, 432, 389, 428]], [[440, 419, 433, 431]]], \"hovertemplate\": \"bar_dim=3<br>bar_birth=%{x}<br>bar_death=%{y}<br>rep=%{customdata[0]}<extra></extra>\", \"legendgroup\": \"3\", \"marker\": {\"color\": \"rgb(68, 117, 193)\", \"line\": {\"color\": \"#3f4142\", \"width\": 0.2}, \"opacity\": 0.7, \"size\": 12, \"symbol\": \"circle\"}, \"mode\": \"markers\", \"name\": \"3\", \"orientation\": \"v\", \"showlegend\": true, \"type\": \"scatter\", \"x\": [4.209228675058555, 4.992752284155715, 4.833390493408562, 4.368905495906725, 4.083048647709932, 4.70692225734648, 4.346922184894447, 4.2400872736279664, 4.039907298080224, 4.741850675683413, 4.116510326556592, 4.454442599639256], \"xaxis\": \"x\", \"y\": [3.737658377456473, 3.645928243066991, 3.716628861736811, 3.766889708492334, 3.501597333779646, 3.973422167750025, 3.9394684435238725, 3.8520727487903974, 3.198098018053035, 3.7503320209086497, 3.0976401256644057, 3.4939308924386503], \"yaxis\": \"y\"}, {\"customdata\": [[[479, 486, 472, 465]], [[472, 450, 452, 462]], [[473, 454, 451, 456]], [[480, 450, 460, 466]], [[457, 461, 482, 465]], [[489, 461, 480, 456]], [[480, 478, 472, 464]], [[459, 473, 460, 480]], [[472, 481, 479, 487]], [[481, 469, 476, 486]], [[465, 471, 469, 457]], [[476, 483, 464, 456]], [[466, 453, 461, 484]], [[479, 478, 487, 463]], [[474, 465, 486, 455]], [[488, 484, 462, 473]], [[480, 484, 457, 489]], [[478, 481, 453, 466]], [[470, 455, 485, 451]], [[465, 452, 471, 477]]], \"hovertemplate\": \"bar_dim=4<br>bar_birth=%{x}<br>bar_death=%{y}<br>rep=%{customdata[0]}<extra></extra>\", \"legendgroup\": \"4\", \"marker\": {\"color\": \"rgb(96, 137, 190)\", \"line\": {\"color\": \"#3f4142\", \"width\": 0.2}, \"opacity\": 0.7, \"size\": 12, \"symbol\": \"circle\"}, \"mode\": \"markers\", \"name\": \"4\", \"orientation\": \"v\", \"showlegend\": true, \"type\": \"scatter\", \"x\": [3.737658377456473, 3.0976401256644057, 3.4939308924386503, 3.766889708492334, 3.375748938101691, 3.641365944592879, 3.8520727487903974, 3.03529866720742, 3.538771733011007, 3.7503320209086497, 3.501597333779646, 3.641365944592879, 3.8605387939113873, 3.107528745869529, 3.538771733011007, 3.375748938101691, 3.645928243066991, 3.973422167750025, 3.175454055539553, 3.375748938101691], \"xaxis\": \"x\", \"y\": [2.743689506421095, 2.552644817424506, 2.524166589921519, 2.827756641914416, 2.4816855379870795, 2.5344511725733585, 2.517469140750224, 2.938259403832843, 2.50461166127586, 2.595695654830487, 2.1660623888877257, 2.718385968715889, 2.392966001719074, 2.6161684936364793, 2.1680018715512364, 2.5344511725733585, 2.5347639759042027, 2.684609830139574, 2.50461166127586, 2.524166589921519], \"yaxis\": \"y\"}, {\"customdata\": [[[497, 515, 506, 507]], [[519, 516, 497, 493]], [[491, 517, 504, 495]], [[497, 507, 501, 509]], [[500, 507, 519, 493]], [[490, 491, 497, 493]], [[501, 516, 518, 517]], [[499, 490, 504, 512]], [[504, 502, 517, 516]], [[511, 495, 496, 515]], [[507, 498, 515, 500]], [[494, 508, 503, 500]], [[514, 495, 505, 493]], [[508, 491, 511, 497]]], \"hovertemplate\": \"bar_dim=5<br>bar_birth=%{x}<br>bar_death=%{y}<br>rep=%{customdata[0]}<extra></extra>\", \"legendgroup\": \"5\", \"marker\": {\"color\": \"rgb(125, 156, 181)\", \"line\": {\"color\": \"#3f4142\", \"width\": 0.2}, \"opacity\": 0.7, \"size\": 12, \"symbol\": \"circle\"}, \"mode\": \"markers\", \"name\": \"5\", \"orientation\": \"v\", \"showlegend\": true, \"type\": \"scatter\", \"x\": [2.827756641914416, 2.006780573013361, 2.2487941368712243, 2.595695654830487, 2.524166589921519, 2.595695654830487, 2.743689506421095, 2.1680018715512364, 2.359007883912835, 2.8403435016216396, 2.6524124094640595, 2.595695654830487, 2.0190087791867506, 2.517469140750224], \"xaxis\": \"x\", \"y\": [1.4812104134137618, 1.392421669384479, 1.5793294885920435, 1.8684402341839674, 1.445962644041875, 1.178520371452846, 1.5246961436061275, 1.4706637071164463, 1.392421669384479, 1.8846530499459726, 1.7597826291035856, 1.8041755751985615, 1.445962644041875, 1.5246961436061275], \"yaxis\": \"y\"}, {\"line\": {\"color\": \"rgba(187, 190, 191, .9)\", \"width\": 0.5}, \"mode\": \"lines\", \"opacity\": 0.6, \"showlegend\": false, \"type\": \"scatter\", \"x\": [8.482615299323811, -0.2924473932076881], \"y\": [8.482615299323811, -0.2924473932076881]}],                        {\"hovermode\": \"closest\", \"legend\": {\"title\": {\"text\": \"bar_dim\"}, \"tracegroupgap\": 0}, \"template\": {\"data\": {\"scatter\": [{\"marker\": {\"symbol\": \"circle\"}, \"type\": \"scatter\"}]}, \"layout\": {\"colorscale\": {\"sequential\": [[0.0, \"rgb(44, 26, 76)\"], [0.1, \"rgb(40, 59, 110)\"], [0.2, \"rgb(42, 94, 151)\"], [0.3, \"rgb(68, 117, 193)\"], [0.4, \"rgb(96, 137, 190)\"], [0.5, \"rgb(125, 156, 181)\"], [0.6, \"rgb(155, 175, 172)\"], [0.7, \"rgb(186, 196, 163)\"], [0.8, \"rgb(215, 217, 161)\"], [0.9, \"rgb(237, 236, 206)\"], [1.0, \"rgb(255, 255, 255)\"]]}, \"colorway\": [\"rgb(44, 26, 76)\", \"rgb(40, 59, 110)\", \"rgb(42, 94, 151)\", \"rgb(68, 117, 193)\", \"rgb(96, 137, 190)\", \"rgb(125, 156, 181)\", \"rgb(155, 175, 172)\", \"rgb(186, 196, 163)\", \"rgb(215, 217, 161)\", \"rgb(237, 236, 206)\", \"rgb(255, 255, 255)\"], \"font\": {\"color\": \"#3f4142\", \"family\": \"Avenir\"}, \"paper_bgcolor\": \"#fff\", \"plot_bgcolor\": \"#fff\", \"violingap\": 0.4, \"xaxis\": {\"color\": \"#3f4142\", \"gridcolor\": \"#ebf0f2\", \"gridwidth\": 0.5, \"linewidth\": 1}, \"yaxis\": {\"color\": \"#3f4142\", \"gridcolor\": \"#ebf0f2\", \"gridwidth\": 0.5, \"linewidth\": 1}}}, \"title\": {\"text\": \"Persistence Diagrams (overlayed)\"}, \"xaxis\": {\"anchor\": \"y\", \"constrain\": \"domain\", \"domain\": [0.0, 1.0], \"layer\": \"above traces\", \"range\": [8.482615299323811, -0.2924473932076881], \"title\": {\"text\": \"birth\"}, \"zeroline\": false}, \"yaxis\": {\"anchor\": \"x\", \"domain\": [0.0, 1.0], \"range\": [8.482615299323811, -0.2924473932076881], \"scaleanchor\": \"x\", \"scaleratio\": 1, \"title\": {\"text\": \"death\"}, \"zeroline\": false}},                        {\"responsive\": true}                    ).then(function(){\n",
       "                            \n",
       "var gd = document.getElementById('fb0ae4ae-1e0d-427e-bde4-b33ddaad463a');\n",
       "var x = new MutationObserver(function (mutations, observer) {{\n",
       "        var display = window.getComputedStyle(gd).display;\n",
       "        if (!display || display === 'none') {{\n",
       "            console.log([gd, 'removed!']);\n",
       "            Plotly.purge(gd);\n",
       "            observer.disconnect();\n",
       "        }}\n",
       "}});\n",
       "\n",
       "// Listen for the removal of the full notebook cells\n",
       "var notebookContainer = gd.closest('#notebook-container');\n",
       "if (notebookContainer) {{\n",
       "    x.observe(notebookContainer, {childList: true});\n",
       "}}\n",
       "\n",
       "// Listen for the clearing of the current output cell\n",
       "var outputEl = gd.closest('.output');\n",
       "if (outputEl) {{\n",
       "    x.observe(outputEl, {childList: true});\n",
       "}}\n",
       "\n",
       "                        })                };                });            </script>        </div>"
      ]
     },
     "metadata": {},
     "output_type": "display_data"
    }
   ],
   "source": [
    "# fig = plot_pd(bar_df, axis_range)\n",
    "\n",
    "max_filtration = np.max(fsc_df[filter_on])\n",
    "min_filtration = np.min(fsc_df[filter_on])\n",
    "\n",
    "# Optional buffer -- prevents dots from being cut off in the figure\n",
    "buffer = 0.5\n",
    "\n",
    "# Plot! Be sure to note the input to axis range -- currently based on filter_on = \"weight\" (see above)\n",
    "fig = plot_pd(bar_df, [max_filtration + buffer, min_filtration - buffer])\n",
    "\n",
    "fig.show()"
   ]
  },
  {
   "cell_type": "markdown",
   "metadata": {},
   "source": [
    "## Persistence diagram (faceted)\n",
    "\n",
    "Alternatively, we can follow the small multiples concept and create many persistence diagram subplots -- one for each dimension. The `plot_pd_faceted` function works similar to the `plot_pd` function, except there is an optional argument `col_wrap` that controls the number of columns.\n",
    "\n",
    "Consider modifying the size of the plot after generation as shown below."
   ]
  },
  {
   "cell_type": "code",
   "execution_count": 33,
   "metadata": {},
   "outputs": [
    {
     "data": {
      "application/vnd.plotly.v1+json": {
       "config": {
        "plotlyServerURL": "https://plot.ly"
       },
       "data": [
        {
         "customdata": [
          [
           [
            31,
            45,
            55,
            20
           ]
          ],
          [
           [
            49,
            16,
            26,
            43
           ]
          ],
          [
           [
            75,
            14,
            5,
            72
           ]
          ],
          [
           [
            41,
            98,
            93,
            29
           ]
          ],
          [
           [
            76,
            43,
            85,
            5
           ]
          ],
          [
           [
            75,
            76,
            18,
            91
           ]
          ],
          [
           [
            27,
            49,
            34,
            50
           ]
          ],
          [
           [
            85,
            76,
            96,
            22
           ]
          ],
          [
           [
            57,
            25,
            48,
            20
           ]
          ],
          [
           [
            80,
            55,
            75,
            35
           ]
          ],
          [
           [
            69,
            55,
            47,
            31
           ]
          ],
          [
           [
            37,
            19,
            67,
            90
           ]
          ],
          [
           [
            21,
            12,
            59,
            8
           ]
          ],
          [
           [
            57,
            95,
            41,
            26
           ]
          ],
          [
           [
            7,
            28,
            6,
            68
           ]
          ],
          [
           [
            20,
            75,
            81,
            48
           ]
          ],
          [
           [
            66,
            24,
            65,
            47
           ]
          ],
          [
           [
            2,
            40,
            38,
            41
           ]
          ],
          [
           [
            3,
            18,
            33,
            73
           ]
          ],
          [
           [
            38,
            66,
            77,
            26
           ]
          ],
          [
           [
            22,
            71,
            62,
            97
           ]
          ]
         ],
         "hovertemplate": "bar_dim=0<br>bar_birth=%{x}<br>bar_death=%{y}<br>rep=%{customdata[0]}<extra></extra>",
         "legendgroup": "0",
         "marker": {
          "color": "rgb(44, 26, 76)",
          "line": {
           "color": "#3f4142",
           "width": 0.2
          },
          "opacity": 0.7,
          "symbol": "circle"
         },
         "mode": "markers",
         "name": "0",
         "orientation": "v",
         "showlegend": true,
         "type": "scatter",
         "x": [
          7.142947425501082,
          7.552857177746884,
          7.892761680473939,
          7.65042938942568,
          7.3548487104240055,
          7.664491818276322,
          7.232049682651223,
          7.2068915722085505,
          7.688116371641864,
          7.339656767141991,
          7.5172573189496745,
          7.452158553019506,
          7.664491818276322,
          7.491760610718701,
          7.452158553019506,
          7.034180303423812,
          7.491760610718701,
          7.142947425501082,
          7.268845978880737,
          7.12475875268919,
          7.563940776042391
         ],
         "xaxis": "x5",
         "y": [
          6.340212558843747,
          6.212122464632207,
          6.4036924008129255,
          6.978426075434247,
          6.397459951106165,
          6.68789442885015,
          6.711037093153946,
          6.122768777415719,
          6.793424053564918,
          6.212122464632207,
          6.538480877993744,
          6.561915760096871,
          6.063272630833543,
          6.375807734429834,
          6.60816730384887,
          6.499859502784533,
          6.833996214510417,
          6.341145301226739,
          6.765713037908542,
          6.305322438881594,
          6.793424053564918
         ],
         "yaxis": "y5"
        },
        {
         "customdata": [
          [
           [
            178,
            192,
            187,
            249
           ]
          ],
          [
           [
            208,
            214,
            141,
            133
           ]
          ],
          [
           [
            215,
            114,
            158,
            156
           ]
          ],
          [
           [
            185,
            164,
            220,
            141
           ]
          ],
          [
           [
            160,
            228,
            183,
            139
           ]
          ],
          [
           [
            172,
            203,
            143,
            137
           ]
          ],
          [
           [
            111,
            160,
            185,
            100
           ]
          ],
          [
           [
            116,
            197,
            112,
            144
           ]
          ],
          [
           [
            205,
            101,
            149,
            182
           ]
          ],
          [
           [
            179,
            210,
            107,
            123
           ]
          ],
          [
           [
            213,
            227,
            194,
            112
           ]
          ],
          [
           [
            182,
            115,
            217,
            108
           ]
          ],
          [
           [
            162,
            179,
            115,
            242
           ]
          ],
          [
           [
            116,
            188,
            204,
            165
           ]
          ],
          [
           [
            190,
            209,
            139,
            212
           ]
          ]
         ],
         "hovertemplate": "bar_dim=1<br>bar_birth=%{x}<br>bar_death=%{y}<br>rep=%{customdata[0]}<extra></extra>",
         "legendgroup": "1",
         "marker": {
          "color": "rgb(40, 59, 110)",
          "line": {
           "color": "#3f4142",
           "width": 0.2
          },
          "opacity": 0.7,
          "symbol": "circle"
         },
         "mode": "markers",
         "name": "1",
         "orientation": "v",
         "showlegend": true,
         "type": "scatter",
         "x": [
          6.792394457124896,
          6.599293764594221,
          6.48660220136189,
          6.394055754303082,
          6.243169299158298,
          6.387457048226617,
          6.050064896869508,
          6.833996214510417,
          6.4213674350465935,
          6.348037236518117,
          6.635823737942863,
          6.077070392890487,
          6.9805297047232635,
          6.021915147314423,
          6.3450620167655085
         ],
         "xaxis": "x6",
         "y": [
          5.857689902186825,
          5.125157740115405,
          5.6320973755353885,
          5.865907903133397,
          5.146248478112594,
          5.865907903133397,
          5.154758984454143,
          5.2892046437860785,
          5.946264348173306,
          5.5454666128627075,
          5.5288405556922315,
          5.768748300749071,
          5.726679057486605,
          5.654442857309675,
          5.337682670469381
         ],
         "yaxis": "y6"
        },
        {
         "customdata": [
          [
           [
            341,
            313,
            257,
            324
           ]
          ],
          [
           [
            280,
            272,
            304,
            292
           ]
          ],
          [
           [
            255,
            358,
            269,
            338
           ]
          ],
          [
           [
            297,
            321,
            270,
            279
           ]
          ],
          [
           [
            342,
            314,
            289,
            308
           ]
          ],
          [
           [
            333,
            250,
            351,
            344
           ]
          ],
          [
           [
            356,
            353,
            336,
            352
           ]
          ],
          [
           [
            257,
            260,
            345,
            250
           ]
          ],
          [
           [
            312,
            311,
            306,
            267
           ]
          ],
          [
           [
            343,
            320,
            306,
            300
           ]
          ],
          [
           [
            260,
            327,
            267,
            358
           ]
          ],
          [
           [
            319,
            303,
            308,
            273
           ]
          ],
          [
           [
            254,
            271,
            260,
            282
           ]
          ],
          [
           [
            339,
            305,
            321,
            319
           ]
          ],
          [
           [
            287,
            253,
            324,
            251
           ]
          ],
          [
           [
            345,
            250,
            282,
            325
           ]
          ],
          [
           [
            287,
            352,
            269,
            252
           ]
          ],
          [
           [
            342,
            286,
            299,
            352
           ]
          ]
         ],
         "hovertemplate": "bar_dim=2<br>bar_birth=%{x}<br>bar_death=%{y}<br>rep=%{customdata[0]}<extra></extra>",
         "legendgroup": "2",
         "marker": {
          "color": "rgb(42, 94, 151)",
          "line": {
           "color": "#3f4142",
           "width": 0.2
          },
          "opacity": 0.7,
          "symbol": "circle"
         },
         "mode": "markers",
         "name": "2",
         "orientation": "v",
         "showlegend": true,
         "type": "scatter",
         "x": [
          5.653709726888387,
          5.734144367814124,
          5.622770807068898,
          5.154758984454143,
          5.001338866910404,
          5.619296621739944,
          5.3348974105338085,
          5.337682670469381,
          5.966429727891737,
          5.091947698443027,
          5.223856387995003,
          5.0748951925968555,
          5.115663163272108,
          5.905879976676882,
          5.337682670469381,
          5.474854615831578,
          5.622770807068898,
          5.030578398742029
         ],
         "xaxis": "x3",
         "y": [
          4.756080827157376,
          4.314788907818891,
          4.116510326556592,
          4.422203525515922,
          4.346922184894447,
          4.468511143644,
          4.194486570994999,
          4.490420108848657,
          4.907954641709949,
          4.227532855094781,
          4.833390493408562,
          4.269318640448317,
          4.0436389594894715,
          4.009981282140786,
          4.365574259737421,
          4.110388031997928,
          4.083048647709932,
          4.035510309966354
         ],
         "yaxis": "y3"
        },
        {
         "customdata": [
          [
           [
            417,
            434,
            382,
            398
           ]
          ],
          [
           [
            430,
            399,
            360,
            392
           ]
          ],
          [
           [
            423,
            379,
            395,
            408
           ]
          ],
          [
           [
            415,
            423,
            389,
            410
           ]
          ],
          [
           [
            413,
            425,
            416,
            391
           ]
          ],
          [
           [
            426,
            434,
            376,
            382
           ]
          ],
          [
           [
            362,
            372,
            420,
            371
           ]
          ],
          [
           [
            446,
            365,
            428,
            448
           ]
          ],
          [
           [
            362,
            390,
            415,
            429
           ]
          ],
          [
           [
            441,
            369,
            360,
            397
           ]
          ],
          [
           [
            386,
            432,
            389,
            428
           ]
          ],
          [
           [
            440,
            419,
            433,
            431
           ]
          ]
         ],
         "hovertemplate": "bar_dim=3<br>bar_birth=%{x}<br>bar_death=%{y}<br>rep=%{customdata[0]}<extra></extra>",
         "legendgroup": "3",
         "marker": {
          "color": "rgb(68, 117, 193)",
          "line": {
           "color": "#3f4142",
           "width": 0.2
          },
          "opacity": 0.7,
          "symbol": "circle"
         },
         "mode": "markers",
         "name": "3",
         "orientation": "v",
         "showlegend": true,
         "type": "scatter",
         "x": [
          4.209228675058555,
          4.992752284155715,
          4.833390493408562,
          4.368905495906725,
          4.083048647709932,
          4.70692225734648,
          4.346922184894447,
          4.2400872736279664,
          4.039907298080224,
          4.741850675683413,
          4.116510326556592,
          4.454442599639256
         ],
         "xaxis": "x4",
         "y": [
          3.737658377456473,
          3.645928243066991,
          3.716628861736811,
          3.766889708492334,
          3.501597333779646,
          3.973422167750025,
          3.9394684435238725,
          3.8520727487903974,
          3.198098018053035,
          3.7503320209086497,
          3.0976401256644057,
          3.4939308924386503
         ],
         "yaxis": "y4"
        },
        {
         "customdata": [
          [
           [
            479,
            486,
            472,
            465
           ]
          ],
          [
           [
            472,
            450,
            452,
            462
           ]
          ],
          [
           [
            473,
            454,
            451,
            456
           ]
          ],
          [
           [
            480,
            450,
            460,
            466
           ]
          ],
          [
           [
            457,
            461,
            482,
            465
           ]
          ],
          [
           [
            489,
            461,
            480,
            456
           ]
          ],
          [
           [
            480,
            478,
            472,
            464
           ]
          ],
          [
           [
            459,
            473,
            460,
            480
           ]
          ],
          [
           [
            472,
            481,
            479,
            487
           ]
          ],
          [
           [
            481,
            469,
            476,
            486
           ]
          ],
          [
           [
            465,
            471,
            469,
            457
           ]
          ],
          [
           [
            476,
            483,
            464,
            456
           ]
          ],
          [
           [
            466,
            453,
            461,
            484
           ]
          ],
          [
           [
            479,
            478,
            487,
            463
           ]
          ],
          [
           [
            474,
            465,
            486,
            455
           ]
          ],
          [
           [
            488,
            484,
            462,
            473
           ]
          ],
          [
           [
            480,
            484,
            457,
            489
           ]
          ],
          [
           [
            478,
            481,
            453,
            466
           ]
          ],
          [
           [
            470,
            455,
            485,
            451
           ]
          ],
          [
           [
            465,
            452,
            471,
            477
           ]
          ]
         ],
         "hovertemplate": "bar_dim=4<br>bar_birth=%{x}<br>bar_death=%{y}<br>rep=%{customdata[0]}<extra></extra>",
         "legendgroup": "4",
         "marker": {
          "color": "rgb(96, 137, 190)",
          "line": {
           "color": "#3f4142",
           "width": 0.2
          },
          "opacity": 0.7,
          "symbol": "circle"
         },
         "mode": "markers",
         "name": "4",
         "orientation": "v",
         "showlegend": true,
         "type": "scatter",
         "x": [
          3.737658377456473,
          3.0976401256644057,
          3.4939308924386503,
          3.766889708492334,
          3.375748938101691,
          3.641365944592879,
          3.8520727487903974,
          3.03529866720742,
          3.538771733011007,
          3.7503320209086497,
          3.501597333779646,
          3.641365944592879,
          3.8605387939113873,
          3.107528745869529,
          3.538771733011007,
          3.375748938101691,
          3.645928243066991,
          3.973422167750025,
          3.175454055539553,
          3.375748938101691
         ],
         "xaxis": "x",
         "y": [
          2.743689506421095,
          2.552644817424506,
          2.524166589921519,
          2.827756641914416,
          2.4816855379870795,
          2.5344511725733585,
          2.517469140750224,
          2.938259403832843,
          2.50461166127586,
          2.595695654830487,
          2.1660623888877257,
          2.718385968715889,
          2.392966001719074,
          2.6161684936364793,
          2.1680018715512364,
          2.5344511725733585,
          2.5347639759042027,
          2.684609830139574,
          2.50461166127586,
          2.524166589921519
         ],
         "yaxis": "y"
        },
        {
         "customdata": [
          [
           [
            497,
            515,
            506,
            507
           ]
          ],
          [
           [
            519,
            516,
            497,
            493
           ]
          ],
          [
           [
            491,
            517,
            504,
            495
           ]
          ],
          [
           [
            497,
            507,
            501,
            509
           ]
          ],
          [
           [
            500,
            507,
            519,
            493
           ]
          ],
          [
           [
            490,
            491,
            497,
            493
           ]
          ],
          [
           [
            501,
            516,
            518,
            517
           ]
          ],
          [
           [
            499,
            490,
            504,
            512
           ]
          ],
          [
           [
            504,
            502,
            517,
            516
           ]
          ],
          [
           [
            511,
            495,
            496,
            515
           ]
          ],
          [
           [
            507,
            498,
            515,
            500
           ]
          ],
          [
           [
            494,
            508,
            503,
            500
           ]
          ],
          [
           [
            514,
            495,
            505,
            493
           ]
          ],
          [
           [
            508,
            491,
            511,
            497
           ]
          ]
         ],
         "hovertemplate": "bar_dim=5<br>bar_birth=%{x}<br>bar_death=%{y}<br>rep=%{customdata[0]}<extra></extra>",
         "legendgroup": "5",
         "marker": {
          "color": "rgb(125, 156, 181)",
          "line": {
           "color": "#3f4142",
           "width": 0.2
          },
          "opacity": 0.7,
          "symbol": "circle"
         },
         "mode": "markers",
         "name": "5",
         "orientation": "v",
         "showlegend": true,
         "type": "scatter",
         "x": [
          2.827756641914416,
          2.006780573013361,
          2.2487941368712243,
          2.595695654830487,
          2.524166589921519,
          2.595695654830487,
          2.743689506421095,
          2.1680018715512364,
          2.359007883912835,
          2.8403435016216396,
          2.6524124094640595,
          2.595695654830487,
          2.0190087791867506,
          2.517469140750224
         ],
         "xaxis": "x2",
         "y": [
          1.4812104134137618,
          1.392421669384479,
          1.5793294885920435,
          1.8684402341839674,
          1.445962644041875,
          1.178520371452846,
          1.5246961436061275,
          1.4706637071164463,
          1.392421669384479,
          1.8846530499459726,
          1.7597826291035856,
          1.8041755751985615,
          1.445962644041875,
          1.5246961436061275
         ],
         "yaxis": "y2"
        },
        {
         "line": {
          "color": "rgba(187, 190, 191, .9)",
          "width": 0.5
         },
         "mode": "lines",
         "showlegend": false,
         "type": "scatter",
         "x": [
          8.482615299323811,
          -0.2924473932076881
         ],
         "xaxis": "x",
         "y": [
          8.482615299323811,
          -0.2924473932076881
         ],
         "yaxis": "y"
        },
        {
         "line": {
          "color": "rgba(187, 190, 191, .9)",
          "width": 0.5
         },
         "mode": "lines",
         "showlegend": false,
         "type": "scatter",
         "x": [
          8.482615299323811,
          -0.2924473932076881
         ],
         "xaxis": "x2",
         "y": [
          8.482615299323811,
          -0.2924473932076881
         ],
         "yaxis": "y2"
        },
        {
         "line": {
          "color": "rgba(187, 190, 191, .9)",
          "width": 0.5
         },
         "mode": "lines",
         "showlegend": false,
         "type": "scatter",
         "x": [
          8.482615299323811,
          -0.2924473932076881
         ],
         "xaxis": "x3",
         "y": [
          8.482615299323811,
          -0.2924473932076881
         ],
         "yaxis": "y3"
        },
        {
         "line": {
          "color": "rgba(187, 190, 191, .9)",
          "width": 0.5
         },
         "mode": "lines",
         "showlegend": false,
         "type": "scatter",
         "x": [
          8.482615299323811,
          -0.2924473932076881
         ],
         "xaxis": "x4",
         "y": [
          8.482615299323811,
          -0.2924473932076881
         ],
         "yaxis": "y4"
        },
        {
         "line": {
          "color": "rgba(187, 190, 191, .9)",
          "width": 0.5
         },
         "mode": "lines",
         "showlegend": false,
         "type": "scatter",
         "x": [
          8.482615299323811,
          -0.2924473932076881
         ],
         "xaxis": "x5",
         "y": [
          8.482615299323811,
          -0.2924473932076881
         ],
         "yaxis": "y5"
        },
        {
         "line": {
          "color": "rgba(187, 190, 191, .9)",
          "width": 0.5
         },
         "mode": "lines",
         "showlegend": false,
         "type": "scatter",
         "x": [
          8.482615299323811,
          -0.2924473932076881
         ],
         "xaxis": "x6",
         "y": [
          8.482615299323811,
          -0.2924473932076881
         ],
         "yaxis": "y6"
        }
       ],
       "layout": {
        "annotations": [
         {
          "font": {},
          "showarrow": false,
          "text": "bar_dim=4",
          "x": 0.225,
          "xanchor": "center",
          "xref": "paper",
          "y": 0.19999999999999998,
          "yanchor": "bottom",
          "yref": "paper"
         },
         {
          "font": {},
          "showarrow": false,
          "text": "bar_dim=5",
          "x": 0.775,
          "xanchor": "center",
          "xref": "paper",
          "y": 0.19999999999999998,
          "yanchor": "bottom",
          "yref": "paper"
         },
         {
          "font": {},
          "showarrow": false,
          "text": "bar_dim=2",
          "x": 0.225,
          "xanchor": "center",
          "xref": "paper",
          "y": 0.6,
          "yanchor": "bottom",
          "yref": "paper"
         },
         {
          "font": {},
          "showarrow": false,
          "text": "bar_dim=3",
          "x": 0.775,
          "xanchor": "center",
          "xref": "paper",
          "y": 0.6,
          "yanchor": "bottom",
          "yref": "paper"
         },
         {
          "font": {},
          "showarrow": false,
          "text": "bar_dim=0",
          "x": 0.225,
          "xanchor": "center",
          "xref": "paper",
          "y": 1,
          "yanchor": "bottom",
          "yref": "paper"
         },
         {
          "font": {},
          "showarrow": false,
          "text": "bar_dim=1",
          "x": 0.775,
          "xanchor": "center",
          "xref": "paper",
          "y": 1,
          "yanchor": "bottom",
          "yref": "paper"
         }
        ],
        "height": 600,
        "legend": {
         "title": {
          "text": "bar_dim"
         },
         "tracegroupgap": 0
        },
        "template": {
         "data": {
          "bar": [
           {
            "error_x": {
             "color": "#2a3f5f"
            },
            "error_y": {
             "color": "#2a3f5f"
            },
            "marker": {
             "line": {
              "color": "white",
              "width": 0.5
             }
            },
            "type": "bar"
           }
          ],
          "barpolar": [
           {
            "marker": {
             "line": {
              "color": "white",
              "width": 0.5
             }
            },
            "type": "barpolar"
           }
          ],
          "carpet": [
           {
            "aaxis": {
             "endlinecolor": "#2a3f5f",
             "gridcolor": "#C8D4E3",
             "linecolor": "#C8D4E3",
             "minorgridcolor": "#C8D4E3",
             "startlinecolor": "#2a3f5f"
            },
            "baxis": {
             "endlinecolor": "#2a3f5f",
             "gridcolor": "#C8D4E3",
             "linecolor": "#C8D4E3",
             "minorgridcolor": "#C8D4E3",
             "startlinecolor": "#2a3f5f"
            },
            "type": "carpet"
           }
          ],
          "choropleth": [
           {
            "colorbar": {
             "outlinewidth": 0,
             "ticks": ""
            },
            "type": "choropleth"
           }
          ],
          "contour": [
           {
            "colorbar": {
             "outlinewidth": 0,
             "ticks": ""
            },
            "colorscale": [
             [
              0,
              "#0d0887"
             ],
             [
              0.1111111111111111,
              "#46039f"
             ],
             [
              0.2222222222222222,
              "#7201a8"
             ],
             [
              0.3333333333333333,
              "#9c179e"
             ],
             [
              0.4444444444444444,
              "#bd3786"
             ],
             [
              0.5555555555555556,
              "#d8576b"
             ],
             [
              0.6666666666666666,
              "#ed7953"
             ],
             [
              0.7777777777777778,
              "#fb9f3a"
             ],
             [
              0.8888888888888888,
              "#fdca26"
             ],
             [
              1,
              "#f0f921"
             ]
            ],
            "type": "contour"
           }
          ],
          "contourcarpet": [
           {
            "colorbar": {
             "outlinewidth": 0,
             "ticks": ""
            },
            "type": "contourcarpet"
           }
          ],
          "heatmap": [
           {
            "colorbar": {
             "outlinewidth": 0,
             "ticks": ""
            },
            "colorscale": [
             [
              0,
              "#0d0887"
             ],
             [
              0.1111111111111111,
              "#46039f"
             ],
             [
              0.2222222222222222,
              "#7201a8"
             ],
             [
              0.3333333333333333,
              "#9c179e"
             ],
             [
              0.4444444444444444,
              "#bd3786"
             ],
             [
              0.5555555555555556,
              "#d8576b"
             ],
             [
              0.6666666666666666,
              "#ed7953"
             ],
             [
              0.7777777777777778,
              "#fb9f3a"
             ],
             [
              0.8888888888888888,
              "#fdca26"
             ],
             [
              1,
              "#f0f921"
             ]
            ],
            "type": "heatmap"
           }
          ],
          "heatmapgl": [
           {
            "colorbar": {
             "outlinewidth": 0,
             "ticks": ""
            },
            "colorscale": [
             [
              0,
              "#0d0887"
             ],
             [
              0.1111111111111111,
              "#46039f"
             ],
             [
              0.2222222222222222,
              "#7201a8"
             ],
             [
              0.3333333333333333,
              "#9c179e"
             ],
             [
              0.4444444444444444,
              "#bd3786"
             ],
             [
              0.5555555555555556,
              "#d8576b"
             ],
             [
              0.6666666666666666,
              "#ed7953"
             ],
             [
              0.7777777777777778,
              "#fb9f3a"
             ],
             [
              0.8888888888888888,
              "#fdca26"
             ],
             [
              1,
              "#f0f921"
             ]
            ],
            "type": "heatmapgl"
           }
          ],
          "histogram": [
           {
            "marker": {
             "colorbar": {
              "outlinewidth": 0,
              "ticks": ""
             }
            },
            "type": "histogram"
           }
          ],
          "histogram2d": [
           {
            "colorbar": {
             "outlinewidth": 0,
             "ticks": ""
            },
            "colorscale": [
             [
              0,
              "#0d0887"
             ],
             [
              0.1111111111111111,
              "#46039f"
             ],
             [
              0.2222222222222222,
              "#7201a8"
             ],
             [
              0.3333333333333333,
              "#9c179e"
             ],
             [
              0.4444444444444444,
              "#bd3786"
             ],
             [
              0.5555555555555556,
              "#d8576b"
             ],
             [
              0.6666666666666666,
              "#ed7953"
             ],
             [
              0.7777777777777778,
              "#fb9f3a"
             ],
             [
              0.8888888888888888,
              "#fdca26"
             ],
             [
              1,
              "#f0f921"
             ]
            ],
            "type": "histogram2d"
           }
          ],
          "histogram2dcontour": [
           {
            "colorbar": {
             "outlinewidth": 0,
             "ticks": ""
            },
            "colorscale": [
             [
              0,
              "#0d0887"
             ],
             [
              0.1111111111111111,
              "#46039f"
             ],
             [
              0.2222222222222222,
              "#7201a8"
             ],
             [
              0.3333333333333333,
              "#9c179e"
             ],
             [
              0.4444444444444444,
              "#bd3786"
             ],
             [
              0.5555555555555556,
              "#d8576b"
             ],
             [
              0.6666666666666666,
              "#ed7953"
             ],
             [
              0.7777777777777778,
              "#fb9f3a"
             ],
             [
              0.8888888888888888,
              "#fdca26"
             ],
             [
              1,
              "#f0f921"
             ]
            ],
            "type": "histogram2dcontour"
           }
          ],
          "mesh3d": [
           {
            "colorbar": {
             "outlinewidth": 0,
             "ticks": ""
            },
            "type": "mesh3d"
           }
          ],
          "parcoords": [
           {
            "line": {
             "colorbar": {
              "outlinewidth": 0,
              "ticks": ""
             }
            },
            "type": "parcoords"
           }
          ],
          "pie": [
           {
            "automargin": true,
            "type": "pie"
           }
          ],
          "scatter": [
           {
            "marker": {
             "colorbar": {
              "outlinewidth": 0,
              "ticks": ""
             }
            },
            "type": "scatter"
           }
          ],
          "scatter3d": [
           {
            "line": {
             "colorbar": {
              "outlinewidth": 0,
              "ticks": ""
             }
            },
            "marker": {
             "colorbar": {
              "outlinewidth": 0,
              "ticks": ""
             }
            },
            "type": "scatter3d"
           }
          ],
          "scattercarpet": [
           {
            "marker": {
             "colorbar": {
              "outlinewidth": 0,
              "ticks": ""
             }
            },
            "type": "scattercarpet"
           }
          ],
          "scattergeo": [
           {
            "marker": {
             "colorbar": {
              "outlinewidth": 0,
              "ticks": ""
             }
            },
            "type": "scattergeo"
           }
          ],
          "scattergl": [
           {
            "marker": {
             "colorbar": {
              "outlinewidth": 0,
              "ticks": ""
             }
            },
            "type": "scattergl"
           }
          ],
          "scattermapbox": [
           {
            "marker": {
             "colorbar": {
              "outlinewidth": 0,
              "ticks": ""
             }
            },
            "type": "scattermapbox"
           }
          ],
          "scatterpolar": [
           {
            "marker": {
             "colorbar": {
              "outlinewidth": 0,
              "ticks": ""
             }
            },
            "type": "scatterpolar"
           }
          ],
          "scatterpolargl": [
           {
            "marker": {
             "colorbar": {
              "outlinewidth": 0,
              "ticks": ""
             }
            },
            "type": "scatterpolargl"
           }
          ],
          "scatterternary": [
           {
            "marker": {
             "colorbar": {
              "outlinewidth": 0,
              "ticks": ""
             }
            },
            "type": "scatterternary"
           }
          ],
          "surface": [
           {
            "colorbar": {
             "outlinewidth": 0,
             "ticks": ""
            },
            "colorscale": [
             [
              0,
              "#0d0887"
             ],
             [
              0.1111111111111111,
              "#46039f"
             ],
             [
              0.2222222222222222,
              "#7201a8"
             ],
             [
              0.3333333333333333,
              "#9c179e"
             ],
             [
              0.4444444444444444,
              "#bd3786"
             ],
             [
              0.5555555555555556,
              "#d8576b"
             ],
             [
              0.6666666666666666,
              "#ed7953"
             ],
             [
              0.7777777777777778,
              "#fb9f3a"
             ],
             [
              0.8888888888888888,
              "#fdca26"
             ],
             [
              1,
              "#f0f921"
             ]
            ],
            "type": "surface"
           }
          ],
          "table": [
           {
            "cells": {
             "fill": {
              "color": "#EBF0F8"
             },
             "line": {
              "color": "white"
             }
            },
            "header": {
             "fill": {
              "color": "#C8D4E3"
             },
             "line": {
              "color": "white"
             }
            },
            "type": "table"
           }
          ]
         },
         "layout": {
          "annotationdefaults": {
           "arrowcolor": "#2a3f5f",
           "arrowhead": 0,
           "arrowwidth": 1
          },
          "autotypenumbers": "strict",
          "coloraxis": {
           "colorbar": {
            "outlinewidth": 0,
            "ticks": ""
           }
          },
          "colorscale": {
           "diverging": [
            [
             0,
             "#8e0152"
            ],
            [
             0.1,
             "#c51b7d"
            ],
            [
             0.2,
             "#de77ae"
            ],
            [
             0.3,
             "#f1b6da"
            ],
            [
             0.4,
             "#fde0ef"
            ],
            [
             0.5,
             "#f7f7f7"
            ],
            [
             0.6,
             "#e6f5d0"
            ],
            [
             0.7,
             "#b8e186"
            ],
            [
             0.8,
             "#7fbc41"
            ],
            [
             0.9,
             "#4d9221"
            ],
            [
             1,
             "#276419"
            ]
           ],
           "sequential": [
            [
             0,
             "#0d0887"
            ],
            [
             0.1111111111111111,
             "#46039f"
            ],
            [
             0.2222222222222222,
             "#7201a8"
            ],
            [
             0.3333333333333333,
             "#9c179e"
            ],
            [
             0.4444444444444444,
             "#bd3786"
            ],
            [
             0.5555555555555556,
             "#d8576b"
            ],
            [
             0.6666666666666666,
             "#ed7953"
            ],
            [
             0.7777777777777778,
             "#fb9f3a"
            ],
            [
             0.8888888888888888,
             "#fdca26"
            ],
            [
             1,
             "#f0f921"
            ]
           ],
           "sequentialminus": [
            [
             0,
             "#0d0887"
            ],
            [
             0.1111111111111111,
             "#46039f"
            ],
            [
             0.2222222222222222,
             "#7201a8"
            ],
            [
             0.3333333333333333,
             "#9c179e"
            ],
            [
             0.4444444444444444,
             "#bd3786"
            ],
            [
             0.5555555555555556,
             "#d8576b"
            ],
            [
             0.6666666666666666,
             "#ed7953"
            ],
            [
             0.7777777777777778,
             "#fb9f3a"
            ],
            [
             0.8888888888888888,
             "#fdca26"
            ],
            [
             1,
             "#f0f921"
            ]
           ]
          },
          "colorway": [
           "#636efa",
           "#EF553B",
           "#00cc96",
           "#ab63fa",
           "#FFA15A",
           "#19d3f3",
           "#FF6692",
           "#B6E880",
           "#FF97FF",
           "#FECB52"
          ],
          "font": {
           "color": "#2a3f5f"
          },
          "geo": {
           "bgcolor": "white",
           "lakecolor": "white",
           "landcolor": "white",
           "showlakes": true,
           "showland": true,
           "subunitcolor": "#C8D4E3"
          },
          "hoverlabel": {
           "align": "left"
          },
          "hovermode": "closest",
          "mapbox": {
           "style": "light"
          },
          "paper_bgcolor": "white",
          "plot_bgcolor": "white",
          "polar": {
           "angularaxis": {
            "gridcolor": "#EBF0F8",
            "linecolor": "#EBF0F8",
            "ticks": ""
           },
           "bgcolor": "white",
           "radialaxis": {
            "gridcolor": "#EBF0F8",
            "linecolor": "#EBF0F8",
            "ticks": ""
           }
          },
          "scene": {
           "xaxis": {
            "backgroundcolor": "white",
            "gridcolor": "#DFE8F3",
            "gridwidth": 2,
            "linecolor": "#EBF0F8",
            "showbackground": true,
            "ticks": "",
            "zerolinecolor": "#EBF0F8"
           },
           "yaxis": {
            "backgroundcolor": "white",
            "gridcolor": "#DFE8F3",
            "gridwidth": 2,
            "linecolor": "#EBF0F8",
            "showbackground": true,
            "ticks": "",
            "zerolinecolor": "#EBF0F8"
           },
           "zaxis": {
            "backgroundcolor": "white",
            "gridcolor": "#DFE8F3",
            "gridwidth": 2,
            "linecolor": "#EBF0F8",
            "showbackground": true,
            "ticks": "",
            "zerolinecolor": "#EBF0F8"
           }
          },
          "shapedefaults": {
           "line": {
            "color": "#2a3f5f"
           }
          },
          "ternary": {
           "aaxis": {
            "gridcolor": "#DFE8F3",
            "linecolor": "#A2B1C6",
            "ticks": ""
           },
           "baxis": {
            "gridcolor": "#DFE8F3",
            "linecolor": "#A2B1C6",
            "ticks": ""
           },
           "bgcolor": "white",
           "caxis": {
            "gridcolor": "#DFE8F3",
            "linecolor": "#A2B1C6",
            "ticks": ""
           }
          },
          "title": {
           "x": 0.05
          },
          "xaxis": {
           "automargin": true,
           "gridcolor": "#EBF0F8",
           "linecolor": "#EBF0F8",
           "ticks": "",
           "title": {
            "standoff": 15
           },
           "zerolinecolor": "#EBF0F8",
           "zerolinewidth": 2
          },
          "yaxis": {
           "automargin": true,
           "gridcolor": "#EBF0F8",
           "linecolor": "#EBF0F8",
           "ticks": "",
           "title": {
            "standoff": 15
           },
           "zerolinecolor": "#EBF0F8",
           "zerolinewidth": 2
          }
         }
        },
        "title": {
         "text": "Persistence Diagrams (faceted)"
        },
        "width": 800,
        "xaxis": {
         "anchor": "y",
         "constrain": "domain",
         "domain": [
          0,
          0.45
         ],
         "range": [
          8.482615299323811,
          -0.2924473932076881
         ],
         "title": {
          "text": "birth"
         }
        },
        "xaxis2": {
         "anchor": "y2",
         "constrain": "domain",
         "domain": [
          0.55,
          1
         ],
         "matches": "x",
         "range": [
          8.482615299323811,
          -0.2924473932076881
         ],
         "title": {
          "text": "birth"
         }
        },
        "xaxis3": {
         "anchor": "y3",
         "constrain": "domain",
         "domain": [
          0,
          0.45
         ],
         "matches": "x",
         "range": [
          8.482615299323811,
          -0.2924473932076881
         ],
         "showticklabels": false,
         "title": {
          "text": "birth"
         }
        },
        "xaxis4": {
         "anchor": "y4",
         "constrain": "domain",
         "domain": [
          0.55,
          1
         ],
         "matches": "x",
         "range": [
          8.482615299323811,
          -0.2924473932076881
         ],
         "showticklabels": false,
         "title": {
          "text": "birth"
         }
        },
        "xaxis5": {
         "anchor": "y5",
         "constrain": "domain",
         "domain": [
          0,
          0.45
         ],
         "matches": "x",
         "range": [
          8.482615299323811,
          -0.2924473932076881
         ],
         "showticklabels": false,
         "title": {
          "text": "birth"
         }
        },
        "xaxis6": {
         "anchor": "y6",
         "constrain": "domain",
         "domain": [
          0.55,
          1
         ],
         "matches": "x",
         "range": [
          8.482615299323811,
          -0.2924473932076881
         ],
         "showticklabels": false,
         "title": {
          "text": "birth"
         }
        },
        "yaxis": {
         "anchor": "x",
         "domain": [
          0,
          0.19999999999999998
         ],
         "range": [
          8.482615299323811,
          -0.2924473932076881
         ],
         "scaleratio": 1,
         "title": {
          "text": "death"
         }
        },
        "yaxis2": {
         "anchor": "x2",
         "domain": [
          0,
          0.19999999999999998
         ],
         "matches": "y",
         "range": [
          8.482615299323811,
          -0.2924473932076881
         ],
         "scaleratio": 1,
         "showticklabels": false,
         "title": {
          "text": "death"
         }
        },
        "yaxis3": {
         "anchor": "x3",
         "domain": [
          0.4,
          0.6
         ],
         "matches": "y",
         "range": [
          8.482615299323811,
          -0.2924473932076881
         ],
         "scaleratio": 1,
         "title": {
          "text": "death"
         }
        },
        "yaxis4": {
         "anchor": "x4",
         "domain": [
          0.4,
          0.6
         ],
         "matches": "y",
         "range": [
          8.482615299323811,
          -0.2924473932076881
         ],
         "scaleratio": 1,
         "showticklabels": false,
         "title": {
          "text": "death"
         }
        },
        "yaxis5": {
         "anchor": "x5",
         "domain": [
          0.8,
          1
         ],
         "matches": "y",
         "range": [
          8.482615299323811,
          -0.2924473932076881
         ],
         "scaleratio": 1,
         "title": {
          "text": "death"
         }
        },
        "yaxis6": {
         "anchor": "x6",
         "domain": [
          0.8,
          1
         ],
         "matches": "y",
         "range": [
          8.482615299323811,
          -0.2924473932076881
         ],
         "scaleratio": 1,
         "showticklabels": false,
         "title": {
          "text": "death"
         }
        }
       }
      },
      "text/html": [
       "<div>                            <div id=\"d0641aa0-0165-4899-92b8-06e5b2b4c362\" class=\"plotly-graph-div\" style=\"height:600px; width:800px;\"></div>            <script type=\"text/javascript\">                require([\"plotly\"], function(Plotly) {                    window.PLOTLYENV=window.PLOTLYENV || {};                                    if (document.getElementById(\"d0641aa0-0165-4899-92b8-06e5b2b4c362\")) {                    Plotly.newPlot(                        \"d0641aa0-0165-4899-92b8-06e5b2b4c362\",                        [{\"customdata\": [[[31, 45, 55, 20]], [[49, 16, 26, 43]], [[75, 14, 5, 72]], [[41, 98, 93, 29]], [[76, 43, 85, 5]], [[75, 76, 18, 91]], [[27, 49, 34, 50]], [[85, 76, 96, 22]], [[57, 25, 48, 20]], [[80, 55, 75, 35]], [[69, 55, 47, 31]], [[37, 19, 67, 90]], [[21, 12, 59, 8]], [[57, 95, 41, 26]], [[7, 28, 6, 68]], [[20, 75, 81, 48]], [[66, 24, 65, 47]], [[2, 40, 38, 41]], [[3, 18, 33, 73]], [[38, 66, 77, 26]], [[22, 71, 62, 97]]], \"hovertemplate\": \"bar_dim=0<br>bar_birth=%{x}<br>bar_death=%{y}<br>rep=%{customdata[0]}<extra></extra>\", \"legendgroup\": \"0\", \"marker\": {\"color\": \"rgb(44, 26, 76)\", \"line\": {\"color\": \"#3f4142\", \"width\": 0.2}, \"opacity\": 0.7, \"symbol\": \"circle\"}, \"mode\": \"markers\", \"name\": \"0\", \"orientation\": \"v\", \"showlegend\": true, \"type\": \"scatter\", \"x\": [7.142947425501082, 7.552857177746884, 7.892761680473939, 7.65042938942568, 7.3548487104240055, 7.664491818276322, 7.232049682651223, 7.2068915722085505, 7.688116371641864, 7.339656767141991, 7.5172573189496745, 7.452158553019506, 7.664491818276322, 7.491760610718701, 7.452158553019506, 7.034180303423812, 7.491760610718701, 7.142947425501082, 7.268845978880737, 7.12475875268919, 7.563940776042391], \"xaxis\": \"x5\", \"y\": [6.340212558843747, 6.212122464632207, 6.4036924008129255, 6.978426075434247, 6.397459951106165, 6.68789442885015, 6.711037093153946, 6.122768777415719, 6.793424053564918, 6.212122464632207, 6.538480877993744, 6.561915760096871, 6.063272630833543, 6.375807734429834, 6.60816730384887, 6.499859502784533, 6.833996214510417, 6.341145301226739, 6.765713037908542, 6.305322438881594, 6.793424053564918], \"yaxis\": \"y5\"}, {\"customdata\": [[[178, 192, 187, 249]], [[208, 214, 141, 133]], [[215, 114, 158, 156]], [[185, 164, 220, 141]], [[160, 228, 183, 139]], [[172, 203, 143, 137]], [[111, 160, 185, 100]], [[116, 197, 112, 144]], [[205, 101, 149, 182]], [[179, 210, 107, 123]], [[213, 227, 194, 112]], [[182, 115, 217, 108]], [[162, 179, 115, 242]], [[116, 188, 204, 165]], [[190, 209, 139, 212]]], \"hovertemplate\": \"bar_dim=1<br>bar_birth=%{x}<br>bar_death=%{y}<br>rep=%{customdata[0]}<extra></extra>\", \"legendgroup\": \"1\", \"marker\": {\"color\": \"rgb(40, 59, 110)\", \"line\": {\"color\": \"#3f4142\", \"width\": 0.2}, \"opacity\": 0.7, \"symbol\": \"circle\"}, \"mode\": \"markers\", \"name\": \"1\", \"orientation\": \"v\", \"showlegend\": true, \"type\": \"scatter\", \"x\": [6.792394457124896, 6.599293764594221, 6.48660220136189, 6.394055754303082, 6.243169299158298, 6.387457048226617, 6.050064896869508, 6.833996214510417, 6.4213674350465935, 6.348037236518117, 6.635823737942863, 6.077070392890487, 6.9805297047232635, 6.021915147314423, 6.3450620167655085], \"xaxis\": \"x6\", \"y\": [5.857689902186825, 5.125157740115405, 5.6320973755353885, 5.865907903133397, 5.146248478112594, 5.865907903133397, 5.154758984454143, 5.2892046437860785, 5.946264348173306, 5.5454666128627075, 5.5288405556922315, 5.768748300749071, 5.726679057486605, 5.654442857309675, 5.337682670469381], \"yaxis\": \"y6\"}, {\"customdata\": [[[341, 313, 257, 324]], [[280, 272, 304, 292]], [[255, 358, 269, 338]], [[297, 321, 270, 279]], [[342, 314, 289, 308]], [[333, 250, 351, 344]], [[356, 353, 336, 352]], [[257, 260, 345, 250]], [[312, 311, 306, 267]], [[343, 320, 306, 300]], [[260, 327, 267, 358]], [[319, 303, 308, 273]], [[254, 271, 260, 282]], [[339, 305, 321, 319]], [[287, 253, 324, 251]], [[345, 250, 282, 325]], [[287, 352, 269, 252]], [[342, 286, 299, 352]]], \"hovertemplate\": \"bar_dim=2<br>bar_birth=%{x}<br>bar_death=%{y}<br>rep=%{customdata[0]}<extra></extra>\", \"legendgroup\": \"2\", \"marker\": {\"color\": \"rgb(42, 94, 151)\", \"line\": {\"color\": \"#3f4142\", \"width\": 0.2}, \"opacity\": 0.7, \"symbol\": \"circle\"}, \"mode\": \"markers\", \"name\": \"2\", \"orientation\": \"v\", \"showlegend\": true, \"type\": \"scatter\", \"x\": [5.653709726888387, 5.734144367814124, 5.622770807068898, 5.154758984454143, 5.001338866910404, 5.619296621739944, 5.3348974105338085, 5.337682670469381, 5.966429727891737, 5.091947698443027, 5.223856387995003, 5.0748951925968555, 5.115663163272108, 5.905879976676882, 5.337682670469381, 5.474854615831578, 5.622770807068898, 5.030578398742029], \"xaxis\": \"x3\", \"y\": [4.756080827157376, 4.314788907818891, 4.116510326556592, 4.422203525515922, 4.346922184894447, 4.468511143644, 4.194486570994999, 4.490420108848657, 4.907954641709949, 4.227532855094781, 4.833390493408562, 4.269318640448317, 4.0436389594894715, 4.009981282140786, 4.365574259737421, 4.110388031997928, 4.083048647709932, 4.035510309966354], \"yaxis\": \"y3\"}, {\"customdata\": [[[417, 434, 382, 398]], [[430, 399, 360, 392]], [[423, 379, 395, 408]], [[415, 423, 389, 410]], [[413, 425, 416, 391]], [[426, 434, 376, 382]], [[362, 372, 420, 371]], [[446, 365, 428, 448]], [[362, 390, 415, 429]], [[441, 369, 360, 397]], [[386, 432, 389, 428]], [[440, 419, 433, 431]]], \"hovertemplate\": \"bar_dim=3<br>bar_birth=%{x}<br>bar_death=%{y}<br>rep=%{customdata[0]}<extra></extra>\", \"legendgroup\": \"3\", \"marker\": {\"color\": \"rgb(68, 117, 193)\", \"line\": {\"color\": \"#3f4142\", \"width\": 0.2}, \"opacity\": 0.7, \"symbol\": \"circle\"}, \"mode\": \"markers\", \"name\": \"3\", \"orientation\": \"v\", \"showlegend\": true, \"type\": \"scatter\", \"x\": [4.209228675058555, 4.992752284155715, 4.833390493408562, 4.368905495906725, 4.083048647709932, 4.70692225734648, 4.346922184894447, 4.2400872736279664, 4.039907298080224, 4.741850675683413, 4.116510326556592, 4.454442599639256], \"xaxis\": \"x4\", \"y\": [3.737658377456473, 3.645928243066991, 3.716628861736811, 3.766889708492334, 3.501597333779646, 3.973422167750025, 3.9394684435238725, 3.8520727487903974, 3.198098018053035, 3.7503320209086497, 3.0976401256644057, 3.4939308924386503], \"yaxis\": \"y4\"}, {\"customdata\": [[[479, 486, 472, 465]], [[472, 450, 452, 462]], [[473, 454, 451, 456]], [[480, 450, 460, 466]], [[457, 461, 482, 465]], [[489, 461, 480, 456]], [[480, 478, 472, 464]], [[459, 473, 460, 480]], [[472, 481, 479, 487]], [[481, 469, 476, 486]], [[465, 471, 469, 457]], [[476, 483, 464, 456]], [[466, 453, 461, 484]], [[479, 478, 487, 463]], [[474, 465, 486, 455]], [[488, 484, 462, 473]], [[480, 484, 457, 489]], [[478, 481, 453, 466]], [[470, 455, 485, 451]], [[465, 452, 471, 477]]], \"hovertemplate\": \"bar_dim=4<br>bar_birth=%{x}<br>bar_death=%{y}<br>rep=%{customdata[0]}<extra></extra>\", \"legendgroup\": \"4\", \"marker\": {\"color\": \"rgb(96, 137, 190)\", \"line\": {\"color\": \"#3f4142\", \"width\": 0.2}, \"opacity\": 0.7, \"symbol\": \"circle\"}, \"mode\": \"markers\", \"name\": \"4\", \"orientation\": \"v\", \"showlegend\": true, \"type\": \"scatter\", \"x\": [3.737658377456473, 3.0976401256644057, 3.4939308924386503, 3.766889708492334, 3.375748938101691, 3.641365944592879, 3.8520727487903974, 3.03529866720742, 3.538771733011007, 3.7503320209086497, 3.501597333779646, 3.641365944592879, 3.8605387939113873, 3.107528745869529, 3.538771733011007, 3.375748938101691, 3.645928243066991, 3.973422167750025, 3.175454055539553, 3.375748938101691], \"xaxis\": \"x\", \"y\": [2.743689506421095, 2.552644817424506, 2.524166589921519, 2.827756641914416, 2.4816855379870795, 2.5344511725733585, 2.517469140750224, 2.938259403832843, 2.50461166127586, 2.595695654830487, 2.1660623888877257, 2.718385968715889, 2.392966001719074, 2.6161684936364793, 2.1680018715512364, 2.5344511725733585, 2.5347639759042027, 2.684609830139574, 2.50461166127586, 2.524166589921519], \"yaxis\": \"y\"}, {\"customdata\": [[[497, 515, 506, 507]], [[519, 516, 497, 493]], [[491, 517, 504, 495]], [[497, 507, 501, 509]], [[500, 507, 519, 493]], [[490, 491, 497, 493]], [[501, 516, 518, 517]], [[499, 490, 504, 512]], [[504, 502, 517, 516]], [[511, 495, 496, 515]], [[507, 498, 515, 500]], [[494, 508, 503, 500]], [[514, 495, 505, 493]], [[508, 491, 511, 497]]], \"hovertemplate\": \"bar_dim=5<br>bar_birth=%{x}<br>bar_death=%{y}<br>rep=%{customdata[0]}<extra></extra>\", \"legendgroup\": \"5\", \"marker\": {\"color\": \"rgb(125, 156, 181)\", \"line\": {\"color\": \"#3f4142\", \"width\": 0.2}, \"opacity\": 0.7, \"symbol\": \"circle\"}, \"mode\": \"markers\", \"name\": \"5\", \"orientation\": \"v\", \"showlegend\": true, \"type\": \"scatter\", \"x\": [2.827756641914416, 2.006780573013361, 2.2487941368712243, 2.595695654830487, 2.524166589921519, 2.595695654830487, 2.743689506421095, 2.1680018715512364, 2.359007883912835, 2.8403435016216396, 2.6524124094640595, 2.595695654830487, 2.0190087791867506, 2.517469140750224], \"xaxis\": \"x2\", \"y\": [1.4812104134137618, 1.392421669384479, 1.5793294885920435, 1.8684402341839674, 1.445962644041875, 1.178520371452846, 1.5246961436061275, 1.4706637071164463, 1.392421669384479, 1.8846530499459726, 1.7597826291035856, 1.8041755751985615, 1.445962644041875, 1.5246961436061275], \"yaxis\": \"y2\"}, {\"line\": {\"color\": \"rgba(187, 190, 191, .9)\", \"width\": 0.5}, \"mode\": \"lines\", \"showlegend\": false, \"type\": \"scatter\", \"x\": [8.482615299323811, -0.2924473932076881], \"xaxis\": \"x\", \"y\": [8.482615299323811, -0.2924473932076881], \"yaxis\": \"y\"}, {\"line\": {\"color\": \"rgba(187, 190, 191, .9)\", \"width\": 0.5}, \"mode\": \"lines\", \"showlegend\": false, \"type\": \"scatter\", \"x\": [8.482615299323811, -0.2924473932076881], \"xaxis\": \"x2\", \"y\": [8.482615299323811, -0.2924473932076881], \"yaxis\": \"y2\"}, {\"line\": {\"color\": \"rgba(187, 190, 191, .9)\", \"width\": 0.5}, \"mode\": \"lines\", \"showlegend\": false, \"type\": \"scatter\", \"x\": [8.482615299323811, -0.2924473932076881], \"xaxis\": \"x3\", \"y\": [8.482615299323811, -0.2924473932076881], \"yaxis\": \"y3\"}, {\"line\": {\"color\": \"rgba(187, 190, 191, .9)\", \"width\": 0.5}, \"mode\": \"lines\", \"showlegend\": false, \"type\": \"scatter\", \"x\": [8.482615299323811, -0.2924473932076881], \"xaxis\": \"x4\", \"y\": [8.482615299323811, -0.2924473932076881], \"yaxis\": \"y4\"}, {\"line\": {\"color\": \"rgba(187, 190, 191, .9)\", \"width\": 0.5}, \"mode\": \"lines\", \"showlegend\": false, \"type\": \"scatter\", \"x\": [8.482615299323811, -0.2924473932076881], \"xaxis\": \"x5\", \"y\": [8.482615299323811, -0.2924473932076881], \"yaxis\": \"y5\"}, {\"line\": {\"color\": \"rgba(187, 190, 191, .9)\", \"width\": 0.5}, \"mode\": \"lines\", \"showlegend\": false, \"type\": \"scatter\", \"x\": [8.482615299323811, -0.2924473932076881], \"xaxis\": \"x6\", \"y\": [8.482615299323811, -0.2924473932076881], \"yaxis\": \"y6\"}],                        {\"annotations\": [{\"font\": {}, \"showarrow\": false, \"text\": \"bar_dim=4\", \"x\": 0.225, \"xanchor\": \"center\", \"xref\": \"paper\", \"y\": 0.19999999999999998, \"yanchor\": \"bottom\", \"yref\": \"paper\"}, {\"font\": {}, \"showarrow\": false, \"text\": \"bar_dim=5\", \"x\": 0.775, \"xanchor\": \"center\", \"xref\": \"paper\", \"y\": 0.19999999999999998, \"yanchor\": \"bottom\", \"yref\": \"paper\"}, {\"font\": {}, \"showarrow\": false, \"text\": \"bar_dim=2\", \"x\": 0.225, \"xanchor\": \"center\", \"xref\": \"paper\", \"y\": 0.6, \"yanchor\": \"bottom\", \"yref\": \"paper\"}, {\"font\": {}, \"showarrow\": false, \"text\": \"bar_dim=3\", \"x\": 0.775, \"xanchor\": \"center\", \"xref\": \"paper\", \"y\": 0.6, \"yanchor\": \"bottom\", \"yref\": \"paper\"}, {\"font\": {}, \"showarrow\": false, \"text\": \"bar_dim=0\", \"x\": 0.225, \"xanchor\": \"center\", \"xref\": \"paper\", \"y\": 1.0, \"yanchor\": \"bottom\", \"yref\": \"paper\"}, {\"font\": {}, \"showarrow\": false, \"text\": \"bar_dim=1\", \"x\": 0.775, \"xanchor\": \"center\", \"xref\": \"paper\", \"y\": 1.0, \"yanchor\": \"bottom\", \"yref\": \"paper\"}], \"height\": 600, \"legend\": {\"title\": {\"text\": \"bar_dim\"}, \"tracegroupgap\": 0}, \"template\": {\"data\": {\"bar\": [{\"error_x\": {\"color\": \"#2a3f5f\"}, \"error_y\": {\"color\": \"#2a3f5f\"}, \"marker\": {\"line\": {\"color\": \"white\", \"width\": 0.5}}, \"type\": \"bar\"}], \"barpolar\": [{\"marker\": {\"line\": {\"color\": \"white\", \"width\": 0.5}}, \"type\": \"barpolar\"}], \"carpet\": [{\"aaxis\": {\"endlinecolor\": \"#2a3f5f\", \"gridcolor\": \"#C8D4E3\", \"linecolor\": \"#C8D4E3\", \"minorgridcolor\": \"#C8D4E3\", \"startlinecolor\": \"#2a3f5f\"}, \"baxis\": {\"endlinecolor\": \"#2a3f5f\", \"gridcolor\": \"#C8D4E3\", \"linecolor\": \"#C8D4E3\", \"minorgridcolor\": \"#C8D4E3\", \"startlinecolor\": \"#2a3f5f\"}, \"type\": \"carpet\"}], \"choropleth\": [{\"colorbar\": {\"outlinewidth\": 0, \"ticks\": \"\"}, \"type\": \"choropleth\"}], \"contour\": [{\"colorbar\": {\"outlinewidth\": 0, \"ticks\": \"\"}, \"colorscale\": [[0.0, \"#0d0887\"], [0.1111111111111111, \"#46039f\"], [0.2222222222222222, \"#7201a8\"], [0.3333333333333333, \"#9c179e\"], [0.4444444444444444, \"#bd3786\"], [0.5555555555555556, \"#d8576b\"], [0.6666666666666666, \"#ed7953\"], [0.7777777777777778, \"#fb9f3a\"], [0.8888888888888888, \"#fdca26\"], [1.0, \"#f0f921\"]], \"type\": \"contour\"}], \"contourcarpet\": [{\"colorbar\": {\"outlinewidth\": 0, \"ticks\": \"\"}, \"type\": \"contourcarpet\"}], \"heatmap\": [{\"colorbar\": {\"outlinewidth\": 0, \"ticks\": \"\"}, \"colorscale\": [[0.0, \"#0d0887\"], [0.1111111111111111, \"#46039f\"], [0.2222222222222222, \"#7201a8\"], [0.3333333333333333, \"#9c179e\"], [0.4444444444444444, \"#bd3786\"], [0.5555555555555556, \"#d8576b\"], [0.6666666666666666, \"#ed7953\"], [0.7777777777777778, \"#fb9f3a\"], [0.8888888888888888, \"#fdca26\"], [1.0, \"#f0f921\"]], \"type\": \"heatmap\"}], \"heatmapgl\": [{\"colorbar\": {\"outlinewidth\": 0, \"ticks\": \"\"}, \"colorscale\": [[0.0, \"#0d0887\"], [0.1111111111111111, \"#46039f\"], [0.2222222222222222, \"#7201a8\"], [0.3333333333333333, \"#9c179e\"], [0.4444444444444444, \"#bd3786\"], [0.5555555555555556, \"#d8576b\"], [0.6666666666666666, \"#ed7953\"], [0.7777777777777778, \"#fb9f3a\"], [0.8888888888888888, \"#fdca26\"], [1.0, \"#f0f921\"]], \"type\": \"heatmapgl\"}], \"histogram\": [{\"marker\": {\"colorbar\": {\"outlinewidth\": 0, \"ticks\": \"\"}}, \"type\": \"histogram\"}], \"histogram2d\": [{\"colorbar\": {\"outlinewidth\": 0, \"ticks\": \"\"}, \"colorscale\": [[0.0, \"#0d0887\"], [0.1111111111111111, \"#46039f\"], [0.2222222222222222, \"#7201a8\"], [0.3333333333333333, \"#9c179e\"], [0.4444444444444444, \"#bd3786\"], [0.5555555555555556, \"#d8576b\"], [0.6666666666666666, \"#ed7953\"], [0.7777777777777778, \"#fb9f3a\"], [0.8888888888888888, \"#fdca26\"], [1.0, \"#f0f921\"]], \"type\": \"histogram2d\"}], \"histogram2dcontour\": [{\"colorbar\": {\"outlinewidth\": 0, \"ticks\": \"\"}, \"colorscale\": [[0.0, \"#0d0887\"], [0.1111111111111111, \"#46039f\"], [0.2222222222222222, \"#7201a8\"], [0.3333333333333333, \"#9c179e\"], [0.4444444444444444, \"#bd3786\"], [0.5555555555555556, \"#d8576b\"], [0.6666666666666666, \"#ed7953\"], [0.7777777777777778, \"#fb9f3a\"], [0.8888888888888888, \"#fdca26\"], [1.0, \"#f0f921\"]], \"type\": \"histogram2dcontour\"}], \"mesh3d\": [{\"colorbar\": {\"outlinewidth\": 0, \"ticks\": \"\"}, \"type\": \"mesh3d\"}], \"parcoords\": [{\"line\": {\"colorbar\": {\"outlinewidth\": 0, \"ticks\": \"\"}}, \"type\": \"parcoords\"}], \"pie\": [{\"automargin\": true, \"type\": \"pie\"}], \"scatter\": [{\"marker\": {\"colorbar\": {\"outlinewidth\": 0, \"ticks\": \"\"}}, \"type\": \"scatter\"}], \"scatter3d\": [{\"line\": {\"colorbar\": {\"outlinewidth\": 0, \"ticks\": \"\"}}, \"marker\": {\"colorbar\": {\"outlinewidth\": 0, \"ticks\": \"\"}}, \"type\": \"scatter3d\"}], \"scattercarpet\": [{\"marker\": {\"colorbar\": {\"outlinewidth\": 0, \"ticks\": \"\"}}, \"type\": \"scattercarpet\"}], \"scattergeo\": [{\"marker\": {\"colorbar\": {\"outlinewidth\": 0, \"ticks\": \"\"}}, \"type\": \"scattergeo\"}], \"scattergl\": [{\"marker\": {\"colorbar\": {\"outlinewidth\": 0, \"ticks\": \"\"}}, \"type\": \"scattergl\"}], \"scattermapbox\": [{\"marker\": {\"colorbar\": {\"outlinewidth\": 0, \"ticks\": \"\"}}, \"type\": \"scattermapbox\"}], \"scatterpolar\": [{\"marker\": {\"colorbar\": {\"outlinewidth\": 0, \"ticks\": \"\"}}, \"type\": \"scatterpolar\"}], \"scatterpolargl\": [{\"marker\": {\"colorbar\": {\"outlinewidth\": 0, \"ticks\": \"\"}}, \"type\": \"scatterpolargl\"}], \"scatterternary\": [{\"marker\": {\"colorbar\": {\"outlinewidth\": 0, \"ticks\": \"\"}}, \"type\": \"scatterternary\"}], \"surface\": [{\"colorbar\": {\"outlinewidth\": 0, \"ticks\": \"\"}, \"colorscale\": [[0.0, \"#0d0887\"], [0.1111111111111111, \"#46039f\"], [0.2222222222222222, \"#7201a8\"], [0.3333333333333333, \"#9c179e\"], [0.4444444444444444, \"#bd3786\"], [0.5555555555555556, \"#d8576b\"], [0.6666666666666666, \"#ed7953\"], [0.7777777777777778, \"#fb9f3a\"], [0.8888888888888888, \"#fdca26\"], [1.0, \"#f0f921\"]], \"type\": \"surface\"}], \"table\": [{\"cells\": {\"fill\": {\"color\": \"#EBF0F8\"}, \"line\": {\"color\": \"white\"}}, \"header\": {\"fill\": {\"color\": \"#C8D4E3\"}, \"line\": {\"color\": \"white\"}}, \"type\": \"table\"}]}, \"layout\": {\"annotationdefaults\": {\"arrowcolor\": \"#2a3f5f\", \"arrowhead\": 0, \"arrowwidth\": 1}, \"autotypenumbers\": \"strict\", \"coloraxis\": {\"colorbar\": {\"outlinewidth\": 0, \"ticks\": \"\"}}, \"colorscale\": {\"diverging\": [[0, \"#8e0152\"], [0.1, \"#c51b7d\"], [0.2, \"#de77ae\"], [0.3, \"#f1b6da\"], [0.4, \"#fde0ef\"], [0.5, \"#f7f7f7\"], [0.6, \"#e6f5d0\"], [0.7, \"#b8e186\"], [0.8, \"#7fbc41\"], [0.9, \"#4d9221\"], [1, \"#276419\"]], \"sequential\": [[0.0, \"#0d0887\"], [0.1111111111111111, \"#46039f\"], [0.2222222222222222, \"#7201a8\"], [0.3333333333333333, \"#9c179e\"], [0.4444444444444444, \"#bd3786\"], [0.5555555555555556, \"#d8576b\"], [0.6666666666666666, \"#ed7953\"], [0.7777777777777778, \"#fb9f3a\"], [0.8888888888888888, \"#fdca26\"], [1.0, \"#f0f921\"]], \"sequentialminus\": [[0.0, \"#0d0887\"], [0.1111111111111111, \"#46039f\"], [0.2222222222222222, \"#7201a8\"], [0.3333333333333333, \"#9c179e\"], [0.4444444444444444, \"#bd3786\"], [0.5555555555555556, \"#d8576b\"], [0.6666666666666666, \"#ed7953\"], [0.7777777777777778, \"#fb9f3a\"], [0.8888888888888888, \"#fdca26\"], [1.0, \"#f0f921\"]]}, \"colorway\": [\"#636efa\", \"#EF553B\", \"#00cc96\", \"#ab63fa\", \"#FFA15A\", \"#19d3f3\", \"#FF6692\", \"#B6E880\", \"#FF97FF\", \"#FECB52\"], \"font\": {\"color\": \"#2a3f5f\"}, \"geo\": {\"bgcolor\": \"white\", \"lakecolor\": \"white\", \"landcolor\": \"white\", \"showlakes\": true, \"showland\": true, \"subunitcolor\": \"#C8D4E3\"}, \"hoverlabel\": {\"align\": \"left\"}, \"hovermode\": \"closest\", \"mapbox\": {\"style\": \"light\"}, \"paper_bgcolor\": \"white\", \"plot_bgcolor\": \"white\", \"polar\": {\"angularaxis\": {\"gridcolor\": \"#EBF0F8\", \"linecolor\": \"#EBF0F8\", \"ticks\": \"\"}, \"bgcolor\": \"white\", \"radialaxis\": {\"gridcolor\": \"#EBF0F8\", \"linecolor\": \"#EBF0F8\", \"ticks\": \"\"}}, \"scene\": {\"xaxis\": {\"backgroundcolor\": \"white\", \"gridcolor\": \"#DFE8F3\", \"gridwidth\": 2, \"linecolor\": \"#EBF0F8\", \"showbackground\": true, \"ticks\": \"\", \"zerolinecolor\": \"#EBF0F8\"}, \"yaxis\": {\"backgroundcolor\": \"white\", \"gridcolor\": \"#DFE8F3\", \"gridwidth\": 2, \"linecolor\": \"#EBF0F8\", \"showbackground\": true, \"ticks\": \"\", \"zerolinecolor\": \"#EBF0F8\"}, \"zaxis\": {\"backgroundcolor\": \"white\", \"gridcolor\": \"#DFE8F3\", \"gridwidth\": 2, \"linecolor\": \"#EBF0F8\", \"showbackground\": true, \"ticks\": \"\", \"zerolinecolor\": \"#EBF0F8\"}}, \"shapedefaults\": {\"line\": {\"color\": \"#2a3f5f\"}}, \"ternary\": {\"aaxis\": {\"gridcolor\": \"#DFE8F3\", \"linecolor\": \"#A2B1C6\", \"ticks\": \"\"}, \"baxis\": {\"gridcolor\": \"#DFE8F3\", \"linecolor\": \"#A2B1C6\", \"ticks\": \"\"}, \"bgcolor\": \"white\", \"caxis\": {\"gridcolor\": \"#DFE8F3\", \"linecolor\": \"#A2B1C6\", \"ticks\": \"\"}}, \"title\": {\"x\": 0.05}, \"xaxis\": {\"automargin\": true, \"gridcolor\": \"#EBF0F8\", \"linecolor\": \"#EBF0F8\", \"ticks\": \"\", \"title\": {\"standoff\": 15}, \"zerolinecolor\": \"#EBF0F8\", \"zerolinewidth\": 2}, \"yaxis\": {\"automargin\": true, \"gridcolor\": \"#EBF0F8\", \"linecolor\": \"#EBF0F8\", \"ticks\": \"\", \"title\": {\"standoff\": 15}, \"zerolinecolor\": \"#EBF0F8\", \"zerolinewidth\": 2}}}, \"title\": {\"text\": \"Persistence Diagrams (faceted)\"}, \"width\": 800, \"xaxis\": {\"anchor\": \"y\", \"constrain\": \"domain\", \"domain\": [0.0, 0.45], \"range\": [8.482615299323811, -0.2924473932076881], \"title\": {\"text\": \"birth\"}}, \"xaxis2\": {\"anchor\": \"y2\", \"constrain\": \"domain\", \"domain\": [0.55, 1.0], \"matches\": \"x\", \"range\": [8.482615299323811, -0.2924473932076881], \"title\": {\"text\": \"birth\"}}, \"xaxis3\": {\"anchor\": \"y3\", \"constrain\": \"domain\", \"domain\": [0.0, 0.45], \"matches\": \"x\", \"range\": [8.482615299323811, -0.2924473932076881], \"showticklabels\": false, \"title\": {\"text\": \"birth\"}}, \"xaxis4\": {\"anchor\": \"y4\", \"constrain\": \"domain\", \"domain\": [0.55, 1.0], \"matches\": \"x\", \"range\": [8.482615299323811, -0.2924473932076881], \"showticklabels\": false, \"title\": {\"text\": \"birth\"}}, \"xaxis5\": {\"anchor\": \"y5\", \"constrain\": \"domain\", \"domain\": [0.0, 0.45], \"matches\": \"x\", \"range\": [8.482615299323811, -0.2924473932076881], \"showticklabels\": false, \"title\": {\"text\": \"birth\"}}, \"xaxis6\": {\"anchor\": \"y6\", \"constrain\": \"domain\", \"domain\": [0.55, 1.0], \"matches\": \"x\", \"range\": [8.482615299323811, -0.2924473932076881], \"showticklabels\": false, \"title\": {\"text\": \"birth\"}}, \"yaxis\": {\"anchor\": \"x\", \"domain\": [0.0, 0.19999999999999998], \"range\": [8.482615299323811, -0.2924473932076881], \"scaleratio\": 1, \"title\": {\"text\": \"death\"}}, \"yaxis2\": {\"anchor\": \"x2\", \"domain\": [0.0, 0.19999999999999998], \"matches\": \"y\", \"range\": [8.482615299323811, -0.2924473932076881], \"scaleratio\": 1, \"showticklabels\": false, \"title\": {\"text\": \"death\"}}, \"yaxis3\": {\"anchor\": \"x3\", \"domain\": [0.4, 0.6], \"matches\": \"y\", \"range\": [8.482615299323811, -0.2924473932076881], \"scaleratio\": 1, \"title\": {\"text\": \"death\"}}, \"yaxis4\": {\"anchor\": \"x4\", \"domain\": [0.4, 0.6], \"matches\": \"y\", \"range\": [8.482615299323811, -0.2924473932076881], \"scaleratio\": 1, \"showticklabels\": false, \"title\": {\"text\": \"death\"}}, \"yaxis5\": {\"anchor\": \"x5\", \"domain\": [0.8, 1.0], \"matches\": \"y\", \"range\": [8.482615299323811, -0.2924473932076881], \"scaleratio\": 1, \"title\": {\"text\": \"death\"}}, \"yaxis6\": {\"anchor\": \"x6\", \"domain\": [0.8, 1.0], \"matches\": \"y\", \"range\": [8.482615299323811, -0.2924473932076881], \"scaleratio\": 1, \"showticklabels\": false, \"title\": {\"text\": \"death\"}}},                        {\"responsive\": true}                    ).then(function(){\n",
       "                            \n",
       "var gd = document.getElementById('d0641aa0-0165-4899-92b8-06e5b2b4c362');\n",
       "var x = new MutationObserver(function (mutations, observer) {{\n",
       "        var display = window.getComputedStyle(gd).display;\n",
       "        if (!display || display === 'none') {{\n",
       "            console.log([gd, 'removed!']);\n",
       "            Plotly.purge(gd);\n",
       "            observer.disconnect();\n",
       "        }}\n",
       "}});\n",
       "\n",
       "// Listen for the removal of the full notebook cells\n",
       "var notebookContainer = gd.closest('#notebook-container');\n",
       "if (notebookContainer) {{\n",
       "    x.observe(notebookContainer, {childList: true});\n",
       "}}\n",
       "\n",
       "// Listen for the clearing of the current output cell\n",
       "var outputEl = gd.closest('.output');\n",
       "if (outputEl) {{\n",
       "    x.observe(outputEl, {childList: true});\n",
       "}}\n",
       "\n",
       "                        })                };                });            </script>        </div>"
      ]
     },
     "metadata": {},
     "output_type": "display_data"
    }
   ],
   "source": [
    "# fig = plot_pd_faceted(bar_df, axis_range, col_wrap = 3)\n",
    "\n",
    "# Keeping the axis_range the same as above.\n",
    "fig = plot_pd_faceted(bar_df, [max_filtration + buffer, min_filtration - buffer])\n",
    "\n",
    "fig.update_layout(height = 600,\n",
    "                  width = 800)\n",
    "\n",
    "\n",
    "fig.show()"
   ]
  },
  {
   "cell_type": "code",
   "execution_count": 7,
   "metadata": {},
   "outputs": [
    {
     "data": {
      "application/vnd.plotly.v1+json": {
       "config": {
        "plotlyServerURL": "https://plot.ly"
       },
       "data": [
        {
         "hovertemplate": "<i>id</i>: 62<br><b>rep</b>: [20 75 81 48]",
         "line": {
          "color": "rgb(44, 26, 76)"
         },
         "mode": "lines",
         "name": "dim 0",
         "showlegend": true,
         "type": "scatter",
         "x": [
          7.034180303423812,
          6.499859502784533
         ],
         "y": [
          1,
          1
         ]
        },
        {
         "hovertemplate": "<i>id</i>: 93<br><b>rep</b>: [38 66 77 26]",
         "line": {
          "color": "rgb(44, 26, 76)"
         },
         "mode": "lines",
         "name": "dim 0",
         "showlegend": false,
         "type": "scatter",
         "x": [
          7.12475875268919,
          6.305322438881594
         ],
         "y": [
          2,
          2
         ]
        },
        {
         "hovertemplate": "<i>id</i>: 5<br><b>rep</b>: [31 45 55 20]",
         "line": {
          "color": "rgb(44, 26, 76)"
         },
         "mode": "lines",
         "name": "dim 0",
         "showlegend": false,
         "type": "scatter",
         "x": [
          7.142947425501082,
          6.340212558843747
         ],
         "y": [
          3,
          3
         ]
        },
        {
         "hovertemplate": "<i>id</i>: 72<br><b>rep</b>: [ 2 40 38 41]",
         "line": {
          "color": "rgb(44, 26, 76)"
         },
         "mode": "lines",
         "name": "dim 0",
         "showlegend": false,
         "type": "scatter",
         "x": [
          7.142947425501082,
          6.341145301226739
         ],
         "y": [
          4,
          4
         ]
        },
        {
         "hovertemplate": "<i>id</i>: 25<br><b>rep</b>: [85 76 96 22]",
         "line": {
          "color": "rgb(44, 26, 76)"
         },
         "mode": "lines",
         "name": "dim 0",
         "showlegend": false,
         "type": "scatter",
         "x": [
          7.2068915722085505,
          6.122768777415719
         ],
         "y": [
          5,
          5
         ]
        },
        {
         "hovertemplate": "<i>id</i>: 20<br><b>rep</b>: [27 49 34 50]",
         "line": {
          "color": "rgb(44, 26, 76)"
         },
         "mode": "lines",
         "name": "dim 0",
         "showlegend": false,
         "type": "scatter",
         "x": [
          7.232049682651223,
          6.711037093153946
         ],
         "y": [
          6,
          6
         ]
        },
        {
         "hovertemplate": "<i>id</i>: 86<br><b>rep</b>: [ 3 18 33 73]",
         "line": {
          "color": "rgb(44, 26, 76)"
         },
         "mode": "lines",
         "name": "dim 0",
         "showlegend": false,
         "type": "scatter",
         "x": [
          7.268845978880737,
          6.765713037908542
         ],
         "y": [
          7,
          7
         ]
        },
        {
         "hovertemplate": "<i>id</i>: 30<br><b>rep</b>: [80 55 75 35]",
         "line": {
          "color": "rgb(44, 26, 76)"
         },
         "mode": "lines",
         "name": "dim 0",
         "showlegend": false,
         "type": "scatter",
         "x": [
          7.339656767141991,
          6.212122464632207
         ],
         "y": [
          8,
          8
         ]
        },
        {
         "hovertemplate": "<i>id</i>: 17<br><b>rep</b>: [76 43 85  5]",
         "line": {
          "color": "rgb(44, 26, 76)"
         },
         "mode": "lines",
         "name": "dim 0",
         "showlegend": false,
         "type": "scatter",
         "x": [
          7.3548487104240055,
          6.397459951106165
         ],
         "y": [
          9,
          9
         ]
        },
        {
         "hovertemplate": "<i>id</i>: 41<br><b>rep</b>: [37 19 67 90]",
         "line": {
          "color": "rgb(44, 26, 76)"
         },
         "mode": "lines",
         "name": "dim 0",
         "showlegend": false,
         "type": "scatter",
         "x": [
          7.452158553019506,
          6.561915760096871
         ],
         "y": [
          10,
          10
         ]
        },
        {
         "hovertemplate": "<i>id</i>: 55<br><b>rep</b>: [ 7 28  6 68]",
         "line": {
          "color": "rgb(44, 26, 76)"
         },
         "mode": "lines",
         "name": "dim 0",
         "showlegend": false,
         "type": "scatter",
         "x": [
          7.452158553019506,
          6.60816730384887
         ],
         "y": [
          11,
          11
         ]
        },
        {
         "hovertemplate": "<i>id</i>: 48<br><b>rep</b>: [57 95 41 26]",
         "line": {
          "color": "rgb(44, 26, 76)"
         },
         "mode": "lines",
         "name": "dim 0",
         "showlegend": false,
         "type": "scatter",
         "x": [
          7.491760610718701,
          6.375807734429834
         ],
         "y": [
          12,
          12
         ]
        },
        {
         "hovertemplate": "<i>id</i>: 66<br><b>rep</b>: [66 24 65 47]",
         "line": {
          "color": "rgb(44, 26, 76)"
         },
         "mode": "lines",
         "name": "dim 0",
         "showlegend": false,
         "type": "scatter",
         "x": [
          7.491760610718701,
          6.833996214510417
         ],
         "y": [
          13,
          13
         ]
        },
        {
         "hovertemplate": "<i>id</i>: 31<br><b>rep</b>: [69 55 47 31]",
         "line": {
          "color": "rgb(44, 26, 76)"
         },
         "mode": "lines",
         "name": "dim 0",
         "showlegend": false,
         "type": "scatter",
         "x": [
          7.5172573189496745,
          6.538480877993744
         ],
         "y": [
          14,
          14
         ]
        },
        {
         "hovertemplate": "<i>id</i>: 7<br><b>rep</b>: [49 16 26 43]",
         "line": {
          "color": "rgb(44, 26, 76)"
         },
         "mode": "lines",
         "name": "dim 0",
         "showlegend": false,
         "type": "scatter",
         "x": [
          7.552857177746884,
          6.212122464632207
         ],
         "y": [
          15,
          15
         ]
        },
        {
         "hovertemplate": "<i>id</i>: 95<br><b>rep</b>: [22 71 62 97]",
         "line": {
          "color": "rgb(44, 26, 76)"
         },
         "mode": "lines",
         "name": "dim 0",
         "showlegend": false,
         "type": "scatter",
         "x": [
          7.563940776042391,
          6.793424053564918
         ],
         "y": [
          16,
          16
         ]
        },
        {
         "hovertemplate": "<i>id</i>: 16<br><b>rep</b>: [41 98 93 29]",
         "line": {
          "color": "rgb(44, 26, 76)"
         },
         "mode": "lines",
         "name": "dim 0",
         "showlegend": false,
         "type": "scatter",
         "x": [
          7.65042938942568,
          6.978426075434247
         ],
         "y": [
          17,
          17
         ]
        },
        {
         "hovertemplate": "<i>id</i>: 18<br><b>rep</b>: [75 76 18 91]",
         "line": {
          "color": "rgb(44, 26, 76)"
         },
         "mode": "lines",
         "name": "dim 0",
         "showlegend": false,
         "type": "scatter",
         "x": [
          7.664491818276322,
          6.68789442885015
         ],
         "y": [
          18,
          18
         ]
        },
        {
         "hovertemplate": "<i>id</i>: 42<br><b>rep</b>: [21 12 59  8]",
         "line": {
          "color": "rgb(44, 26, 76)"
         },
         "mode": "lines",
         "name": "dim 0",
         "showlegend": false,
         "type": "scatter",
         "x": [
          7.664491818276322,
          6.063272630833543
         ],
         "y": [
          19,
          19
         ]
        },
        {
         "hovertemplate": "<i>id</i>: 28<br><b>rep</b>: [57 25 48 20]",
         "line": {
          "color": "rgb(44, 26, 76)"
         },
         "mode": "lines",
         "name": "dim 0",
         "showlegend": false,
         "type": "scatter",
         "x": [
          7.688116371641864,
          6.793424053564918
         ],
         "y": [
          20,
          20
         ]
        },
        {
         "hovertemplate": "<i>id</i>: 9<br><b>rep</b>: [75 14  5 72]",
         "line": {
          "color": "rgb(44, 26, 76)"
         },
         "mode": "lines",
         "name": "dim 0",
         "showlegend": false,
         "type": "scatter",
         "x": [
          7.892761680473939,
          6.4036924008129255
         ],
         "y": [
          21,
          21
         ]
        },
        {
         "hovertemplate": "<i>id</i>: 87<br><b>rep</b>: [116 188 204 165]",
         "line": {
          "color": "rgb(40, 59, 110)"
         },
         "mode": "lines",
         "name": "dim 1",
         "showlegend": true,
         "type": "scatter",
         "x": [
          6.021915147314423,
          5.654442857309675
         ],
         "y": [
          22,
          22
         ]
        },
        {
         "hovertemplate": "<i>id</i>: 47<br><b>rep</b>: [111 160 185 100]",
         "line": {
          "color": "rgb(40, 59, 110)"
         },
         "mode": "lines",
         "name": "dim 1",
         "showlegend": false,
         "type": "scatter",
         "x": [
          6.050064896869508,
          5.154758984454143
         ],
         "y": [
          23,
          23
         ]
        },
        {
         "hovertemplate": "<i>id</i>: 77<br><b>rep</b>: [182 115 217 108]",
         "line": {
          "color": "rgb(40, 59, 110)"
         },
         "mode": "lines",
         "name": "dim 1",
         "showlegend": false,
         "type": "scatter",
         "x": [
          6.077070392890487,
          5.768748300749071
         ],
         "y": [
          24,
          24
         ]
        },
        {
         "hovertemplate": "<i>id</i>: 39<br><b>rep</b>: [160 228 183 139]",
         "line": {
          "color": "rgb(40, 59, 110)"
         },
         "mode": "lines",
         "name": "dim 1",
         "showlegend": false,
         "type": "scatter",
         "x": [
          6.243169299158298,
          5.146248478112594
         ],
         "y": [
          25,
          25
         ]
        },
        {
         "hovertemplate": "<i>id</i>: 91<br><b>rep</b>: [190 209 139 212]",
         "line": {
          "color": "rgb(40, 59, 110)"
         },
         "mode": "lines",
         "name": "dim 1",
         "showlegend": false,
         "type": "scatter",
         "x": [
          6.3450620167655085,
          5.337682670469381
         ],
         "y": [
          26,
          26
         ]
        },
        {
         "hovertemplate": "<i>id</i>: 70<br><b>rep</b>: [179 210 107 123]",
         "line": {
          "color": "rgb(40, 59, 110)"
         },
         "mode": "lines",
         "name": "dim 1",
         "showlegend": false,
         "type": "scatter",
         "x": [
          6.348037236518117,
          5.5454666128627075
         ],
         "y": [
          27,
          27
         ]
        },
        {
         "hovertemplate": "<i>id</i>: 43<br><b>rep</b>: [172 203 143 137]",
         "line": {
          "color": "rgb(40, 59, 110)"
         },
         "mode": "lines",
         "name": "dim 1",
         "showlegend": false,
         "type": "scatter",
         "x": [
          6.387457048226617,
          5.865907903133397
         ],
         "y": [
          28,
          28
         ]
        },
        {
         "hovertemplate": "<i>id</i>: 14<br><b>rep</b>: [185 164 220 141]",
         "line": {
          "color": "rgb(40, 59, 110)"
         },
         "mode": "lines",
         "name": "dim 1",
         "showlegend": false,
         "type": "scatter",
         "x": [
          6.394055754303082,
          5.865907903133397
         ],
         "y": [
          29,
          29
         ]
        },
        {
         "hovertemplate": "<i>id</i>: 64<br><b>rep</b>: [205 101 149 182]",
         "line": {
          "color": "rgb(40, 59, 110)"
         },
         "mode": "lines",
         "name": "dim 1",
         "showlegend": false,
         "type": "scatter",
         "x": [
          6.4213674350465935,
          5.946264348173306
         ],
         "y": [
          30,
          30
         ]
        },
        {
         "hovertemplate": "<i>id</i>: 13<br><b>rep</b>: [215 114 158 156]",
         "line": {
          "color": "rgb(40, 59, 110)"
         },
         "mode": "lines",
         "name": "dim 1",
         "showlegend": false,
         "type": "scatter",
         "x": [
          6.48660220136189,
          5.6320973755353885
         ],
         "y": [
          31,
          31
         ]
        },
        {
         "hovertemplate": "<i>id</i>: 10<br><b>rep</b>: [208 214 141 133]",
         "line": {
          "color": "rgb(40, 59, 110)"
         },
         "mode": "lines",
         "name": "dim 1",
         "showlegend": false,
         "type": "scatter",
         "x": [
          6.599293764594221,
          5.125157740115405
         ],
         "y": [
          32,
          32
         ]
        },
        {
         "hovertemplate": "<i>id</i>: 71<br><b>rep</b>: [213 227 194 112]",
         "line": {
          "color": "rgb(40, 59, 110)"
         },
         "mode": "lines",
         "name": "dim 1",
         "showlegend": false,
         "type": "scatter",
         "x": [
          6.635823737942863,
          5.5288405556922315
         ],
         "y": [
          33,
          33
         ]
        },
        {
         "hovertemplate": "<i>id</i>: 0<br><b>rep</b>: [178 192 187 249]",
         "line": {
          "color": "rgb(40, 59, 110)"
         },
         "mode": "lines",
         "name": "dim 1",
         "showlegend": false,
         "type": "scatter",
         "x": [
          6.792394457124896,
          5.857689902186825
         ],
         "y": [
          34,
          34
         ]
        },
        {
         "hovertemplate": "<i>id</i>: 51<br><b>rep</b>: [116 197 112 144]",
         "line": {
          "color": "rgb(40, 59, 110)"
         },
         "mode": "lines",
         "name": "dim 1",
         "showlegend": false,
         "type": "scatter",
         "x": [
          6.833996214510417,
          5.2892046437860785
         ],
         "y": [
          35,
          35
         ]
        },
        {
         "hovertemplate": "<i>id</i>: 81<br><b>rep</b>: [162 179 115 242]",
         "line": {
          "color": "rgb(40, 59, 110)"
         },
         "mode": "lines",
         "name": "dim 1",
         "showlegend": false,
         "type": "scatter",
         "x": [
          6.9805297047232635,
          5.726679057486605
         ],
         "y": [
          36,
          36
         ]
        },
        {
         "hovertemplate": "<i>id</i>: 26<br><b>rep</b>: [342 314 289 308]",
         "line": {
          "color": "rgb(42, 94, 151)"
         },
         "mode": "lines",
         "name": "dim 2",
         "showlegend": true,
         "type": "scatter",
         "x": [
          5.001338866910404,
          4.346922184894447
         ],
         "y": [
          37,
          37
         ]
        },
        {
         "hovertemplate": "<i>id</i>: 88<br><b>rep</b>: [342 286 299 352]",
         "line": {
          "color": "rgb(42, 94, 151)"
         },
         "mode": "lines",
         "name": "dim 2",
         "showlegend": false,
         "type": "scatter",
         "x": [
          5.030578398742029,
          4.035510309966354
         ],
         "y": [
          38,
          38
         ]
        },
        {
         "hovertemplate": "<i>id</i>: 68<br><b>rep</b>: [319 303 308 273]",
         "line": {
          "color": "rgb(42, 94, 151)"
         },
         "mode": "lines",
         "name": "dim 2",
         "showlegend": false,
         "type": "scatter",
         "x": [
          5.0748951925968555,
          4.269318640448317
         ],
         "y": [
          39,
          39
         ]
        },
        {
         "hovertemplate": "<i>id</i>: 60<br><b>rep</b>: [343 320 306 300]",
         "line": {
          "color": "rgb(42, 94, 151)"
         },
         "mode": "lines",
         "name": "dim 2",
         "showlegend": false,
         "type": "scatter",
         "x": [
          5.091947698443027,
          4.227532855094781
         ],
         "y": [
          40,
          40
         ]
        },
        {
         "hovertemplate": "<i>id</i>: 69<br><b>rep</b>: [254 271 260 282]",
         "line": {
          "color": "rgb(42, 94, 151)"
         },
         "mode": "lines",
         "name": "dim 2",
         "showlegend": false,
         "type": "scatter",
         "x": [
          5.115663163272108,
          4.0436389594894715
         ],
         "y": [
          41,
          41
         ]
        },
        {
         "hovertemplate": "<i>id</i>: 12<br><b>rep</b>: [297 321 270 279]",
         "line": {
          "color": "rgb(42, 94, 151)"
         },
         "mode": "lines",
         "name": "dim 2",
         "showlegend": false,
         "type": "scatter",
         "x": [
          5.154758984454143,
          4.422203525515922
         ],
         "y": [
          42,
          42
         ]
        },
        {
         "hovertemplate": "<i>id</i>: 65<br><b>rep</b>: [260 327 267 358]",
         "line": {
          "color": "rgb(42, 94, 151)"
         },
         "mode": "lines",
         "name": "dim 2",
         "showlegend": false,
         "type": "scatter",
         "x": [
          5.223856387995003,
          4.833390493408562
         ],
         "y": [
          43,
          43
         ]
        },
        {
         "hovertemplate": "<i>id</i>: 50<br><b>rep</b>: [356 353 336 352]",
         "line": {
          "color": "rgb(42, 94, 151)"
         },
         "mode": "lines",
         "name": "dim 2",
         "showlegend": false,
         "type": "scatter",
         "x": [
          5.3348974105338085,
          4.194486570994999
         ],
         "y": [
          44,
          44
         ]
        },
        {
         "hovertemplate": "<i>id</i>: 53<br><b>rep</b>: [257 260 345 250]",
         "line": {
          "color": "rgb(42, 94, 151)"
         },
         "mode": "lines",
         "name": "dim 2",
         "showlegend": false,
         "type": "scatter",
         "x": [
          5.337682670469381,
          4.490420108848657
         ],
         "y": [
          45,
          45
         ]
        },
        {
         "hovertemplate": "<i>id</i>: 79<br><b>rep</b>: [287 253 324 251]",
         "line": {
          "color": "rgb(42, 94, 151)"
         },
         "mode": "lines",
         "name": "dim 2",
         "showlegend": false,
         "type": "scatter",
         "x": [
          5.337682670469381,
          4.365574259737421
         ],
         "y": [
          46,
          46
         ]
        },
        {
         "hovertemplate": "<i>id</i>: 80<br><b>rep</b>: [345 250 282 325]",
         "line": {
          "color": "rgb(42, 94, 151)"
         },
         "mode": "lines",
         "name": "dim 2",
         "showlegend": false,
         "type": "scatter",
         "x": [
          5.474854615831578,
          4.110388031997928
         ],
         "y": [
          47,
          47
         ]
        },
        {
         "hovertemplate": "<i>id</i>: 27<br><b>rep</b>: [333 250 351 344]",
         "line": {
          "color": "rgb(42, 94, 151)"
         },
         "mode": "lines",
         "name": "dim 2",
         "showlegend": false,
         "type": "scatter",
         "x": [
          5.619296621739944,
          4.468511143644
         ],
         "y": [
          48,
          48
         ]
        },
        {
         "hovertemplate": "<i>id</i>: 11<br><b>rep</b>: [255 358 269 338]",
         "line": {
          "color": "rgb(42, 94, 151)"
         },
         "mode": "lines",
         "name": "dim 2",
         "showlegend": false,
         "type": "scatter",
         "x": [
          5.622770807068898,
          4.116510326556592
         ],
         "y": [
          49,
          49
         ]
        },
        {
         "hovertemplate": "<i>id</i>: 84<br><b>rep</b>: [287 352 269 252]",
         "line": {
          "color": "rgb(42, 94, 151)"
         },
         "mode": "lines",
         "name": "dim 2",
         "showlegend": false,
         "type": "scatter",
         "x": [
          5.622770807068898,
          4.083048647709932
         ],
         "y": [
          50,
          50
         ]
        },
        {
         "hovertemplate": "<i>id</i>: 2<br><b>rep</b>: [341 313 257 324]",
         "line": {
          "color": "rgb(42, 94, 151)"
         },
         "mode": "lines",
         "name": "dim 2",
         "showlegend": false,
         "type": "scatter",
         "x": [
          5.653709726888387,
          4.756080827157376
         ],
         "y": [
          51,
          51
         ]
        },
        {
         "hovertemplate": "<i>id</i>: 3<br><b>rep</b>: [280 272 304 292]",
         "line": {
          "color": "rgb(42, 94, 151)"
         },
         "mode": "lines",
         "name": "dim 2",
         "showlegend": false,
         "type": "scatter",
         "x": [
          5.734144367814124,
          4.314788907818891
         ],
         "y": [
          52,
          52
         ]
        },
        {
         "hovertemplate": "<i>id</i>: 78<br><b>rep</b>: [339 305 321 319]",
         "line": {
          "color": "rgb(42, 94, 151)"
         },
         "mode": "lines",
         "name": "dim 2",
         "showlegend": false,
         "type": "scatter",
         "x": [
          5.905879976676882,
          4.009981282140786
         ],
         "y": [
          53,
          53
         ]
        },
        {
         "hovertemplate": "<i>id</i>: 59<br><b>rep</b>: [312 311 306 267]",
         "line": {
          "color": "rgb(42, 94, 151)"
         },
         "mode": "lines",
         "name": "dim 2",
         "showlegend": false,
         "type": "scatter",
         "x": [
          5.966429727891737,
          4.907954641709949
         ],
         "y": [
          54,
          54
         ]
        },
        {
         "hovertemplate": "<i>id</i>: 73<br><b>rep</b>: [362 390 415 429]",
         "line": {
          "color": "rgb(68, 117, 193)"
         },
         "mode": "lines",
         "name": "dim 3",
         "showlegend": true,
         "type": "scatter",
         "x": [
          4.039907298080224,
          3.198098018053035
         ],
         "y": [
          55,
          55
         ]
        },
        {
         "hovertemplate": "<i>id</i>: 35<br><b>rep</b>: [413 425 416 391]",
         "line": {
          "color": "rgb(68, 117, 193)"
         },
         "mode": "lines",
         "name": "dim 3",
         "showlegend": false,
         "type": "scatter",
         "x": [
          4.083048647709932,
          3.501597333779646
         ],
         "y": [
          56,
          56
         ]
        },
        {
         "hovertemplate": "<i>id</i>: 94<br><b>rep</b>: [386 432 389 428]",
         "line": {
          "color": "rgb(68, 117, 193)"
         },
         "mode": "lines",
         "name": "dim 3",
         "showlegend": false,
         "type": "scatter",
         "x": [
          4.116510326556592,
          3.0976401256644057
         ],
         "y": [
          57,
          57
         ]
        },
        {
         "hovertemplate": "<i>id</i>: 6<br><b>rep</b>: [417 434 382 398]",
         "line": {
          "color": "rgb(68, 117, 193)"
         },
         "mode": "lines",
         "name": "dim 3",
         "showlegend": false,
         "type": "scatter",
         "x": [
          4.209228675058555,
          3.737658377456473
         ],
         "y": [
          58,
          58
         ]
        },
        {
         "hovertemplate": "<i>id</i>: 57<br><b>rep</b>: [446 365 428 448]",
         "line": {
          "color": "rgb(68, 117, 193)"
         },
         "mode": "lines",
         "name": "dim 3",
         "showlegend": false,
         "type": "scatter",
         "x": [
          4.2400872736279664,
          3.8520727487903974
         ],
         "y": [
          59,
          59
         ]
        },
        {
         "hovertemplate": "<i>id</i>: 44<br><b>rep</b>: [362 372 420 371]",
         "line": {
          "color": "rgb(68, 117, 193)"
         },
         "mode": "lines",
         "name": "dim 3",
         "showlegend": false,
         "type": "scatter",
         "x": [
          4.346922184894447,
          3.9394684435238725
         ],
         "y": [
          60,
          60
         ]
        },
        {
         "hovertemplate": "<i>id</i>: 34<br><b>rep</b>: [415 423 389 410]",
         "line": {
          "color": "rgb(68, 117, 193)"
         },
         "mode": "lines",
         "name": "dim 3",
         "showlegend": false,
         "type": "scatter",
         "x": [
          4.368905495906725,
          3.766889708492334
         ],
         "y": [
          61,
          61
         ]
        },
        {
         "hovertemplate": "<i>id</i>: 99<br><b>rep</b>: [440 419 433 431]",
         "line": {
          "color": "rgb(68, 117, 193)"
         },
         "mode": "lines",
         "name": "dim 3",
         "showlegend": false,
         "type": "scatter",
         "x": [
          4.454442599639256,
          3.4939308924386503
         ],
         "y": [
          62,
          62
         ]
        },
        {
         "hovertemplate": "<i>id</i>: 40<br><b>rep</b>: [426 434 376 382]",
         "line": {
          "color": "rgb(68, 117, 193)"
         },
         "mode": "lines",
         "name": "dim 3",
         "showlegend": false,
         "type": "scatter",
         "x": [
          4.70692225734648,
          3.973422167750025
         ],
         "y": [
          63,
          63
         ]
        },
        {
         "hovertemplate": "<i>id</i>: 75<br><b>rep</b>: [441 369 360 397]",
         "line": {
          "color": "rgb(68, 117, 193)"
         },
         "mode": "lines",
         "name": "dim 3",
         "showlegend": false,
         "type": "scatter",
         "x": [
          4.741850675683413,
          3.7503320209086497
         ],
         "y": [
          64,
          64
         ]
        },
        {
         "hovertemplate": "<i>id</i>: 32<br><b>rep</b>: [423 379 395 408]",
         "line": {
          "color": "rgb(68, 117, 193)"
         },
         "mode": "lines",
         "name": "dim 3",
         "showlegend": false,
         "type": "scatter",
         "x": [
          4.833390493408562,
          3.716628861736811
         ],
         "y": [
          65,
          65
         ]
        },
        {
         "hovertemplate": "<i>id</i>: 23<br><b>rep</b>: [430 399 360 392]",
         "line": {
          "color": "rgb(68, 117, 193)"
         },
         "mode": "lines",
         "name": "dim 3",
         "showlegend": false,
         "type": "scatter",
         "x": [
          4.992752284155715,
          3.645928243066991
         ],
         "y": [
          66,
          66
         ]
        },
        {
         "hovertemplate": "<i>id</i>: 38<br><b>rep</b>: [459 473 460 480]",
         "line": {
          "color": "rgb(96, 137, 190)"
         },
         "mode": "lines",
         "name": "dim 4",
         "showlegend": true,
         "type": "scatter",
         "x": [
          3.03529866720742,
          2.938259403832843
         ],
         "y": [
          67,
          67
         ]
        },
        {
         "hovertemplate": "<i>id</i>: 19<br><b>rep</b>: [472 450 452 462]",
         "line": {
          "color": "rgb(96, 137, 190)"
         },
         "mode": "lines",
         "name": "dim 4",
         "showlegend": false,
         "type": "scatter",
         "x": [
          3.0976401256644057,
          2.552644817424506
         ],
         "y": [
          68,
          68
         ]
        },
        {
         "hovertemplate": "<i>id</i>: 76<br><b>rep</b>: [479 478 487 463]",
         "line": {
          "color": "rgb(96, 137, 190)"
         },
         "mode": "lines",
         "name": "dim 4",
         "showlegend": false,
         "type": "scatter",
         "x": [
          3.107528745869529,
          2.6161684936364793
         ],
         "y": [
          69,
          69
         ]
        },
        {
         "hovertemplate": "<i>id</i>: 96<br><b>rep</b>: [470 455 485 451]",
         "line": {
          "color": "rgb(96, 137, 190)"
         },
         "mode": "lines",
         "name": "dim 4",
         "showlegend": false,
         "type": "scatter",
         "x": [
          3.175454055539553,
          2.50461166127586
         ],
         "y": [
          70,
          70
         ]
        },
        {
         "hovertemplate": "<i>id</i>: 29<br><b>rep</b>: [457 461 482 465]",
         "line": {
          "color": "rgb(96, 137, 190)"
         },
         "mode": "lines",
         "name": "dim 4",
         "showlegend": false,
         "type": "scatter",
         "x": [
          3.375748938101691,
          2.4816855379870795
         ],
         "y": [
          71,
          71
         ]
        },
        {
         "hovertemplate": "<i>id</i>: 83<br><b>rep</b>: [488 484 462 473]",
         "line": {
          "color": "rgb(96, 137, 190)"
         },
         "mode": "lines",
         "name": "dim 4",
         "showlegend": false,
         "type": "scatter",
         "x": [
          3.375748938101691,
          2.5344511725733585
         ],
         "y": [
          72,
          72
         ]
        },
        {
         "hovertemplate": "<i>id</i>: 98<br><b>rep</b>: [465 452 471 477]",
         "line": {
          "color": "rgb(96, 137, 190)"
         },
         "mode": "lines",
         "name": "dim 4",
         "showlegend": false,
         "type": "scatter",
         "x": [
          3.375748938101691,
          2.524166589921519
         ],
         "y": [
          73,
          73
         ]
        },
        {
         "hovertemplate": "<i>id</i>: 21<br><b>rep</b>: [473 454 451 456]",
         "line": {
          "color": "rgb(96, 137, 190)"
         },
         "mode": "lines",
         "name": "dim 4",
         "showlegend": false,
         "type": "scatter",
         "x": [
          3.4939308924386503,
          2.524166589921519
         ],
         "y": [
          74,
          74
         ]
        },
        {
         "hovertemplate": "<i>id</i>: 58<br><b>rep</b>: [465 471 469 457]",
         "line": {
          "color": "rgb(96, 137, 190)"
         },
         "mode": "lines",
         "name": "dim 4",
         "showlegend": false,
         "type": "scatter",
         "x": [
          3.501597333779646,
          2.1660623888877257
         ],
         "y": [
          75,
          75
         ]
        },
        {
         "hovertemplate": "<i>id</i>: 49<br><b>rep</b>: [472 481 479 487]",
         "line": {
          "color": "rgb(96, 137, 190)"
         },
         "mode": "lines",
         "name": "dim 4",
         "showlegend": false,
         "type": "scatter",
         "x": [
          3.538771733011007,
          2.50461166127586
         ],
         "y": [
          76,
          76
         ]
        },
        {
         "hovertemplate": "<i>id</i>: 82<br><b>rep</b>: [474 465 486 455]",
         "line": {
          "color": "rgb(96, 137, 190)"
         },
         "mode": "lines",
         "name": "dim 4",
         "showlegend": false,
         "type": "scatter",
         "x": [
          3.538771733011007,
          2.1680018715512364
         ],
         "y": [
          77,
          77
         ]
        },
        {
         "hovertemplate": "<i>id</i>: 36<br><b>rep</b>: [489 461 480 456]",
         "line": {
          "color": "rgb(96, 137, 190)"
         },
         "mode": "lines",
         "name": "dim 4",
         "showlegend": false,
         "type": "scatter",
         "x": [
          3.641365944592879,
          2.5344511725733585
         ],
         "y": [
          78,
          78
         ]
        },
        {
         "hovertemplate": "<i>id</i>: 67<br><b>rep</b>: [476 483 464 456]",
         "line": {
          "color": "rgb(96, 137, 190)"
         },
         "mode": "lines",
         "name": "dim 4",
         "showlegend": false,
         "type": "scatter",
         "x": [
          3.641365944592879,
          2.718385968715889
         ],
         "y": [
          79,
          79
         ]
        },
        {
         "hovertemplate": "<i>id</i>: 85<br><b>rep</b>: [480 484 457 489]",
         "line": {
          "color": "rgb(96, 137, 190)"
         },
         "mode": "lines",
         "name": "dim 4",
         "showlegend": false,
         "type": "scatter",
         "x": [
          3.645928243066991,
          2.5347639759042027
         ],
         "y": [
          80,
          80
         ]
        },
        {
         "hovertemplate": "<i>id</i>: 15<br><b>rep</b>: [479 486 472 465]",
         "line": {
          "color": "rgb(96, 137, 190)"
         },
         "mode": "lines",
         "name": "dim 4",
         "showlegend": false,
         "type": "scatter",
         "x": [
          3.737658377456473,
          2.743689506421095
         ],
         "y": [
          81,
          81
         ]
        },
        {
         "hovertemplate": "<i>id</i>: 52<br><b>rep</b>: [481 469 476 486]",
         "line": {
          "color": "rgb(96, 137, 190)"
         },
         "mode": "lines",
         "name": "dim 4",
         "showlegend": false,
         "type": "scatter",
         "x": [
          3.7503320209086497,
          2.595695654830487
         ],
         "y": [
          82,
          82
         ]
        },
        {
         "hovertemplate": "<i>id</i>: 22<br><b>rep</b>: [480 450 460 466]",
         "line": {
          "color": "rgb(96, 137, 190)"
         },
         "mode": "lines",
         "name": "dim 4",
         "showlegend": false,
         "type": "scatter",
         "x": [
          3.766889708492334,
          2.827756641914416
         ],
         "y": [
          83,
          83
         ]
        },
        {
         "hovertemplate": "<i>id</i>: 37<br><b>rep</b>: [480 478 472 464]",
         "line": {
          "color": "rgb(96, 137, 190)"
         },
         "mode": "lines",
         "name": "dim 4",
         "showlegend": false,
         "type": "scatter",
         "x": [
          3.8520727487903974,
          2.517469140750224
         ],
         "y": [
          84,
          84
         ]
        },
        {
         "hovertemplate": "<i>id</i>: 74<br><b>rep</b>: [466 453 461 484]",
         "line": {
          "color": "rgb(96, 137, 190)"
         },
         "mode": "lines",
         "name": "dim 4",
         "showlegend": false,
         "type": "scatter",
         "x": [
          3.8605387939113873,
          2.392966001719074
         ],
         "y": [
          85,
          85
         ]
        },
        {
         "hovertemplate": "<i>id</i>: 89<br><b>rep</b>: [478 481 453 466]",
         "line": {
          "color": "rgb(96, 137, 190)"
         },
         "mode": "lines",
         "name": "dim 4",
         "showlegend": false,
         "type": "scatter",
         "x": [
          3.973422167750025,
          2.684609830139574
         ],
         "y": [
          86,
          86
         ]
        },
        {
         "hovertemplate": "<i>id</i>: 4<br><b>rep</b>: [519 516 497 493]",
         "line": {
          "color": "rgb(125, 156, 181)"
         },
         "mode": "lines",
         "name": "dim 5",
         "showlegend": true,
         "type": "scatter",
         "x": [
          2.006780573013361,
          1.392421669384479
         ],
         "y": [
          87,
          87
         ]
        },
        {
         "hovertemplate": "<i>id</i>: 92<br><b>rep</b>: [514 495 505 493]",
         "line": {
          "color": "rgb(125, 156, 181)"
         },
         "mode": "lines",
         "name": "dim 5",
         "showlegend": false,
         "type": "scatter",
         "x": [
          2.0190087791867506,
          1.445962644041875
         ],
         "y": [
          88,
          88
         ]
        },
        {
         "hovertemplate": "<i>id</i>: 54<br><b>rep</b>: [499 490 504 512]",
         "line": {
          "color": "rgb(125, 156, 181)"
         },
         "mode": "lines",
         "name": "dim 5",
         "showlegend": false,
         "type": "scatter",
         "x": [
          2.1680018715512364,
          1.4706637071164463
         ],
         "y": [
          89,
          89
         ]
        },
        {
         "hovertemplate": "<i>id</i>: 8<br><b>rep</b>: [491 517 504 495]",
         "line": {
          "color": "rgb(125, 156, 181)"
         },
         "mode": "lines",
         "name": "dim 5",
         "showlegend": false,
         "type": "scatter",
         "x": [
          2.2487941368712243,
          1.5793294885920435
         ],
         "y": [
          90,
          90
         ]
        },
        {
         "hovertemplate": "<i>id</i>: 56<br><b>rep</b>: [504 502 517 516]",
         "line": {
          "color": "rgb(125, 156, 181)"
         },
         "mode": "lines",
         "name": "dim 5",
         "showlegend": false,
         "type": "scatter",
         "x": [
          2.359007883912835,
          1.392421669384479
         ],
         "y": [
          91,
          91
         ]
        },
        {
         "hovertemplate": "<i>id</i>: 97<br><b>rep</b>: [508 491 511 497]",
         "line": {
          "color": "rgb(125, 156, 181)"
         },
         "mode": "lines",
         "name": "dim 5",
         "showlegend": false,
         "type": "scatter",
         "x": [
          2.517469140750224,
          1.5246961436061275
         ],
         "y": [
          92,
          92
         ]
        },
        {
         "hovertemplate": "<i>id</i>: 33<br><b>rep</b>: [500 507 519 493]",
         "line": {
          "color": "rgb(125, 156, 181)"
         },
         "mode": "lines",
         "name": "dim 5",
         "showlegend": false,
         "type": "scatter",
         "x": [
          2.524166589921519,
          1.445962644041875
         ],
         "y": [
          93,
          93
         ]
        },
        {
         "hovertemplate": "<i>id</i>: 24<br><b>rep</b>: [497 507 501 509]",
         "line": {
          "color": "rgb(125, 156, 181)"
         },
         "mode": "lines",
         "name": "dim 5",
         "showlegend": false,
         "type": "scatter",
         "x": [
          2.595695654830487,
          1.8684402341839674
         ],
         "y": [
          94,
          94
         ]
        },
        {
         "hovertemplate": "<i>id</i>: 45<br><b>rep</b>: [490 491 497 493]",
         "line": {
          "color": "rgb(125, 156, 181)"
         },
         "mode": "lines",
         "name": "dim 5",
         "showlegend": false,
         "type": "scatter",
         "x": [
          2.595695654830487,
          1.178520371452846
         ],
         "y": [
          95,
          95
         ]
        },
        {
         "hovertemplate": "<i>id</i>: 90<br><b>rep</b>: [494 508 503 500]",
         "line": {
          "color": "rgb(125, 156, 181)"
         },
         "mode": "lines",
         "name": "dim 5",
         "showlegend": false,
         "type": "scatter",
         "x": [
          2.595695654830487,
          1.8041755751985615
         ],
         "y": [
          96,
          96
         ]
        },
        {
         "hovertemplate": "<i>id</i>: 63<br><b>rep</b>: [507 498 515 500]",
         "line": {
          "color": "rgb(125, 156, 181)"
         },
         "mode": "lines",
         "name": "dim 5",
         "showlegend": false,
         "type": "scatter",
         "x": [
          2.6524124094640595,
          1.7597826291035856
         ],
         "y": [
          97,
          97
         ]
        },
        {
         "hovertemplate": "<i>id</i>: 46<br><b>rep</b>: [501 516 518 517]",
         "line": {
          "color": "rgb(125, 156, 181)"
         },
         "mode": "lines",
         "name": "dim 5",
         "showlegend": false,
         "type": "scatter",
         "x": [
          2.743689506421095,
          1.5246961436061275
         ],
         "y": [
          98,
          98
         ]
        },
        {
         "hovertemplate": "<i>id</i>: 1<br><b>rep</b>: [497 515 506 507]",
         "line": {
          "color": "rgb(125, 156, 181)"
         },
         "mode": "lines",
         "name": "dim 5",
         "showlegend": false,
         "type": "scatter",
         "x": [
          2.827756641914416,
          1.4812104134137618
         ],
         "y": [
          99,
          99
         ]
        },
        {
         "hovertemplate": "<i>id</i>: 61<br><b>rep</b>: [511 495 496 515]",
         "line": {
          "color": "rgb(125, 156, 181)"
         },
         "mode": "lines",
         "name": "dim 5",
         "showlegend": false,
         "type": "scatter",
         "x": [
          2.8403435016216396,
          1.8846530499459726
         ],
         "y": [
          100,
          100
         ]
        }
       ],
       "layout": {
        "hovermode": "x unified",
        "legend": {
         "orientation": "h",
         "x": 1,
         "xanchor": "right",
         "y": 1.02,
         "yanchor": "bottom"
        },
        "template": {
         "data": {
          "scatter": [
           {
            "marker": {
             "symbol": "circle"
            },
            "type": "scatter"
           }
          ]
         },
         "layout": {
          "colorscale": {
           "sequential": [
            [
             0,
             "rgb(44, 26, 76)"
            ],
            [
             0.1,
             "rgb(40, 59, 110)"
            ],
            [
             0.2,
             "rgb(42, 94, 151)"
            ],
            [
             0.3,
             "rgb(68, 117, 193)"
            ],
            [
             0.4,
             "rgb(96, 137, 190)"
            ],
            [
             0.5,
             "rgb(125, 156, 181)"
            ],
            [
             0.6,
             "rgb(155, 175, 172)"
            ],
            [
             0.7,
             "rgb(186, 196, 163)"
            ],
            [
             0.8,
             "rgb(215, 217, 161)"
            ],
            [
             0.9,
             "rgb(237, 236, 206)"
            ],
            [
             1,
             "rgb(255, 255, 255)"
            ]
           ]
          },
          "colorway": [
           "rgb(44, 26, 76)",
           "rgb(40, 59, 110)",
           "rgb(42, 94, 151)",
           "rgb(68, 117, 193)",
           "rgb(96, 137, 190)",
           "rgb(125, 156, 181)",
           "rgb(155, 175, 172)",
           "rgb(186, 196, 163)",
           "rgb(215, 217, 161)",
           "rgb(237, 236, 206)",
           "rgb(255, 255, 255)"
          ],
          "font": {
           "color": "#3f4142",
           "family": "Avenir"
          },
          "paper_bgcolor": "#fff",
          "plot_bgcolor": "#fff",
          "violingap": 0.4,
          "xaxis": {
           "color": "#3f4142",
           "gridcolor": "#ebf0f2",
           "gridwidth": 0.5,
           "linewidth": 1
          },
          "yaxis": {
           "color": "#3f4142",
           "gridcolor": "#ebf0f2",
           "gridwidth": 0.5,
           "linewidth": 1
          }
         }
        },
        "title": {
         "text": "Barcode"
        },
        "xaxis": {
         "title": {
          "text": "Filtration index"
         }
        },
        "yaxis": {
         "title": {
          "text": "H_k"
         }
        }
       }
      },
      "text/html": [
       "<div>                            <div id=\"1ae145fe-04a0-4393-9da1-c4574c42c389\" class=\"plotly-graph-div\" style=\"height:525px; width:100%;\"></div>            <script type=\"text/javascript\">                require([\"plotly\"], function(Plotly) {                    window.PLOTLYENV=window.PLOTLYENV || {};                                    if (document.getElementById(\"1ae145fe-04a0-4393-9da1-c4574c42c389\")) {                    Plotly.newPlot(                        \"1ae145fe-04a0-4393-9da1-c4574c42c389\",                        [{\"hovertemplate\": \"<i>id</i>: 62<br><b>rep</b>: [20 75 81 48]\", \"line\": {\"color\": \"rgb(44, 26, 76)\"}, \"mode\": \"lines\", \"name\": \"dim 0\", \"showlegend\": true, \"type\": \"scatter\", \"x\": [7.034180303423812, 6.499859502784533], \"y\": [1, 1]}, {\"hovertemplate\": \"<i>id</i>: 93<br><b>rep</b>: [38 66 77 26]\", \"line\": {\"color\": \"rgb(44, 26, 76)\"}, \"mode\": \"lines\", \"name\": \"dim 0\", \"showlegend\": false, \"type\": \"scatter\", \"x\": [7.12475875268919, 6.305322438881594], \"y\": [2, 2]}, {\"hovertemplate\": \"<i>id</i>: 5<br><b>rep</b>: [31 45 55 20]\", \"line\": {\"color\": \"rgb(44, 26, 76)\"}, \"mode\": \"lines\", \"name\": \"dim 0\", \"showlegend\": false, \"type\": \"scatter\", \"x\": [7.142947425501082, 6.340212558843747], \"y\": [3, 3]}, {\"hovertemplate\": \"<i>id</i>: 72<br><b>rep</b>: [ 2 40 38 41]\", \"line\": {\"color\": \"rgb(44, 26, 76)\"}, \"mode\": \"lines\", \"name\": \"dim 0\", \"showlegend\": false, \"type\": \"scatter\", \"x\": [7.142947425501082, 6.341145301226739], \"y\": [4, 4]}, {\"hovertemplate\": \"<i>id</i>: 25<br><b>rep</b>: [85 76 96 22]\", \"line\": {\"color\": \"rgb(44, 26, 76)\"}, \"mode\": \"lines\", \"name\": \"dim 0\", \"showlegend\": false, \"type\": \"scatter\", \"x\": [7.2068915722085505, 6.122768777415719], \"y\": [5, 5]}, {\"hovertemplate\": \"<i>id</i>: 20<br><b>rep</b>: [27 49 34 50]\", \"line\": {\"color\": \"rgb(44, 26, 76)\"}, \"mode\": \"lines\", \"name\": \"dim 0\", \"showlegend\": false, \"type\": \"scatter\", \"x\": [7.232049682651223, 6.711037093153946], \"y\": [6, 6]}, {\"hovertemplate\": \"<i>id</i>: 86<br><b>rep</b>: [ 3 18 33 73]\", \"line\": {\"color\": \"rgb(44, 26, 76)\"}, \"mode\": \"lines\", \"name\": \"dim 0\", \"showlegend\": false, \"type\": \"scatter\", \"x\": [7.268845978880737, 6.765713037908542], \"y\": [7, 7]}, {\"hovertemplate\": \"<i>id</i>: 30<br><b>rep</b>: [80 55 75 35]\", \"line\": {\"color\": \"rgb(44, 26, 76)\"}, \"mode\": \"lines\", \"name\": \"dim 0\", \"showlegend\": false, \"type\": \"scatter\", \"x\": [7.339656767141991, 6.212122464632207], \"y\": [8, 8]}, {\"hovertemplate\": \"<i>id</i>: 17<br><b>rep</b>: [76 43 85  5]\", \"line\": {\"color\": \"rgb(44, 26, 76)\"}, \"mode\": \"lines\", \"name\": \"dim 0\", \"showlegend\": false, \"type\": \"scatter\", \"x\": [7.3548487104240055, 6.397459951106165], \"y\": [9, 9]}, {\"hovertemplate\": \"<i>id</i>: 41<br><b>rep</b>: [37 19 67 90]\", \"line\": {\"color\": \"rgb(44, 26, 76)\"}, \"mode\": \"lines\", \"name\": \"dim 0\", \"showlegend\": false, \"type\": \"scatter\", \"x\": [7.452158553019506, 6.561915760096871], \"y\": [10, 10]}, {\"hovertemplate\": \"<i>id</i>: 55<br><b>rep</b>: [ 7 28  6 68]\", \"line\": {\"color\": \"rgb(44, 26, 76)\"}, \"mode\": \"lines\", \"name\": \"dim 0\", \"showlegend\": false, \"type\": \"scatter\", \"x\": [7.452158553019506, 6.60816730384887], \"y\": [11, 11]}, {\"hovertemplate\": \"<i>id</i>: 48<br><b>rep</b>: [57 95 41 26]\", \"line\": {\"color\": \"rgb(44, 26, 76)\"}, \"mode\": \"lines\", \"name\": \"dim 0\", \"showlegend\": false, \"type\": \"scatter\", \"x\": [7.491760610718701, 6.375807734429834], \"y\": [12, 12]}, {\"hovertemplate\": \"<i>id</i>: 66<br><b>rep</b>: [66 24 65 47]\", \"line\": {\"color\": \"rgb(44, 26, 76)\"}, \"mode\": \"lines\", \"name\": \"dim 0\", \"showlegend\": false, \"type\": \"scatter\", \"x\": [7.491760610718701, 6.833996214510417], \"y\": [13, 13]}, {\"hovertemplate\": \"<i>id</i>: 31<br><b>rep</b>: [69 55 47 31]\", \"line\": {\"color\": \"rgb(44, 26, 76)\"}, \"mode\": \"lines\", \"name\": \"dim 0\", \"showlegend\": false, \"type\": \"scatter\", \"x\": [7.5172573189496745, 6.538480877993744], \"y\": [14, 14]}, {\"hovertemplate\": \"<i>id</i>: 7<br><b>rep</b>: [49 16 26 43]\", \"line\": {\"color\": \"rgb(44, 26, 76)\"}, \"mode\": \"lines\", \"name\": \"dim 0\", \"showlegend\": false, \"type\": \"scatter\", \"x\": [7.552857177746884, 6.212122464632207], \"y\": [15, 15]}, {\"hovertemplate\": \"<i>id</i>: 95<br><b>rep</b>: [22 71 62 97]\", \"line\": {\"color\": \"rgb(44, 26, 76)\"}, \"mode\": \"lines\", \"name\": \"dim 0\", \"showlegend\": false, \"type\": \"scatter\", \"x\": [7.563940776042391, 6.793424053564918], \"y\": [16, 16]}, {\"hovertemplate\": \"<i>id</i>: 16<br><b>rep</b>: [41 98 93 29]\", \"line\": {\"color\": \"rgb(44, 26, 76)\"}, \"mode\": \"lines\", \"name\": \"dim 0\", \"showlegend\": false, \"type\": \"scatter\", \"x\": [7.65042938942568, 6.978426075434247], \"y\": [17, 17]}, {\"hovertemplate\": \"<i>id</i>: 18<br><b>rep</b>: [75 76 18 91]\", \"line\": {\"color\": \"rgb(44, 26, 76)\"}, \"mode\": \"lines\", \"name\": \"dim 0\", \"showlegend\": false, \"type\": \"scatter\", \"x\": [7.664491818276322, 6.68789442885015], \"y\": [18, 18]}, {\"hovertemplate\": \"<i>id</i>: 42<br><b>rep</b>: [21 12 59  8]\", \"line\": {\"color\": \"rgb(44, 26, 76)\"}, \"mode\": \"lines\", \"name\": \"dim 0\", \"showlegend\": false, \"type\": \"scatter\", \"x\": [7.664491818276322, 6.063272630833543], \"y\": [19, 19]}, {\"hovertemplate\": \"<i>id</i>: 28<br><b>rep</b>: [57 25 48 20]\", \"line\": {\"color\": \"rgb(44, 26, 76)\"}, \"mode\": \"lines\", \"name\": \"dim 0\", \"showlegend\": false, \"type\": \"scatter\", \"x\": [7.688116371641864, 6.793424053564918], \"y\": [20, 20]}, {\"hovertemplate\": \"<i>id</i>: 9<br><b>rep</b>: [75 14  5 72]\", \"line\": {\"color\": \"rgb(44, 26, 76)\"}, \"mode\": \"lines\", \"name\": \"dim 0\", \"showlegend\": false, \"type\": \"scatter\", \"x\": [7.892761680473939, 6.4036924008129255], \"y\": [21, 21]}, {\"hovertemplate\": \"<i>id</i>: 87<br><b>rep</b>: [116 188 204 165]\", \"line\": {\"color\": \"rgb(40, 59, 110)\"}, \"mode\": \"lines\", \"name\": \"dim 1\", \"showlegend\": true, \"type\": \"scatter\", \"x\": [6.021915147314423, 5.654442857309675], \"y\": [22, 22]}, {\"hovertemplate\": \"<i>id</i>: 47<br><b>rep</b>: [111 160 185 100]\", \"line\": {\"color\": \"rgb(40, 59, 110)\"}, \"mode\": \"lines\", \"name\": \"dim 1\", \"showlegend\": false, \"type\": \"scatter\", \"x\": [6.050064896869508, 5.154758984454143], \"y\": [23, 23]}, {\"hovertemplate\": \"<i>id</i>: 77<br><b>rep</b>: [182 115 217 108]\", \"line\": {\"color\": \"rgb(40, 59, 110)\"}, \"mode\": \"lines\", \"name\": \"dim 1\", \"showlegend\": false, \"type\": \"scatter\", \"x\": [6.077070392890487, 5.768748300749071], \"y\": [24, 24]}, {\"hovertemplate\": \"<i>id</i>: 39<br><b>rep</b>: [160 228 183 139]\", \"line\": {\"color\": \"rgb(40, 59, 110)\"}, \"mode\": \"lines\", \"name\": \"dim 1\", \"showlegend\": false, \"type\": \"scatter\", \"x\": [6.243169299158298, 5.146248478112594], \"y\": [25, 25]}, {\"hovertemplate\": \"<i>id</i>: 91<br><b>rep</b>: [190 209 139 212]\", \"line\": {\"color\": \"rgb(40, 59, 110)\"}, \"mode\": \"lines\", \"name\": \"dim 1\", \"showlegend\": false, \"type\": \"scatter\", \"x\": [6.3450620167655085, 5.337682670469381], \"y\": [26, 26]}, {\"hovertemplate\": \"<i>id</i>: 70<br><b>rep</b>: [179 210 107 123]\", \"line\": {\"color\": \"rgb(40, 59, 110)\"}, \"mode\": \"lines\", \"name\": \"dim 1\", \"showlegend\": false, \"type\": \"scatter\", \"x\": [6.348037236518117, 5.5454666128627075], \"y\": [27, 27]}, {\"hovertemplate\": \"<i>id</i>: 43<br><b>rep</b>: [172 203 143 137]\", \"line\": {\"color\": \"rgb(40, 59, 110)\"}, \"mode\": \"lines\", \"name\": \"dim 1\", \"showlegend\": false, \"type\": \"scatter\", \"x\": [6.387457048226617, 5.865907903133397], \"y\": [28, 28]}, {\"hovertemplate\": \"<i>id</i>: 14<br><b>rep</b>: [185 164 220 141]\", \"line\": {\"color\": \"rgb(40, 59, 110)\"}, \"mode\": \"lines\", \"name\": \"dim 1\", \"showlegend\": false, \"type\": \"scatter\", \"x\": [6.394055754303082, 5.865907903133397], \"y\": [29, 29]}, {\"hovertemplate\": \"<i>id</i>: 64<br><b>rep</b>: [205 101 149 182]\", \"line\": {\"color\": \"rgb(40, 59, 110)\"}, \"mode\": \"lines\", \"name\": \"dim 1\", \"showlegend\": false, \"type\": \"scatter\", \"x\": [6.4213674350465935, 5.946264348173306], \"y\": [30, 30]}, {\"hovertemplate\": \"<i>id</i>: 13<br><b>rep</b>: [215 114 158 156]\", \"line\": {\"color\": \"rgb(40, 59, 110)\"}, \"mode\": \"lines\", \"name\": \"dim 1\", \"showlegend\": false, \"type\": \"scatter\", \"x\": [6.48660220136189, 5.6320973755353885], \"y\": [31, 31]}, {\"hovertemplate\": \"<i>id</i>: 10<br><b>rep</b>: [208 214 141 133]\", \"line\": {\"color\": \"rgb(40, 59, 110)\"}, \"mode\": \"lines\", \"name\": \"dim 1\", \"showlegend\": false, \"type\": \"scatter\", \"x\": [6.599293764594221, 5.125157740115405], \"y\": [32, 32]}, {\"hovertemplate\": \"<i>id</i>: 71<br><b>rep</b>: [213 227 194 112]\", \"line\": {\"color\": \"rgb(40, 59, 110)\"}, \"mode\": \"lines\", \"name\": \"dim 1\", \"showlegend\": false, \"type\": \"scatter\", \"x\": [6.635823737942863, 5.5288405556922315], \"y\": [33, 33]}, {\"hovertemplate\": \"<i>id</i>: 0<br><b>rep</b>: [178 192 187 249]\", \"line\": {\"color\": \"rgb(40, 59, 110)\"}, \"mode\": \"lines\", \"name\": \"dim 1\", \"showlegend\": false, \"type\": \"scatter\", \"x\": [6.792394457124896, 5.857689902186825], \"y\": [34, 34]}, {\"hovertemplate\": \"<i>id</i>: 51<br><b>rep</b>: [116 197 112 144]\", \"line\": {\"color\": \"rgb(40, 59, 110)\"}, \"mode\": \"lines\", \"name\": \"dim 1\", \"showlegend\": false, \"type\": \"scatter\", \"x\": [6.833996214510417, 5.2892046437860785], \"y\": [35, 35]}, {\"hovertemplate\": \"<i>id</i>: 81<br><b>rep</b>: [162 179 115 242]\", \"line\": {\"color\": \"rgb(40, 59, 110)\"}, \"mode\": \"lines\", \"name\": \"dim 1\", \"showlegend\": false, \"type\": \"scatter\", \"x\": [6.9805297047232635, 5.726679057486605], \"y\": [36, 36]}, {\"hovertemplate\": \"<i>id</i>: 26<br><b>rep</b>: [342 314 289 308]\", \"line\": {\"color\": \"rgb(42, 94, 151)\"}, \"mode\": \"lines\", \"name\": \"dim 2\", \"showlegend\": true, \"type\": \"scatter\", \"x\": [5.001338866910404, 4.346922184894447], \"y\": [37, 37]}, {\"hovertemplate\": \"<i>id</i>: 88<br><b>rep</b>: [342 286 299 352]\", \"line\": {\"color\": \"rgb(42, 94, 151)\"}, \"mode\": \"lines\", \"name\": \"dim 2\", \"showlegend\": false, \"type\": \"scatter\", \"x\": [5.030578398742029, 4.035510309966354], \"y\": [38, 38]}, {\"hovertemplate\": \"<i>id</i>: 68<br><b>rep</b>: [319 303 308 273]\", \"line\": {\"color\": \"rgb(42, 94, 151)\"}, \"mode\": \"lines\", \"name\": \"dim 2\", \"showlegend\": false, \"type\": \"scatter\", \"x\": [5.0748951925968555, 4.269318640448317], \"y\": [39, 39]}, {\"hovertemplate\": \"<i>id</i>: 60<br><b>rep</b>: [343 320 306 300]\", \"line\": {\"color\": \"rgb(42, 94, 151)\"}, \"mode\": \"lines\", \"name\": \"dim 2\", \"showlegend\": false, \"type\": \"scatter\", \"x\": [5.091947698443027, 4.227532855094781], \"y\": [40, 40]}, {\"hovertemplate\": \"<i>id</i>: 69<br><b>rep</b>: [254 271 260 282]\", \"line\": {\"color\": \"rgb(42, 94, 151)\"}, \"mode\": \"lines\", \"name\": \"dim 2\", \"showlegend\": false, \"type\": \"scatter\", \"x\": [5.115663163272108, 4.0436389594894715], \"y\": [41, 41]}, {\"hovertemplate\": \"<i>id</i>: 12<br><b>rep</b>: [297 321 270 279]\", \"line\": {\"color\": \"rgb(42, 94, 151)\"}, \"mode\": \"lines\", \"name\": \"dim 2\", \"showlegend\": false, \"type\": \"scatter\", \"x\": [5.154758984454143, 4.422203525515922], \"y\": [42, 42]}, {\"hovertemplate\": \"<i>id</i>: 65<br><b>rep</b>: [260 327 267 358]\", \"line\": {\"color\": \"rgb(42, 94, 151)\"}, \"mode\": \"lines\", \"name\": \"dim 2\", \"showlegend\": false, \"type\": \"scatter\", \"x\": [5.223856387995003, 4.833390493408562], \"y\": [43, 43]}, {\"hovertemplate\": \"<i>id</i>: 50<br><b>rep</b>: [356 353 336 352]\", \"line\": {\"color\": \"rgb(42, 94, 151)\"}, \"mode\": \"lines\", \"name\": \"dim 2\", \"showlegend\": false, \"type\": \"scatter\", \"x\": [5.3348974105338085, 4.194486570994999], \"y\": [44, 44]}, {\"hovertemplate\": \"<i>id</i>: 53<br><b>rep</b>: [257 260 345 250]\", \"line\": {\"color\": \"rgb(42, 94, 151)\"}, \"mode\": \"lines\", \"name\": \"dim 2\", \"showlegend\": false, \"type\": \"scatter\", \"x\": [5.337682670469381, 4.490420108848657], \"y\": [45, 45]}, {\"hovertemplate\": \"<i>id</i>: 79<br><b>rep</b>: [287 253 324 251]\", \"line\": {\"color\": \"rgb(42, 94, 151)\"}, \"mode\": \"lines\", \"name\": \"dim 2\", \"showlegend\": false, \"type\": \"scatter\", \"x\": [5.337682670469381, 4.365574259737421], \"y\": [46, 46]}, {\"hovertemplate\": \"<i>id</i>: 80<br><b>rep</b>: [345 250 282 325]\", \"line\": {\"color\": \"rgb(42, 94, 151)\"}, \"mode\": \"lines\", \"name\": \"dim 2\", \"showlegend\": false, \"type\": \"scatter\", \"x\": [5.474854615831578, 4.110388031997928], \"y\": [47, 47]}, {\"hovertemplate\": \"<i>id</i>: 27<br><b>rep</b>: [333 250 351 344]\", \"line\": {\"color\": \"rgb(42, 94, 151)\"}, \"mode\": \"lines\", \"name\": \"dim 2\", \"showlegend\": false, \"type\": \"scatter\", \"x\": [5.619296621739944, 4.468511143644], \"y\": [48, 48]}, {\"hovertemplate\": \"<i>id</i>: 11<br><b>rep</b>: [255 358 269 338]\", \"line\": {\"color\": \"rgb(42, 94, 151)\"}, \"mode\": \"lines\", \"name\": \"dim 2\", \"showlegend\": false, \"type\": \"scatter\", \"x\": [5.622770807068898, 4.116510326556592], \"y\": [49, 49]}, {\"hovertemplate\": \"<i>id</i>: 84<br><b>rep</b>: [287 352 269 252]\", \"line\": {\"color\": \"rgb(42, 94, 151)\"}, \"mode\": \"lines\", \"name\": \"dim 2\", \"showlegend\": false, \"type\": \"scatter\", \"x\": [5.622770807068898, 4.083048647709932], \"y\": [50, 50]}, {\"hovertemplate\": \"<i>id</i>: 2<br><b>rep</b>: [341 313 257 324]\", \"line\": {\"color\": \"rgb(42, 94, 151)\"}, \"mode\": \"lines\", \"name\": \"dim 2\", \"showlegend\": false, \"type\": \"scatter\", \"x\": [5.653709726888387, 4.756080827157376], \"y\": [51, 51]}, {\"hovertemplate\": \"<i>id</i>: 3<br><b>rep</b>: [280 272 304 292]\", \"line\": {\"color\": \"rgb(42, 94, 151)\"}, \"mode\": \"lines\", \"name\": \"dim 2\", \"showlegend\": false, \"type\": \"scatter\", \"x\": [5.734144367814124, 4.314788907818891], \"y\": [52, 52]}, {\"hovertemplate\": \"<i>id</i>: 78<br><b>rep</b>: [339 305 321 319]\", \"line\": {\"color\": \"rgb(42, 94, 151)\"}, \"mode\": \"lines\", \"name\": \"dim 2\", \"showlegend\": false, \"type\": \"scatter\", \"x\": [5.905879976676882, 4.009981282140786], \"y\": [53, 53]}, {\"hovertemplate\": \"<i>id</i>: 59<br><b>rep</b>: [312 311 306 267]\", \"line\": {\"color\": \"rgb(42, 94, 151)\"}, \"mode\": \"lines\", \"name\": \"dim 2\", \"showlegend\": false, \"type\": \"scatter\", \"x\": [5.966429727891737, 4.907954641709949], \"y\": [54, 54]}, {\"hovertemplate\": \"<i>id</i>: 73<br><b>rep</b>: [362 390 415 429]\", \"line\": {\"color\": \"rgb(68, 117, 193)\"}, \"mode\": \"lines\", \"name\": \"dim 3\", \"showlegend\": true, \"type\": \"scatter\", \"x\": [4.039907298080224, 3.198098018053035], \"y\": [55, 55]}, {\"hovertemplate\": \"<i>id</i>: 35<br><b>rep</b>: [413 425 416 391]\", \"line\": {\"color\": \"rgb(68, 117, 193)\"}, \"mode\": \"lines\", \"name\": \"dim 3\", \"showlegend\": false, \"type\": \"scatter\", \"x\": [4.083048647709932, 3.501597333779646], \"y\": [56, 56]}, {\"hovertemplate\": \"<i>id</i>: 94<br><b>rep</b>: [386 432 389 428]\", \"line\": {\"color\": \"rgb(68, 117, 193)\"}, \"mode\": \"lines\", \"name\": \"dim 3\", \"showlegend\": false, \"type\": \"scatter\", \"x\": [4.116510326556592, 3.0976401256644057], \"y\": [57, 57]}, {\"hovertemplate\": \"<i>id</i>: 6<br><b>rep</b>: [417 434 382 398]\", \"line\": {\"color\": \"rgb(68, 117, 193)\"}, \"mode\": \"lines\", \"name\": \"dim 3\", \"showlegend\": false, \"type\": \"scatter\", \"x\": [4.209228675058555, 3.737658377456473], \"y\": [58, 58]}, {\"hovertemplate\": \"<i>id</i>: 57<br><b>rep</b>: [446 365 428 448]\", \"line\": {\"color\": \"rgb(68, 117, 193)\"}, \"mode\": \"lines\", \"name\": \"dim 3\", \"showlegend\": false, \"type\": \"scatter\", \"x\": [4.2400872736279664, 3.8520727487903974], \"y\": [59, 59]}, {\"hovertemplate\": \"<i>id</i>: 44<br><b>rep</b>: [362 372 420 371]\", \"line\": {\"color\": \"rgb(68, 117, 193)\"}, \"mode\": \"lines\", \"name\": \"dim 3\", \"showlegend\": false, \"type\": \"scatter\", \"x\": [4.346922184894447, 3.9394684435238725], \"y\": [60, 60]}, {\"hovertemplate\": \"<i>id</i>: 34<br><b>rep</b>: [415 423 389 410]\", \"line\": {\"color\": \"rgb(68, 117, 193)\"}, \"mode\": \"lines\", \"name\": \"dim 3\", \"showlegend\": false, \"type\": \"scatter\", \"x\": [4.368905495906725, 3.766889708492334], \"y\": [61, 61]}, {\"hovertemplate\": \"<i>id</i>: 99<br><b>rep</b>: [440 419 433 431]\", \"line\": {\"color\": \"rgb(68, 117, 193)\"}, \"mode\": \"lines\", \"name\": \"dim 3\", \"showlegend\": false, \"type\": \"scatter\", \"x\": [4.454442599639256, 3.4939308924386503], \"y\": [62, 62]}, {\"hovertemplate\": \"<i>id</i>: 40<br><b>rep</b>: [426 434 376 382]\", \"line\": {\"color\": \"rgb(68, 117, 193)\"}, \"mode\": \"lines\", \"name\": \"dim 3\", \"showlegend\": false, \"type\": \"scatter\", \"x\": [4.70692225734648, 3.973422167750025], \"y\": [63, 63]}, {\"hovertemplate\": \"<i>id</i>: 75<br><b>rep</b>: [441 369 360 397]\", \"line\": {\"color\": \"rgb(68, 117, 193)\"}, \"mode\": \"lines\", \"name\": \"dim 3\", \"showlegend\": false, \"type\": \"scatter\", \"x\": [4.741850675683413, 3.7503320209086497], \"y\": [64, 64]}, {\"hovertemplate\": \"<i>id</i>: 32<br><b>rep</b>: [423 379 395 408]\", \"line\": {\"color\": \"rgb(68, 117, 193)\"}, \"mode\": \"lines\", \"name\": \"dim 3\", \"showlegend\": false, \"type\": \"scatter\", \"x\": [4.833390493408562, 3.716628861736811], \"y\": [65, 65]}, {\"hovertemplate\": \"<i>id</i>: 23<br><b>rep</b>: [430 399 360 392]\", \"line\": {\"color\": \"rgb(68, 117, 193)\"}, \"mode\": \"lines\", \"name\": \"dim 3\", \"showlegend\": false, \"type\": \"scatter\", \"x\": [4.992752284155715, 3.645928243066991], \"y\": [66, 66]}, {\"hovertemplate\": \"<i>id</i>: 38<br><b>rep</b>: [459 473 460 480]\", \"line\": {\"color\": \"rgb(96, 137, 190)\"}, \"mode\": \"lines\", \"name\": \"dim 4\", \"showlegend\": true, \"type\": \"scatter\", \"x\": [3.03529866720742, 2.938259403832843], \"y\": [67, 67]}, {\"hovertemplate\": \"<i>id</i>: 19<br><b>rep</b>: [472 450 452 462]\", \"line\": {\"color\": \"rgb(96, 137, 190)\"}, \"mode\": \"lines\", \"name\": \"dim 4\", \"showlegend\": false, \"type\": \"scatter\", \"x\": [3.0976401256644057, 2.552644817424506], \"y\": [68, 68]}, {\"hovertemplate\": \"<i>id</i>: 76<br><b>rep</b>: [479 478 487 463]\", \"line\": {\"color\": \"rgb(96, 137, 190)\"}, \"mode\": \"lines\", \"name\": \"dim 4\", \"showlegend\": false, \"type\": \"scatter\", \"x\": [3.107528745869529, 2.6161684936364793], \"y\": [69, 69]}, {\"hovertemplate\": \"<i>id</i>: 96<br><b>rep</b>: [470 455 485 451]\", \"line\": {\"color\": \"rgb(96, 137, 190)\"}, \"mode\": \"lines\", \"name\": \"dim 4\", \"showlegend\": false, \"type\": \"scatter\", \"x\": [3.175454055539553, 2.50461166127586], \"y\": [70, 70]}, {\"hovertemplate\": \"<i>id</i>: 29<br><b>rep</b>: [457 461 482 465]\", \"line\": {\"color\": \"rgb(96, 137, 190)\"}, \"mode\": \"lines\", \"name\": \"dim 4\", \"showlegend\": false, \"type\": \"scatter\", \"x\": [3.375748938101691, 2.4816855379870795], \"y\": [71, 71]}, {\"hovertemplate\": \"<i>id</i>: 83<br><b>rep</b>: [488 484 462 473]\", \"line\": {\"color\": \"rgb(96, 137, 190)\"}, \"mode\": \"lines\", \"name\": \"dim 4\", \"showlegend\": false, \"type\": \"scatter\", \"x\": [3.375748938101691, 2.5344511725733585], \"y\": [72, 72]}, {\"hovertemplate\": \"<i>id</i>: 98<br><b>rep</b>: [465 452 471 477]\", \"line\": {\"color\": \"rgb(96, 137, 190)\"}, \"mode\": \"lines\", \"name\": \"dim 4\", \"showlegend\": false, \"type\": \"scatter\", \"x\": [3.375748938101691, 2.524166589921519], \"y\": [73, 73]}, {\"hovertemplate\": \"<i>id</i>: 21<br><b>rep</b>: [473 454 451 456]\", \"line\": {\"color\": \"rgb(96, 137, 190)\"}, \"mode\": \"lines\", \"name\": \"dim 4\", \"showlegend\": false, \"type\": \"scatter\", \"x\": [3.4939308924386503, 2.524166589921519], \"y\": [74, 74]}, {\"hovertemplate\": \"<i>id</i>: 58<br><b>rep</b>: [465 471 469 457]\", \"line\": {\"color\": \"rgb(96, 137, 190)\"}, \"mode\": \"lines\", \"name\": \"dim 4\", \"showlegend\": false, \"type\": \"scatter\", \"x\": [3.501597333779646, 2.1660623888877257], \"y\": [75, 75]}, {\"hovertemplate\": \"<i>id</i>: 49<br><b>rep</b>: [472 481 479 487]\", \"line\": {\"color\": \"rgb(96, 137, 190)\"}, \"mode\": \"lines\", \"name\": \"dim 4\", \"showlegend\": false, \"type\": \"scatter\", \"x\": [3.538771733011007, 2.50461166127586], \"y\": [76, 76]}, {\"hovertemplate\": \"<i>id</i>: 82<br><b>rep</b>: [474 465 486 455]\", \"line\": {\"color\": \"rgb(96, 137, 190)\"}, \"mode\": \"lines\", \"name\": \"dim 4\", \"showlegend\": false, \"type\": \"scatter\", \"x\": [3.538771733011007, 2.1680018715512364], \"y\": [77, 77]}, {\"hovertemplate\": \"<i>id</i>: 36<br><b>rep</b>: [489 461 480 456]\", \"line\": {\"color\": \"rgb(96, 137, 190)\"}, \"mode\": \"lines\", \"name\": \"dim 4\", \"showlegend\": false, \"type\": \"scatter\", \"x\": [3.641365944592879, 2.5344511725733585], \"y\": [78, 78]}, {\"hovertemplate\": \"<i>id</i>: 67<br><b>rep</b>: [476 483 464 456]\", \"line\": {\"color\": \"rgb(96, 137, 190)\"}, \"mode\": \"lines\", \"name\": \"dim 4\", \"showlegend\": false, \"type\": \"scatter\", \"x\": [3.641365944592879, 2.718385968715889], \"y\": [79, 79]}, {\"hovertemplate\": \"<i>id</i>: 85<br><b>rep</b>: [480 484 457 489]\", \"line\": {\"color\": \"rgb(96, 137, 190)\"}, \"mode\": \"lines\", \"name\": \"dim 4\", \"showlegend\": false, \"type\": \"scatter\", \"x\": [3.645928243066991, 2.5347639759042027], \"y\": [80, 80]}, {\"hovertemplate\": \"<i>id</i>: 15<br><b>rep</b>: [479 486 472 465]\", \"line\": {\"color\": \"rgb(96, 137, 190)\"}, \"mode\": \"lines\", \"name\": \"dim 4\", \"showlegend\": false, \"type\": \"scatter\", \"x\": [3.737658377456473, 2.743689506421095], \"y\": [81, 81]}, {\"hovertemplate\": \"<i>id</i>: 52<br><b>rep</b>: [481 469 476 486]\", \"line\": {\"color\": \"rgb(96, 137, 190)\"}, \"mode\": \"lines\", \"name\": \"dim 4\", \"showlegend\": false, \"type\": \"scatter\", \"x\": [3.7503320209086497, 2.595695654830487], \"y\": [82, 82]}, {\"hovertemplate\": \"<i>id</i>: 22<br><b>rep</b>: [480 450 460 466]\", \"line\": {\"color\": \"rgb(96, 137, 190)\"}, \"mode\": \"lines\", \"name\": \"dim 4\", \"showlegend\": false, \"type\": \"scatter\", \"x\": [3.766889708492334, 2.827756641914416], \"y\": [83, 83]}, {\"hovertemplate\": \"<i>id</i>: 37<br><b>rep</b>: [480 478 472 464]\", \"line\": {\"color\": \"rgb(96, 137, 190)\"}, \"mode\": \"lines\", \"name\": \"dim 4\", \"showlegend\": false, \"type\": \"scatter\", \"x\": [3.8520727487903974, 2.517469140750224], \"y\": [84, 84]}, {\"hovertemplate\": \"<i>id</i>: 74<br><b>rep</b>: [466 453 461 484]\", \"line\": {\"color\": \"rgb(96, 137, 190)\"}, \"mode\": \"lines\", \"name\": \"dim 4\", \"showlegend\": false, \"type\": \"scatter\", \"x\": [3.8605387939113873, 2.392966001719074], \"y\": [85, 85]}, {\"hovertemplate\": \"<i>id</i>: 89<br><b>rep</b>: [478 481 453 466]\", \"line\": {\"color\": \"rgb(96, 137, 190)\"}, \"mode\": \"lines\", \"name\": \"dim 4\", \"showlegend\": false, \"type\": \"scatter\", \"x\": [3.973422167750025, 2.684609830139574], \"y\": [86, 86]}, {\"hovertemplate\": \"<i>id</i>: 4<br><b>rep</b>: [519 516 497 493]\", \"line\": {\"color\": \"rgb(125, 156, 181)\"}, \"mode\": \"lines\", \"name\": \"dim 5\", \"showlegend\": true, \"type\": \"scatter\", \"x\": [2.006780573013361, 1.392421669384479], \"y\": [87, 87]}, {\"hovertemplate\": \"<i>id</i>: 92<br><b>rep</b>: [514 495 505 493]\", \"line\": {\"color\": \"rgb(125, 156, 181)\"}, \"mode\": \"lines\", \"name\": \"dim 5\", \"showlegend\": false, \"type\": \"scatter\", \"x\": [2.0190087791867506, 1.445962644041875], \"y\": [88, 88]}, {\"hovertemplate\": \"<i>id</i>: 54<br><b>rep</b>: [499 490 504 512]\", \"line\": {\"color\": \"rgb(125, 156, 181)\"}, \"mode\": \"lines\", \"name\": \"dim 5\", \"showlegend\": false, \"type\": \"scatter\", \"x\": [2.1680018715512364, 1.4706637071164463], \"y\": [89, 89]}, {\"hovertemplate\": \"<i>id</i>: 8<br><b>rep</b>: [491 517 504 495]\", \"line\": {\"color\": \"rgb(125, 156, 181)\"}, \"mode\": \"lines\", \"name\": \"dim 5\", \"showlegend\": false, \"type\": \"scatter\", \"x\": [2.2487941368712243, 1.5793294885920435], \"y\": [90, 90]}, {\"hovertemplate\": \"<i>id</i>: 56<br><b>rep</b>: [504 502 517 516]\", \"line\": {\"color\": \"rgb(125, 156, 181)\"}, \"mode\": \"lines\", \"name\": \"dim 5\", \"showlegend\": false, \"type\": \"scatter\", \"x\": [2.359007883912835, 1.392421669384479], \"y\": [91, 91]}, {\"hovertemplate\": \"<i>id</i>: 97<br><b>rep</b>: [508 491 511 497]\", \"line\": {\"color\": \"rgb(125, 156, 181)\"}, \"mode\": \"lines\", \"name\": \"dim 5\", \"showlegend\": false, \"type\": \"scatter\", \"x\": [2.517469140750224, 1.5246961436061275], \"y\": [92, 92]}, {\"hovertemplate\": \"<i>id</i>: 33<br><b>rep</b>: [500 507 519 493]\", \"line\": {\"color\": \"rgb(125, 156, 181)\"}, \"mode\": \"lines\", \"name\": \"dim 5\", \"showlegend\": false, \"type\": \"scatter\", \"x\": [2.524166589921519, 1.445962644041875], \"y\": [93, 93]}, {\"hovertemplate\": \"<i>id</i>: 24<br><b>rep</b>: [497 507 501 509]\", \"line\": {\"color\": \"rgb(125, 156, 181)\"}, \"mode\": \"lines\", \"name\": \"dim 5\", \"showlegend\": false, \"type\": \"scatter\", \"x\": [2.595695654830487, 1.8684402341839674], \"y\": [94, 94]}, {\"hovertemplate\": \"<i>id</i>: 45<br><b>rep</b>: [490 491 497 493]\", \"line\": {\"color\": \"rgb(125, 156, 181)\"}, \"mode\": \"lines\", \"name\": \"dim 5\", \"showlegend\": false, \"type\": \"scatter\", \"x\": [2.595695654830487, 1.178520371452846], \"y\": [95, 95]}, {\"hovertemplate\": \"<i>id</i>: 90<br><b>rep</b>: [494 508 503 500]\", \"line\": {\"color\": \"rgb(125, 156, 181)\"}, \"mode\": \"lines\", \"name\": \"dim 5\", \"showlegend\": false, \"type\": \"scatter\", \"x\": [2.595695654830487, 1.8041755751985615], \"y\": [96, 96]}, {\"hovertemplate\": \"<i>id</i>: 63<br><b>rep</b>: [507 498 515 500]\", \"line\": {\"color\": \"rgb(125, 156, 181)\"}, \"mode\": \"lines\", \"name\": \"dim 5\", \"showlegend\": false, \"type\": \"scatter\", \"x\": [2.6524124094640595, 1.7597826291035856], \"y\": [97, 97]}, {\"hovertemplate\": \"<i>id</i>: 46<br><b>rep</b>: [501 516 518 517]\", \"line\": {\"color\": \"rgb(125, 156, 181)\"}, \"mode\": \"lines\", \"name\": \"dim 5\", \"showlegend\": false, \"type\": \"scatter\", \"x\": [2.743689506421095, 1.5246961436061275], \"y\": [98, 98]}, {\"hovertemplate\": \"<i>id</i>: 1<br><b>rep</b>: [497 515 506 507]\", \"line\": {\"color\": \"rgb(125, 156, 181)\"}, \"mode\": \"lines\", \"name\": \"dim 5\", \"showlegend\": false, \"type\": \"scatter\", \"x\": [2.827756641914416, 1.4812104134137618], \"y\": [99, 99]}, {\"hovertemplate\": \"<i>id</i>: 61<br><b>rep</b>: [511 495 496 515]\", \"line\": {\"color\": \"rgb(125, 156, 181)\"}, \"mode\": \"lines\", \"name\": \"dim 5\", \"showlegend\": false, \"type\": \"scatter\", \"x\": [2.8403435016216396, 1.8846530499459726], \"y\": [100, 100]}],                        {\"hovermode\": \"x unified\", \"legend\": {\"orientation\": \"h\", \"x\": 1, \"xanchor\": \"right\", \"y\": 1.02, \"yanchor\": \"bottom\"}, \"template\": {\"data\": {\"scatter\": [{\"marker\": {\"symbol\": \"circle\"}, \"type\": \"scatter\"}]}, \"layout\": {\"colorscale\": {\"sequential\": [[0.0, \"rgb(44, 26, 76)\"], [0.1, \"rgb(40, 59, 110)\"], [0.2, \"rgb(42, 94, 151)\"], [0.3, \"rgb(68, 117, 193)\"], [0.4, \"rgb(96, 137, 190)\"], [0.5, \"rgb(125, 156, 181)\"], [0.6, \"rgb(155, 175, 172)\"], [0.7, \"rgb(186, 196, 163)\"], [0.8, \"rgb(215, 217, 161)\"], [0.9, \"rgb(237, 236, 206)\"], [1.0, \"rgb(255, 255, 255)\"]]}, \"colorway\": [\"rgb(44, 26, 76)\", \"rgb(40, 59, 110)\", \"rgb(42, 94, 151)\", \"rgb(68, 117, 193)\", \"rgb(96, 137, 190)\", \"rgb(125, 156, 181)\", \"rgb(155, 175, 172)\", \"rgb(186, 196, 163)\", \"rgb(215, 217, 161)\", \"rgb(237, 236, 206)\", \"rgb(255, 255, 255)\"], \"font\": {\"color\": \"#3f4142\", \"family\": \"Avenir\"}, \"paper_bgcolor\": \"#fff\", \"plot_bgcolor\": \"#fff\", \"violingap\": 0.4, \"xaxis\": {\"color\": \"#3f4142\", \"gridcolor\": \"#ebf0f2\", \"gridwidth\": 0.5, \"linewidth\": 1}, \"yaxis\": {\"color\": \"#3f4142\", \"gridcolor\": \"#ebf0f2\", \"gridwidth\": 0.5, \"linewidth\": 1}}}, \"title\": {\"text\": \"Barcode\"}, \"xaxis\": {\"title\": {\"text\": \"Filtration index\"}}, \"yaxis\": {\"title\": {\"text\": \"H_k\"}}},                        {\"responsive\": true}                    ).then(function(){\n",
       "                            \n",
       "var gd = document.getElementById('1ae145fe-04a0-4393-9da1-c4574c42c389');\n",
       "var x = new MutationObserver(function (mutations, observer) {{\n",
       "        var display = window.getComputedStyle(gd).display;\n",
       "        if (!display || display === 'none') {{\n",
       "            console.log([gd, 'removed!']);\n",
       "            Plotly.purge(gd);\n",
       "            observer.disconnect();\n",
       "        }}\n",
       "}});\n",
       "\n",
       "// Listen for the removal of the full notebook cells\n",
       "var notebookContainer = gd.closest('#notebook-container');\n",
       "if (notebookContainer) {{\n",
       "    x.observe(notebookContainer, {childList: true});\n",
       "}}\n",
       "\n",
       "// Listen for the clearing of the current output cell\n",
       "var outputEl = gd.closest('.output');\n",
       "if (outputEl) {{\n",
       "    x.observe(outputEl, {childList: true});\n",
       "}}\n",
       "\n",
       "                        })                };                });            </script>        </div>"
      ]
     },
     "metadata": {},
     "output_type": "display_data"
    }
   ],
   "source": [
    "fig = go.Figure()\n",
    "bar_df_sorted = bar_df.sort_values(by=[\"bar_dim\", \"bar_birth\"])\n",
    "bar_df_sorted = bar_df_sorted.reset_index(drop=True)\n",
    "\n",
    "for b,bar in bar_df_sorted.iterrows():\n",
    "    \n",
    "    if (bar_df_sorted.iloc[b-1][\"bar_dim\"] != bar[\"bar_dim\"]) :\n",
    "        showlegendtf = True\n",
    "    else :\n",
    "        showlegendtf = False\n",
    "        \n",
    "    fig.add_trace(go.Scatter(x=[bar[\"bar_birth\"], bar[\"bar_death\"]], y=[b+1, b+1],\n",
    "                    mode='lines',\n",
    "                    name=f'dim {bar[\"bar_dim\"]}',\n",
    "                    showlegend=showlegendtf,\n",
    "                    line=dict(color=aptviz_themes.davos_colors[int(bar[\"bar_dim\"])]),\n",
    "                    hovertemplate =\n",
    "                        f'<i>id</i>: {bar[\"bar_id\"]}'+\n",
    "                        f'<br><b>rep</b>: {bar[\"rep\"]}'))\n",
    "\n",
    "\n",
    "\n",
    "# Add nice effects and such\n",
    "fig.update_layout(title_text=\"Barcode\")\n",
    "fig.update_yaxes(title_text = \"H_k\")\n",
    "fig.update_xaxes(title_text = \"Filtration index\")\n",
    "fig.update_layout(legend=dict(\n",
    "    orientation=\"h\",\n",
    "    yanchor=\"bottom\",\n",
    "    y=1.02,\n",
    "    xanchor=\"right\",\n",
    "    x=1\n",
    "))\n",
    "fig.update_layout(hovermode=\"x unified\")\n",
    "fig.show()\n",
    "\n",
    "\n"
   ]
  },
  {
   "cell_type": "code",
   "execution_count": 8,
   "metadata": {},
   "outputs": [
    {
     "name": "stdout",
     "output_type": "stream",
     "text": [
      "1\n",
      "2\n"
     ]
    },
    {
     "data": {
      "application/vnd.plotly.v1+json": {
       "config": {
        "plotlyServerURL": "https://plot.ly"
       },
       "data": [
        {
         "hovertemplate": "<i>id</i>: 62<br><b>rep</b>: [20 75 81 48]",
         "line": {
          "color": "#CC7C33"
         },
         "mode": "lines",
         "name": "indicator 0",
         "opacity": 1,
         "showlegend": false,
         "type": "scatter",
         "x": [
          7.034180303423812,
          6.499859502784533
         ],
         "y": [
          1,
          1
         ]
        },
        {
         "hovertemplate": "<i>id</i>: 93<br><b>rep</b>: [38 66 77 26]",
         "line": {
          "color": "#3F4142"
         },
         "mode": "lines",
         "name": "indicator 1",
         "opacity": 0.2,
         "showlegend": true,
         "type": "scatter",
         "x": [
          7.12475875268919,
          6.305322438881594
         ],
         "y": [
          2,
          2
         ]
        },
        {
         "hovertemplate": "<i>id</i>: 5<br><b>rep</b>: [31 45 55 20]",
         "line": {
          "color": "#CC7C33"
         },
         "mode": "lines",
         "name": "indicator 0",
         "opacity": 1,
         "showlegend": true,
         "type": "scatter",
         "x": [
          7.142947425501082,
          6.340212558843747
         ],
         "y": [
          3,
          3
         ]
        },
        {
         "hovertemplate": "<i>id</i>: 72<br><b>rep</b>: [ 2 40 38 41]",
         "line": {
          "color": "#CC7C33"
         },
         "mode": "lines",
         "name": "indicator 0",
         "opacity": 1,
         "showlegend": false,
         "type": "scatter",
         "x": [
          7.142947425501082,
          6.341145301226739
         ],
         "y": [
          4,
          4
         ]
        },
        {
         "hovertemplate": "<i>id</i>: 25<br><b>rep</b>: [85 76 96 22]",
         "line": {
          "color": "#CC7C33"
         },
         "mode": "lines",
         "name": "indicator 0",
         "opacity": 1,
         "showlegend": false,
         "type": "scatter",
         "x": [
          7.2068915722085505,
          6.122768777415719
         ],
         "y": [
          5,
          5
         ]
        },
        {
         "hovertemplate": "<i>id</i>: 20<br><b>rep</b>: [27 49 34 50]",
         "line": {
          "color": "#CC7C33"
         },
         "mode": "lines",
         "name": "indicator 0",
         "opacity": 1,
         "showlegend": false,
         "type": "scatter",
         "x": [
          7.232049682651223,
          6.711037093153946
         ],
         "y": [
          6,
          6
         ]
        },
        {
         "hovertemplate": "<i>id</i>: 86<br><b>rep</b>: [ 3 18 33 73]",
         "line": {
          "color": "#3F4142"
         },
         "mode": "lines",
         "name": "indicator 1",
         "opacity": 0.2,
         "showlegend": false,
         "type": "scatter",
         "x": [
          7.268845978880737,
          6.765713037908542
         ],
         "y": [
          7,
          7
         ]
        },
        {
         "hovertemplate": "<i>id</i>: 30<br><b>rep</b>: [80 55 75 35]",
         "line": {
          "color": "#CC7C33"
         },
         "mode": "lines",
         "name": "indicator 0",
         "opacity": 1,
         "showlegend": false,
         "type": "scatter",
         "x": [
          7.339656767141991,
          6.212122464632207
         ],
         "y": [
          8,
          8
         ]
        },
        {
         "hovertemplate": "<i>id</i>: 17<br><b>rep</b>: [76 43 85  5]",
         "line": {
          "color": "#CC7C33"
         },
         "mode": "lines",
         "name": "indicator 0",
         "opacity": 1,
         "showlegend": false,
         "type": "scatter",
         "x": [
          7.3548487104240055,
          6.397459951106165
         ],
         "y": [
          9,
          9
         ]
        },
        {
         "hovertemplate": "<i>id</i>: 41<br><b>rep</b>: [37 19 67 90]",
         "line": {
          "color": "#3F4142"
         },
         "mode": "lines",
         "name": "indicator 1",
         "opacity": 0.2,
         "showlegend": false,
         "type": "scatter",
         "x": [
          7.452158553019506,
          6.561915760096871
         ],
         "y": [
          10,
          10
         ]
        },
        {
         "hovertemplate": "<i>id</i>: 55<br><b>rep</b>: [ 7 28  6 68]",
         "line": {
          "color": "#CC7C33"
         },
         "mode": "lines",
         "name": "indicator 0",
         "opacity": 1,
         "showlegend": false,
         "type": "scatter",
         "x": [
          7.452158553019506,
          6.60816730384887
         ],
         "y": [
          11,
          11
         ]
        },
        {
         "hovertemplate": "<i>id</i>: 48<br><b>rep</b>: [57 95 41 26]",
         "line": {
          "color": "#3F4142"
         },
         "mode": "lines",
         "name": "indicator 1",
         "opacity": 0.2,
         "showlegend": false,
         "type": "scatter",
         "x": [
          7.491760610718701,
          6.375807734429834
         ],
         "y": [
          12,
          12
         ]
        },
        {
         "hovertemplate": "<i>id</i>: 66<br><b>rep</b>: [66 24 65 47]",
         "line": {
          "color": "#3F4142"
         },
         "mode": "lines",
         "name": "indicator 1",
         "opacity": 0.2,
         "showlegend": false,
         "type": "scatter",
         "x": [
          7.491760610718701,
          6.833996214510417
         ],
         "y": [
          13,
          13
         ]
        },
        {
         "hovertemplate": "<i>id</i>: 31<br><b>rep</b>: [69 55 47 31]",
         "line": {
          "color": "#3F4142"
         },
         "mode": "lines",
         "name": "indicator 1",
         "opacity": 0.2,
         "showlegend": false,
         "type": "scatter",
         "x": [
          7.5172573189496745,
          6.538480877993744
         ],
         "y": [
          14,
          14
         ]
        },
        {
         "hovertemplate": "<i>id</i>: 7<br><b>rep</b>: [49 16 26 43]",
         "line": {
          "color": "#CC7C33"
         },
         "mode": "lines",
         "name": "indicator 0",
         "opacity": 1,
         "showlegend": false,
         "type": "scatter",
         "x": [
          7.552857177746884,
          6.212122464632207
         ],
         "y": [
          15,
          15
         ]
        },
        {
         "hovertemplate": "<i>id</i>: 95<br><b>rep</b>: [22 71 62 97]",
         "line": {
          "color": "#3F4142"
         },
         "mode": "lines",
         "name": "indicator 1",
         "opacity": 0.2,
         "showlegend": false,
         "type": "scatter",
         "x": [
          7.563940776042391,
          6.793424053564918
         ],
         "y": [
          16,
          16
         ]
        },
        {
         "hovertemplate": "<i>id</i>: 16<br><b>rep</b>: [41 98 93 29]",
         "line": {
          "color": "#3F4142"
         },
         "mode": "lines",
         "name": "indicator 1",
         "opacity": 0.2,
         "showlegend": false,
         "type": "scatter",
         "x": [
          7.65042938942568,
          6.978426075434247
         ],
         "y": [
          17,
          17
         ]
        },
        {
         "hovertemplate": "<i>id</i>: 18<br><b>rep</b>: [75 76 18 91]",
         "line": {
          "color": "#CC7C33"
         },
         "mode": "lines",
         "name": "indicator 0",
         "opacity": 1,
         "showlegend": false,
         "type": "scatter",
         "x": [
          7.664491818276322,
          6.68789442885015
         ],
         "y": [
          18,
          18
         ]
        },
        {
         "hovertemplate": "<i>id</i>: 42<br><b>rep</b>: [21 12 59  8]",
         "line": {
          "color": "#3F4142"
         },
         "mode": "lines",
         "name": "indicator 1",
         "opacity": 0.2,
         "showlegend": false,
         "type": "scatter",
         "x": [
          7.664491818276322,
          6.063272630833543
         ],
         "y": [
          19,
          19
         ]
        },
        {
         "hovertemplate": "<i>id</i>: 28<br><b>rep</b>: [57 25 48 20]",
         "line": {
          "color": "#CC7C33"
         },
         "mode": "lines",
         "name": "indicator 0",
         "opacity": 1,
         "showlegend": false,
         "type": "scatter",
         "x": [
          7.688116371641864,
          6.793424053564918
         ],
         "y": [
          20,
          20
         ]
        },
        {
         "hovertemplate": "<i>id</i>: 9<br><b>rep</b>: [75 14  5 72]",
         "line": {
          "color": "#CC7C33"
         },
         "mode": "lines",
         "name": "indicator 0",
         "opacity": 1,
         "showlegend": false,
         "type": "scatter",
         "x": [
          7.892761680473939,
          6.4036924008129255
         ],
         "y": [
          21,
          21
         ]
        },
        {
         "hovertemplate": "<i>id</i>: 87<br><b>rep</b>: [116 188 204 165]",
         "line": {
          "color": "#3F4142"
         },
         "mode": "lines",
         "name": "indicator 1",
         "opacity": 0.2,
         "showlegend": false,
         "type": "scatter",
         "x": [
          6.021915147314423,
          5.654442857309675
         ],
         "y": [
          22,
          22
         ]
        },
        {
         "hovertemplate": "<i>id</i>: 47<br><b>rep</b>: [111 160 185 100]",
         "line": {
          "color": "#3F4142"
         },
         "mode": "lines",
         "name": "indicator 1",
         "opacity": 0.2,
         "showlegend": false,
         "type": "scatter",
         "x": [
          6.050064896869508,
          5.154758984454143
         ],
         "y": [
          23,
          23
         ]
        },
        {
         "hovertemplate": "<i>id</i>: 77<br><b>rep</b>: [182 115 217 108]",
         "line": {
          "color": "#CC7C33"
         },
         "mode": "lines",
         "name": "indicator 0",
         "opacity": 1,
         "showlegend": false,
         "type": "scatter",
         "x": [
          6.077070392890487,
          5.768748300749071
         ],
         "y": [
          24,
          24
         ]
        },
        {
         "hovertemplate": "<i>id</i>: 39<br><b>rep</b>: [160 228 183 139]",
         "line": {
          "color": "#3F4142"
         },
         "mode": "lines",
         "name": "indicator 1",
         "opacity": 0.2,
         "showlegend": false,
         "type": "scatter",
         "x": [
          6.243169299158298,
          5.146248478112594
         ],
         "y": [
          25,
          25
         ]
        },
        {
         "hovertemplate": "<i>id</i>: 91<br><b>rep</b>: [190 209 139 212]",
         "line": {
          "color": "#CC7C33"
         },
         "mode": "lines",
         "name": "indicator 0",
         "opacity": 1,
         "showlegend": false,
         "type": "scatter",
         "x": [
          6.3450620167655085,
          5.337682670469381
         ],
         "y": [
          26,
          26
         ]
        },
        {
         "hovertemplate": "<i>id</i>: 70<br><b>rep</b>: [179 210 107 123]",
         "line": {
          "color": "#CC7C33"
         },
         "mode": "lines",
         "name": "indicator 0",
         "opacity": 1,
         "showlegend": false,
         "type": "scatter",
         "x": [
          6.348037236518117,
          5.5454666128627075
         ],
         "y": [
          27,
          27
         ]
        },
        {
         "hovertemplate": "<i>id</i>: 43<br><b>rep</b>: [172 203 143 137]",
         "line": {
          "color": "#3F4142"
         },
         "mode": "lines",
         "name": "indicator 1",
         "opacity": 0.2,
         "showlegend": false,
         "type": "scatter",
         "x": [
          6.387457048226617,
          5.865907903133397
         ],
         "y": [
          28,
          28
         ]
        },
        {
         "hovertemplate": "<i>id</i>: 14<br><b>rep</b>: [185 164 220 141]",
         "line": {
          "color": "#3F4142"
         },
         "mode": "lines",
         "name": "indicator 1",
         "opacity": 0.2,
         "showlegend": false,
         "type": "scatter",
         "x": [
          6.394055754303082,
          5.865907903133397
         ],
         "y": [
          29,
          29
         ]
        },
        {
         "hovertemplate": "<i>id</i>: 64<br><b>rep</b>: [205 101 149 182]",
         "line": {
          "color": "#CC7C33"
         },
         "mode": "lines",
         "name": "indicator 0",
         "opacity": 1,
         "showlegend": false,
         "type": "scatter",
         "x": [
          6.4213674350465935,
          5.946264348173306
         ],
         "y": [
          30,
          30
         ]
        },
        {
         "hovertemplate": "<i>id</i>: 13<br><b>rep</b>: [215 114 158 156]",
         "line": {
          "color": "#3F4142"
         },
         "mode": "lines",
         "name": "indicator 1",
         "opacity": 0.2,
         "showlegend": false,
         "type": "scatter",
         "x": [
          6.48660220136189,
          5.6320973755353885
         ],
         "y": [
          31,
          31
         ]
        },
        {
         "hovertemplate": "<i>id</i>: 10<br><b>rep</b>: [208 214 141 133]",
         "line": {
          "color": "#3F4142"
         },
         "mode": "lines",
         "name": "indicator 1",
         "opacity": 0.2,
         "showlegend": false,
         "type": "scatter",
         "x": [
          6.599293764594221,
          5.125157740115405
         ],
         "y": [
          32,
          32
         ]
        },
        {
         "hovertemplate": "<i>id</i>: 71<br><b>rep</b>: [213 227 194 112]",
         "line": {
          "color": "#CC7C33"
         },
         "mode": "lines",
         "name": "indicator 0",
         "opacity": 1,
         "showlegend": false,
         "type": "scatter",
         "x": [
          6.635823737942863,
          5.5288405556922315
         ],
         "y": [
          33,
          33
         ]
        },
        {
         "hovertemplate": "<i>id</i>: 0<br><b>rep</b>: [178 192 187 249]",
         "line": {
          "color": "#3F4142"
         },
         "mode": "lines",
         "name": "indicator 1",
         "opacity": 0.2,
         "showlegend": false,
         "type": "scatter",
         "x": [
          6.792394457124896,
          5.857689902186825
         ],
         "y": [
          34,
          34
         ]
        },
        {
         "hovertemplate": "<i>id</i>: 51<br><b>rep</b>: [116 197 112 144]",
         "line": {
          "color": "#CC7C33"
         },
         "mode": "lines",
         "name": "indicator 0",
         "opacity": 1,
         "showlegend": false,
         "type": "scatter",
         "x": [
          6.833996214510417,
          5.2892046437860785
         ],
         "y": [
          35,
          35
         ]
        },
        {
         "hovertemplate": "<i>id</i>: 81<br><b>rep</b>: [162 179 115 242]",
         "line": {
          "color": "#CC7C33"
         },
         "mode": "lines",
         "name": "indicator 0",
         "opacity": 1,
         "showlegend": false,
         "type": "scatter",
         "x": [
          6.9805297047232635,
          5.726679057486605
         ],
         "y": [
          36,
          36
         ]
        },
        {
         "hovertemplate": "<i>id</i>: 26<br><b>rep</b>: [342 314 289 308]",
         "line": {
          "color": "#CC7C33"
         },
         "mode": "lines",
         "name": "indicator 0",
         "opacity": 1,
         "showlegend": false,
         "type": "scatter",
         "x": [
          5.001338866910404,
          4.346922184894447
         ],
         "y": [
          37,
          37
         ]
        },
        {
         "hovertemplate": "<i>id</i>: 88<br><b>rep</b>: [342 286 299 352]",
         "line": {
          "color": "#3F4142"
         },
         "mode": "lines",
         "name": "indicator 1",
         "opacity": 0.2,
         "showlegend": false,
         "type": "scatter",
         "x": [
          5.030578398742029,
          4.035510309966354
         ],
         "y": [
          38,
          38
         ]
        },
        {
         "hovertemplate": "<i>id</i>: 68<br><b>rep</b>: [319 303 308 273]",
         "line": {
          "color": "#3F4142"
         },
         "mode": "lines",
         "name": "indicator 1",
         "opacity": 0.2,
         "showlegend": false,
         "type": "scatter",
         "x": [
          5.0748951925968555,
          4.269318640448317
         ],
         "y": [
          39,
          39
         ]
        },
        {
         "hovertemplate": "<i>id</i>: 60<br><b>rep</b>: [343 320 306 300]",
         "line": {
          "color": "#CC7C33"
         },
         "mode": "lines",
         "name": "indicator 0",
         "opacity": 1,
         "showlegend": false,
         "type": "scatter",
         "x": [
          5.091947698443027,
          4.227532855094781
         ],
         "y": [
          40,
          40
         ]
        },
        {
         "hovertemplate": "<i>id</i>: 69<br><b>rep</b>: [254 271 260 282]",
         "line": {
          "color": "#3F4142"
         },
         "mode": "lines",
         "name": "indicator 1",
         "opacity": 0.2,
         "showlegend": false,
         "type": "scatter",
         "x": [
          5.115663163272108,
          4.0436389594894715
         ],
         "y": [
          41,
          41
         ]
        },
        {
         "hovertemplate": "<i>id</i>: 12<br><b>rep</b>: [297 321 270 279]",
         "line": {
          "color": "#CC7C33"
         },
         "mode": "lines",
         "name": "indicator 0",
         "opacity": 1,
         "showlegend": false,
         "type": "scatter",
         "x": [
          5.154758984454143,
          4.422203525515922
         ],
         "y": [
          42,
          42
         ]
        },
        {
         "hovertemplate": "<i>id</i>: 65<br><b>rep</b>: [260 327 267 358]",
         "line": {
          "color": "#3F4142"
         },
         "mode": "lines",
         "name": "indicator 1",
         "opacity": 0.2,
         "showlegend": false,
         "type": "scatter",
         "x": [
          5.223856387995003,
          4.833390493408562
         ],
         "y": [
          43,
          43
         ]
        },
        {
         "hovertemplate": "<i>id</i>: 50<br><b>rep</b>: [356 353 336 352]",
         "line": {
          "color": "#3F4142"
         },
         "mode": "lines",
         "name": "indicator 1",
         "opacity": 0.2,
         "showlegend": false,
         "type": "scatter",
         "x": [
          5.3348974105338085,
          4.194486570994999
         ],
         "y": [
          44,
          44
         ]
        },
        {
         "hovertemplate": "<i>id</i>: 53<br><b>rep</b>: [257 260 345 250]",
         "line": {
          "color": "#3F4142"
         },
         "mode": "lines",
         "name": "indicator 1",
         "opacity": 0.2,
         "showlegend": false,
         "type": "scatter",
         "x": [
          5.337682670469381,
          4.490420108848657
         ],
         "y": [
          45,
          45
         ]
        },
        {
         "hovertemplate": "<i>id</i>: 79<br><b>rep</b>: [287 253 324 251]",
         "line": {
          "color": "#3F4142"
         },
         "mode": "lines",
         "name": "indicator 1",
         "opacity": 0.2,
         "showlegend": false,
         "type": "scatter",
         "x": [
          5.337682670469381,
          4.365574259737421
         ],
         "y": [
          46,
          46
         ]
        },
        {
         "hovertemplate": "<i>id</i>: 80<br><b>rep</b>: [345 250 282 325]",
         "line": {
          "color": "#CC7C33"
         },
         "mode": "lines",
         "name": "indicator 0",
         "opacity": 1,
         "showlegend": false,
         "type": "scatter",
         "x": [
          5.474854615831578,
          4.110388031997928
         ],
         "y": [
          47,
          47
         ]
        },
        {
         "hovertemplate": "<i>id</i>: 27<br><b>rep</b>: [333 250 351 344]",
         "line": {
          "color": "#3F4142"
         },
         "mode": "lines",
         "name": "indicator 1",
         "opacity": 0.2,
         "showlegend": false,
         "type": "scatter",
         "x": [
          5.619296621739944,
          4.468511143644
         ],
         "y": [
          48,
          48
         ]
        },
        {
         "hovertemplate": "<i>id</i>: 11<br><b>rep</b>: [255 358 269 338]",
         "line": {
          "color": "#CC7C33"
         },
         "mode": "lines",
         "name": "indicator 0",
         "opacity": 1,
         "showlegend": false,
         "type": "scatter",
         "x": [
          5.622770807068898,
          4.116510326556592
         ],
         "y": [
          49,
          49
         ]
        },
        {
         "hovertemplate": "<i>id</i>: 84<br><b>rep</b>: [287 352 269 252]",
         "line": {
          "color": "#CC7C33"
         },
         "mode": "lines",
         "name": "indicator 0",
         "opacity": 1,
         "showlegend": false,
         "type": "scatter",
         "x": [
          5.622770807068898,
          4.083048647709932
         ],
         "y": [
          50,
          50
         ]
        },
        {
         "hovertemplate": "<i>id</i>: 2<br><b>rep</b>: [341 313 257 324]",
         "line": {
          "color": "#3F4142"
         },
         "mode": "lines",
         "name": "indicator 1",
         "opacity": 0.2,
         "showlegend": false,
         "type": "scatter",
         "x": [
          5.653709726888387,
          4.756080827157376
         ],
         "y": [
          51,
          51
         ]
        },
        {
         "hovertemplate": "<i>id</i>: 3<br><b>rep</b>: [280 272 304 292]",
         "line": {
          "color": "#CC7C33"
         },
         "mode": "lines",
         "name": "indicator 0",
         "opacity": 1,
         "showlegend": false,
         "type": "scatter",
         "x": [
          5.734144367814124,
          4.314788907818891
         ],
         "y": [
          52,
          52
         ]
        },
        {
         "hovertemplate": "<i>id</i>: 78<br><b>rep</b>: [339 305 321 319]",
         "line": {
          "color": "#3F4142"
         },
         "mode": "lines",
         "name": "indicator 1",
         "opacity": 0.2,
         "showlegend": false,
         "type": "scatter",
         "x": [
          5.905879976676882,
          4.009981282140786
         ],
         "y": [
          53,
          53
         ]
        },
        {
         "hovertemplate": "<i>id</i>: 59<br><b>rep</b>: [312 311 306 267]",
         "line": {
          "color": "#CC7C33"
         },
         "mode": "lines",
         "name": "indicator 0",
         "opacity": 1,
         "showlegend": false,
         "type": "scatter",
         "x": [
          5.966429727891737,
          4.907954641709949
         ],
         "y": [
          54,
          54
         ]
        },
        {
         "hovertemplate": "<i>id</i>: 73<br><b>rep</b>: [362 390 415 429]",
         "line": {
          "color": "#3F4142"
         },
         "mode": "lines",
         "name": "indicator 1",
         "opacity": 0.2,
         "showlegend": false,
         "type": "scatter",
         "x": [
          4.039907298080224,
          3.198098018053035
         ],
         "y": [
          55,
          55
         ]
        },
        {
         "hovertemplate": "<i>id</i>: 35<br><b>rep</b>: [413 425 416 391]",
         "line": {
          "color": "#CC7C33"
         },
         "mode": "lines",
         "name": "indicator 0",
         "opacity": 1,
         "showlegend": false,
         "type": "scatter",
         "x": [
          4.083048647709932,
          3.501597333779646
         ],
         "y": [
          56,
          56
         ]
        },
        {
         "hovertemplate": "<i>id</i>: 94<br><b>rep</b>: [386 432 389 428]",
         "line": {
          "color": "#3F4142"
         },
         "mode": "lines",
         "name": "indicator 1",
         "opacity": 0.2,
         "showlegend": false,
         "type": "scatter",
         "x": [
          4.116510326556592,
          3.0976401256644057
         ],
         "y": [
          57,
          57
         ]
        },
        {
         "hovertemplate": "<i>id</i>: 6<br><b>rep</b>: [417 434 382 398]",
         "line": {
          "color": "#CC7C33"
         },
         "mode": "lines",
         "name": "indicator 0",
         "opacity": 1,
         "showlegend": false,
         "type": "scatter",
         "x": [
          4.209228675058555,
          3.737658377456473
         ],
         "y": [
          58,
          58
         ]
        },
        {
         "hovertemplate": "<i>id</i>: 57<br><b>rep</b>: [446 365 428 448]",
         "line": {
          "color": "#CC7C33"
         },
         "mode": "lines",
         "name": "indicator 0",
         "opacity": 1,
         "showlegend": false,
         "type": "scatter",
         "x": [
          4.2400872736279664,
          3.8520727487903974
         ],
         "y": [
          59,
          59
         ]
        },
        {
         "hovertemplate": "<i>id</i>: 44<br><b>rep</b>: [362 372 420 371]",
         "line": {
          "color": "#3F4142"
         },
         "mode": "lines",
         "name": "indicator 1",
         "opacity": 0.2,
         "showlegend": false,
         "type": "scatter",
         "x": [
          4.346922184894447,
          3.9394684435238725
         ],
         "y": [
          60,
          60
         ]
        },
        {
         "hovertemplate": "<i>id</i>: 34<br><b>rep</b>: [415 423 389 410]",
         "line": {
          "color": "#3F4142"
         },
         "mode": "lines",
         "name": "indicator 1",
         "opacity": 0.2,
         "showlegend": false,
         "type": "scatter",
         "x": [
          4.368905495906725,
          3.766889708492334
         ],
         "y": [
          61,
          61
         ]
        },
        {
         "hovertemplate": "<i>id</i>: 99<br><b>rep</b>: [440 419 433 431]",
         "line": {
          "color": "#3F4142"
         },
         "mode": "lines",
         "name": "indicator 1",
         "opacity": 0.2,
         "showlegend": false,
         "type": "scatter",
         "x": [
          4.454442599639256,
          3.4939308924386503
         ],
         "y": [
          62,
          62
         ]
        },
        {
         "hovertemplate": "<i>id</i>: 40<br><b>rep</b>: [426 434 376 382]",
         "line": {
          "color": "#3F4142"
         },
         "mode": "lines",
         "name": "indicator 1",
         "opacity": 0.2,
         "showlegend": false,
         "type": "scatter",
         "x": [
          4.70692225734648,
          3.973422167750025
         ],
         "y": [
          63,
          63
         ]
        },
        {
         "hovertemplate": "<i>id</i>: 75<br><b>rep</b>: [441 369 360 397]",
         "line": {
          "color": "#3F4142"
         },
         "mode": "lines",
         "name": "indicator 1",
         "opacity": 0.2,
         "showlegend": false,
         "type": "scatter",
         "x": [
          4.741850675683413,
          3.7503320209086497
         ],
         "y": [
          64,
          64
         ]
        },
        {
         "hovertemplate": "<i>id</i>: 32<br><b>rep</b>: [423 379 395 408]",
         "line": {
          "color": "#CC7C33"
         },
         "mode": "lines",
         "name": "indicator 0",
         "opacity": 1,
         "showlegend": false,
         "type": "scatter",
         "x": [
          4.833390493408562,
          3.716628861736811
         ],
         "y": [
          65,
          65
         ]
        },
        {
         "hovertemplate": "<i>id</i>: 23<br><b>rep</b>: [430 399 360 392]",
         "line": {
          "color": "#CC7C33"
         },
         "mode": "lines",
         "name": "indicator 0",
         "opacity": 1,
         "showlegend": false,
         "type": "scatter",
         "x": [
          4.992752284155715,
          3.645928243066991
         ],
         "y": [
          66,
          66
         ]
        },
        {
         "hovertemplate": "<i>id</i>: 38<br><b>rep</b>: [459 473 460 480]",
         "line": {
          "color": "#CC7C33"
         },
         "mode": "lines",
         "name": "indicator 0",
         "opacity": 1,
         "showlegend": false,
         "type": "scatter",
         "x": [
          3.03529866720742,
          2.938259403832843
         ],
         "y": [
          67,
          67
         ]
        },
        {
         "hovertemplate": "<i>id</i>: 19<br><b>rep</b>: [472 450 452 462]",
         "line": {
          "color": "#3F4142"
         },
         "mode": "lines",
         "name": "indicator 1",
         "opacity": 0.2,
         "showlegend": false,
         "type": "scatter",
         "x": [
          3.0976401256644057,
          2.552644817424506
         ],
         "y": [
          68,
          68
         ]
        },
        {
         "hovertemplate": "<i>id</i>: 76<br><b>rep</b>: [479 478 487 463]",
         "line": {
          "color": "#CC7C33"
         },
         "mode": "lines",
         "name": "indicator 0",
         "opacity": 1,
         "showlegend": false,
         "type": "scatter",
         "x": [
          3.107528745869529,
          2.6161684936364793
         ],
         "y": [
          69,
          69
         ]
        },
        {
         "hovertemplate": "<i>id</i>: 96<br><b>rep</b>: [470 455 485 451]",
         "line": {
          "color": "#CC7C33"
         },
         "mode": "lines",
         "name": "indicator 0",
         "opacity": 1,
         "showlegend": false,
         "type": "scatter",
         "x": [
          3.175454055539553,
          2.50461166127586
         ],
         "y": [
          70,
          70
         ]
        },
        {
         "hovertemplate": "<i>id</i>: 29<br><b>rep</b>: [457 461 482 465]",
         "line": {
          "color": "#CC7C33"
         },
         "mode": "lines",
         "name": "indicator 0",
         "opacity": 1,
         "showlegend": false,
         "type": "scatter",
         "x": [
          3.375748938101691,
          2.4816855379870795
         ],
         "y": [
          71,
          71
         ]
        },
        {
         "hovertemplate": "<i>id</i>: 83<br><b>rep</b>: [488 484 462 473]",
         "line": {
          "color": "#CC7C33"
         },
         "mode": "lines",
         "name": "indicator 0",
         "opacity": 1,
         "showlegend": false,
         "type": "scatter",
         "x": [
          3.375748938101691,
          2.5344511725733585
         ],
         "y": [
          72,
          72
         ]
        },
        {
         "hovertemplate": "<i>id</i>: 98<br><b>rep</b>: [465 452 471 477]",
         "line": {
          "color": "#3F4142"
         },
         "mode": "lines",
         "name": "indicator 1",
         "opacity": 0.2,
         "showlegend": false,
         "type": "scatter",
         "x": [
          3.375748938101691,
          2.524166589921519
         ],
         "y": [
          73,
          73
         ]
        },
        {
         "hovertemplate": "<i>id</i>: 21<br><b>rep</b>: [473 454 451 456]",
         "line": {
          "color": "#CC7C33"
         },
         "mode": "lines",
         "name": "indicator 0",
         "opacity": 1,
         "showlegend": false,
         "type": "scatter",
         "x": [
          3.4939308924386503,
          2.524166589921519
         ],
         "y": [
          74,
          74
         ]
        },
        {
         "hovertemplate": "<i>id</i>: 58<br><b>rep</b>: [465 471 469 457]",
         "line": {
          "color": "#CC7C33"
         },
         "mode": "lines",
         "name": "indicator 0",
         "opacity": 1,
         "showlegend": false,
         "type": "scatter",
         "x": [
          3.501597333779646,
          2.1660623888877257
         ],
         "y": [
          75,
          75
         ]
        },
        {
         "hovertemplate": "<i>id</i>: 49<br><b>rep</b>: [472 481 479 487]",
         "line": {
          "color": "#CC7C33"
         },
         "mode": "lines",
         "name": "indicator 0",
         "opacity": 1,
         "showlegend": false,
         "type": "scatter",
         "x": [
          3.538771733011007,
          2.50461166127586
         ],
         "y": [
          76,
          76
         ]
        },
        {
         "hovertemplate": "<i>id</i>: 82<br><b>rep</b>: [474 465 486 455]",
         "line": {
          "color": "#CC7C33"
         },
         "mode": "lines",
         "name": "indicator 0",
         "opacity": 1,
         "showlegend": false,
         "type": "scatter",
         "x": [
          3.538771733011007,
          2.1680018715512364
         ],
         "y": [
          77,
          77
         ]
        },
        {
         "hovertemplate": "<i>id</i>: 36<br><b>rep</b>: [489 461 480 456]",
         "line": {
          "color": "#3F4142"
         },
         "mode": "lines",
         "name": "indicator 1",
         "opacity": 0.2,
         "showlegend": false,
         "type": "scatter",
         "x": [
          3.641365944592879,
          2.5344511725733585
         ],
         "y": [
          78,
          78
         ]
        },
        {
         "hovertemplate": "<i>id</i>: 67<br><b>rep</b>: [476 483 464 456]",
         "line": {
          "color": "#CC7C33"
         },
         "mode": "lines",
         "name": "indicator 0",
         "opacity": 1,
         "showlegend": false,
         "type": "scatter",
         "x": [
          3.641365944592879,
          2.718385968715889
         ],
         "y": [
          79,
          79
         ]
        },
        {
         "hovertemplate": "<i>id</i>: 85<br><b>rep</b>: [480 484 457 489]",
         "line": {
          "color": "#3F4142"
         },
         "mode": "lines",
         "name": "indicator 1",
         "opacity": 0.2,
         "showlegend": false,
         "type": "scatter",
         "x": [
          3.645928243066991,
          2.5347639759042027
         ],
         "y": [
          80,
          80
         ]
        },
        {
         "hovertemplate": "<i>id</i>: 15<br><b>rep</b>: [479 486 472 465]",
         "line": {
          "color": "#CC7C33"
         },
         "mode": "lines",
         "name": "indicator 0",
         "opacity": 1,
         "showlegend": false,
         "type": "scatter",
         "x": [
          3.737658377456473,
          2.743689506421095
         ],
         "y": [
          81,
          81
         ]
        },
        {
         "hovertemplate": "<i>id</i>: 52<br><b>rep</b>: [481 469 476 486]",
         "line": {
          "color": "#CC7C33"
         },
         "mode": "lines",
         "name": "indicator 0",
         "opacity": 1,
         "showlegend": false,
         "type": "scatter",
         "x": [
          3.7503320209086497,
          2.595695654830487
         ],
         "y": [
          82,
          82
         ]
        },
        {
         "hovertemplate": "<i>id</i>: 22<br><b>rep</b>: [480 450 460 466]",
         "line": {
          "color": "#CC7C33"
         },
         "mode": "lines",
         "name": "indicator 0",
         "opacity": 1,
         "showlegend": false,
         "type": "scatter",
         "x": [
          3.766889708492334,
          2.827756641914416
         ],
         "y": [
          83,
          83
         ]
        },
        {
         "hovertemplate": "<i>id</i>: 37<br><b>rep</b>: [480 478 472 464]",
         "line": {
          "color": "#3F4142"
         },
         "mode": "lines",
         "name": "indicator 1",
         "opacity": 0.2,
         "showlegend": false,
         "type": "scatter",
         "x": [
          3.8520727487903974,
          2.517469140750224
         ],
         "y": [
          84,
          84
         ]
        },
        {
         "hovertemplate": "<i>id</i>: 74<br><b>rep</b>: [466 453 461 484]",
         "line": {
          "color": "#3F4142"
         },
         "mode": "lines",
         "name": "indicator 1",
         "opacity": 0.2,
         "showlegend": false,
         "type": "scatter",
         "x": [
          3.8605387939113873,
          2.392966001719074
         ],
         "y": [
          85,
          85
         ]
        },
        {
         "hovertemplate": "<i>id</i>: 89<br><b>rep</b>: [478 481 453 466]",
         "line": {
          "color": "#3F4142"
         },
         "mode": "lines",
         "name": "indicator 1",
         "opacity": 0.2,
         "showlegend": false,
         "type": "scatter",
         "x": [
          3.973422167750025,
          2.684609830139574
         ],
         "y": [
          86,
          86
         ]
        },
        {
         "hovertemplate": "<i>id</i>: 4<br><b>rep</b>: [519 516 497 493]",
         "line": {
          "color": "#CC7C33"
         },
         "mode": "lines",
         "name": "indicator 0",
         "opacity": 1,
         "showlegend": false,
         "type": "scatter",
         "x": [
          2.006780573013361,
          1.392421669384479
         ],
         "y": [
          87,
          87
         ]
        },
        {
         "hovertemplate": "<i>id</i>: 92<br><b>rep</b>: [514 495 505 493]",
         "line": {
          "color": "#CC7C33"
         },
         "mode": "lines",
         "name": "indicator 0",
         "opacity": 1,
         "showlegend": false,
         "type": "scatter",
         "x": [
          2.0190087791867506,
          1.445962644041875
         ],
         "y": [
          88,
          88
         ]
        },
        {
         "hovertemplate": "<i>id</i>: 54<br><b>rep</b>: [499 490 504 512]",
         "line": {
          "color": "#CC7C33"
         },
         "mode": "lines",
         "name": "indicator 0",
         "opacity": 1,
         "showlegend": false,
         "type": "scatter",
         "x": [
          2.1680018715512364,
          1.4706637071164463
         ],
         "y": [
          89,
          89
         ]
        },
        {
         "hovertemplate": "<i>id</i>: 8<br><b>rep</b>: [491 517 504 495]",
         "line": {
          "color": "#CC7C33"
         },
         "mode": "lines",
         "name": "indicator 0",
         "opacity": 1,
         "showlegend": false,
         "type": "scatter",
         "x": [
          2.2487941368712243,
          1.5793294885920435
         ],
         "y": [
          90,
          90
         ]
        },
        {
         "hovertemplate": "<i>id</i>: 56<br><b>rep</b>: [504 502 517 516]",
         "line": {
          "color": "#CC7C33"
         },
         "mode": "lines",
         "name": "indicator 0",
         "opacity": 1,
         "showlegend": false,
         "type": "scatter",
         "x": [
          2.359007883912835,
          1.392421669384479
         ],
         "y": [
          91,
          91
         ]
        },
        {
         "hovertemplate": "<i>id</i>: 97<br><b>rep</b>: [508 491 511 497]",
         "line": {
          "color": "#3F4142"
         },
         "mode": "lines",
         "name": "indicator 1",
         "opacity": 0.2,
         "showlegend": false,
         "type": "scatter",
         "x": [
          2.517469140750224,
          1.5246961436061275
         ],
         "y": [
          92,
          92
         ]
        },
        {
         "hovertemplate": "<i>id</i>: 33<br><b>rep</b>: [500 507 519 493]",
         "line": {
          "color": "#3F4142"
         },
         "mode": "lines",
         "name": "indicator 1",
         "opacity": 0.2,
         "showlegend": false,
         "type": "scatter",
         "x": [
          2.524166589921519,
          1.445962644041875
         ],
         "y": [
          93,
          93
         ]
        },
        {
         "hovertemplate": "<i>id</i>: 24<br><b>rep</b>: [497 507 501 509]",
         "line": {
          "color": "#3F4142"
         },
         "mode": "lines",
         "name": "indicator 1",
         "opacity": 0.2,
         "showlegend": false,
         "type": "scatter",
         "x": [
          2.595695654830487,
          1.8684402341839674
         ],
         "y": [
          94,
          94
         ]
        },
        {
         "hovertemplate": "<i>id</i>: 45<br><b>rep</b>: [490 491 497 493]",
         "line": {
          "color": "#3F4142"
         },
         "mode": "lines",
         "name": "indicator 1",
         "opacity": 0.2,
         "showlegend": false,
         "type": "scatter",
         "x": [
          2.595695654830487,
          1.178520371452846
         ],
         "y": [
          95,
          95
         ]
        },
        {
         "hovertemplate": "<i>id</i>: 90<br><b>rep</b>: [494 508 503 500]",
         "line": {
          "color": "#CC7C33"
         },
         "mode": "lines",
         "name": "indicator 0",
         "opacity": 1,
         "showlegend": false,
         "type": "scatter",
         "x": [
          2.595695654830487,
          1.8041755751985615
         ],
         "y": [
          96,
          96
         ]
        },
        {
         "hovertemplate": "<i>id</i>: 63<br><b>rep</b>: [507 498 515 500]",
         "line": {
          "color": "#CC7C33"
         },
         "mode": "lines",
         "name": "indicator 0",
         "opacity": 1,
         "showlegend": false,
         "type": "scatter",
         "x": [
          2.6524124094640595,
          1.7597826291035856
         ],
         "y": [
          97,
          97
         ]
        },
        {
         "hovertemplate": "<i>id</i>: 46<br><b>rep</b>: [501 516 518 517]",
         "line": {
          "color": "#CC7C33"
         },
         "mode": "lines",
         "name": "indicator 0",
         "opacity": 1,
         "showlegend": false,
         "type": "scatter",
         "x": [
          2.743689506421095,
          1.5246961436061275
         ],
         "y": [
          98,
          98
         ]
        },
        {
         "hovertemplate": "<i>id</i>: 1<br><b>rep</b>: [497 515 506 507]",
         "line": {
          "color": "#3F4142"
         },
         "mode": "lines",
         "name": "indicator 1",
         "opacity": 0.2,
         "showlegend": false,
         "type": "scatter",
         "x": [
          2.827756641914416,
          1.4812104134137618
         ],
         "y": [
          99,
          99
         ]
        },
        {
         "hovertemplate": "<i>id</i>: 61<br><b>rep</b>: [511 495 496 515]",
         "line": {
          "color": "#CC7C33"
         },
         "mode": "lines",
         "name": "indicator 0",
         "opacity": 1,
         "showlegend": false,
         "type": "scatter",
         "x": [
          2.8403435016216396,
          1.8846530499459726
         ],
         "y": [
          100,
          100
         ]
        }
       ],
       "layout": {
        "hovermode": "x unified",
        "legend": {
         "orientation": "h",
         "x": 1,
         "xanchor": "right",
         "y": 1.02,
         "yanchor": "bottom"
        },
        "template": {
         "data": {
          "scatter": [
           {
            "marker": {
             "symbol": "circle"
            },
            "type": "scatter"
           }
          ]
         },
         "layout": {
          "colorscale": {
           "sequential": [
            [
             0,
             "rgb(44, 26, 76)"
            ],
            [
             0.1,
             "rgb(40, 59, 110)"
            ],
            [
             0.2,
             "rgb(42, 94, 151)"
            ],
            [
             0.3,
             "rgb(68, 117, 193)"
            ],
            [
             0.4,
             "rgb(96, 137, 190)"
            ],
            [
             0.5,
             "rgb(125, 156, 181)"
            ],
            [
             0.6,
             "rgb(155, 175, 172)"
            ],
            [
             0.7,
             "rgb(186, 196, 163)"
            ],
            [
             0.8,
             "rgb(215, 217, 161)"
            ],
            [
             0.9,
             "rgb(237, 236, 206)"
            ],
            [
             1,
             "rgb(255, 255, 255)"
            ]
           ]
          },
          "colorway": [
           "rgb(44, 26, 76)",
           "rgb(40, 59, 110)",
           "rgb(42, 94, 151)",
           "rgb(68, 117, 193)",
           "rgb(96, 137, 190)",
           "rgb(125, 156, 181)",
           "rgb(155, 175, 172)",
           "rgb(186, 196, 163)",
           "rgb(215, 217, 161)",
           "rgb(237, 236, 206)",
           "rgb(255, 255, 255)"
          ],
          "font": {
           "color": "#3f4142",
           "family": "Avenir"
          },
          "paper_bgcolor": "#fff",
          "plot_bgcolor": "#fff",
          "violingap": 0.4,
          "xaxis": {
           "color": "#3f4142",
           "gridcolor": "#ebf0f2",
           "gridwidth": 0.5,
           "linewidth": 1
          },
          "yaxis": {
           "color": "#3f4142",
           "gridcolor": "#ebf0f2",
           "gridwidth": 0.5,
           "linewidth": 1
          }
         }
        },
        "title": {
         "text": "Barcode"
        },
        "xaxis": {
         "title": {
          "text": "Filtration index"
         }
        },
        "yaxis": {
         "title": {
          "text": "H_k"
         }
        }
       }
      },
      "text/html": [
       "<div>                            <div id=\"6dd297ea-94a2-4605-9b4c-e6d7b89c3e3f\" class=\"plotly-graph-div\" style=\"height:525px; width:100%;\"></div>            <script type=\"text/javascript\">                require([\"plotly\"], function(Plotly) {                    window.PLOTLYENV=window.PLOTLYENV || {};                                    if (document.getElementById(\"6dd297ea-94a2-4605-9b4c-e6d7b89c3e3f\")) {                    Plotly.newPlot(                        \"6dd297ea-94a2-4605-9b4c-e6d7b89c3e3f\",                        [{\"hovertemplate\": \"<i>id</i>: 62<br><b>rep</b>: [20 75 81 48]\", \"line\": {\"color\": \"#CC7C33\"}, \"mode\": \"lines\", \"name\": \"indicator 0\", \"opacity\": 1, \"showlegend\": false, \"type\": \"scatter\", \"x\": [7.034180303423812, 6.499859502784533], \"y\": [1, 1]}, {\"hovertemplate\": \"<i>id</i>: 93<br><b>rep</b>: [38 66 77 26]\", \"line\": {\"color\": \"#3F4142\"}, \"mode\": \"lines\", \"name\": \"indicator 1\", \"opacity\": 0.2, \"showlegend\": true, \"type\": \"scatter\", \"x\": [7.12475875268919, 6.305322438881594], \"y\": [2, 2]}, {\"hovertemplate\": \"<i>id</i>: 5<br><b>rep</b>: [31 45 55 20]\", \"line\": {\"color\": \"#CC7C33\"}, \"mode\": \"lines\", \"name\": \"indicator 0\", \"opacity\": 1, \"showlegend\": true, \"type\": \"scatter\", \"x\": [7.142947425501082, 6.340212558843747], \"y\": [3, 3]}, {\"hovertemplate\": \"<i>id</i>: 72<br><b>rep</b>: [ 2 40 38 41]\", \"line\": {\"color\": \"#CC7C33\"}, \"mode\": \"lines\", \"name\": \"indicator 0\", \"opacity\": 1, \"showlegend\": false, \"type\": \"scatter\", \"x\": [7.142947425501082, 6.341145301226739], \"y\": [4, 4]}, {\"hovertemplate\": \"<i>id</i>: 25<br><b>rep</b>: [85 76 96 22]\", \"line\": {\"color\": \"#CC7C33\"}, \"mode\": \"lines\", \"name\": \"indicator 0\", \"opacity\": 1, \"showlegend\": false, \"type\": \"scatter\", \"x\": [7.2068915722085505, 6.122768777415719], \"y\": [5, 5]}, {\"hovertemplate\": \"<i>id</i>: 20<br><b>rep</b>: [27 49 34 50]\", \"line\": {\"color\": \"#CC7C33\"}, \"mode\": \"lines\", \"name\": \"indicator 0\", \"opacity\": 1, \"showlegend\": false, \"type\": \"scatter\", \"x\": [7.232049682651223, 6.711037093153946], \"y\": [6, 6]}, {\"hovertemplate\": \"<i>id</i>: 86<br><b>rep</b>: [ 3 18 33 73]\", \"line\": {\"color\": \"#3F4142\"}, \"mode\": \"lines\", \"name\": \"indicator 1\", \"opacity\": 0.2, \"showlegend\": false, \"type\": \"scatter\", \"x\": [7.268845978880737, 6.765713037908542], \"y\": [7, 7]}, {\"hovertemplate\": \"<i>id</i>: 30<br><b>rep</b>: [80 55 75 35]\", \"line\": {\"color\": \"#CC7C33\"}, \"mode\": \"lines\", \"name\": \"indicator 0\", \"opacity\": 1, \"showlegend\": false, \"type\": \"scatter\", \"x\": [7.339656767141991, 6.212122464632207], \"y\": [8, 8]}, {\"hovertemplate\": \"<i>id</i>: 17<br><b>rep</b>: [76 43 85  5]\", \"line\": {\"color\": \"#CC7C33\"}, \"mode\": \"lines\", \"name\": \"indicator 0\", \"opacity\": 1, \"showlegend\": false, \"type\": \"scatter\", \"x\": [7.3548487104240055, 6.397459951106165], \"y\": [9, 9]}, {\"hovertemplate\": \"<i>id</i>: 41<br><b>rep</b>: [37 19 67 90]\", \"line\": {\"color\": \"#3F4142\"}, \"mode\": \"lines\", \"name\": \"indicator 1\", \"opacity\": 0.2, \"showlegend\": false, \"type\": \"scatter\", \"x\": [7.452158553019506, 6.561915760096871], \"y\": [10, 10]}, {\"hovertemplate\": \"<i>id</i>: 55<br><b>rep</b>: [ 7 28  6 68]\", \"line\": {\"color\": \"#CC7C33\"}, \"mode\": \"lines\", \"name\": \"indicator 0\", \"opacity\": 1, \"showlegend\": false, \"type\": \"scatter\", \"x\": [7.452158553019506, 6.60816730384887], \"y\": [11, 11]}, {\"hovertemplate\": \"<i>id</i>: 48<br><b>rep</b>: [57 95 41 26]\", \"line\": {\"color\": \"#3F4142\"}, \"mode\": \"lines\", \"name\": \"indicator 1\", \"opacity\": 0.2, \"showlegend\": false, \"type\": \"scatter\", \"x\": [7.491760610718701, 6.375807734429834], \"y\": [12, 12]}, {\"hovertemplate\": \"<i>id</i>: 66<br><b>rep</b>: [66 24 65 47]\", \"line\": {\"color\": \"#3F4142\"}, \"mode\": \"lines\", \"name\": \"indicator 1\", \"opacity\": 0.2, \"showlegend\": false, \"type\": \"scatter\", \"x\": [7.491760610718701, 6.833996214510417], \"y\": [13, 13]}, {\"hovertemplate\": \"<i>id</i>: 31<br><b>rep</b>: [69 55 47 31]\", \"line\": {\"color\": \"#3F4142\"}, \"mode\": \"lines\", \"name\": \"indicator 1\", \"opacity\": 0.2, \"showlegend\": false, \"type\": \"scatter\", \"x\": [7.5172573189496745, 6.538480877993744], \"y\": [14, 14]}, {\"hovertemplate\": \"<i>id</i>: 7<br><b>rep</b>: [49 16 26 43]\", \"line\": {\"color\": \"#CC7C33\"}, \"mode\": \"lines\", \"name\": \"indicator 0\", \"opacity\": 1, \"showlegend\": false, \"type\": \"scatter\", \"x\": [7.552857177746884, 6.212122464632207], \"y\": [15, 15]}, {\"hovertemplate\": \"<i>id</i>: 95<br><b>rep</b>: [22 71 62 97]\", \"line\": {\"color\": \"#3F4142\"}, \"mode\": \"lines\", \"name\": \"indicator 1\", \"opacity\": 0.2, \"showlegend\": false, \"type\": \"scatter\", \"x\": [7.563940776042391, 6.793424053564918], \"y\": [16, 16]}, {\"hovertemplate\": \"<i>id</i>: 16<br><b>rep</b>: [41 98 93 29]\", \"line\": {\"color\": \"#3F4142\"}, \"mode\": \"lines\", \"name\": \"indicator 1\", \"opacity\": 0.2, \"showlegend\": false, \"type\": \"scatter\", \"x\": [7.65042938942568, 6.978426075434247], \"y\": [17, 17]}, {\"hovertemplate\": \"<i>id</i>: 18<br><b>rep</b>: [75 76 18 91]\", \"line\": {\"color\": \"#CC7C33\"}, \"mode\": \"lines\", \"name\": \"indicator 0\", \"opacity\": 1, \"showlegend\": false, \"type\": \"scatter\", \"x\": [7.664491818276322, 6.68789442885015], \"y\": [18, 18]}, {\"hovertemplate\": \"<i>id</i>: 42<br><b>rep</b>: [21 12 59  8]\", \"line\": {\"color\": \"#3F4142\"}, \"mode\": \"lines\", \"name\": \"indicator 1\", \"opacity\": 0.2, \"showlegend\": false, \"type\": \"scatter\", \"x\": [7.664491818276322, 6.063272630833543], \"y\": [19, 19]}, {\"hovertemplate\": \"<i>id</i>: 28<br><b>rep</b>: [57 25 48 20]\", \"line\": {\"color\": \"#CC7C33\"}, \"mode\": \"lines\", \"name\": \"indicator 0\", \"opacity\": 1, \"showlegend\": false, \"type\": \"scatter\", \"x\": [7.688116371641864, 6.793424053564918], \"y\": [20, 20]}, {\"hovertemplate\": \"<i>id</i>: 9<br><b>rep</b>: [75 14  5 72]\", \"line\": {\"color\": \"#CC7C33\"}, \"mode\": \"lines\", \"name\": \"indicator 0\", \"opacity\": 1, \"showlegend\": false, \"type\": \"scatter\", \"x\": [7.892761680473939, 6.4036924008129255], \"y\": [21, 21]}, {\"hovertemplate\": \"<i>id</i>: 87<br><b>rep</b>: [116 188 204 165]\", \"line\": {\"color\": \"#3F4142\"}, \"mode\": \"lines\", \"name\": \"indicator 1\", \"opacity\": 0.2, \"showlegend\": false, \"type\": \"scatter\", \"x\": [6.021915147314423, 5.654442857309675], \"y\": [22, 22]}, {\"hovertemplate\": \"<i>id</i>: 47<br><b>rep</b>: [111 160 185 100]\", \"line\": {\"color\": \"#3F4142\"}, \"mode\": \"lines\", \"name\": \"indicator 1\", \"opacity\": 0.2, \"showlegend\": false, \"type\": \"scatter\", \"x\": [6.050064896869508, 5.154758984454143], \"y\": [23, 23]}, {\"hovertemplate\": \"<i>id</i>: 77<br><b>rep</b>: [182 115 217 108]\", \"line\": {\"color\": \"#CC7C33\"}, \"mode\": \"lines\", \"name\": \"indicator 0\", \"opacity\": 1, \"showlegend\": false, \"type\": \"scatter\", \"x\": [6.077070392890487, 5.768748300749071], \"y\": [24, 24]}, {\"hovertemplate\": \"<i>id</i>: 39<br><b>rep</b>: [160 228 183 139]\", \"line\": {\"color\": \"#3F4142\"}, \"mode\": \"lines\", \"name\": \"indicator 1\", \"opacity\": 0.2, \"showlegend\": false, \"type\": \"scatter\", \"x\": [6.243169299158298, 5.146248478112594], \"y\": [25, 25]}, {\"hovertemplate\": \"<i>id</i>: 91<br><b>rep</b>: [190 209 139 212]\", \"line\": {\"color\": \"#CC7C33\"}, \"mode\": \"lines\", \"name\": \"indicator 0\", \"opacity\": 1, \"showlegend\": false, \"type\": \"scatter\", \"x\": [6.3450620167655085, 5.337682670469381], \"y\": [26, 26]}, {\"hovertemplate\": \"<i>id</i>: 70<br><b>rep</b>: [179 210 107 123]\", \"line\": {\"color\": \"#CC7C33\"}, \"mode\": \"lines\", \"name\": \"indicator 0\", \"opacity\": 1, \"showlegend\": false, \"type\": \"scatter\", \"x\": [6.348037236518117, 5.5454666128627075], \"y\": [27, 27]}, {\"hovertemplate\": \"<i>id</i>: 43<br><b>rep</b>: [172 203 143 137]\", \"line\": {\"color\": \"#3F4142\"}, \"mode\": \"lines\", \"name\": \"indicator 1\", \"opacity\": 0.2, \"showlegend\": false, \"type\": \"scatter\", \"x\": [6.387457048226617, 5.865907903133397], \"y\": [28, 28]}, {\"hovertemplate\": \"<i>id</i>: 14<br><b>rep</b>: [185 164 220 141]\", \"line\": {\"color\": \"#3F4142\"}, \"mode\": \"lines\", \"name\": \"indicator 1\", \"opacity\": 0.2, \"showlegend\": false, \"type\": \"scatter\", \"x\": [6.394055754303082, 5.865907903133397], \"y\": [29, 29]}, {\"hovertemplate\": \"<i>id</i>: 64<br><b>rep</b>: [205 101 149 182]\", \"line\": {\"color\": \"#CC7C33\"}, \"mode\": \"lines\", \"name\": \"indicator 0\", \"opacity\": 1, \"showlegend\": false, \"type\": \"scatter\", \"x\": [6.4213674350465935, 5.946264348173306], \"y\": [30, 30]}, {\"hovertemplate\": \"<i>id</i>: 13<br><b>rep</b>: [215 114 158 156]\", \"line\": {\"color\": \"#3F4142\"}, \"mode\": \"lines\", \"name\": \"indicator 1\", \"opacity\": 0.2, \"showlegend\": false, \"type\": \"scatter\", \"x\": [6.48660220136189, 5.6320973755353885], \"y\": [31, 31]}, {\"hovertemplate\": \"<i>id</i>: 10<br><b>rep</b>: [208 214 141 133]\", \"line\": {\"color\": \"#3F4142\"}, \"mode\": \"lines\", \"name\": \"indicator 1\", \"opacity\": 0.2, \"showlegend\": false, \"type\": \"scatter\", \"x\": [6.599293764594221, 5.125157740115405], \"y\": [32, 32]}, {\"hovertemplate\": \"<i>id</i>: 71<br><b>rep</b>: [213 227 194 112]\", \"line\": {\"color\": \"#CC7C33\"}, \"mode\": \"lines\", \"name\": \"indicator 0\", \"opacity\": 1, \"showlegend\": false, \"type\": \"scatter\", \"x\": [6.635823737942863, 5.5288405556922315], \"y\": [33, 33]}, {\"hovertemplate\": \"<i>id</i>: 0<br><b>rep</b>: [178 192 187 249]\", \"line\": {\"color\": \"#3F4142\"}, \"mode\": \"lines\", \"name\": \"indicator 1\", \"opacity\": 0.2, \"showlegend\": false, \"type\": \"scatter\", \"x\": [6.792394457124896, 5.857689902186825], \"y\": [34, 34]}, {\"hovertemplate\": \"<i>id</i>: 51<br><b>rep</b>: [116 197 112 144]\", \"line\": {\"color\": \"#CC7C33\"}, \"mode\": \"lines\", \"name\": \"indicator 0\", \"opacity\": 1, \"showlegend\": false, \"type\": \"scatter\", \"x\": [6.833996214510417, 5.2892046437860785], \"y\": [35, 35]}, {\"hovertemplate\": \"<i>id</i>: 81<br><b>rep</b>: [162 179 115 242]\", \"line\": {\"color\": \"#CC7C33\"}, \"mode\": \"lines\", \"name\": \"indicator 0\", \"opacity\": 1, \"showlegend\": false, \"type\": \"scatter\", \"x\": [6.9805297047232635, 5.726679057486605], \"y\": [36, 36]}, {\"hovertemplate\": \"<i>id</i>: 26<br><b>rep</b>: [342 314 289 308]\", \"line\": {\"color\": \"#CC7C33\"}, \"mode\": \"lines\", \"name\": \"indicator 0\", \"opacity\": 1, \"showlegend\": false, \"type\": \"scatter\", \"x\": [5.001338866910404, 4.346922184894447], \"y\": [37, 37]}, {\"hovertemplate\": \"<i>id</i>: 88<br><b>rep</b>: [342 286 299 352]\", \"line\": {\"color\": \"#3F4142\"}, \"mode\": \"lines\", \"name\": \"indicator 1\", \"opacity\": 0.2, \"showlegend\": false, \"type\": \"scatter\", \"x\": [5.030578398742029, 4.035510309966354], \"y\": [38, 38]}, {\"hovertemplate\": \"<i>id</i>: 68<br><b>rep</b>: [319 303 308 273]\", \"line\": {\"color\": \"#3F4142\"}, \"mode\": \"lines\", \"name\": \"indicator 1\", \"opacity\": 0.2, \"showlegend\": false, \"type\": \"scatter\", \"x\": [5.0748951925968555, 4.269318640448317], \"y\": [39, 39]}, {\"hovertemplate\": \"<i>id</i>: 60<br><b>rep</b>: [343 320 306 300]\", \"line\": {\"color\": \"#CC7C33\"}, \"mode\": \"lines\", \"name\": \"indicator 0\", \"opacity\": 1, \"showlegend\": false, \"type\": \"scatter\", \"x\": [5.091947698443027, 4.227532855094781], \"y\": [40, 40]}, {\"hovertemplate\": \"<i>id</i>: 69<br><b>rep</b>: [254 271 260 282]\", \"line\": {\"color\": \"#3F4142\"}, \"mode\": \"lines\", \"name\": \"indicator 1\", \"opacity\": 0.2, \"showlegend\": false, \"type\": \"scatter\", \"x\": [5.115663163272108, 4.0436389594894715], \"y\": [41, 41]}, {\"hovertemplate\": \"<i>id</i>: 12<br><b>rep</b>: [297 321 270 279]\", \"line\": {\"color\": \"#CC7C33\"}, \"mode\": \"lines\", \"name\": \"indicator 0\", \"opacity\": 1, \"showlegend\": false, \"type\": \"scatter\", \"x\": [5.154758984454143, 4.422203525515922], \"y\": [42, 42]}, {\"hovertemplate\": \"<i>id</i>: 65<br><b>rep</b>: [260 327 267 358]\", \"line\": {\"color\": \"#3F4142\"}, \"mode\": \"lines\", \"name\": \"indicator 1\", \"opacity\": 0.2, \"showlegend\": false, \"type\": \"scatter\", \"x\": [5.223856387995003, 4.833390493408562], \"y\": [43, 43]}, {\"hovertemplate\": \"<i>id</i>: 50<br><b>rep</b>: [356 353 336 352]\", \"line\": {\"color\": \"#3F4142\"}, \"mode\": \"lines\", \"name\": \"indicator 1\", \"opacity\": 0.2, \"showlegend\": false, \"type\": \"scatter\", \"x\": [5.3348974105338085, 4.194486570994999], \"y\": [44, 44]}, {\"hovertemplate\": \"<i>id</i>: 53<br><b>rep</b>: [257 260 345 250]\", \"line\": {\"color\": \"#3F4142\"}, \"mode\": \"lines\", \"name\": \"indicator 1\", \"opacity\": 0.2, \"showlegend\": false, \"type\": \"scatter\", \"x\": [5.337682670469381, 4.490420108848657], \"y\": [45, 45]}, {\"hovertemplate\": \"<i>id</i>: 79<br><b>rep</b>: [287 253 324 251]\", \"line\": {\"color\": \"#3F4142\"}, \"mode\": \"lines\", \"name\": \"indicator 1\", \"opacity\": 0.2, \"showlegend\": false, \"type\": \"scatter\", \"x\": [5.337682670469381, 4.365574259737421], \"y\": [46, 46]}, {\"hovertemplate\": \"<i>id</i>: 80<br><b>rep</b>: [345 250 282 325]\", \"line\": {\"color\": \"#CC7C33\"}, \"mode\": \"lines\", \"name\": \"indicator 0\", \"opacity\": 1, \"showlegend\": false, \"type\": \"scatter\", \"x\": [5.474854615831578, 4.110388031997928], \"y\": [47, 47]}, {\"hovertemplate\": \"<i>id</i>: 27<br><b>rep</b>: [333 250 351 344]\", \"line\": {\"color\": \"#3F4142\"}, \"mode\": \"lines\", \"name\": \"indicator 1\", \"opacity\": 0.2, \"showlegend\": false, \"type\": \"scatter\", \"x\": [5.619296621739944, 4.468511143644], \"y\": [48, 48]}, {\"hovertemplate\": \"<i>id</i>: 11<br><b>rep</b>: [255 358 269 338]\", \"line\": {\"color\": \"#CC7C33\"}, \"mode\": \"lines\", \"name\": \"indicator 0\", \"opacity\": 1, \"showlegend\": false, \"type\": \"scatter\", \"x\": [5.622770807068898, 4.116510326556592], \"y\": [49, 49]}, {\"hovertemplate\": \"<i>id</i>: 84<br><b>rep</b>: [287 352 269 252]\", \"line\": {\"color\": \"#CC7C33\"}, \"mode\": \"lines\", \"name\": \"indicator 0\", \"opacity\": 1, \"showlegend\": false, \"type\": \"scatter\", \"x\": [5.622770807068898, 4.083048647709932], \"y\": [50, 50]}, {\"hovertemplate\": \"<i>id</i>: 2<br><b>rep</b>: [341 313 257 324]\", \"line\": {\"color\": \"#3F4142\"}, \"mode\": \"lines\", \"name\": \"indicator 1\", \"opacity\": 0.2, \"showlegend\": false, \"type\": \"scatter\", \"x\": [5.653709726888387, 4.756080827157376], \"y\": [51, 51]}, {\"hovertemplate\": \"<i>id</i>: 3<br><b>rep</b>: [280 272 304 292]\", \"line\": {\"color\": \"#CC7C33\"}, \"mode\": \"lines\", \"name\": \"indicator 0\", \"opacity\": 1, \"showlegend\": false, \"type\": \"scatter\", \"x\": [5.734144367814124, 4.314788907818891], \"y\": [52, 52]}, {\"hovertemplate\": \"<i>id</i>: 78<br><b>rep</b>: [339 305 321 319]\", \"line\": {\"color\": \"#3F4142\"}, \"mode\": \"lines\", \"name\": \"indicator 1\", \"opacity\": 0.2, \"showlegend\": false, \"type\": \"scatter\", \"x\": [5.905879976676882, 4.009981282140786], \"y\": [53, 53]}, {\"hovertemplate\": \"<i>id</i>: 59<br><b>rep</b>: [312 311 306 267]\", \"line\": {\"color\": \"#CC7C33\"}, \"mode\": \"lines\", \"name\": \"indicator 0\", \"opacity\": 1, \"showlegend\": false, \"type\": \"scatter\", \"x\": [5.966429727891737, 4.907954641709949], \"y\": [54, 54]}, {\"hovertemplate\": \"<i>id</i>: 73<br><b>rep</b>: [362 390 415 429]\", \"line\": {\"color\": \"#3F4142\"}, \"mode\": \"lines\", \"name\": \"indicator 1\", \"opacity\": 0.2, \"showlegend\": false, \"type\": \"scatter\", \"x\": [4.039907298080224, 3.198098018053035], \"y\": [55, 55]}, {\"hovertemplate\": \"<i>id</i>: 35<br><b>rep</b>: [413 425 416 391]\", \"line\": {\"color\": \"#CC7C33\"}, \"mode\": \"lines\", \"name\": \"indicator 0\", \"opacity\": 1, \"showlegend\": false, \"type\": \"scatter\", \"x\": [4.083048647709932, 3.501597333779646], \"y\": [56, 56]}, {\"hovertemplate\": \"<i>id</i>: 94<br><b>rep</b>: [386 432 389 428]\", \"line\": {\"color\": \"#3F4142\"}, \"mode\": \"lines\", \"name\": \"indicator 1\", \"opacity\": 0.2, \"showlegend\": false, \"type\": \"scatter\", \"x\": [4.116510326556592, 3.0976401256644057], \"y\": [57, 57]}, {\"hovertemplate\": \"<i>id</i>: 6<br><b>rep</b>: [417 434 382 398]\", \"line\": {\"color\": \"#CC7C33\"}, \"mode\": \"lines\", \"name\": \"indicator 0\", \"opacity\": 1, \"showlegend\": false, \"type\": \"scatter\", \"x\": [4.209228675058555, 3.737658377456473], \"y\": [58, 58]}, {\"hovertemplate\": \"<i>id</i>: 57<br><b>rep</b>: [446 365 428 448]\", \"line\": {\"color\": \"#CC7C33\"}, \"mode\": \"lines\", \"name\": \"indicator 0\", \"opacity\": 1, \"showlegend\": false, \"type\": \"scatter\", \"x\": [4.2400872736279664, 3.8520727487903974], \"y\": [59, 59]}, {\"hovertemplate\": \"<i>id</i>: 44<br><b>rep</b>: [362 372 420 371]\", \"line\": {\"color\": \"#3F4142\"}, \"mode\": \"lines\", \"name\": \"indicator 1\", \"opacity\": 0.2, \"showlegend\": false, \"type\": \"scatter\", \"x\": [4.346922184894447, 3.9394684435238725], \"y\": [60, 60]}, {\"hovertemplate\": \"<i>id</i>: 34<br><b>rep</b>: [415 423 389 410]\", \"line\": {\"color\": \"#3F4142\"}, \"mode\": \"lines\", \"name\": \"indicator 1\", \"opacity\": 0.2, \"showlegend\": false, \"type\": \"scatter\", \"x\": [4.368905495906725, 3.766889708492334], \"y\": [61, 61]}, {\"hovertemplate\": \"<i>id</i>: 99<br><b>rep</b>: [440 419 433 431]\", \"line\": {\"color\": \"#3F4142\"}, \"mode\": \"lines\", \"name\": \"indicator 1\", \"opacity\": 0.2, \"showlegend\": false, \"type\": \"scatter\", \"x\": [4.454442599639256, 3.4939308924386503], \"y\": [62, 62]}, {\"hovertemplate\": \"<i>id</i>: 40<br><b>rep</b>: [426 434 376 382]\", \"line\": {\"color\": \"#3F4142\"}, \"mode\": \"lines\", \"name\": \"indicator 1\", \"opacity\": 0.2, \"showlegend\": false, \"type\": \"scatter\", \"x\": [4.70692225734648, 3.973422167750025], \"y\": [63, 63]}, {\"hovertemplate\": \"<i>id</i>: 75<br><b>rep</b>: [441 369 360 397]\", \"line\": {\"color\": \"#3F4142\"}, \"mode\": \"lines\", \"name\": \"indicator 1\", \"opacity\": 0.2, \"showlegend\": false, \"type\": \"scatter\", \"x\": [4.741850675683413, 3.7503320209086497], \"y\": [64, 64]}, {\"hovertemplate\": \"<i>id</i>: 32<br><b>rep</b>: [423 379 395 408]\", \"line\": {\"color\": \"#CC7C33\"}, \"mode\": \"lines\", \"name\": \"indicator 0\", \"opacity\": 1, \"showlegend\": false, \"type\": \"scatter\", \"x\": [4.833390493408562, 3.716628861736811], \"y\": [65, 65]}, {\"hovertemplate\": \"<i>id</i>: 23<br><b>rep</b>: [430 399 360 392]\", \"line\": {\"color\": \"#CC7C33\"}, \"mode\": \"lines\", \"name\": \"indicator 0\", \"opacity\": 1, \"showlegend\": false, \"type\": \"scatter\", \"x\": [4.992752284155715, 3.645928243066991], \"y\": [66, 66]}, {\"hovertemplate\": \"<i>id</i>: 38<br><b>rep</b>: [459 473 460 480]\", \"line\": {\"color\": \"#CC7C33\"}, \"mode\": \"lines\", \"name\": \"indicator 0\", \"opacity\": 1, \"showlegend\": false, \"type\": \"scatter\", \"x\": [3.03529866720742, 2.938259403832843], \"y\": [67, 67]}, {\"hovertemplate\": \"<i>id</i>: 19<br><b>rep</b>: [472 450 452 462]\", \"line\": {\"color\": \"#3F4142\"}, \"mode\": \"lines\", \"name\": \"indicator 1\", \"opacity\": 0.2, \"showlegend\": false, \"type\": \"scatter\", \"x\": [3.0976401256644057, 2.552644817424506], \"y\": [68, 68]}, {\"hovertemplate\": \"<i>id</i>: 76<br><b>rep</b>: [479 478 487 463]\", \"line\": {\"color\": \"#CC7C33\"}, \"mode\": \"lines\", \"name\": \"indicator 0\", \"opacity\": 1, \"showlegend\": false, \"type\": \"scatter\", \"x\": [3.107528745869529, 2.6161684936364793], \"y\": [69, 69]}, {\"hovertemplate\": \"<i>id</i>: 96<br><b>rep</b>: [470 455 485 451]\", \"line\": {\"color\": \"#CC7C33\"}, \"mode\": \"lines\", \"name\": \"indicator 0\", \"opacity\": 1, \"showlegend\": false, \"type\": \"scatter\", \"x\": [3.175454055539553, 2.50461166127586], \"y\": [70, 70]}, {\"hovertemplate\": \"<i>id</i>: 29<br><b>rep</b>: [457 461 482 465]\", \"line\": {\"color\": \"#CC7C33\"}, \"mode\": \"lines\", \"name\": \"indicator 0\", \"opacity\": 1, \"showlegend\": false, \"type\": \"scatter\", \"x\": [3.375748938101691, 2.4816855379870795], \"y\": [71, 71]}, {\"hovertemplate\": \"<i>id</i>: 83<br><b>rep</b>: [488 484 462 473]\", \"line\": {\"color\": \"#CC7C33\"}, \"mode\": \"lines\", \"name\": \"indicator 0\", \"opacity\": 1, \"showlegend\": false, \"type\": \"scatter\", \"x\": [3.375748938101691, 2.5344511725733585], \"y\": [72, 72]}, {\"hovertemplate\": \"<i>id</i>: 98<br><b>rep</b>: [465 452 471 477]\", \"line\": {\"color\": \"#3F4142\"}, \"mode\": \"lines\", \"name\": \"indicator 1\", \"opacity\": 0.2, \"showlegend\": false, \"type\": \"scatter\", \"x\": [3.375748938101691, 2.524166589921519], \"y\": [73, 73]}, {\"hovertemplate\": \"<i>id</i>: 21<br><b>rep</b>: [473 454 451 456]\", \"line\": {\"color\": \"#CC7C33\"}, \"mode\": \"lines\", \"name\": \"indicator 0\", \"opacity\": 1, \"showlegend\": false, \"type\": \"scatter\", \"x\": [3.4939308924386503, 2.524166589921519], \"y\": [74, 74]}, {\"hovertemplate\": \"<i>id</i>: 58<br><b>rep</b>: [465 471 469 457]\", \"line\": {\"color\": \"#CC7C33\"}, \"mode\": \"lines\", \"name\": \"indicator 0\", \"opacity\": 1, \"showlegend\": false, \"type\": \"scatter\", \"x\": [3.501597333779646, 2.1660623888877257], \"y\": [75, 75]}, {\"hovertemplate\": \"<i>id</i>: 49<br><b>rep</b>: [472 481 479 487]\", \"line\": {\"color\": \"#CC7C33\"}, \"mode\": \"lines\", \"name\": \"indicator 0\", \"opacity\": 1, \"showlegend\": false, \"type\": \"scatter\", \"x\": [3.538771733011007, 2.50461166127586], \"y\": [76, 76]}, {\"hovertemplate\": \"<i>id</i>: 82<br><b>rep</b>: [474 465 486 455]\", \"line\": {\"color\": \"#CC7C33\"}, \"mode\": \"lines\", \"name\": \"indicator 0\", \"opacity\": 1, \"showlegend\": false, \"type\": \"scatter\", \"x\": [3.538771733011007, 2.1680018715512364], \"y\": [77, 77]}, {\"hovertemplate\": \"<i>id</i>: 36<br><b>rep</b>: [489 461 480 456]\", \"line\": {\"color\": \"#3F4142\"}, \"mode\": \"lines\", \"name\": \"indicator 1\", \"opacity\": 0.2, \"showlegend\": false, \"type\": \"scatter\", \"x\": [3.641365944592879, 2.5344511725733585], \"y\": [78, 78]}, {\"hovertemplate\": \"<i>id</i>: 67<br><b>rep</b>: [476 483 464 456]\", \"line\": {\"color\": \"#CC7C33\"}, \"mode\": \"lines\", \"name\": \"indicator 0\", \"opacity\": 1, \"showlegend\": false, \"type\": \"scatter\", \"x\": [3.641365944592879, 2.718385968715889], \"y\": [79, 79]}, {\"hovertemplate\": \"<i>id</i>: 85<br><b>rep</b>: [480 484 457 489]\", \"line\": {\"color\": \"#3F4142\"}, \"mode\": \"lines\", \"name\": \"indicator 1\", \"opacity\": 0.2, \"showlegend\": false, \"type\": \"scatter\", \"x\": [3.645928243066991, 2.5347639759042027], \"y\": [80, 80]}, {\"hovertemplate\": \"<i>id</i>: 15<br><b>rep</b>: [479 486 472 465]\", \"line\": {\"color\": \"#CC7C33\"}, \"mode\": \"lines\", \"name\": \"indicator 0\", \"opacity\": 1, \"showlegend\": false, \"type\": \"scatter\", \"x\": [3.737658377456473, 2.743689506421095], \"y\": [81, 81]}, {\"hovertemplate\": \"<i>id</i>: 52<br><b>rep</b>: [481 469 476 486]\", \"line\": {\"color\": \"#CC7C33\"}, \"mode\": \"lines\", \"name\": \"indicator 0\", \"opacity\": 1, \"showlegend\": false, \"type\": \"scatter\", \"x\": [3.7503320209086497, 2.595695654830487], \"y\": [82, 82]}, {\"hovertemplate\": \"<i>id</i>: 22<br><b>rep</b>: [480 450 460 466]\", \"line\": {\"color\": \"#CC7C33\"}, \"mode\": \"lines\", \"name\": \"indicator 0\", \"opacity\": 1, \"showlegend\": false, \"type\": \"scatter\", \"x\": [3.766889708492334, 2.827756641914416], \"y\": [83, 83]}, {\"hovertemplate\": \"<i>id</i>: 37<br><b>rep</b>: [480 478 472 464]\", \"line\": {\"color\": \"#3F4142\"}, \"mode\": \"lines\", \"name\": \"indicator 1\", \"opacity\": 0.2, \"showlegend\": false, \"type\": \"scatter\", \"x\": [3.8520727487903974, 2.517469140750224], \"y\": [84, 84]}, {\"hovertemplate\": \"<i>id</i>: 74<br><b>rep</b>: [466 453 461 484]\", \"line\": {\"color\": \"#3F4142\"}, \"mode\": \"lines\", \"name\": \"indicator 1\", \"opacity\": 0.2, \"showlegend\": false, \"type\": \"scatter\", \"x\": [3.8605387939113873, 2.392966001719074], \"y\": [85, 85]}, {\"hovertemplate\": \"<i>id</i>: 89<br><b>rep</b>: [478 481 453 466]\", \"line\": {\"color\": \"#3F4142\"}, \"mode\": \"lines\", \"name\": \"indicator 1\", \"opacity\": 0.2, \"showlegend\": false, \"type\": \"scatter\", \"x\": [3.973422167750025, 2.684609830139574], \"y\": [86, 86]}, {\"hovertemplate\": \"<i>id</i>: 4<br><b>rep</b>: [519 516 497 493]\", \"line\": {\"color\": \"#CC7C33\"}, \"mode\": \"lines\", \"name\": \"indicator 0\", \"opacity\": 1, \"showlegend\": false, \"type\": \"scatter\", \"x\": [2.006780573013361, 1.392421669384479], \"y\": [87, 87]}, {\"hovertemplate\": \"<i>id</i>: 92<br><b>rep</b>: [514 495 505 493]\", \"line\": {\"color\": \"#CC7C33\"}, \"mode\": \"lines\", \"name\": \"indicator 0\", \"opacity\": 1, \"showlegend\": false, \"type\": \"scatter\", \"x\": [2.0190087791867506, 1.445962644041875], \"y\": [88, 88]}, {\"hovertemplate\": \"<i>id</i>: 54<br><b>rep</b>: [499 490 504 512]\", \"line\": {\"color\": \"#CC7C33\"}, \"mode\": \"lines\", \"name\": \"indicator 0\", \"opacity\": 1, \"showlegend\": false, \"type\": \"scatter\", \"x\": [2.1680018715512364, 1.4706637071164463], \"y\": [89, 89]}, {\"hovertemplate\": \"<i>id</i>: 8<br><b>rep</b>: [491 517 504 495]\", \"line\": {\"color\": \"#CC7C33\"}, \"mode\": \"lines\", \"name\": \"indicator 0\", \"opacity\": 1, \"showlegend\": false, \"type\": \"scatter\", \"x\": [2.2487941368712243, 1.5793294885920435], \"y\": [90, 90]}, {\"hovertemplate\": \"<i>id</i>: 56<br><b>rep</b>: [504 502 517 516]\", \"line\": {\"color\": \"#CC7C33\"}, \"mode\": \"lines\", \"name\": \"indicator 0\", \"opacity\": 1, \"showlegend\": false, \"type\": \"scatter\", \"x\": [2.359007883912835, 1.392421669384479], \"y\": [91, 91]}, {\"hovertemplate\": \"<i>id</i>: 97<br><b>rep</b>: [508 491 511 497]\", \"line\": {\"color\": \"#3F4142\"}, \"mode\": \"lines\", \"name\": \"indicator 1\", \"opacity\": 0.2, \"showlegend\": false, \"type\": \"scatter\", \"x\": [2.517469140750224, 1.5246961436061275], \"y\": [92, 92]}, {\"hovertemplate\": \"<i>id</i>: 33<br><b>rep</b>: [500 507 519 493]\", \"line\": {\"color\": \"#3F4142\"}, \"mode\": \"lines\", \"name\": \"indicator 1\", \"opacity\": 0.2, \"showlegend\": false, \"type\": \"scatter\", \"x\": [2.524166589921519, 1.445962644041875], \"y\": [93, 93]}, {\"hovertemplate\": \"<i>id</i>: 24<br><b>rep</b>: [497 507 501 509]\", \"line\": {\"color\": \"#3F4142\"}, \"mode\": \"lines\", \"name\": \"indicator 1\", \"opacity\": 0.2, \"showlegend\": false, \"type\": \"scatter\", \"x\": [2.595695654830487, 1.8684402341839674], \"y\": [94, 94]}, {\"hovertemplate\": \"<i>id</i>: 45<br><b>rep</b>: [490 491 497 493]\", \"line\": {\"color\": \"#3F4142\"}, \"mode\": \"lines\", \"name\": \"indicator 1\", \"opacity\": 0.2, \"showlegend\": false, \"type\": \"scatter\", \"x\": [2.595695654830487, 1.178520371452846], \"y\": [95, 95]}, {\"hovertemplate\": \"<i>id</i>: 90<br><b>rep</b>: [494 508 503 500]\", \"line\": {\"color\": \"#CC7C33\"}, \"mode\": \"lines\", \"name\": \"indicator 0\", \"opacity\": 1, \"showlegend\": false, \"type\": \"scatter\", \"x\": [2.595695654830487, 1.8041755751985615], \"y\": [96, 96]}, {\"hovertemplate\": \"<i>id</i>: 63<br><b>rep</b>: [507 498 515 500]\", \"line\": {\"color\": \"#CC7C33\"}, \"mode\": \"lines\", \"name\": \"indicator 0\", \"opacity\": 1, \"showlegend\": false, \"type\": \"scatter\", \"x\": [2.6524124094640595, 1.7597826291035856], \"y\": [97, 97]}, {\"hovertemplate\": \"<i>id</i>: 46<br><b>rep</b>: [501 516 518 517]\", \"line\": {\"color\": \"#CC7C33\"}, \"mode\": \"lines\", \"name\": \"indicator 0\", \"opacity\": 1, \"showlegend\": false, \"type\": \"scatter\", \"x\": [2.743689506421095, 1.5246961436061275], \"y\": [98, 98]}, {\"hovertemplate\": \"<i>id</i>: 1<br><b>rep</b>: [497 515 506 507]\", \"line\": {\"color\": \"#3F4142\"}, \"mode\": \"lines\", \"name\": \"indicator 1\", \"opacity\": 0.2, \"showlegend\": false, \"type\": \"scatter\", \"x\": [2.827756641914416, 1.4812104134137618], \"y\": [99, 99]}, {\"hovertemplate\": \"<i>id</i>: 61<br><b>rep</b>: [511 495 496 515]\", \"line\": {\"color\": \"#CC7C33\"}, \"mode\": \"lines\", \"name\": \"indicator 0\", \"opacity\": 1, \"showlegend\": false, \"type\": \"scatter\", \"x\": [2.8403435016216396, 1.8846530499459726], \"y\": [100, 100]}],                        {\"hovermode\": \"x unified\", \"legend\": {\"orientation\": \"h\", \"x\": 1, \"xanchor\": \"right\", \"y\": 1.02, \"yanchor\": \"bottom\"}, \"template\": {\"data\": {\"scatter\": [{\"marker\": {\"symbol\": \"circle\"}, \"type\": \"scatter\"}]}, \"layout\": {\"colorscale\": {\"sequential\": [[0.0, \"rgb(44, 26, 76)\"], [0.1, \"rgb(40, 59, 110)\"], [0.2, \"rgb(42, 94, 151)\"], [0.3, \"rgb(68, 117, 193)\"], [0.4, \"rgb(96, 137, 190)\"], [0.5, \"rgb(125, 156, 181)\"], [0.6, \"rgb(155, 175, 172)\"], [0.7, \"rgb(186, 196, 163)\"], [0.8, \"rgb(215, 217, 161)\"], [0.9, \"rgb(237, 236, 206)\"], [1.0, \"rgb(255, 255, 255)\"]]}, \"colorway\": [\"rgb(44, 26, 76)\", \"rgb(40, 59, 110)\", \"rgb(42, 94, 151)\", \"rgb(68, 117, 193)\", \"rgb(96, 137, 190)\", \"rgb(125, 156, 181)\", \"rgb(155, 175, 172)\", \"rgb(186, 196, 163)\", \"rgb(215, 217, 161)\", \"rgb(237, 236, 206)\", \"rgb(255, 255, 255)\"], \"font\": {\"color\": \"#3f4142\", \"family\": \"Avenir\"}, \"paper_bgcolor\": \"#fff\", \"plot_bgcolor\": \"#fff\", \"violingap\": 0.4, \"xaxis\": {\"color\": \"#3f4142\", \"gridcolor\": \"#ebf0f2\", \"gridwidth\": 0.5, \"linewidth\": 1}, \"yaxis\": {\"color\": \"#3f4142\", \"gridcolor\": \"#ebf0f2\", \"gridwidth\": 0.5, \"linewidth\": 1}}}, \"title\": {\"text\": \"Barcode\"}, \"xaxis\": {\"title\": {\"text\": \"Filtration index\"}}, \"yaxis\": {\"title\": {\"text\": \"H_k\"}}},                        {\"responsive\": true}                    ).then(function(){\n",
       "                            \n",
       "var gd = document.getElementById('6dd297ea-94a2-4605-9b4c-e6d7b89c3e3f');\n",
       "var x = new MutationObserver(function (mutations, observer) {{\n",
       "        var display = window.getComputedStyle(gd).display;\n",
       "        if (!display || display === 'none') {{\n",
       "            console.log([gd, 'removed!']);\n",
       "            Plotly.purge(gd);\n",
       "            observer.disconnect();\n",
       "        }}\n",
       "}});\n",
       "\n",
       "// Listen for the removal of the full notebook cells\n",
       "var notebookContainer = gd.closest('#notebook-container');\n",
       "if (notebookContainer) {{\n",
       "    x.observe(notebookContainer, {childList: true});\n",
       "}}\n",
       "\n",
       "// Listen for the clearing of the current output cell\n",
       "var outputEl = gd.closest('.output');\n",
       "if (outputEl) {{\n",
       "    x.observe(outputEl, {childList: true});\n",
       "}}\n",
       "\n",
       "                        })                };                });            </script>        </div>"
      ]
     },
     "metadata": {},
     "output_type": "display_data"
    }
   ],
   "source": [
    "### Color by a node involved in something or some sort of indicator column\n",
    "\n",
    "bar_df[\"indicator\"] = [np.random.randint(0, 2) for i in np.arange(bar_df.shape[0])]\n",
    "bar_df.head()\n",
    "\n",
    "on_off_colors = [\"#CC7C33\", \"#3F4142\"]\n",
    "on_off_opacity = [1, 0.2]\n",
    "\n",
    "fig = go.Figure()\n",
    "bar_df_sorted = bar_df.sort_values(by=[\"bar_dim\", \"bar_birth\"])\n",
    "bar_df_sorted = bar_df_sorted.reset_index(drop=True)\n",
    "\n",
    "counter = 0\n",
    "for b,bar in bar_df_sorted.iterrows():\n",
    "    \n",
    "    if (bar_df_sorted.iloc[b-1][\"indicator\"] != bar[\"indicator\"]) & (counter < 2) :\n",
    "        showlegendtf = True\n",
    "        counter = counter +1\n",
    "        print(counter)\n",
    "    else :\n",
    "        showlegendtf = False\n",
    "\n",
    "\n",
    "    fig.add_trace(go.Scatter(x=[bar[\"bar_birth\"], bar[\"bar_death\"]], y=[b+1, b+1],\n",
    "                    mode='lines',\n",
    "                    name=f'indicator {bar[\"indicator\"]}',\n",
    "                    opacity = on_off_opacity[bar[\"indicator\"]],\n",
    "                    showlegend=showlegendtf,\n",
    "                    line=dict(color=on_off_colors[int(bar[\"indicator\"])]),\n",
    "                    hovertemplate =\n",
    "                        f'<i>id</i>: {bar[\"bar_id\"]}'+\n",
    "                        f'<br><b>rep</b>: {bar[\"rep\"]}'))\n",
    "\n",
    "\n",
    "\n",
    "# Add nice effects and such\n",
    "fig.update_layout(title_text=\"Barcode\")\n",
    "fig.update_yaxes(title_text = \"H_k\")\n",
    "fig.update_xaxes(title_text = \"Filtration index\")\n",
    "fig.update_layout(legend=dict(\n",
    "    orientation=\"h\",\n",
    "    yanchor=\"bottom\",\n",
    "    y=1.02,\n",
    "    xanchor=\"right\",\n",
    "    x=1\n",
    "))\n",
    "fig.update_layout(hovermode=\"x unified\")\n",
    "fig.show()"
   ]
  },
  {
   "cell_type": "code",
   "execution_count": 9,
   "metadata": {},
   "outputs": [
    {
     "ename": "NameError",
     "evalue": "name 'matplotlib' is not defined",
     "output_type": "error",
     "traceback": [
      "\u001b[0;31m---------------------------------------------------------------------------\u001b[0m",
      "\u001b[0;31mNameError\u001b[0m                                 Traceback (most recent call last)",
      "\u001b[0;32m<ipython-input-9-2452bc9e090f>\u001b[0m in \u001b[0;36m<module>\u001b[0;34m\u001b[0m\n\u001b[1;32m      8\u001b[0m \u001b[0mvmax\u001b[0m \u001b[0;34m=\u001b[0m \u001b[0mnp\u001b[0m\u001b[0;34m.\u001b[0m\u001b[0mmax\u001b[0m\u001b[0;34m(\u001b[0m\u001b[0mbar_df\u001b[0m\u001b[0;34m[\u001b[0m\u001b[0mcol_of_interest\u001b[0m\u001b[0;34m]\u001b[0m\u001b[0;34m)\u001b[0m\u001b[0;34m\u001b[0m\u001b[0;34m\u001b[0m\u001b[0m\n\u001b[1;32m      9\u001b[0m \u001b[0;34m\u001b[0m\u001b[0m\n\u001b[0;32m---> 10\u001b[0;31m \u001b[0mnorm\u001b[0m \u001b[0;34m=\u001b[0m \u001b[0mmatplotlib\u001b[0m\u001b[0;34m.\u001b[0m\u001b[0mcolors\u001b[0m\u001b[0;34m.\u001b[0m\u001b[0mNormalize\u001b[0m\u001b[0;34m(\u001b[0m\u001b[0mvmin\u001b[0m\u001b[0;34m=\u001b[0m\u001b[0mvmin\u001b[0m\u001b[0;34m,\u001b[0m \u001b[0mvmax\u001b[0m\u001b[0;34m=\u001b[0m\u001b[0mvmax\u001b[0m\u001b[0;34m)\u001b[0m\u001b[0;34m\u001b[0m\u001b[0;34m\u001b[0m\u001b[0m\n\u001b[0m\u001b[1;32m     11\u001b[0m \u001b[0mcmap\u001b[0m \u001b[0;34m=\u001b[0m \u001b[0mmatplotlib\u001b[0m\u001b[0;34m.\u001b[0m\u001b[0mcm\u001b[0m\u001b[0;34m.\u001b[0m\u001b[0mget_cmap\u001b[0m\u001b[0;34m(\u001b[0m\u001b[0;34m'cividis'\u001b[0m\u001b[0;34m)\u001b[0m\u001b[0;34m\u001b[0m\u001b[0;34m\u001b[0m\u001b[0m\n\u001b[1;32m     12\u001b[0m \u001b[0;34m\u001b[0m\u001b[0m\n",
      "\u001b[0;31mNameError\u001b[0m: name 'matplotlib' is not defined"
     ]
    }
   ],
   "source": [
    "### Color by numeric value - such as persistence or number of nodes/simplices in generator\n",
    "\n",
    "\n",
    "col_of_interest = \"indicator\"\n",
    "\n",
    "bar_df[col_of_interest] = [np.random.rand() for i in np.arange(bar_df.shape[0])]\n",
    "vmin = np.min(bar_df[col_of_interest])\n",
    "vmax = np.max(bar_df[col_of_interest])\n",
    "\n",
    "norm = matplotlib.colors.Normalize(vmin=vmin, vmax=vmax)\n",
    "cmap = matplotlib.cm.get_cmap('cividis')\n",
    "\n",
    "\n",
    "fig = go.Figure()\n",
    "bar_df_sorted = bar_df.sort_values(by=[\"bar_dim\", \"bar_birth\"])\n",
    "bar_df_sorted = bar_df_sorted.reset_index(drop=True)\n",
    "\n",
    "\n",
    "for b,bar in bar_df_sorted.iterrows():\n",
    "    \n",
    "    if (b==1) :\n",
    "        showlegendtf = True\n",
    "    else :\n",
    "        showlegendtf = False\n",
    "        \n",
    "\n",
    "    fig.add_trace(go.Scatter(x=[bar[\"bar_birth\"], bar[\"bar_death\"]], y=[b+1, b+1],\n",
    "                    mode='lines+markers',\n",
    "                    marker = dict(size=0.1,\n",
    "                                  showscale = showlegendtf,\n",
    "                                  colorscale='cividis',\n",
    "                                  cmin=0,\n",
    "                                  cmax=50,\n",
    "                                  colorbar = dict(title=col_of_interest)),\n",
    "                    name=f'bar {bar[\"bar_id\"]}',\n",
    "                    showlegend=False,\n",
    "                    line=dict(color=f'rgba{cmap(norm(bar[col_of_interest]))}'),\n",
    "                    hovertemplate =\n",
    "                        f'<i>id</i>: {bar[\"bar_id\"]}'+\n",
    "                        f'<br>rep: {bar[\"rep\"]}'+\n",
    "                        f'<br><b>{col_of_interest}</b>: {bar[col_of_interest]}'))\n",
    "\n",
    "\n",
    "\n",
    "# Add nice effects and such\n",
    "fig.update_layout(title_text=\"Barcode\")\n",
    "fig.update_yaxes(title_text = \"H_k\")\n",
    "fig.update_xaxes(title_text = \"Filtration index\")\n",
    "fig.update_layout(legend=dict(\n",
    "    orientation=\"h\",\n",
    "    yanchor=\"bottom\",\n",
    "    y=1.02,\n",
    "    xanchor=\"right\",\n",
    "    x=1\n",
    "))\n",
    "fig.update_layout(hovermode=\"x unified\")\n",
    "fig.show()\n"
   ]
  }
 ],
 "metadata": {
  "kernelspec": {
   "display_name": "Python 3",
   "language": "python",
   "name": "python3"
  },
  "language_info": {
   "codemirror_mode": {
    "name": "ipython",
    "version": 3
   },
   "file_extension": ".py",
   "mimetype": "text/x-python",
   "name": "python",
   "nbconvert_exporter": "python",
   "pygments_lexer": "ipython3",
   "version": "3.8.6"
  }
 },
 "nbformat": 4,
 "nbformat_minor": 4
}
