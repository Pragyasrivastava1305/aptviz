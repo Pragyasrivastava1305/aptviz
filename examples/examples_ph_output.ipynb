{
 "cells": [
  {
   "cell_type": "markdown",
   "metadata": {},
   "source": [
    "# PH output"
   ]
  },
  {
   "cell_type": "code",
   "execution_count": 1,
   "metadata": {},
   "outputs": [
    {
     "name": "stdout",
     "output_type": "stream",
     "text": [
      "Processing /home/jovyan\n",
      "Requirement already satisfied: plotly in /opt/conda/lib/python3.8/site-packages (from aptviz==0.0.1) (4.14.3)\n",
      "Requirement already satisfied: six in /opt/conda/lib/python3.8/site-packages (from plotly->aptviz==0.0.1) (1.15.0)\n",
      "Requirement already satisfied: retrying>=1.3.3 in /opt/conda/lib/python3.8/site-packages (from plotly->aptviz==0.0.1) (1.3.3)\n",
      "Building wheels for collected packages: aptviz\n",
      "  Building wheel for aptviz (setup.py) ... \u001b[?25ldone\n",
      "\u001b[?25h  Created wheel for aptviz: filename=aptviz-0.0.1-py3-none-any.whl size=4074 sha256=9b4753e5e084e90a7ed8fb5677d15d05884479923a39185ac210857609ae7a27\n",
      "  Stored in directory: /tmp/pip-ephem-wheel-cache-u2_f9gl1/wheels/fc/c4/49/78b5bd16ca276f2916d0829d47c131046b6e4575f7dd51e987\n",
      "Successfully built aptviz\n",
      "Installing collected packages: aptviz\n",
      "  Attempting uninstall: aptviz\n",
      "    Found existing installation: aptviz 0.0.1\n",
      "    Uninstalling aptviz-0.0.1:\n",
      "      Successfully uninstalled aptviz-0.0.1\n",
      "Successfully installed aptviz-0.0.1\n",
      "Note: you may need to restart the kernel to use updated packages.\n"
     ]
    }
   ],
   "source": [
    "pip install .."
   ]
  },
  {
   "cell_type": "code",
   "execution_count": 2,
   "metadata": {},
   "outputs": [],
   "source": [
    "## Load packages \n",
    "\n",
    "import numpy as np\n",
    "import sys\n",
    "import pandas as pd\n",
    "import networkx as nx\n",
    "import plotly.figure_factory as ff\n",
    "import plotly.express as px\n",
    "import plotly.graph_objects as go\n",
    "\n",
    "# sys.path.insert(1, \"../aptviz\")\n",
    "from aptviz import aptviz_themes\n",
    "from aptviz.supporting import *\n",
    "import plotly.io as pio\n",
    "\n",
    "# Load ExHACT visualization themes\n",
    "pio.templates.default = \"aptviz\"\n",
    "my_charcoal = \"#3f4142\""
   ]
  },
  {
   "cell_type": "code",
   "execution_count": 3,
   "metadata": {},
   "outputs": [
    {
     "name": "stdout",
     "output_type": "stream",
     "text": [
      "Created df with length 425. Expected 425.\n"
     ]
    },
    {
     "data": {
      "text/html": [
       "<div>\n",
       "<style scoped>\n",
       "    .dataframe tbody tr th:only-of-type {\n",
       "        vertical-align: middle;\n",
       "    }\n",
       "\n",
       "    .dataframe tbody tr th {\n",
       "        vertical-align: top;\n",
       "    }\n",
       "\n",
       "    .dataframe thead th {\n",
       "        text-align: right;\n",
       "    }\n",
       "</style>\n",
       "<table border=\"1\" class=\"dataframe\">\n",
       "  <thead>\n",
       "    <tr style=\"text-align: right;\">\n",
       "      <th></th>\n",
       "      <th>cell_id</th>\n",
       "      <th>dim</th>\n",
       "      <th>nodes</th>\n",
       "      <th>weight</th>\n",
       "      <th>faces</th>\n",
       "      <th>rank</th>\n",
       "      <th>is_maximal</th>\n",
       "    </tr>\n",
       "  </thead>\n",
       "  <tbody>\n",
       "    <tr>\n",
       "      <th>0</th>\n",
       "      <td>0</td>\n",
       "      <td>0</td>\n",
       "      <td>[0]</td>\n",
       "      <td>5.102835</td>\n",
       "      <td>[]</td>\n",
       "      <td>29.0</td>\n",
       "      <td>1</td>\n",
       "    </tr>\n",
       "    <tr>\n",
       "      <th>1</th>\n",
       "      <td>1</td>\n",
       "      <td>0</td>\n",
       "      <td>[1]</td>\n",
       "      <td>5.749967</td>\n",
       "      <td>[]</td>\n",
       "      <td>44.0</td>\n",
       "      <td>1</td>\n",
       "    </tr>\n",
       "    <tr>\n",
       "      <th>2</th>\n",
       "      <td>2</td>\n",
       "      <td>0</td>\n",
       "      <td>[2]</td>\n",
       "      <td>5.575383</td>\n",
       "      <td>[]</td>\n",
       "      <td>14.0</td>\n",
       "      <td>0</td>\n",
       "    </tr>\n",
       "    <tr>\n",
       "      <th>3</th>\n",
       "      <td>3</td>\n",
       "      <td>0</td>\n",
       "      <td>[3]</td>\n",
       "      <td>5.555838</td>\n",
       "      <td>[]</td>\n",
       "      <td>6.0</td>\n",
       "      <td>1</td>\n",
       "    </tr>\n",
       "    <tr>\n",
       "      <th>4</th>\n",
       "      <td>4</td>\n",
       "      <td>0</td>\n",
       "      <td>[4]</td>\n",
       "      <td>5.260795</td>\n",
       "      <td>[]</td>\n",
       "      <td>1.0</td>\n",
       "      <td>1</td>\n",
       "    </tr>\n",
       "  </tbody>\n",
       "</table>\n",
       "</div>"
      ],
      "text/plain": [
       "   cell_id  dim nodes    weight faces  rank  is_maximal\n",
       "0        0    0   [0]  5.102835    []  29.0           1\n",
       "1        1    0   [1]  5.749967    []  44.0           1\n",
       "2        2    0   [2]  5.575383    []  14.0           0\n",
       "3        3    0   [3]  5.555838    []   6.0           1\n",
       "4        4    0   [4]  5.260795    []   1.0           1"
      ]
     },
     "execution_count": 3,
     "metadata": {},
     "output_type": "execute_result"
    }
   ],
   "source": [
    "## Generate fake data\n",
    "n_nodes = 50\n",
    "n_simps = [n_nodes, 100, 150, 100, 20, 5]\n",
    "max_dim = len(n_simps)-1\n",
    "\n",
    "fsc_df = create_fake_fsc_df(n_nodes, n_simps, max_dim)\n",
    "fsc_df.head()"
   ]
  },
  {
   "cell_type": "code",
   "execution_count": 4,
   "metadata": {},
   "outputs": [
    {
     "data": {
      "text/html": [
       "<div>\n",
       "<style scoped>\n",
       "    .dataframe tbody tr th:only-of-type {\n",
       "        vertical-align: middle;\n",
       "    }\n",
       "\n",
       "    .dataframe tbody tr th {\n",
       "        vertical-align: top;\n",
       "    }\n",
       "\n",
       "    .dataframe thead th {\n",
       "        text-align: right;\n",
       "    }\n",
       "</style>\n",
       "<table border=\"1\" class=\"dataframe\">\n",
       "  <thead>\n",
       "    <tr style=\"text-align: right;\">\n",
       "      <th></th>\n",
       "      <th>bar_id</th>\n",
       "      <th>bar_dim</th>\n",
       "      <th>bar_birth</th>\n",
       "      <th>bar_death</th>\n",
       "      <th>rep</th>\n",
       "      <th>lifetime</th>\n",
       "    </tr>\n",
       "  </thead>\n",
       "  <tbody>\n",
       "    <tr>\n",
       "      <th>0</th>\n",
       "      <td>0</td>\n",
       "      <td>3</td>\n",
       "      <td>104.0</td>\n",
       "      <td>281.0</td>\n",
       "      <td>[86, 111, 89, 131]</td>\n",
       "      <td>177.0</td>\n",
       "    </tr>\n",
       "    <tr>\n",
       "      <th>1</th>\n",
       "      <td>1</td>\n",
       "      <td>2</td>\n",
       "      <td>107.0</td>\n",
       "      <td>225.0</td>\n",
       "      <td>[123, 149, 104, 138]</td>\n",
       "      <td>118.0</td>\n",
       "    </tr>\n",
       "    <tr>\n",
       "      <th>2</th>\n",
       "      <td>2</td>\n",
       "      <td>0</td>\n",
       "      <td>95.0</td>\n",
       "      <td>270.0</td>\n",
       "      <td>[52, 57, 63, 95]</td>\n",
       "      <td>175.0</td>\n",
       "    </tr>\n",
       "    <tr>\n",
       "      <th>3</th>\n",
       "      <td>3</td>\n",
       "      <td>2</td>\n",
       "      <td>85.0</td>\n",
       "      <td>198.0</td>\n",
       "      <td>[143, 94, 103, 120]</td>\n",
       "      <td>113.0</td>\n",
       "    </tr>\n",
       "    <tr>\n",
       "      <th>4</th>\n",
       "      <td>4</td>\n",
       "      <td>0</td>\n",
       "      <td>69.0</td>\n",
       "      <td>172.0</td>\n",
       "      <td>[56, 53, 130, 119]</td>\n",
       "      <td>103.0</td>\n",
       "    </tr>\n",
       "  </tbody>\n",
       "</table>\n",
       "</div>"
      ],
      "text/plain": [
       "   bar_id bar_dim  bar_birth  bar_death                   rep  lifetime\n",
       "0       0       3      104.0      281.0    [86, 111, 89, 131]     177.0\n",
       "1       1       2      107.0      225.0  [123, 149, 104, 138]     118.0\n",
       "2       2       0       95.0      270.0      [52, 57, 63, 95]     175.0\n",
       "3       3       2       85.0      198.0   [143, 94, 103, 120]     113.0\n",
       "4       4       0       69.0      172.0    [56, 53, 130, 119]     103.0"
      ]
     },
     "execution_count": 4,
     "metadata": {},
     "output_type": "execute_result"
    }
   ],
   "source": [
    "## Generate fake barcode from fsc USING RANK\n",
    "\n",
    "n_bars = 100\n",
    "bar_df = create_fake_barcode(fsc_df, n_bars)\n",
    "bar_df.head()"
   ]
  },
  {
   "cell_type": "code",
   "execution_count": 6,
   "metadata": {},
   "outputs": [
    {
     "data": {
      "application/vnd.plotly.v1+json": {
       "config": {
        "plotlyServerURL": "https://plot.ly"
       },
       "data": [
        {
         "customdata": [
          [
           [
            52,
            57,
            63,
            95
           ]
          ],
          [
           [
            56,
            53,
            130,
            119
           ]
          ],
          [
           [
            78,
            69,
            72,
            102
           ]
          ],
          [
           [
            80,
            109,
            92,
            145
           ]
          ],
          [
           [
            110,
            71,
            115,
            145
           ]
          ],
          [
           [
            93,
            126,
            57,
            51
           ]
          ],
          [
           [
            83,
            118,
            103,
            119
           ]
          ],
          [
           [
            85,
            149,
            55,
            77
           ]
          ],
          [
           [
            145,
            138,
            137,
            78
           ]
          ],
          [
           [
            106,
            135,
            89,
            131
           ]
          ],
          [
           [
            143,
            64,
            76,
            149
           ]
          ],
          [
           [
            109,
            51,
            79,
            96
           ]
          ],
          [
           [
            88,
            102,
            146,
            144
           ]
          ],
          [
           [
            50,
            83,
            133,
            56
           ]
          ],
          [
           [
            68,
            110,
            148,
            137
           ]
          ],
          [
           [
            122,
            61,
            99,
            84
           ]
          ],
          [
           [
            127,
            87,
            74,
            136
           ]
          ],
          [
           [
            124,
            73,
            56,
            77
           ]
          ],
          [
           [
            107,
            75,
            110,
            70
           ]
          ],
          [
           [
            91,
            120,
            114,
            92
           ]
          ]
         ],
         "hovertemplate": "bar_dim=0<br>bar_birth=%{x}<br>bar_death=%{y}<br>rep=%{customdata[0]}<extra></extra>",
         "legendgroup": "0",
         "marker": {
          "color": "rgb(44, 26, 76)",
          "line": {
           "color": "#3f4142",
           "width": 0.4
          },
          "opacity": 0.7,
          "size": 12,
          "symbol": "circle"
         },
         "mode": "markers",
         "name": "0",
         "orientation": "v",
         "showlegend": true,
         "type": "scatter",
         "x": [
          95,
          69,
          70,
          71,
          118,
          104,
          64,
          94,
          62,
          136,
          108,
          99,
          51,
          144,
          86,
          68,
          68,
          148,
          145,
          148
         ],
         "xaxis": "x",
         "y": [
          270,
          172,
          214,
          189,
          165,
          217,
          179,
          225,
          240,
          157,
          298,
          180,
          282,
          172,
          167,
          151,
          256,
          161,
          159,
          237
         ],
         "yaxis": "y"
        },
        {
         "customdata": [
          [
           [
            71,
            101,
            130,
            66
           ]
          ],
          [
           [
            75,
            98,
            90,
            138
           ]
          ],
          [
           [
            88,
            62,
            58,
            84
           ]
          ],
          [
           [
            58,
            70,
            136,
            116
           ]
          ],
          [
           [
            63,
            135,
            141,
            95
           ]
          ],
          [
           [
            130,
            114,
            100,
            90
           ]
          ],
          [
           [
            119,
            104,
            78,
            106
           ]
          ],
          [
           [
            142,
            125,
            80,
            143
           ]
          ],
          [
           [
            84,
            78,
            79,
            139
           ]
          ],
          [
           [
            144,
            124,
            60,
            112
           ]
          ],
          [
           [
            83,
            56,
            146,
            96
           ]
          ],
          [
           [
            85,
            55,
            90,
            127
           ]
          ],
          [
           [
            139,
            132,
            123,
            61
           ]
          ],
          [
           [
            106,
            80,
            69,
            109
           ]
          ],
          [
           [
            116,
            119,
            65,
            107
           ]
          ],
          [
           [
            67,
            61,
            116,
            146
           ]
          ],
          [
           [
            141,
            66,
            87,
            64
           ]
          ],
          [
           [
            95,
            124,
            88,
            67
           ]
          ],
          [
           [
            113,
            142,
            141,
            117
           ]
          ],
          [
           [
            75,
            80,
            89,
            63
           ]
          ],
          [
           [
            79,
            134,
            104,
            141
           ]
          ]
         ],
         "hovertemplate": "bar_dim=1<br>bar_birth=%{x}<br>bar_death=%{y}<br>rep=%{customdata[0]}<extra></extra>",
         "legendgroup": "1",
         "marker": {
          "color": "rgb(40, 59, 110)",
          "line": {
           "color": "#3f4142",
           "width": 0.4
          },
          "opacity": 0.7,
          "size": 12,
          "symbol": "circle"
         },
         "mode": "markers",
         "name": "1",
         "orientation": "v",
         "showlegend": true,
         "type": "scatter",
         "x": [
          57,
          97,
          95,
          124,
          62,
          147,
          85,
          77,
          144,
          105,
          122,
          88,
          115,
          117,
          147,
          82,
          145,
          143,
          110,
          52,
          97
         ],
         "xaxis": "x",
         "y": [
          259,
          225,
          274,
          226,
          265,
          190,
          219,
          150,
          231,
          220,
          299,
          226,
          238,
          268,
          159,
          169,
          195,
          196,
          195,
          296,
          170
         ],
         "yaxis": "y"
        },
        {
         "customdata": [
          [
           [
            123,
            149,
            104,
            138
           ]
          ],
          [
           [
            143,
            94,
            103,
            120
           ]
          ],
          [
           [
            90,
            84,
            65,
            121
           ]
          ],
          [
           [
            89,
            119,
            107,
            143
           ]
          ],
          [
           [
            108,
            113,
            112,
            82
           ]
          ],
          [
           [
            143,
            69,
            110,
            91
           ]
          ],
          [
           [
            108,
            50,
            143,
            100
           ]
          ],
          [
           [
            97,
            106,
            87,
            134
           ]
          ],
          [
           [
            124,
            143,
            116,
            79
           ]
          ],
          [
           [
            141,
            82,
            109,
            95
           ]
          ],
          [
           [
            116,
            143,
            144,
            111
           ]
          ],
          [
           [
            139,
            103,
            129,
            60
           ]
          ],
          [
           [
            93,
            80,
            74,
            59
           ]
          ],
          [
           [
            86,
            120,
            69,
            130
           ]
          ],
          [
           [
            61,
            55,
            80,
            117
           ]
          ],
          [
           [
            77,
            113,
            63,
            116
           ]
          ],
          [
           [
            101,
            64,
            104,
            111
           ]
          ]
         ],
         "hovertemplate": "bar_dim=2<br>bar_birth=%{x}<br>bar_death=%{y}<br>rep=%{customdata[0]}<extra></extra>",
         "legendgroup": "2",
         "marker": {
          "color": "rgb(42, 94, 151)",
          "line": {
           "color": "#3f4142",
           "width": 0.4
          },
          "opacity": 0.7,
          "size": 12,
          "symbol": "circle"
         },
         "mode": "markers",
         "name": "2",
         "orientation": "v",
         "showlegend": true,
         "type": "scatter",
         "x": [
          107,
          85,
          126,
          50,
          108,
          50,
          70,
          130,
          129,
          80,
          51,
          84,
          126,
          132,
          98,
          91,
          129
         ],
         "xaxis": "x",
         "y": [
          225,
          198,
          210,
          187,
          178,
          231,
          251,
          198,
          287,
          267,
          233,
          272,
          164,
          230,
          186,
          194,
          295
         ],
         "yaxis": "y"
        },
        {
         "customdata": [
          [
           [
            86,
            111,
            89,
            131
           ]
          ],
          [
           [
            50,
            149,
            120,
            110
           ]
          ],
          [
           [
            66,
            136,
            67,
            123
           ]
          ],
          [
           [
            95,
            135,
            109,
            144
           ]
          ],
          [
           [
            90,
            148,
            111,
            69
           ]
          ],
          [
           [
            52,
            141,
            112,
            76
           ]
          ],
          [
           [
            69,
            58,
            103,
            95
           ]
          ],
          [
           [
            64,
            93,
            131,
            115
           ]
          ],
          [
           [
            75,
            103,
            126,
            125
           ]
          ],
          [
           [
            55,
            102,
            126,
            149
           ]
          ],
          [
           [
            64,
            93,
            145,
            101
           ]
          ],
          [
           [
            99,
            56,
            110,
            70
           ]
          ],
          [
           [
            67,
            60,
            79,
            136
           ]
          ],
          [
           [
            67,
            127,
            59,
            131
           ]
          ],
          [
           [
            78,
            110,
            96,
            128
           ]
          ],
          [
           [
            69,
            117,
            57,
            127
           ]
          ],
          [
           [
            86,
            74,
            109,
            70
           ]
          ],
          [
           [
            53,
            116,
            81,
            111
           ]
          ],
          [
           [
            86,
            62,
            118,
            53
           ]
          ],
          [
           [
            113,
            97,
            116,
            108
           ]
          ],
          [
           [
            62,
            83,
            73,
            131
           ]
          ],
          [
           [
            101,
            142,
            103,
            70
           ]
          ],
          [
           [
            120,
            105,
            127,
            61
           ]
          ],
          [
           [
            119,
            52,
            107,
            122
           ]
          ],
          [
           [
            91,
            69,
            82,
            117
           ]
          ],
          [
           [
            78,
            127,
            131,
            136
           ]
          ],
          [
           [
            138,
            124,
            107,
            86
           ]
          ],
          [
           [
            111,
            122,
            66,
            132
           ]
          ]
         ],
         "hovertemplate": "bar_dim=3<br>bar_birth=%{x}<br>bar_death=%{y}<br>rep=%{customdata[0]}<extra></extra>",
         "legendgroup": "3",
         "marker": {
          "color": "rgb(68, 117, 193)",
          "line": {
           "color": "#3f4142",
           "width": 0.4
          },
          "opacity": 0.7,
          "size": 12,
          "symbol": "circle"
         },
         "mode": "markers",
         "name": "3",
         "orientation": "v",
         "showlegend": true,
         "type": "scatter",
         "x": [
          104,
          118,
          105,
          129,
          144,
          146,
          109,
          70,
          116,
          145,
          98,
          56,
          92,
          80,
          145,
          147,
          149,
          103,
          61,
          127,
          103,
          104,
          101,
          115,
          143,
          63,
          79,
          67
         ],
         "xaxis": "x",
         "y": [
          281,
          177,
          229,
          268,
          179,
          188,
          249,
          262,
          282,
          291,
          205,
          261,
          242,
          223,
          246,
          221,
          160,
          270,
          217,
          167,
          291,
          196,
          166,
          268,
          171,
          277,
          209,
          223
         ],
         "yaxis": "y"
        },
        {
         "customdata": [
          [
           [
            122,
            64,
            114,
            66
           ]
          ],
          [
           [
            56,
            71,
            92,
            66
           ]
          ],
          [
           [
            79,
            139,
            113,
            53
           ]
          ],
          [
           [
            142,
            143,
            146,
            129
           ]
          ],
          [
           [
            145,
            75,
            69,
            124
           ]
          ],
          [
           [
            147,
            149,
            94,
            128
           ]
          ],
          [
           [
            95,
            116,
            141,
            138
           ]
          ],
          [
           [
            50,
            64,
            88,
            56
           ]
          ],
          [
           [
            132,
            113,
            79,
            145
           ]
          ],
          [
           [
            106,
            147,
            142,
            149
           ]
          ],
          [
           [
            136,
            73,
            105,
            55
           ]
          ],
          [
           [
            56,
            96,
            79,
            109
           ]
          ],
          [
           [
            75,
            149,
            105,
            85
           ]
          ],
          [
           [
            63,
            129,
            55,
            146
           ]
          ]
         ],
         "hovertemplate": "bar_dim=4<br>bar_birth=%{x}<br>bar_death=%{y}<br>rep=%{customdata[0]}<extra></extra>",
         "legendgroup": "4",
         "marker": {
          "color": "rgb(96, 137, 190)",
          "line": {
           "color": "#3f4142",
           "width": 0.4
          },
          "opacity": 0.7,
          "size": 12,
          "symbol": "circle"
         },
         "mode": "markers",
         "name": "4",
         "orientation": "v",
         "showlegend": true,
         "type": "scatter",
         "x": [
          56,
          51,
          54,
          98,
          83,
          149,
          102,
          51,
          104,
          89,
          65,
          115,
          99,
          105
         ],
         "xaxis": "x",
         "y": [
          283,
          270,
          288,
          233,
          158,
          243,
          268,
          164,
          214,
          178,
          230,
          237,
          278,
          158
         ],
         "yaxis": "y"
        },
        {
         "line": {
          "color": "rgba(187, 190, 191, .9)",
          "width": 0.5
         },
         "mode": "lines",
         "opacity": 0.6,
         "showlegend": false,
         "type": "scatter",
         "x": [
          0,
          424
         ],
         "y": [
          0,
          424
         ]
        }
       ],
       "layout": {
        "legend": {
         "title": {
          "text": "bar_dim"
         },
         "tracegroupgap": 0
        },
        "template": {
         "data": {
          "scatter": [
           {
            "marker": {
             "symbol": "circle"
            },
            "type": "scatter"
           }
          ]
         },
         "layout": {
          "colorscale": {
           "sequential": [
            [
             0,
             "rgb(44, 26, 76)"
            ],
            [
             0.1,
             "rgb(40, 59, 110)"
            ],
            [
             0.2,
             "rgb(42, 94, 151)"
            ],
            [
             0.3,
             "rgb(68, 117, 193)"
            ],
            [
             0.4,
             "rgb(96, 137, 190)"
            ],
            [
             0.5,
             "rgb(125, 156, 181)"
            ],
            [
             0.6,
             "rgb(155, 175, 172)"
            ],
            [
             0.7,
             "rgb(186, 196, 163)"
            ],
            [
             0.8,
             "rgb(215, 217, 161)"
            ],
            [
             0.9,
             "rgb(237, 236, 206)"
            ],
            [
             1,
             "rgb(255, 255, 255)"
            ]
           ]
          },
          "colorway": [
           "rgb(44, 26, 76)",
           "rgb(40, 59, 110)",
           "rgb(42, 94, 151)",
           "rgb(68, 117, 193)",
           "rgb(96, 137, 190)",
           "rgb(125, 156, 181)",
           "rgb(155, 175, 172)",
           "rgb(186, 196, 163)",
           "rgb(215, 217, 161)",
           "rgb(237, 236, 206)",
           "rgb(255, 255, 255)"
          ],
          "font": {
           "color": "#3f4142",
           "family": "Avenir"
          },
          "paper_bgcolor": "#fff",
          "plot_bgcolor": "#fff",
          "violingap": 0.4,
          "xaxis": {
           "color": "#3f4142",
           "gridcolor": "#ebf0f2",
           "gridwidth": 0.5,
           "linewidth": 1
          },
          "yaxis": {
           "color": "#3f4142",
           "gridcolor": "#ebf0f2",
           "gridwidth": 0.5,
           "linewidth": 1
          }
         }
        },
        "title": {
         "text": "Persistence Diagrams (overlayed)"
        },
        "xaxis": {
         "anchor": "y",
         "constrain": "domain",
         "domain": [
          0,
          1
         ],
         "layer": "above traces",
         "range": [
          0,
          424
         ],
         "title": {
          "text": "birth"
         }
        },
        "yaxis": {
         "anchor": "x",
         "domain": [
          0,
          1
         ],
         "range": [
          0,
          424
         ],
         "scaleanchor": "x",
         "scaleratio": 1,
         "title": {
          "text": "death"
         }
        }
       }
      },
      "text/html": [
       "<div>                            <div id=\"35980c8a-7a6e-43d8-9f5c-63e1e61d64c4\" class=\"plotly-graph-div\" style=\"height:525px; width:100%;\"></div>            <script type=\"text/javascript\">                require([\"plotly\"], function(Plotly) {                    window.PLOTLYENV=window.PLOTLYENV || {};                                    if (document.getElementById(\"35980c8a-7a6e-43d8-9f5c-63e1e61d64c4\")) {                    Plotly.newPlot(                        \"35980c8a-7a6e-43d8-9f5c-63e1e61d64c4\",                        [{\"customdata\": [[[52, 57, 63, 95]], [[56, 53, 130, 119]], [[78, 69, 72, 102]], [[80, 109, 92, 145]], [[110, 71, 115, 145]], [[93, 126, 57, 51]], [[83, 118, 103, 119]], [[85, 149, 55, 77]], [[145, 138, 137, 78]], [[106, 135, 89, 131]], [[143, 64, 76, 149]], [[109, 51, 79, 96]], [[88, 102, 146, 144]], [[50, 83, 133, 56]], [[68, 110, 148, 137]], [[122, 61, 99, 84]], [[127, 87, 74, 136]], [[124, 73, 56, 77]], [[107, 75, 110, 70]], [[91, 120, 114, 92]]], \"hovertemplate\": \"bar_dim=0<br>bar_birth=%{x}<br>bar_death=%{y}<br>rep=%{customdata[0]}<extra></extra>\", \"legendgroup\": \"0\", \"marker\": {\"color\": \"rgb(44, 26, 76)\", \"line\": {\"color\": \"#3f4142\", \"width\": 0.4}, \"opacity\": 0.7, \"size\": 12, \"symbol\": \"circle\"}, \"mode\": \"markers\", \"name\": \"0\", \"orientation\": \"v\", \"showlegend\": true, \"type\": \"scatter\", \"x\": [95.0, 69.0, 70.0, 71.0, 118.0, 104.0, 64.0, 94.0, 62.0, 136.0, 108.0, 99.0, 51.0, 144.0, 86.0, 68.0, 68.0, 148.0, 145.0, 148.0], \"xaxis\": \"x\", \"y\": [270.0, 172.0, 214.0, 189.0, 165.0, 217.0, 179.0, 225.0, 240.0, 157.0, 298.0, 180.0, 282.0, 172.0, 167.0, 151.0, 256.0, 161.0, 159.0, 237.0], \"yaxis\": \"y\"}, {\"customdata\": [[[71, 101, 130, 66]], [[75, 98, 90, 138]], [[88, 62, 58, 84]], [[58, 70, 136, 116]], [[63, 135, 141, 95]], [[130, 114, 100, 90]], [[119, 104, 78, 106]], [[142, 125, 80, 143]], [[84, 78, 79, 139]], [[144, 124, 60, 112]], [[83, 56, 146, 96]], [[85, 55, 90, 127]], [[139, 132, 123, 61]], [[106, 80, 69, 109]], [[116, 119, 65, 107]], [[67, 61, 116, 146]], [[141, 66, 87, 64]], [[95, 124, 88, 67]], [[113, 142, 141, 117]], [[75, 80, 89, 63]], [[79, 134, 104, 141]]], \"hovertemplate\": \"bar_dim=1<br>bar_birth=%{x}<br>bar_death=%{y}<br>rep=%{customdata[0]}<extra></extra>\", \"legendgroup\": \"1\", \"marker\": {\"color\": \"rgb(40, 59, 110)\", \"line\": {\"color\": \"#3f4142\", \"width\": 0.4}, \"opacity\": 0.7, \"size\": 12, \"symbol\": \"circle\"}, \"mode\": \"markers\", \"name\": \"1\", \"orientation\": \"v\", \"showlegend\": true, \"type\": \"scatter\", \"x\": [57.0, 97.0, 95.0, 124.0, 62.0, 147.0, 85.0, 77.0, 144.0, 105.0, 122.0, 88.0, 115.0, 117.0, 147.0, 82.0, 145.0, 143.0, 110.0, 52.0, 97.0], \"xaxis\": \"x\", \"y\": [259.0, 225.0, 274.0, 226.0, 265.0, 190.0, 219.0, 150.0, 231.0, 220.0, 299.0, 226.0, 238.0, 268.0, 159.0, 169.0, 195.0, 196.0, 195.0, 296.0, 170.0], \"yaxis\": \"y\"}, {\"customdata\": [[[123, 149, 104, 138]], [[143, 94, 103, 120]], [[90, 84, 65, 121]], [[89, 119, 107, 143]], [[108, 113, 112, 82]], [[143, 69, 110, 91]], [[108, 50, 143, 100]], [[97, 106, 87, 134]], [[124, 143, 116, 79]], [[141, 82, 109, 95]], [[116, 143, 144, 111]], [[139, 103, 129, 60]], [[93, 80, 74, 59]], [[86, 120, 69, 130]], [[61, 55, 80, 117]], [[77, 113, 63, 116]], [[101, 64, 104, 111]]], \"hovertemplate\": \"bar_dim=2<br>bar_birth=%{x}<br>bar_death=%{y}<br>rep=%{customdata[0]}<extra></extra>\", \"legendgroup\": \"2\", \"marker\": {\"color\": \"rgb(42, 94, 151)\", \"line\": {\"color\": \"#3f4142\", \"width\": 0.4}, \"opacity\": 0.7, \"size\": 12, \"symbol\": \"circle\"}, \"mode\": \"markers\", \"name\": \"2\", \"orientation\": \"v\", \"showlegend\": true, \"type\": \"scatter\", \"x\": [107.0, 85.0, 126.0, 50.0, 108.0, 50.0, 70.0, 130.0, 129.0, 80.0, 51.0, 84.0, 126.0, 132.0, 98.0, 91.0, 129.0], \"xaxis\": \"x\", \"y\": [225.0, 198.0, 210.0, 187.0, 178.0, 231.0, 251.0, 198.0, 287.0, 267.0, 233.0, 272.0, 164.0, 230.0, 186.0, 194.0, 295.0], \"yaxis\": \"y\"}, {\"customdata\": [[[86, 111, 89, 131]], [[50, 149, 120, 110]], [[66, 136, 67, 123]], [[95, 135, 109, 144]], [[90, 148, 111, 69]], [[52, 141, 112, 76]], [[69, 58, 103, 95]], [[64, 93, 131, 115]], [[75, 103, 126, 125]], [[55, 102, 126, 149]], [[64, 93, 145, 101]], [[99, 56, 110, 70]], [[67, 60, 79, 136]], [[67, 127, 59, 131]], [[78, 110, 96, 128]], [[69, 117, 57, 127]], [[86, 74, 109, 70]], [[53, 116, 81, 111]], [[86, 62, 118, 53]], [[113, 97, 116, 108]], [[62, 83, 73, 131]], [[101, 142, 103, 70]], [[120, 105, 127, 61]], [[119, 52, 107, 122]], [[91, 69, 82, 117]], [[78, 127, 131, 136]], [[138, 124, 107, 86]], [[111, 122, 66, 132]]], \"hovertemplate\": \"bar_dim=3<br>bar_birth=%{x}<br>bar_death=%{y}<br>rep=%{customdata[0]}<extra></extra>\", \"legendgroup\": \"3\", \"marker\": {\"color\": \"rgb(68, 117, 193)\", \"line\": {\"color\": \"#3f4142\", \"width\": 0.4}, \"opacity\": 0.7, \"size\": 12, \"symbol\": \"circle\"}, \"mode\": \"markers\", \"name\": \"3\", \"orientation\": \"v\", \"showlegend\": true, \"type\": \"scatter\", \"x\": [104.0, 118.0, 105.0, 129.0, 144.0, 146.0, 109.0, 70.0, 116.0, 145.0, 98.0, 56.0, 92.0, 80.0, 145.0, 147.0, 149.0, 103.0, 61.0, 127.0, 103.0, 104.0, 101.0, 115.0, 143.0, 63.0, 79.0, 67.0], \"xaxis\": \"x\", \"y\": [281.0, 177.0, 229.0, 268.0, 179.0, 188.0, 249.0, 262.0, 282.0, 291.0, 205.0, 261.0, 242.0, 223.0, 246.0, 221.0, 160.0, 270.0, 217.0, 167.0, 291.0, 196.0, 166.0, 268.0, 171.0, 277.0, 209.0, 223.0], \"yaxis\": \"y\"}, {\"customdata\": [[[122, 64, 114, 66]], [[56, 71, 92, 66]], [[79, 139, 113, 53]], [[142, 143, 146, 129]], [[145, 75, 69, 124]], [[147, 149, 94, 128]], [[95, 116, 141, 138]], [[50, 64, 88, 56]], [[132, 113, 79, 145]], [[106, 147, 142, 149]], [[136, 73, 105, 55]], [[56, 96, 79, 109]], [[75, 149, 105, 85]], [[63, 129, 55, 146]]], \"hovertemplate\": \"bar_dim=4<br>bar_birth=%{x}<br>bar_death=%{y}<br>rep=%{customdata[0]}<extra></extra>\", \"legendgroup\": \"4\", \"marker\": {\"color\": \"rgb(96, 137, 190)\", \"line\": {\"color\": \"#3f4142\", \"width\": 0.4}, \"opacity\": 0.7, \"size\": 12, \"symbol\": \"circle\"}, \"mode\": \"markers\", \"name\": \"4\", \"orientation\": \"v\", \"showlegend\": true, \"type\": \"scatter\", \"x\": [56.0, 51.0, 54.0, 98.0, 83.0, 149.0, 102.0, 51.0, 104.0, 89.0, 65.0, 115.0, 99.0, 105.0], \"xaxis\": \"x\", \"y\": [283.0, 270.0, 288.0, 233.0, 158.0, 243.0, 268.0, 164.0, 214.0, 178.0, 230.0, 237.0, 278.0, 158.0], \"yaxis\": \"y\"}, {\"line\": {\"color\": \"rgba(187, 190, 191, .9)\", \"width\": 0.5}, \"mode\": \"lines\", \"opacity\": 0.6, \"showlegend\": false, \"type\": \"scatter\", \"x\": [0, 424.0], \"y\": [0, 424.0]}],                        {\"legend\": {\"title\": {\"text\": \"bar_dim\"}, \"tracegroupgap\": 0}, \"template\": {\"data\": {\"scatter\": [{\"marker\": {\"symbol\": \"circle\"}, \"type\": \"scatter\"}]}, \"layout\": {\"colorscale\": {\"sequential\": [[0.0, \"rgb(44, 26, 76)\"], [0.1, \"rgb(40, 59, 110)\"], [0.2, \"rgb(42, 94, 151)\"], [0.3, \"rgb(68, 117, 193)\"], [0.4, \"rgb(96, 137, 190)\"], [0.5, \"rgb(125, 156, 181)\"], [0.6, \"rgb(155, 175, 172)\"], [0.7, \"rgb(186, 196, 163)\"], [0.8, \"rgb(215, 217, 161)\"], [0.9, \"rgb(237, 236, 206)\"], [1.0, \"rgb(255, 255, 255)\"]]}, \"colorway\": [\"rgb(44, 26, 76)\", \"rgb(40, 59, 110)\", \"rgb(42, 94, 151)\", \"rgb(68, 117, 193)\", \"rgb(96, 137, 190)\", \"rgb(125, 156, 181)\", \"rgb(155, 175, 172)\", \"rgb(186, 196, 163)\", \"rgb(215, 217, 161)\", \"rgb(237, 236, 206)\", \"rgb(255, 255, 255)\"], \"font\": {\"color\": \"#3f4142\", \"family\": \"Avenir\"}, \"paper_bgcolor\": \"#fff\", \"plot_bgcolor\": \"#fff\", \"violingap\": 0.4, \"xaxis\": {\"color\": \"#3f4142\", \"gridcolor\": \"#ebf0f2\", \"gridwidth\": 0.5, \"linewidth\": 1}, \"yaxis\": {\"color\": \"#3f4142\", \"gridcolor\": \"#ebf0f2\", \"gridwidth\": 0.5, \"linewidth\": 1}}}, \"title\": {\"text\": \"Persistence Diagrams (overlayed)\"}, \"xaxis\": {\"anchor\": \"y\", \"constrain\": \"domain\", \"domain\": [0.0, 1.0], \"layer\": \"above traces\", \"range\": [0, 424.0], \"title\": {\"text\": \"birth\"}}, \"yaxis\": {\"anchor\": \"x\", \"domain\": [0.0, 1.0], \"range\": [0, 424.0], \"scaleanchor\": \"x\", \"scaleratio\": 1, \"title\": {\"text\": \"death\"}}},                        {\"responsive\": true}                    ).then(function(){\n",
       "                            \n",
       "var gd = document.getElementById('35980c8a-7a6e-43d8-9f5c-63e1e61d64c4');\n",
       "var x = new MutationObserver(function (mutations, observer) {{\n",
       "        var display = window.getComputedStyle(gd).display;\n",
       "        if (!display || display === 'none') {{\n",
       "            console.log([gd, 'removed!']);\n",
       "            Plotly.purge(gd);\n",
       "            observer.disconnect();\n",
       "        }}\n",
       "}});\n",
       "\n",
       "// Listen for the removal of the full notebook cells\n",
       "var notebookContainer = gd.closest('#notebook-container');\n",
       "if (notebookContainer) {{\n",
       "    x.observe(notebookContainer, {childList: true});\n",
       "}}\n",
       "\n",
       "// Listen for the clearing of the current output cell\n",
       "var outputEl = gd.closest('.output');\n",
       "if (outputEl) {{\n",
       "    x.observe(outputEl, {childList: true});\n",
       "}}\n",
       "\n",
       "                        })                };                });            </script>        </div>"
      ]
     },
     "metadata": {},
     "output_type": "display_data"
    }
   ],
   "source": [
    "## Plot overlayed persistence diagram\n",
    "\n",
    "max_filtration = np.max(fsc_df[\"rank\"])\n",
    "fig = px.scatter(bar_df, x=\"bar_birth\", y=\"bar_death\", color=\"bar_dim\",\n",
    "                 title=\"Persistence Diagrams (overlayed)\", hover_data = [\"rep\"],\n",
    "                 category_orders = {\"bar_dim\":[str(x) for x in np.arange(max_dim)]})\n",
    "\n",
    "fig.update_yaxes(\n",
    "    scaleanchor = \"x\",\n",
    "    scaleratio = 1,\n",
    "    range = (0,max_filtration),\n",
    "    title_text=\"death\"\n",
    "  )\n",
    "\n",
    "fig.update_xaxes(\n",
    "    range = (0,max_filtration),\n",
    "    constrain='domain',\n",
    "    title_text=\"birth\",\n",
    "    layer = \"above traces\"\n",
    ")\n",
    "\n",
    "fig.update_traces(mode='markers', marker_opacity=0.7, marker_size=12, marker_line_color = my_charcoal,\n",
    "                 marker_line_width = 0.4)\n",
    "\n",
    "fig.add_trace(\n",
    "    go.Scatter(\n",
    "        x=[0, max_filtration],\n",
    "        y=[0, max_filtration],\n",
    "        mode=\"lines\",\n",
    "        line=go.scatter.Line(color= 'rgba(187, 190, 191, .9)', width=0.5),\n",
    "        showlegend=False,\n",
    "        opacity = 0.6)\n",
    ")\n",
    "\n",
    "fig.show()\n",
    "\n",
    "# fig.write_image(\"fig1.pdf\")\n",
    "\n"
   ]
  },
  {
   "cell_type": "code",
   "execution_count": 6,
   "metadata": {},
   "outputs": [
    {
     "data": {
      "application/vnd.plotly.v1+json": {
       "config": {
        "plotlyServerURL": "https://plot.ly"
       },
       "data": [
        {
         "customdata": [
          [
           [
            63,
            112,
            90,
            78
           ]
          ],
          [
           [
            87,
            77,
            62,
            133
           ]
          ],
          [
           [
            78,
            51,
            102,
            108
           ]
          ],
          [
           [
            86,
            139,
            94,
            67
           ]
          ],
          [
           [
            139,
            77,
            58,
            108
           ]
          ],
          [
           [
            119,
            109,
            89,
            51
           ]
          ],
          [
           [
            67,
            51,
            121,
            75
           ]
          ],
          [
           [
            70,
            71,
            92,
            112
           ]
          ],
          [
           [
            59,
            111,
            78,
            113
           ]
          ],
          [
           [
            102,
            72,
            109,
            110
           ]
          ],
          [
           [
            79,
            95,
            117,
            64
           ]
          ],
          [
           [
            105,
            69,
            64,
            57
           ]
          ],
          [
           [
            109,
            127,
            100,
            115
           ]
          ],
          [
           [
            114,
            73,
            89,
            54
           ]
          ],
          [
           [
            51,
            77,
            109,
            83
           ]
          ],
          [
           [
            97,
            83,
            105,
            116
           ]
          ],
          [
           [
            87,
            103,
            66,
            51
           ]
          ]
         ],
         "hovertemplate": "bar_dim=0<br>bar_birth=%{x}<br>bar_death=%{y}<br>rep=%{customdata[0]}<extra></extra>",
         "legendgroup": "0",
         "marker": {
          "color": "rgb(44, 26, 76)",
          "symbol": "circle"
         },
         "mode": "markers",
         "name": "0",
         "orientation": "v",
         "showlegend": true,
         "type": "scatter",
         "x": [
          80,
          89,
          147,
          101,
          73,
          73,
          50,
          76,
          59,
          131,
          147,
          143,
          133,
          75,
          96,
          115,
          69
         ],
         "xaxis": "x4",
         "y": [
          248,
          280,
          158,
          164,
          219,
          213,
          220,
          297,
          162,
          299,
          285,
          234,
          258,
          239,
          179,
          286,
          239
         ],
         "yaxis": "y4"
        },
        {
         "customdata": [
          [
           [
            144,
            85,
            76,
            62
           ]
          ],
          [
           [
            142,
            106,
            89,
            103
           ]
          ],
          [
           [
            77,
            96,
            52,
            71
           ]
          ],
          [
           [
            124,
            129,
            131,
            78
           ]
          ],
          [
           [
            68,
            129,
            143,
            132
           ]
          ],
          [
           [
            130,
            107,
            111,
            119
           ]
          ],
          [
           [
            149,
            67,
            118,
            114
           ]
          ],
          [
           [
            130,
            59,
            118,
            117
           ]
          ],
          [
           [
            87,
            98,
            89,
            143
           ]
          ],
          [
           [
            76,
            64,
            121,
            60
           ]
          ],
          [
           [
            60,
            98,
            118,
            101
           ]
          ],
          [
           [
            123,
            55,
            144,
            79
           ]
          ],
          [
           [
            110,
            148,
            93,
            137
           ]
          ],
          [
           [
            122,
            89,
            141,
            62
           ]
          ],
          [
           [
            147,
            87,
            124,
            100
           ]
          ],
          [
           [
            64,
            65,
            116,
            137
           ]
          ],
          [
           [
            60,
            109,
            128,
            87
           ]
          ],
          [
           [
            122,
            146,
            73,
            149
           ]
          ],
          [
           [
            95,
            53,
            82,
            145
           ]
          ],
          [
           [
            53,
            107,
            79,
            144
           ]
          ],
          [
           [
            143,
            70,
            139,
            141
           ]
          ],
          [
           [
            63,
            68,
            78,
            101
           ]
          ],
          [
           [
            53,
            61,
            77,
            51
           ]
          ],
          [
           [
            91,
            93,
            84,
            129
           ]
          ],
          [
           [
            108,
            65,
            144,
            147
           ]
          ],
          [
           [
            97,
            78,
            115,
            57
           ]
          ],
          [
           [
            103,
            50,
            126,
            75
           ]
          ],
          [
           [
            61,
            58,
            97,
            84
           ]
          ],
          [
           [
            59,
            106,
            96,
            78
           ]
          ]
         ],
         "hovertemplate": "bar_dim=1<br>bar_birth=%{x}<br>bar_death=%{y}<br>rep=%{customdata[0]}<extra></extra>",
         "legendgroup": "1",
         "marker": {
          "color": "rgb(40, 59, 110)",
          "symbol": "circle"
         },
         "mode": "markers",
         "name": "1",
         "orientation": "v",
         "showlegend": true,
         "type": "scatter",
         "x": [
          115,
          99,
          61,
          123,
          112,
          123,
          65,
          97,
          68,
          128,
          91,
          63,
          85,
          141,
          94,
          134,
          136,
          96,
          107,
          102,
          93,
          51,
          104,
          71,
          120,
          121,
          80,
          70,
          98
         ],
         "xaxis": "x5",
         "y": [
          251,
          267,
          217,
          267,
          278,
          278,
          228,
          251,
          165,
          184,
          197,
          166,
          264,
          259,
          208,
          226,
          232,
          168,
          272,
          200,
          214,
          258,
          287,
          158,
          204,
          210,
          175,
          205,
          287
         ],
         "yaxis": "y5"
        },
        {
         "customdata": [
          [
           [
            93,
            54,
            77,
            125
           ]
          ],
          [
           [
            121,
            68,
            58,
            119
           ]
          ],
          [
           [
            138,
            125,
            117,
            69
           ]
          ],
          [
           [
            120,
            104,
            103,
            62
           ]
          ],
          [
           [
            125,
            146,
            61,
            126
           ]
          ],
          [
           [
            134,
            100,
            68,
            88
           ]
          ],
          [
           [
            141,
            78,
            66,
            119
           ]
          ],
          [
           [
            124,
            115,
            116,
            55
           ]
          ],
          [
           [
            74,
            50,
            51,
            127
           ]
          ],
          [
           [
            97,
            62,
            109,
            84
           ]
          ],
          [
           [
            133,
            86,
            136,
            92
           ]
          ],
          [
           [
            123,
            129,
            82,
            149
           ]
          ],
          [
           [
            60,
            137,
            69,
            130
           ]
          ],
          [
           [
            52,
            123,
            97,
            140
           ]
          ],
          [
           [
            86,
            107,
            123,
            89
           ]
          ],
          [
           [
            145,
            56,
            108,
            88
           ]
          ],
          [
           [
            115,
            100,
            57,
            125
           ]
          ],
          [
           [
            149,
            56,
            127,
            129
           ]
          ],
          [
           [
            88,
            96,
            90,
            125
           ]
          ]
         ],
         "hovertemplate": "bar_dim=2<br>bar_birth=%{x}<br>bar_death=%{y}<br>rep=%{customdata[0]}<extra></extra>",
         "legendgroup": "2",
         "marker": {
          "color": "rgb(42, 94, 151)",
          "symbol": "circle"
         },
         "mode": "markers",
         "name": "2",
         "orientation": "v",
         "showlegend": true,
         "type": "scatter",
         "x": [
          75,
          118,
          69,
          137,
          104,
          126,
          104,
          148,
          134,
          58,
          115,
          84,
          55,
          57,
          103,
          71,
          103,
          113,
          120
         ],
         "xaxis": "x6",
         "y": [
          261,
          211,
          198,
          181,
          170,
          220,
          267,
          198,
          197,
          224,
          185,
          174,
          158,
          211,
          242,
          188,
          178,
          206,
          193
         ],
         "yaxis": "y6"
        },
        {
         "customdata": [
          [
           [
            103,
            139,
            105,
            148
           ]
          ],
          [
           [
            73,
            123,
            85,
            57
           ]
          ],
          [
           [
            89,
            125,
            130,
            80
           ]
          ],
          [
           [
            95,
            133,
            67,
            128
           ]
          ],
          [
           [
            124,
            89,
            98,
            61
           ]
          ],
          [
           [
            66,
            122,
            84,
            135
           ]
          ],
          [
           [
            132,
            72,
            109,
            53
           ]
          ],
          [
           [
            84,
            91,
            149,
            71
           ]
          ],
          [
           [
            99,
            58,
            53,
            146
           ]
          ],
          [
           [
            115,
            62,
            128,
            137
           ]
          ],
          [
           [
            117,
            63,
            113,
            89
           ]
          ],
          [
           [
            51,
            98,
            80,
            62
           ]
          ],
          [
           [
            122,
            82,
            65,
            73
           ]
          ],
          [
           [
            146,
            98,
            70,
            131
           ]
          ],
          [
           [
            78,
            51,
            73,
            50
           ]
          ],
          [
           [
            103,
            90,
            132,
            94
           ]
          ],
          [
           [
            93,
            52,
            53,
            101
           ]
          ],
          [
           [
            79,
            139,
            65,
            108
           ]
          ],
          [
           [
            97,
            105,
            136,
            108
           ]
          ],
          [
           [
            106,
            129,
            135,
            72
           ]
          ]
         ],
         "hovertemplate": "bar_dim=3<br>bar_birth=%{x}<br>bar_death=%{y}<br>rep=%{customdata[0]}<extra></extra>",
         "legendgroup": "3",
         "marker": {
          "color": "rgb(68, 117, 193)",
          "symbol": "circle"
         },
         "mode": "markers",
         "name": "3",
         "orientation": "v",
         "showlegend": true,
         "type": "scatter",
         "x": [
          76,
          70,
          58,
          140,
          76,
          58,
          132,
          58,
          52,
          131,
          82,
          120,
          132,
          90,
          107,
          52,
          78,
          97,
          124,
          67
         ],
         "xaxis": "x",
         "y": [
          173,
          237,
          195,
          228,
          207,
          295,
          283,
          212,
          159,
          273,
          210,
          168,
          221,
          179,
          282,
          251,
          211,
          198,
          299,
          182
         ],
         "yaxis": "y"
        },
        {
         "customdata": [
          [
           [
            50,
            97,
            88,
            101
           ]
          ],
          [
           [
            136,
            57,
            94,
            124
           ]
          ],
          [
           [
            140,
            97,
            74,
            137
           ]
          ],
          [
           [
            128,
            136,
            144,
            134
           ]
          ],
          [
           [
            130,
            148,
            87,
            81
           ]
          ],
          [
           [
            118,
            59,
            141,
            61
           ]
          ],
          [
           [
            53,
            137,
            68,
            65
           ]
          ],
          [
           [
            100,
            93,
            59,
            132
           ]
          ],
          [
           [
            142,
            122,
            148,
            108
           ]
          ],
          [
           [
            136,
            139,
            111,
            67
           ]
          ],
          [
           [
            130,
            146,
            141,
            67
           ]
          ],
          [
           [
            112,
            116,
            115,
            149
           ]
          ],
          [
           [
            93,
            86,
            79,
            80
           ]
          ],
          [
           [
            88,
            51,
            70,
            142
           ]
          ],
          [
           [
            98,
            94,
            116,
            127
           ]
          ]
         ],
         "hovertemplate": "bar_dim=4<br>bar_birth=%{x}<br>bar_death=%{y}<br>rep=%{customdata[0]}<extra></extra>",
         "legendgroup": "4",
         "marker": {
          "color": "rgb(96, 137, 190)",
          "symbol": "circle"
         },
         "mode": "markers",
         "name": "4",
         "orientation": "v",
         "showlegend": true,
         "type": "scatter",
         "x": [
          144,
          87,
          62,
          139,
          133,
          55,
          124,
          63,
          65,
          125,
          90,
          91,
          116,
          50,
          129
         ],
         "xaxis": "x2",
         "y": [
          161,
          153,
          185,
          293,
          276,
          187,
          159,
          209,
          276,
          206,
          206,
          259,
          281,
          276,
          225
         ],
         "yaxis": "y2"
        },
        {
         "line": {
          "color": "rgba(187, 190, 191, .9)",
          "width": 0.5
         },
         "mode": "lines",
         "showlegend": false,
         "type": "scatter",
         "x": [
          0,
          424
         ],
         "xaxis": "x",
         "y": [
          0,
          424
         ],
         "yaxis": "y"
        },
        {
         "line": {
          "color": "rgba(187, 190, 191, .9)",
          "width": 0.5
         },
         "mode": "lines",
         "showlegend": false,
         "type": "scatter",
         "x": [
          0,
          424
         ],
         "xaxis": "x2",
         "y": [
          0,
          424
         ],
         "yaxis": "y2"
        },
        {
         "line": {
          "color": "rgba(187, 190, 191, .9)",
          "width": 0.5
         },
         "mode": "lines",
         "showlegend": false,
         "type": "scatter",
         "x": [
          0,
          424
         ],
         "xaxis": "x4",
         "y": [
          0,
          424
         ],
         "yaxis": "y4"
        },
        {
         "line": {
          "color": "rgba(187, 190, 191, .9)",
          "width": 0.5
         },
         "mode": "lines",
         "showlegend": false,
         "type": "scatter",
         "x": [
          0,
          424
         ],
         "xaxis": "x5",
         "y": [
          0,
          424
         ],
         "yaxis": "y5"
        },
        {
         "line": {
          "color": "rgba(187, 190, 191, .9)",
          "width": 0.5
         },
         "mode": "lines",
         "showlegend": false,
         "type": "scatter",
         "x": [
          0,
          424
         ],
         "xaxis": "x6",
         "y": [
          0,
          424
         ],
         "yaxis": "y6"
        }
       ],
       "layout": {
        "annotations": [
         {
          "font": {},
          "showarrow": false,
          "text": "bar_dim=3",
          "x": 0.13333333333333333,
          "xanchor": "center",
          "xref": "paper",
          "y": 0.35,
          "yanchor": "bottom",
          "yref": "paper"
         },
         {
          "font": {},
          "showarrow": false,
          "text": "bar_dim=4",
          "x": 0.5,
          "xanchor": "center",
          "xref": "paper",
          "y": 0.35,
          "yanchor": "bottom",
          "yref": "paper"
         },
         {
          "font": {},
          "showarrow": false,
          "text": "bar_dim=0",
          "x": 0.13333333333333333,
          "xanchor": "center",
          "xref": "paper",
          "y": 0.9999999999999999,
          "yanchor": "bottom",
          "yref": "paper"
         },
         {
          "font": {},
          "showarrow": false,
          "text": "bar_dim=1",
          "x": 0.5,
          "xanchor": "center",
          "xref": "paper",
          "y": 0.9999999999999999,
          "yanchor": "bottom",
          "yref": "paper"
         },
         {
          "font": {},
          "showarrow": false,
          "text": "bar_dim=2",
          "x": 0.8666666666666667,
          "xanchor": "center",
          "xref": "paper",
          "y": 0.9999999999999999,
          "yanchor": "bottom",
          "yref": "paper"
         }
        ],
        "height": 600,
        "legend": {
         "title": {
          "text": "bar_dim"
         },
         "tracegroupgap": 0
        },
        "template": {
         "data": {
          "bar": [
           {
            "error_x": {
             "color": "#2a3f5f"
            },
            "error_y": {
             "color": "#2a3f5f"
            },
            "marker": {
             "line": {
              "color": "white",
              "width": 0.5
             }
            },
            "type": "bar"
           }
          ],
          "barpolar": [
           {
            "marker": {
             "line": {
              "color": "white",
              "width": 0.5
             }
            },
            "type": "barpolar"
           }
          ],
          "carpet": [
           {
            "aaxis": {
             "endlinecolor": "#2a3f5f",
             "gridcolor": "#C8D4E3",
             "linecolor": "#C8D4E3",
             "minorgridcolor": "#C8D4E3",
             "startlinecolor": "#2a3f5f"
            },
            "baxis": {
             "endlinecolor": "#2a3f5f",
             "gridcolor": "#C8D4E3",
             "linecolor": "#C8D4E3",
             "minorgridcolor": "#C8D4E3",
             "startlinecolor": "#2a3f5f"
            },
            "type": "carpet"
           }
          ],
          "choropleth": [
           {
            "colorbar": {
             "outlinewidth": 0,
             "ticks": ""
            },
            "type": "choropleth"
           }
          ],
          "contour": [
           {
            "colorbar": {
             "outlinewidth": 0,
             "ticks": ""
            },
            "colorscale": [
             [
              0,
              "#0d0887"
             ],
             [
              0.1111111111111111,
              "#46039f"
             ],
             [
              0.2222222222222222,
              "#7201a8"
             ],
             [
              0.3333333333333333,
              "#9c179e"
             ],
             [
              0.4444444444444444,
              "#bd3786"
             ],
             [
              0.5555555555555556,
              "#d8576b"
             ],
             [
              0.6666666666666666,
              "#ed7953"
             ],
             [
              0.7777777777777778,
              "#fb9f3a"
             ],
             [
              0.8888888888888888,
              "#fdca26"
             ],
             [
              1,
              "#f0f921"
             ]
            ],
            "type": "contour"
           }
          ],
          "contourcarpet": [
           {
            "colorbar": {
             "outlinewidth": 0,
             "ticks": ""
            },
            "type": "contourcarpet"
           }
          ],
          "heatmap": [
           {
            "colorbar": {
             "outlinewidth": 0,
             "ticks": ""
            },
            "colorscale": [
             [
              0,
              "#0d0887"
             ],
             [
              0.1111111111111111,
              "#46039f"
             ],
             [
              0.2222222222222222,
              "#7201a8"
             ],
             [
              0.3333333333333333,
              "#9c179e"
             ],
             [
              0.4444444444444444,
              "#bd3786"
             ],
             [
              0.5555555555555556,
              "#d8576b"
             ],
             [
              0.6666666666666666,
              "#ed7953"
             ],
             [
              0.7777777777777778,
              "#fb9f3a"
             ],
             [
              0.8888888888888888,
              "#fdca26"
             ],
             [
              1,
              "#f0f921"
             ]
            ],
            "type": "heatmap"
           }
          ],
          "heatmapgl": [
           {
            "colorbar": {
             "outlinewidth": 0,
             "ticks": ""
            },
            "colorscale": [
             [
              0,
              "#0d0887"
             ],
             [
              0.1111111111111111,
              "#46039f"
             ],
             [
              0.2222222222222222,
              "#7201a8"
             ],
             [
              0.3333333333333333,
              "#9c179e"
             ],
             [
              0.4444444444444444,
              "#bd3786"
             ],
             [
              0.5555555555555556,
              "#d8576b"
             ],
             [
              0.6666666666666666,
              "#ed7953"
             ],
             [
              0.7777777777777778,
              "#fb9f3a"
             ],
             [
              0.8888888888888888,
              "#fdca26"
             ],
             [
              1,
              "#f0f921"
             ]
            ],
            "type": "heatmapgl"
           }
          ],
          "histogram": [
           {
            "marker": {
             "colorbar": {
              "outlinewidth": 0,
              "ticks": ""
             }
            },
            "type": "histogram"
           }
          ],
          "histogram2d": [
           {
            "colorbar": {
             "outlinewidth": 0,
             "ticks": ""
            },
            "colorscale": [
             [
              0,
              "#0d0887"
             ],
             [
              0.1111111111111111,
              "#46039f"
             ],
             [
              0.2222222222222222,
              "#7201a8"
             ],
             [
              0.3333333333333333,
              "#9c179e"
             ],
             [
              0.4444444444444444,
              "#bd3786"
             ],
             [
              0.5555555555555556,
              "#d8576b"
             ],
             [
              0.6666666666666666,
              "#ed7953"
             ],
             [
              0.7777777777777778,
              "#fb9f3a"
             ],
             [
              0.8888888888888888,
              "#fdca26"
             ],
             [
              1,
              "#f0f921"
             ]
            ],
            "type": "histogram2d"
           }
          ],
          "histogram2dcontour": [
           {
            "colorbar": {
             "outlinewidth": 0,
             "ticks": ""
            },
            "colorscale": [
             [
              0,
              "#0d0887"
             ],
             [
              0.1111111111111111,
              "#46039f"
             ],
             [
              0.2222222222222222,
              "#7201a8"
             ],
             [
              0.3333333333333333,
              "#9c179e"
             ],
             [
              0.4444444444444444,
              "#bd3786"
             ],
             [
              0.5555555555555556,
              "#d8576b"
             ],
             [
              0.6666666666666666,
              "#ed7953"
             ],
             [
              0.7777777777777778,
              "#fb9f3a"
             ],
             [
              0.8888888888888888,
              "#fdca26"
             ],
             [
              1,
              "#f0f921"
             ]
            ],
            "type": "histogram2dcontour"
           }
          ],
          "mesh3d": [
           {
            "colorbar": {
             "outlinewidth": 0,
             "ticks": ""
            },
            "type": "mesh3d"
           }
          ],
          "parcoords": [
           {
            "line": {
             "colorbar": {
              "outlinewidth": 0,
              "ticks": ""
             }
            },
            "type": "parcoords"
           }
          ],
          "pie": [
           {
            "automargin": true,
            "type": "pie"
           }
          ],
          "scatter": [
           {
            "marker": {
             "colorbar": {
              "outlinewidth": 0,
              "ticks": ""
             }
            },
            "type": "scatter"
           }
          ],
          "scatter3d": [
           {
            "line": {
             "colorbar": {
              "outlinewidth": 0,
              "ticks": ""
             }
            },
            "marker": {
             "colorbar": {
              "outlinewidth": 0,
              "ticks": ""
             }
            },
            "type": "scatter3d"
           }
          ],
          "scattercarpet": [
           {
            "marker": {
             "colorbar": {
              "outlinewidth": 0,
              "ticks": ""
             }
            },
            "type": "scattercarpet"
           }
          ],
          "scattergeo": [
           {
            "marker": {
             "colorbar": {
              "outlinewidth": 0,
              "ticks": ""
             }
            },
            "type": "scattergeo"
           }
          ],
          "scattergl": [
           {
            "marker": {
             "colorbar": {
              "outlinewidth": 0,
              "ticks": ""
             }
            },
            "type": "scattergl"
           }
          ],
          "scattermapbox": [
           {
            "marker": {
             "colorbar": {
              "outlinewidth": 0,
              "ticks": ""
             }
            },
            "type": "scattermapbox"
           }
          ],
          "scatterpolar": [
           {
            "marker": {
             "colorbar": {
              "outlinewidth": 0,
              "ticks": ""
             }
            },
            "type": "scatterpolar"
           }
          ],
          "scatterpolargl": [
           {
            "marker": {
             "colorbar": {
              "outlinewidth": 0,
              "ticks": ""
             }
            },
            "type": "scatterpolargl"
           }
          ],
          "scatterternary": [
           {
            "marker": {
             "colorbar": {
              "outlinewidth": 0,
              "ticks": ""
             }
            },
            "type": "scatterternary"
           }
          ],
          "surface": [
           {
            "colorbar": {
             "outlinewidth": 0,
             "ticks": ""
            },
            "colorscale": [
             [
              0,
              "#0d0887"
             ],
             [
              0.1111111111111111,
              "#46039f"
             ],
             [
              0.2222222222222222,
              "#7201a8"
             ],
             [
              0.3333333333333333,
              "#9c179e"
             ],
             [
              0.4444444444444444,
              "#bd3786"
             ],
             [
              0.5555555555555556,
              "#d8576b"
             ],
             [
              0.6666666666666666,
              "#ed7953"
             ],
             [
              0.7777777777777778,
              "#fb9f3a"
             ],
             [
              0.8888888888888888,
              "#fdca26"
             ],
             [
              1,
              "#f0f921"
             ]
            ],
            "type": "surface"
           }
          ],
          "table": [
           {
            "cells": {
             "fill": {
              "color": "#EBF0F8"
             },
             "line": {
              "color": "white"
             }
            },
            "header": {
             "fill": {
              "color": "#C8D4E3"
             },
             "line": {
              "color": "white"
             }
            },
            "type": "table"
           }
          ]
         },
         "layout": {
          "annotationdefaults": {
           "arrowcolor": "#2a3f5f",
           "arrowhead": 0,
           "arrowwidth": 1
          },
          "autotypenumbers": "strict",
          "coloraxis": {
           "colorbar": {
            "outlinewidth": 0,
            "ticks": ""
           }
          },
          "colorscale": {
           "diverging": [
            [
             0,
             "#8e0152"
            ],
            [
             0.1,
             "#c51b7d"
            ],
            [
             0.2,
             "#de77ae"
            ],
            [
             0.3,
             "#f1b6da"
            ],
            [
             0.4,
             "#fde0ef"
            ],
            [
             0.5,
             "#f7f7f7"
            ],
            [
             0.6,
             "#e6f5d0"
            ],
            [
             0.7,
             "#b8e186"
            ],
            [
             0.8,
             "#7fbc41"
            ],
            [
             0.9,
             "#4d9221"
            ],
            [
             1,
             "#276419"
            ]
           ],
           "sequential": [
            [
             0,
             "#0d0887"
            ],
            [
             0.1111111111111111,
             "#46039f"
            ],
            [
             0.2222222222222222,
             "#7201a8"
            ],
            [
             0.3333333333333333,
             "#9c179e"
            ],
            [
             0.4444444444444444,
             "#bd3786"
            ],
            [
             0.5555555555555556,
             "#d8576b"
            ],
            [
             0.6666666666666666,
             "#ed7953"
            ],
            [
             0.7777777777777778,
             "#fb9f3a"
            ],
            [
             0.8888888888888888,
             "#fdca26"
            ],
            [
             1,
             "#f0f921"
            ]
           ],
           "sequentialminus": [
            [
             0,
             "#0d0887"
            ],
            [
             0.1111111111111111,
             "#46039f"
            ],
            [
             0.2222222222222222,
             "#7201a8"
            ],
            [
             0.3333333333333333,
             "#9c179e"
            ],
            [
             0.4444444444444444,
             "#bd3786"
            ],
            [
             0.5555555555555556,
             "#d8576b"
            ],
            [
             0.6666666666666666,
             "#ed7953"
            ],
            [
             0.7777777777777778,
             "#fb9f3a"
            ],
            [
             0.8888888888888888,
             "#fdca26"
            ],
            [
             1,
             "#f0f921"
            ]
           ]
          },
          "colorway": [
           "#636efa",
           "#EF553B",
           "#00cc96",
           "#ab63fa",
           "#FFA15A",
           "#19d3f3",
           "#FF6692",
           "#B6E880",
           "#FF97FF",
           "#FECB52"
          ],
          "font": {
           "color": "#2a3f5f"
          },
          "geo": {
           "bgcolor": "white",
           "lakecolor": "white",
           "landcolor": "white",
           "showlakes": true,
           "showland": true,
           "subunitcolor": "#C8D4E3"
          },
          "hoverlabel": {
           "align": "left"
          },
          "hovermode": "closest",
          "mapbox": {
           "style": "light"
          },
          "paper_bgcolor": "white",
          "plot_bgcolor": "white",
          "polar": {
           "angularaxis": {
            "gridcolor": "#EBF0F8",
            "linecolor": "#EBF0F8",
            "ticks": ""
           },
           "bgcolor": "white",
           "radialaxis": {
            "gridcolor": "#EBF0F8",
            "linecolor": "#EBF0F8",
            "ticks": ""
           }
          },
          "scene": {
           "xaxis": {
            "backgroundcolor": "white",
            "gridcolor": "#DFE8F3",
            "gridwidth": 2,
            "linecolor": "#EBF0F8",
            "showbackground": true,
            "ticks": "",
            "zerolinecolor": "#EBF0F8"
           },
           "yaxis": {
            "backgroundcolor": "white",
            "gridcolor": "#DFE8F3",
            "gridwidth": 2,
            "linecolor": "#EBF0F8",
            "showbackground": true,
            "ticks": "",
            "zerolinecolor": "#EBF0F8"
           },
           "zaxis": {
            "backgroundcolor": "white",
            "gridcolor": "#DFE8F3",
            "gridwidth": 2,
            "linecolor": "#EBF0F8",
            "showbackground": true,
            "ticks": "",
            "zerolinecolor": "#EBF0F8"
           }
          },
          "shapedefaults": {
           "line": {
            "color": "#2a3f5f"
           }
          },
          "ternary": {
           "aaxis": {
            "gridcolor": "#DFE8F3",
            "linecolor": "#A2B1C6",
            "ticks": ""
           },
           "baxis": {
            "gridcolor": "#DFE8F3",
            "linecolor": "#A2B1C6",
            "ticks": ""
           },
           "bgcolor": "white",
           "caxis": {
            "gridcolor": "#DFE8F3",
            "linecolor": "#A2B1C6",
            "ticks": ""
           }
          },
          "title": {
           "x": 0.05
          },
          "xaxis": {
           "automargin": true,
           "gridcolor": "#EBF0F8",
           "linecolor": "#EBF0F8",
           "ticks": "",
           "title": {
            "standoff": 15
           },
           "zerolinecolor": "#EBF0F8",
           "zerolinewidth": 2
          },
          "yaxis": {
           "automargin": true,
           "gridcolor": "#EBF0F8",
           "linecolor": "#EBF0F8",
           "ticks": "",
           "title": {
            "standoff": 15
           },
           "zerolinecolor": "#EBF0F8",
           "zerolinewidth": 2
          }
         }
        },
        "title": {
         "text": "Persistence Diagrams (faceted)"
        },
        "width": 800,
        "xaxis": {
         "anchor": "y",
         "constrain": "domain",
         "domain": [
          0,
          0.26666666666666666
         ],
         "range": [
          0,
          424
         ],
         "title": {
          "text": "birth"
         }
        },
        "xaxis2": {
         "anchor": "y2",
         "constrain": "domain",
         "domain": [
          0.3666666666666667,
          0.6333333333333333
         ],
         "matches": "x",
         "range": [
          0,
          424
         ],
         "title": {
          "text": "birth"
         }
        },
        "xaxis3": {
         "anchor": "y3",
         "constrain": "domain",
         "domain": [
          0.7333333333333334,
          1
         ],
         "matches": "x",
         "range": [
          0,
          424
         ],
         "title": {
          "text": "birth"
         }
        },
        "xaxis4": {
         "anchor": "y4",
         "constrain": "domain",
         "domain": [
          0,
          0.26666666666666666
         ],
         "matches": "x",
         "range": [
          0,
          424
         ],
         "showticklabels": false,
         "title": {
          "text": "birth"
         }
        },
        "xaxis5": {
         "anchor": "y5",
         "constrain": "domain",
         "domain": [
          0.3666666666666667,
          0.6333333333333333
         ],
         "matches": "x",
         "range": [
          0,
          424
         ],
         "showticklabels": false,
         "title": {
          "text": "birth"
         }
        },
        "xaxis6": {
         "anchor": "y6",
         "constrain": "domain",
         "domain": [
          0.7333333333333334,
          1
         ],
         "matches": "x",
         "range": [
          0,
          424
         ],
         "showticklabels": false,
         "title": {
          "text": "birth"
         }
        },
        "yaxis": {
         "anchor": "x",
         "domain": [
          0,
          0.35
         ],
         "range": [
          0,
          424
         ],
         "scaleratio": 1,
         "title": {
          "text": "death"
         }
        },
        "yaxis2": {
         "anchor": "x2",
         "domain": [
          0,
          0.35
         ],
         "matches": "y",
         "range": [
          0,
          424
         ],
         "scaleratio": 1,
         "showticklabels": false,
         "title": {
          "text": "death"
         }
        },
        "yaxis3": {
         "anchor": "x3",
         "domain": [
          0,
          0.35
         ],
         "matches": "y",
         "range": [
          0,
          424
         ],
         "scaleratio": 1,
         "showticklabels": false,
         "title": {
          "text": "death"
         }
        },
        "yaxis4": {
         "anchor": "x4",
         "domain": [
          0.6499999999999999,
          0.9999999999999999
         ],
         "matches": "y",
         "range": [
          0,
          424
         ],
         "scaleratio": 1,
         "title": {
          "text": "death"
         }
        },
        "yaxis5": {
         "anchor": "x5",
         "domain": [
          0.6499999999999999,
          0.9999999999999999
         ],
         "matches": "y",
         "range": [
          0,
          424
         ],
         "scaleratio": 1,
         "showticklabels": false,
         "title": {
          "text": "death"
         }
        },
        "yaxis6": {
         "anchor": "x6",
         "domain": [
          0.6499999999999999,
          0.9999999999999999
         ],
         "matches": "y",
         "range": [
          0,
          424
         ],
         "scaleratio": 1,
         "showticklabels": false,
         "title": {
          "text": "death"
         }
        }
       }
      },
      "text/html": [
       "<div>                            <div id=\"2f241c86-5ec8-456c-82d7-652ce6045ac5\" class=\"plotly-graph-div\" style=\"height:600.0px; width:800px;\"></div>            <script type=\"text/javascript\">                require([\"plotly\"], function(Plotly) {                    window.PLOTLYENV=window.PLOTLYENV || {};                                    if (document.getElementById(\"2f241c86-5ec8-456c-82d7-652ce6045ac5\")) {                    Plotly.newPlot(                        \"2f241c86-5ec8-456c-82d7-652ce6045ac5\",                        [{\"customdata\": [[[63, 112, 90, 78]], [[87, 77, 62, 133]], [[78, 51, 102, 108]], [[86, 139, 94, 67]], [[139, 77, 58, 108]], [[119, 109, 89, 51]], [[67, 51, 121, 75]], [[70, 71, 92, 112]], [[59, 111, 78, 113]], [[102, 72, 109, 110]], [[79, 95, 117, 64]], [[105, 69, 64, 57]], [[109, 127, 100, 115]], [[114, 73, 89, 54]], [[51, 77, 109, 83]], [[97, 83, 105, 116]], [[87, 103, 66, 51]]], \"hovertemplate\": \"bar_dim=0<br>bar_birth=%{x}<br>bar_death=%{y}<br>rep=%{customdata[0]}<extra></extra>\", \"legendgroup\": \"0\", \"marker\": {\"color\": \"rgb(44, 26, 76)\", \"symbol\": \"circle\"}, \"mode\": \"markers\", \"name\": \"0\", \"orientation\": \"v\", \"showlegend\": true, \"type\": \"scatter\", \"x\": [80.0, 89.0, 147.0, 101.0, 73.0, 73.0, 50.0, 76.0, 59.0, 131.0, 147.0, 143.0, 133.0, 75.0, 96.0, 115.0, 69.0], \"xaxis\": \"x4\", \"y\": [248.0, 280.0, 158.0, 164.0, 219.0, 213.0, 220.0, 297.0, 162.0, 299.0, 285.0, 234.0, 258.0, 239.0, 179.0, 286.0, 239.0], \"yaxis\": \"y4\"}, {\"customdata\": [[[144, 85, 76, 62]], [[142, 106, 89, 103]], [[77, 96, 52, 71]], [[124, 129, 131, 78]], [[68, 129, 143, 132]], [[130, 107, 111, 119]], [[149, 67, 118, 114]], [[130, 59, 118, 117]], [[87, 98, 89, 143]], [[76, 64, 121, 60]], [[60, 98, 118, 101]], [[123, 55, 144, 79]], [[110, 148, 93, 137]], [[122, 89, 141, 62]], [[147, 87, 124, 100]], [[64, 65, 116, 137]], [[60, 109, 128, 87]], [[122, 146, 73, 149]], [[95, 53, 82, 145]], [[53, 107, 79, 144]], [[143, 70, 139, 141]], [[63, 68, 78, 101]], [[53, 61, 77, 51]], [[91, 93, 84, 129]], [[108, 65, 144, 147]], [[97, 78, 115, 57]], [[103, 50, 126, 75]], [[61, 58, 97, 84]], [[59, 106, 96, 78]]], \"hovertemplate\": \"bar_dim=1<br>bar_birth=%{x}<br>bar_death=%{y}<br>rep=%{customdata[0]}<extra></extra>\", \"legendgroup\": \"1\", \"marker\": {\"color\": \"rgb(40, 59, 110)\", \"symbol\": \"circle\"}, \"mode\": \"markers\", \"name\": \"1\", \"orientation\": \"v\", \"showlegend\": true, \"type\": \"scatter\", \"x\": [115.0, 99.0, 61.0, 123.0, 112.0, 123.0, 65.0, 97.0, 68.0, 128.0, 91.0, 63.0, 85.0, 141.0, 94.0, 134.0, 136.0, 96.0, 107.0, 102.0, 93.0, 51.0, 104.0, 71.0, 120.0, 121.0, 80.0, 70.0, 98.0], \"xaxis\": \"x5\", \"y\": [251.0, 267.0, 217.0, 267.0, 278.0, 278.0, 228.0, 251.0, 165.0, 184.0, 197.0, 166.0, 264.0, 259.0, 208.0, 226.0, 232.0, 168.0, 272.0, 200.0, 214.0, 258.0, 287.0, 158.0, 204.0, 210.0, 175.0, 205.0, 287.0], \"yaxis\": \"y5\"}, {\"customdata\": [[[93, 54, 77, 125]], [[121, 68, 58, 119]], [[138, 125, 117, 69]], [[120, 104, 103, 62]], [[125, 146, 61, 126]], [[134, 100, 68, 88]], [[141, 78, 66, 119]], [[124, 115, 116, 55]], [[74, 50, 51, 127]], [[97, 62, 109, 84]], [[133, 86, 136, 92]], [[123, 129, 82, 149]], [[60, 137, 69, 130]], [[52, 123, 97, 140]], [[86, 107, 123, 89]], [[145, 56, 108, 88]], [[115, 100, 57, 125]], [[149, 56, 127, 129]], [[88, 96, 90, 125]]], \"hovertemplate\": \"bar_dim=2<br>bar_birth=%{x}<br>bar_death=%{y}<br>rep=%{customdata[0]}<extra></extra>\", \"legendgroup\": \"2\", \"marker\": {\"color\": \"rgb(42, 94, 151)\", \"symbol\": \"circle\"}, \"mode\": \"markers\", \"name\": \"2\", \"orientation\": \"v\", \"showlegend\": true, \"type\": \"scatter\", \"x\": [75.0, 118.0, 69.0, 137.0, 104.0, 126.0, 104.0, 148.0, 134.0, 58.0, 115.0, 84.0, 55.0, 57.0, 103.0, 71.0, 103.0, 113.0, 120.0], \"xaxis\": \"x6\", \"y\": [261.0, 211.0, 198.0, 181.0, 170.0, 220.0, 267.0, 198.0, 197.0, 224.0, 185.0, 174.0, 158.0, 211.0, 242.0, 188.0, 178.0, 206.0, 193.0], \"yaxis\": \"y6\"}, {\"customdata\": [[[103, 139, 105, 148]], [[73, 123, 85, 57]], [[89, 125, 130, 80]], [[95, 133, 67, 128]], [[124, 89, 98, 61]], [[66, 122, 84, 135]], [[132, 72, 109, 53]], [[84, 91, 149, 71]], [[99, 58, 53, 146]], [[115, 62, 128, 137]], [[117, 63, 113, 89]], [[51, 98, 80, 62]], [[122, 82, 65, 73]], [[146, 98, 70, 131]], [[78, 51, 73, 50]], [[103, 90, 132, 94]], [[93, 52, 53, 101]], [[79, 139, 65, 108]], [[97, 105, 136, 108]], [[106, 129, 135, 72]]], \"hovertemplate\": \"bar_dim=3<br>bar_birth=%{x}<br>bar_death=%{y}<br>rep=%{customdata[0]}<extra></extra>\", \"legendgroup\": \"3\", \"marker\": {\"color\": \"rgb(68, 117, 193)\", \"symbol\": \"circle\"}, \"mode\": \"markers\", \"name\": \"3\", \"orientation\": \"v\", \"showlegend\": true, \"type\": \"scatter\", \"x\": [76.0, 70.0, 58.0, 140.0, 76.0, 58.0, 132.0, 58.0, 52.0, 131.0, 82.0, 120.0, 132.0, 90.0, 107.0, 52.0, 78.0, 97.0, 124.0, 67.0], \"xaxis\": \"x\", \"y\": [173.0, 237.0, 195.0, 228.0, 207.0, 295.0, 283.0, 212.0, 159.0, 273.0, 210.0, 168.0, 221.0, 179.0, 282.0, 251.0, 211.0, 198.0, 299.0, 182.0], \"yaxis\": \"y\"}, {\"customdata\": [[[50, 97, 88, 101]], [[136, 57, 94, 124]], [[140, 97, 74, 137]], [[128, 136, 144, 134]], [[130, 148, 87, 81]], [[118, 59, 141, 61]], [[53, 137, 68, 65]], [[100, 93, 59, 132]], [[142, 122, 148, 108]], [[136, 139, 111, 67]], [[130, 146, 141, 67]], [[112, 116, 115, 149]], [[93, 86, 79, 80]], [[88, 51, 70, 142]], [[98, 94, 116, 127]]], \"hovertemplate\": \"bar_dim=4<br>bar_birth=%{x}<br>bar_death=%{y}<br>rep=%{customdata[0]}<extra></extra>\", \"legendgroup\": \"4\", \"marker\": {\"color\": \"rgb(96, 137, 190)\", \"symbol\": \"circle\"}, \"mode\": \"markers\", \"name\": \"4\", \"orientation\": \"v\", \"showlegend\": true, \"type\": \"scatter\", \"x\": [144.0, 87.0, 62.0, 139.0, 133.0, 55.0, 124.0, 63.0, 65.0, 125.0, 90.0, 91.0, 116.0, 50.0, 129.0], \"xaxis\": \"x2\", \"y\": [161.0, 153.0, 185.0, 293.0, 276.0, 187.0, 159.0, 209.0, 276.0, 206.0, 206.0, 259.0, 281.0, 276.0, 225.0], \"yaxis\": \"y2\"}, {\"line\": {\"color\": \"rgba(187, 190, 191, .9)\", \"width\": 0.5}, \"mode\": \"lines\", \"showlegend\": false, \"type\": \"scatter\", \"x\": [0, 424.0], \"xaxis\": \"x\", \"y\": [0, 424.0], \"yaxis\": \"y\"}, {\"line\": {\"color\": \"rgba(187, 190, 191, .9)\", \"width\": 0.5}, \"mode\": \"lines\", \"showlegend\": false, \"type\": \"scatter\", \"x\": [0, 424.0], \"xaxis\": \"x2\", \"y\": [0, 424.0], \"yaxis\": \"y2\"}, {\"line\": {\"color\": \"rgba(187, 190, 191, .9)\", \"width\": 0.5}, \"mode\": \"lines\", \"showlegend\": false, \"type\": \"scatter\", \"x\": [0, 424.0], \"xaxis\": \"x4\", \"y\": [0, 424.0], \"yaxis\": \"y4\"}, {\"line\": {\"color\": \"rgba(187, 190, 191, .9)\", \"width\": 0.5}, \"mode\": \"lines\", \"showlegend\": false, \"type\": \"scatter\", \"x\": [0, 424.0], \"xaxis\": \"x5\", \"y\": [0, 424.0], \"yaxis\": \"y5\"}, {\"line\": {\"color\": \"rgba(187, 190, 191, .9)\", \"width\": 0.5}, \"mode\": \"lines\", \"showlegend\": false, \"type\": \"scatter\", \"x\": [0, 424.0], \"xaxis\": \"x6\", \"y\": [0, 424.0], \"yaxis\": \"y6\"}],                        {\"annotations\": [{\"font\": {}, \"showarrow\": false, \"text\": \"bar_dim=3\", \"x\": 0.13333333333333333, \"xanchor\": \"center\", \"xref\": \"paper\", \"y\": 0.35, \"yanchor\": \"bottom\", \"yref\": \"paper\"}, {\"font\": {}, \"showarrow\": false, \"text\": \"bar_dim=4\", \"x\": 0.5, \"xanchor\": \"center\", \"xref\": \"paper\", \"y\": 0.35, \"yanchor\": \"bottom\", \"yref\": \"paper\"}, {\"font\": {}, \"showarrow\": false, \"text\": \"bar_dim=0\", \"x\": 0.13333333333333333, \"xanchor\": \"center\", \"xref\": \"paper\", \"y\": 0.9999999999999999, \"yanchor\": \"bottom\", \"yref\": \"paper\"}, {\"font\": {}, \"showarrow\": false, \"text\": \"bar_dim=1\", \"x\": 0.5, \"xanchor\": \"center\", \"xref\": \"paper\", \"y\": 0.9999999999999999, \"yanchor\": \"bottom\", \"yref\": \"paper\"}, {\"font\": {}, \"showarrow\": false, \"text\": \"bar_dim=2\", \"x\": 0.8666666666666667, \"xanchor\": \"center\", \"xref\": \"paper\", \"y\": 0.9999999999999999, \"yanchor\": \"bottom\", \"yref\": \"paper\"}], \"height\": 600.0, \"legend\": {\"title\": {\"text\": \"bar_dim\"}, \"tracegroupgap\": 0}, \"template\": {\"data\": {\"bar\": [{\"error_x\": {\"color\": \"#2a3f5f\"}, \"error_y\": {\"color\": \"#2a3f5f\"}, \"marker\": {\"line\": {\"color\": \"white\", \"width\": 0.5}}, \"type\": \"bar\"}], \"barpolar\": [{\"marker\": {\"line\": {\"color\": \"white\", \"width\": 0.5}}, \"type\": \"barpolar\"}], \"carpet\": [{\"aaxis\": {\"endlinecolor\": \"#2a3f5f\", \"gridcolor\": \"#C8D4E3\", \"linecolor\": \"#C8D4E3\", \"minorgridcolor\": \"#C8D4E3\", \"startlinecolor\": \"#2a3f5f\"}, \"baxis\": {\"endlinecolor\": \"#2a3f5f\", \"gridcolor\": \"#C8D4E3\", \"linecolor\": \"#C8D4E3\", \"minorgridcolor\": \"#C8D4E3\", \"startlinecolor\": \"#2a3f5f\"}, \"type\": \"carpet\"}], \"choropleth\": [{\"colorbar\": {\"outlinewidth\": 0, \"ticks\": \"\"}, \"type\": \"choropleth\"}], \"contour\": [{\"colorbar\": {\"outlinewidth\": 0, \"ticks\": \"\"}, \"colorscale\": [[0.0, \"#0d0887\"], [0.1111111111111111, \"#46039f\"], [0.2222222222222222, \"#7201a8\"], [0.3333333333333333, \"#9c179e\"], [0.4444444444444444, \"#bd3786\"], [0.5555555555555556, \"#d8576b\"], [0.6666666666666666, \"#ed7953\"], [0.7777777777777778, \"#fb9f3a\"], [0.8888888888888888, \"#fdca26\"], [1.0, \"#f0f921\"]], \"type\": \"contour\"}], \"contourcarpet\": [{\"colorbar\": {\"outlinewidth\": 0, \"ticks\": \"\"}, \"type\": \"contourcarpet\"}], \"heatmap\": [{\"colorbar\": {\"outlinewidth\": 0, \"ticks\": \"\"}, \"colorscale\": [[0.0, \"#0d0887\"], [0.1111111111111111, \"#46039f\"], [0.2222222222222222, \"#7201a8\"], [0.3333333333333333, \"#9c179e\"], [0.4444444444444444, \"#bd3786\"], [0.5555555555555556, \"#d8576b\"], [0.6666666666666666, \"#ed7953\"], [0.7777777777777778, \"#fb9f3a\"], [0.8888888888888888, \"#fdca26\"], [1.0, \"#f0f921\"]], \"type\": \"heatmap\"}], \"heatmapgl\": [{\"colorbar\": {\"outlinewidth\": 0, \"ticks\": \"\"}, \"colorscale\": [[0.0, \"#0d0887\"], [0.1111111111111111, \"#46039f\"], [0.2222222222222222, \"#7201a8\"], [0.3333333333333333, \"#9c179e\"], [0.4444444444444444, \"#bd3786\"], [0.5555555555555556, \"#d8576b\"], [0.6666666666666666, \"#ed7953\"], [0.7777777777777778, \"#fb9f3a\"], [0.8888888888888888, \"#fdca26\"], [1.0, \"#f0f921\"]], \"type\": \"heatmapgl\"}], \"histogram\": [{\"marker\": {\"colorbar\": {\"outlinewidth\": 0, \"ticks\": \"\"}}, \"type\": \"histogram\"}], \"histogram2d\": [{\"colorbar\": {\"outlinewidth\": 0, \"ticks\": \"\"}, \"colorscale\": [[0.0, \"#0d0887\"], [0.1111111111111111, \"#46039f\"], [0.2222222222222222, \"#7201a8\"], [0.3333333333333333, \"#9c179e\"], [0.4444444444444444, \"#bd3786\"], [0.5555555555555556, \"#d8576b\"], [0.6666666666666666, \"#ed7953\"], [0.7777777777777778, \"#fb9f3a\"], [0.8888888888888888, \"#fdca26\"], [1.0, \"#f0f921\"]], \"type\": \"histogram2d\"}], \"histogram2dcontour\": [{\"colorbar\": {\"outlinewidth\": 0, \"ticks\": \"\"}, \"colorscale\": [[0.0, \"#0d0887\"], [0.1111111111111111, \"#46039f\"], [0.2222222222222222, \"#7201a8\"], [0.3333333333333333, \"#9c179e\"], [0.4444444444444444, \"#bd3786\"], [0.5555555555555556, \"#d8576b\"], [0.6666666666666666, \"#ed7953\"], [0.7777777777777778, \"#fb9f3a\"], [0.8888888888888888, \"#fdca26\"], [1.0, \"#f0f921\"]], \"type\": \"histogram2dcontour\"}], \"mesh3d\": [{\"colorbar\": {\"outlinewidth\": 0, \"ticks\": \"\"}, \"type\": \"mesh3d\"}], \"parcoords\": [{\"line\": {\"colorbar\": {\"outlinewidth\": 0, \"ticks\": \"\"}}, \"type\": \"parcoords\"}], \"pie\": [{\"automargin\": true, \"type\": \"pie\"}], \"scatter\": [{\"marker\": {\"colorbar\": {\"outlinewidth\": 0, \"ticks\": \"\"}}, \"type\": \"scatter\"}], \"scatter3d\": [{\"line\": {\"colorbar\": {\"outlinewidth\": 0, \"ticks\": \"\"}}, \"marker\": {\"colorbar\": {\"outlinewidth\": 0, \"ticks\": \"\"}}, \"type\": \"scatter3d\"}], \"scattercarpet\": [{\"marker\": {\"colorbar\": {\"outlinewidth\": 0, \"ticks\": \"\"}}, \"type\": \"scattercarpet\"}], \"scattergeo\": [{\"marker\": {\"colorbar\": {\"outlinewidth\": 0, \"ticks\": \"\"}}, \"type\": \"scattergeo\"}], \"scattergl\": [{\"marker\": {\"colorbar\": {\"outlinewidth\": 0, \"ticks\": \"\"}}, \"type\": \"scattergl\"}], \"scattermapbox\": [{\"marker\": {\"colorbar\": {\"outlinewidth\": 0, \"ticks\": \"\"}}, \"type\": \"scattermapbox\"}], \"scatterpolar\": [{\"marker\": {\"colorbar\": {\"outlinewidth\": 0, \"ticks\": \"\"}}, \"type\": \"scatterpolar\"}], \"scatterpolargl\": [{\"marker\": {\"colorbar\": {\"outlinewidth\": 0, \"ticks\": \"\"}}, \"type\": \"scatterpolargl\"}], \"scatterternary\": [{\"marker\": {\"colorbar\": {\"outlinewidth\": 0, \"ticks\": \"\"}}, \"type\": \"scatterternary\"}], \"surface\": [{\"colorbar\": {\"outlinewidth\": 0, \"ticks\": \"\"}, \"colorscale\": [[0.0, \"#0d0887\"], [0.1111111111111111, \"#46039f\"], [0.2222222222222222, \"#7201a8\"], [0.3333333333333333, \"#9c179e\"], [0.4444444444444444, \"#bd3786\"], [0.5555555555555556, \"#d8576b\"], [0.6666666666666666, \"#ed7953\"], [0.7777777777777778, \"#fb9f3a\"], [0.8888888888888888, \"#fdca26\"], [1.0, \"#f0f921\"]], \"type\": \"surface\"}], \"table\": [{\"cells\": {\"fill\": {\"color\": \"#EBF0F8\"}, \"line\": {\"color\": \"white\"}}, \"header\": {\"fill\": {\"color\": \"#C8D4E3\"}, \"line\": {\"color\": \"white\"}}, \"type\": \"table\"}]}, \"layout\": {\"annotationdefaults\": {\"arrowcolor\": \"#2a3f5f\", \"arrowhead\": 0, \"arrowwidth\": 1}, \"autotypenumbers\": \"strict\", \"coloraxis\": {\"colorbar\": {\"outlinewidth\": 0, \"ticks\": \"\"}}, \"colorscale\": {\"diverging\": [[0, \"#8e0152\"], [0.1, \"#c51b7d\"], [0.2, \"#de77ae\"], [0.3, \"#f1b6da\"], [0.4, \"#fde0ef\"], [0.5, \"#f7f7f7\"], [0.6, \"#e6f5d0\"], [0.7, \"#b8e186\"], [0.8, \"#7fbc41\"], [0.9, \"#4d9221\"], [1, \"#276419\"]], \"sequential\": [[0.0, \"#0d0887\"], [0.1111111111111111, \"#46039f\"], [0.2222222222222222, \"#7201a8\"], [0.3333333333333333, \"#9c179e\"], [0.4444444444444444, \"#bd3786\"], [0.5555555555555556, \"#d8576b\"], [0.6666666666666666, \"#ed7953\"], [0.7777777777777778, \"#fb9f3a\"], [0.8888888888888888, \"#fdca26\"], [1.0, \"#f0f921\"]], \"sequentialminus\": [[0.0, \"#0d0887\"], [0.1111111111111111, \"#46039f\"], [0.2222222222222222, \"#7201a8\"], [0.3333333333333333, \"#9c179e\"], [0.4444444444444444, \"#bd3786\"], [0.5555555555555556, \"#d8576b\"], [0.6666666666666666, \"#ed7953\"], [0.7777777777777778, \"#fb9f3a\"], [0.8888888888888888, \"#fdca26\"], [1.0, \"#f0f921\"]]}, \"colorway\": [\"#636efa\", \"#EF553B\", \"#00cc96\", \"#ab63fa\", \"#FFA15A\", \"#19d3f3\", \"#FF6692\", \"#B6E880\", \"#FF97FF\", \"#FECB52\"], \"font\": {\"color\": \"#2a3f5f\"}, \"geo\": {\"bgcolor\": \"white\", \"lakecolor\": \"white\", \"landcolor\": \"white\", \"showlakes\": true, \"showland\": true, \"subunitcolor\": \"#C8D4E3\"}, \"hoverlabel\": {\"align\": \"left\"}, \"hovermode\": \"closest\", \"mapbox\": {\"style\": \"light\"}, \"paper_bgcolor\": \"white\", \"plot_bgcolor\": \"white\", \"polar\": {\"angularaxis\": {\"gridcolor\": \"#EBF0F8\", \"linecolor\": \"#EBF0F8\", \"ticks\": \"\"}, \"bgcolor\": \"white\", \"radialaxis\": {\"gridcolor\": \"#EBF0F8\", \"linecolor\": \"#EBF0F8\", \"ticks\": \"\"}}, \"scene\": {\"xaxis\": {\"backgroundcolor\": \"white\", \"gridcolor\": \"#DFE8F3\", \"gridwidth\": 2, \"linecolor\": \"#EBF0F8\", \"showbackground\": true, \"ticks\": \"\", \"zerolinecolor\": \"#EBF0F8\"}, \"yaxis\": {\"backgroundcolor\": \"white\", \"gridcolor\": \"#DFE8F3\", \"gridwidth\": 2, \"linecolor\": \"#EBF0F8\", \"showbackground\": true, \"ticks\": \"\", \"zerolinecolor\": \"#EBF0F8\"}, \"zaxis\": {\"backgroundcolor\": \"white\", \"gridcolor\": \"#DFE8F3\", \"gridwidth\": 2, \"linecolor\": \"#EBF0F8\", \"showbackground\": true, \"ticks\": \"\", \"zerolinecolor\": \"#EBF0F8\"}}, \"shapedefaults\": {\"line\": {\"color\": \"#2a3f5f\"}}, \"ternary\": {\"aaxis\": {\"gridcolor\": \"#DFE8F3\", \"linecolor\": \"#A2B1C6\", \"ticks\": \"\"}, \"baxis\": {\"gridcolor\": \"#DFE8F3\", \"linecolor\": \"#A2B1C6\", \"ticks\": \"\"}, \"bgcolor\": \"white\", \"caxis\": {\"gridcolor\": \"#DFE8F3\", \"linecolor\": \"#A2B1C6\", \"ticks\": \"\"}}, \"title\": {\"x\": 0.05}, \"xaxis\": {\"automargin\": true, \"gridcolor\": \"#EBF0F8\", \"linecolor\": \"#EBF0F8\", \"ticks\": \"\", \"title\": {\"standoff\": 15}, \"zerolinecolor\": \"#EBF0F8\", \"zerolinewidth\": 2}, \"yaxis\": {\"automargin\": true, \"gridcolor\": \"#EBF0F8\", \"linecolor\": \"#EBF0F8\", \"ticks\": \"\", \"title\": {\"standoff\": 15}, \"zerolinecolor\": \"#EBF0F8\", \"zerolinewidth\": 2}}}, \"title\": {\"text\": \"Persistence Diagrams (faceted)\"}, \"width\": 800, \"xaxis\": {\"anchor\": \"y\", \"constrain\": \"domain\", \"domain\": [0.0, 0.26666666666666666], \"range\": [0, 424.0], \"title\": {\"text\": \"birth\"}}, \"xaxis2\": {\"anchor\": \"y2\", \"constrain\": \"domain\", \"domain\": [0.3666666666666667, 0.6333333333333333], \"matches\": \"x\", \"range\": [0, 424.0], \"title\": {\"text\": \"birth\"}}, \"xaxis3\": {\"anchor\": \"y3\", \"constrain\": \"domain\", \"domain\": [0.7333333333333334, 1.0], \"matches\": \"x\", \"range\": [0, 424.0], \"title\": {\"text\": \"birth\"}}, \"xaxis4\": {\"anchor\": \"y4\", \"constrain\": \"domain\", \"domain\": [0.0, 0.26666666666666666], \"matches\": \"x\", \"range\": [0, 424.0], \"showticklabels\": false, \"title\": {\"text\": \"birth\"}}, \"xaxis5\": {\"anchor\": \"y5\", \"constrain\": \"domain\", \"domain\": [0.3666666666666667, 0.6333333333333333], \"matches\": \"x\", \"range\": [0, 424.0], \"showticklabels\": false, \"title\": {\"text\": \"birth\"}}, \"xaxis6\": {\"anchor\": \"y6\", \"constrain\": \"domain\", \"domain\": [0.7333333333333334, 1.0], \"matches\": \"x\", \"range\": [0, 424.0], \"showticklabels\": false, \"title\": {\"text\": \"birth\"}}, \"yaxis\": {\"anchor\": \"x\", \"domain\": [0.0, 0.35], \"range\": [0, 424.0], \"scaleratio\": 1, \"title\": {\"text\": \"death\"}}, \"yaxis2\": {\"anchor\": \"x2\", \"domain\": [0.0, 0.35], \"matches\": \"y\", \"range\": [0, 424.0], \"scaleratio\": 1, \"showticklabels\": false, \"title\": {\"text\": \"death\"}}, \"yaxis3\": {\"anchor\": \"x3\", \"domain\": [0.0, 0.35], \"matches\": \"y\", \"range\": [0, 424.0], \"scaleratio\": 1, \"showticklabels\": false, \"title\": {\"text\": \"death\"}}, \"yaxis4\": {\"anchor\": \"x4\", \"domain\": [0.6499999999999999, 0.9999999999999999], \"matches\": \"y\", \"range\": [0, 424.0], \"scaleratio\": 1, \"title\": {\"text\": \"death\"}}, \"yaxis5\": {\"anchor\": \"x5\", \"domain\": [0.6499999999999999, 0.9999999999999999], \"matches\": \"y\", \"range\": [0, 424.0], \"scaleratio\": 1, \"showticklabels\": false, \"title\": {\"text\": \"death\"}}, \"yaxis6\": {\"anchor\": \"x6\", \"domain\": [0.6499999999999999, 0.9999999999999999], \"matches\": \"y\", \"range\": [0, 424.0], \"scaleratio\": 1, \"showticklabels\": false, \"title\": {\"text\": \"death\"}}},                        {\"responsive\": true}                    ).then(function(){\n",
       "                            \n",
       "var gd = document.getElementById('2f241c86-5ec8-456c-82d7-652ce6045ac5');\n",
       "var x = new MutationObserver(function (mutations, observer) {{\n",
       "        var display = window.getComputedStyle(gd).display;\n",
       "        if (!display || display === 'none') {{\n",
       "            console.log([gd, 'removed!']);\n",
       "            Plotly.purge(gd);\n",
       "            observer.disconnect();\n",
       "        }}\n",
       "}});\n",
       "\n",
       "// Listen for the removal of the full notebook cells\n",
       "var notebookContainer = gd.closest('#notebook-container');\n",
       "if (notebookContainer) {{\n",
       "    x.observe(notebookContainer, {childList: true});\n",
       "}}\n",
       "\n",
       "// Listen for the clearing of the current output cell\n",
       "var outputEl = gd.closest('.output');\n",
       "if (outputEl) {{\n",
       "    x.observe(outputEl, {childList: true});\n",
       "}}\n",
       "\n",
       "                        })                };                });            </script>        </div>"
      ]
     },
     "metadata": {},
     "output_type": "display_data"
    }
   ],
   "source": [
    "\n",
    "fig = px.scatter(bar_df, x=\"bar_birth\", y=\"bar_death\", color=\"bar_dim\", template = \"plotly_white\",\n",
    "                 title=\"Persistence Diagrams (faceted)\", hover_data = [\"rep\"],\n",
    "                 color_discrete_sequence=aptviz_themes.davos_colors,\n",
    "                 facet_col = \"bar_dim\",\n",
    "                 facet_col_wrap=3,\n",
    "                 facet_col_spacing = 0.1,\n",
    "                 facet_row_spacing = 0.3,\n",
    "                 height = 300*(np.floor(max_dim/3)+1),\n",
    "                 width = 800,\n",
    "                 category_orders = {\"bar_dim\": [str(x) for x in np.arange(max_dim)]})\n",
    "\n",
    "trace = go.Scatter(\n",
    "        x=[0, max_filtration],\n",
    "        y=[0, max_filtration],\n",
    "        mode=\"lines\",\n",
    "        line=go.scatter.Line(color= 'rgba(187, 190, 191, .9)', width=0.5),\n",
    "        showlegend=False)\n",
    "\n",
    "\n",
    "# Add trace to all rows/cols, but not to empty subplots\n",
    "fig.add_trace(trace, row=\"all\", col=\"all\", exclude_empty_subplots=True)\n",
    "\n",
    "\n",
    "# Update axes\n",
    "fig.update_yaxes(\n",
    "    scaleratio = 1,\n",
    "    range = (0,max_filtration),\n",
    "    title_text=\"death\"\n",
    "  )\n",
    "\n",
    "fig.update_xaxes(\n",
    "    range = (0,max_filtration),\n",
    "    constrain='domain',\n",
    "    title_text=\"birth\",\n",
    ")\n",
    "\n",
    "\n",
    "fig.show()"
   ]
  },
  {
   "cell_type": "code",
   "execution_count": 7,
   "metadata": {},
   "outputs": [
    {
     "data": {
      "application/vnd.plotly.v1+json": {
       "config": {
        "plotlyServerURL": "https://plot.ly"
       },
       "data": [
        {
         "hovertemplate": "<i>id</i>: 38<br><b>rep</b>: [ 67  51 121  75]",
         "line": {
          "color": "rgb(44, 26, 76)"
         },
         "mode": "lines",
         "name": "dim 0",
         "showlegend": true,
         "type": "scatter",
         "x": [
          50,
          220
         ],
         "y": [
          1,
          1
         ]
        },
        {
         "hovertemplate": "<i>id</i>: 60<br><b>rep</b>: [ 59 111  78 113]",
         "line": {
          "color": "rgb(44, 26, 76)"
         },
         "mode": "lines",
         "name": "dim 0",
         "showlegend": false,
         "type": "scatter",
         "x": [
          59,
          162
         ],
         "y": [
          2,
          2
         ]
        },
        {
         "hovertemplate": "<i>id</i>: 90<br><b>rep</b>: [ 87 103  66  51]",
         "line": {
          "color": "rgb(44, 26, 76)"
         },
         "mode": "lines",
         "name": "dim 0",
         "showlegend": false,
         "type": "scatter",
         "x": [
          69,
          239
         ],
         "y": [
          3,
          3
         ]
        },
        {
         "hovertemplate": "<i>id</i>: 36<br><b>rep</b>: [139  77  58 108]",
         "line": {
          "color": "rgb(44, 26, 76)"
         },
         "mode": "lines",
         "name": "dim 0",
         "showlegend": false,
         "type": "scatter",
         "x": [
          73,
          219
         ],
         "y": [
          4,
          4
         ]
        },
        {
         "hovertemplate": "<i>id</i>: 37<br><b>rep</b>: [119 109  89  51]",
         "line": {
          "color": "rgb(44, 26, 76)"
         },
         "mode": "lines",
         "name": "dim 0",
         "showlegend": false,
         "type": "scatter",
         "x": [
          73,
          213
         ],
         "y": [
          5,
          5
         ]
        },
        {
         "hovertemplate": "<i>id</i>: 78<br><b>rep</b>: [114  73  89  54]",
         "line": {
          "color": "rgb(44, 26, 76)"
         },
         "mode": "lines",
         "name": "dim 0",
         "showlegend": false,
         "type": "scatter",
         "x": [
          75,
          239
         ],
         "y": [
          6,
          6
         ]
        },
        {
         "hovertemplate": "<i>id</i>: 56<br><b>rep</b>: [ 70  71  92 112]",
         "line": {
          "color": "rgb(44, 26, 76)"
         },
         "mode": "lines",
         "name": "dim 0",
         "showlegend": false,
         "type": "scatter",
         "x": [
          76,
          297
         ],
         "y": [
          7,
          7
         ]
        },
        {
         "hovertemplate": "<i>id</i>: 1<br><b>rep</b>: [ 63 112  90  78]",
         "line": {
          "color": "rgb(44, 26, 76)"
         },
         "mode": "lines",
         "name": "dim 0",
         "showlegend": false,
         "type": "scatter",
         "x": [
          80,
          248
         ],
         "y": [
          8,
          8
         ]
        },
        {
         "hovertemplate": "<i>id</i>: 8<br><b>rep</b>: [ 87  77  62 133]",
         "line": {
          "color": "rgb(44, 26, 76)"
         },
         "mode": "lines",
         "name": "dim 0",
         "showlegend": false,
         "type": "scatter",
         "x": [
          89,
          280
         ],
         "y": [
          9,
          9
         ]
        },
        {
         "hovertemplate": "<i>id</i>: 80<br><b>rep</b>: [ 51  77 109  83]",
         "line": {
          "color": "rgb(44, 26, 76)"
         },
         "mode": "lines",
         "name": "dim 0",
         "showlegend": false,
         "type": "scatter",
         "x": [
          96,
          179
         ],
         "y": [
          10,
          10
         ]
        },
        {
         "hovertemplate": "<i>id</i>: 27<br><b>rep</b>: [ 86 139  94  67]",
         "line": {
          "color": "rgb(44, 26, 76)"
         },
         "mode": "lines",
         "name": "dim 0",
         "showlegend": false,
         "type": "scatter",
         "x": [
          101,
          164
         ],
         "y": [
          11,
          11
         ]
        },
        {
         "hovertemplate": "<i>id</i>: 86<br><b>rep</b>: [ 97  83 105 116]",
         "line": {
          "color": "rgb(44, 26, 76)"
         },
         "mode": "lines",
         "name": "dim 0",
         "showlegend": false,
         "type": "scatter",
         "x": [
          115,
          286
         ],
         "y": [
          12,
          12
         ]
        },
        {
         "hovertemplate": "<i>id</i>: 64<br><b>rep</b>: [102  72 109 110]",
         "line": {
          "color": "rgb(44, 26, 76)"
         },
         "mode": "lines",
         "name": "dim 0",
         "showlegend": false,
         "type": "scatter",
         "x": [
          131,
          299
         ],
         "y": [
          13,
          13
         ]
        },
        {
         "hovertemplate": "<i>id</i>: 75<br><b>rep</b>: [109 127 100 115]",
         "line": {
          "color": "rgb(44, 26, 76)"
         },
         "mode": "lines",
         "name": "dim 0",
         "showlegend": false,
         "type": "scatter",
         "x": [
          133,
          258
         ],
         "y": [
          14,
          14
         ]
        },
        {
         "hovertemplate": "<i>id</i>: 73<br><b>rep</b>: [105  69  64  57]",
         "line": {
          "color": "rgb(44, 26, 76)"
         },
         "mode": "lines",
         "name": "dim 0",
         "showlegend": false,
         "type": "scatter",
         "x": [
          143,
          234
         ],
         "y": [
          15,
          15
         ]
        },
        {
         "hovertemplate": "<i>id</i>: 14<br><b>rep</b>: [ 78  51 102 108]",
         "line": {
          "color": "rgb(44, 26, 76)"
         },
         "mode": "lines",
         "name": "dim 0",
         "showlegend": false,
         "type": "scatter",
         "x": [
          147,
          158
         ],
         "y": [
          16,
          16
         ]
        },
        {
         "hovertemplate": "<i>id</i>: 71<br><b>rep</b>: [ 79  95 117  64]",
         "line": {
          "color": "rgb(44, 26, 76)"
         },
         "mode": "lines",
         "name": "dim 0",
         "showlegend": false,
         "type": "scatter",
         "x": [
          147,
          285
         ],
         "y": [
          17,
          17
         ]
        },
        {
         "hovertemplate": "<i>id</i>: 79<br><b>rep</b>: [ 63  68  78 101]",
         "line": {
          "color": "rgb(40, 59, 110)"
         },
         "mode": "lines",
         "name": "dim 1",
         "showlegend": true,
         "type": "scatter",
         "x": [
          51,
          258
         ],
         "y": [
          18,
          18
         ]
        },
        {
         "hovertemplate": "<i>id</i>: 7<br><b>rep</b>: [77 96 52 71]",
         "line": {
          "color": "rgb(40, 59, 110)"
         },
         "mode": "lines",
         "name": "dim 1",
         "showlegend": false,
         "type": "scatter",
         "x": [
          61,
          217
         ],
         "y": [
          19,
          19
         ]
        },
        {
         "hovertemplate": "<i>id</i>: 44<br><b>rep</b>: [123  55 144  79]",
         "line": {
          "color": "rgb(40, 59, 110)"
         },
         "mode": "lines",
         "name": "dim 1",
         "showlegend": false,
         "type": "scatter",
         "x": [
          63,
          166
         ],
         "y": [
          20,
          20
         ]
        },
        {
         "hovertemplate": "<i>id</i>: 33<br><b>rep</b>: [149  67 118 114]",
         "line": {
          "color": "rgb(40, 59, 110)"
         },
         "mode": "lines",
         "name": "dim 1",
         "showlegend": false,
         "type": "scatter",
         "x": [
          65,
          228
         ],
         "y": [
          21,
          21
         ]
        },
        {
         "hovertemplate": "<i>id</i>: 40<br><b>rep</b>: [ 87  98  89 143]",
         "line": {
          "color": "rgb(40, 59, 110)"
         },
         "mode": "lines",
         "name": "dim 1",
         "showlegend": false,
         "type": "scatter",
         "x": [
          68,
          165
         ],
         "y": [
          22,
          22
         ]
        },
        {
         "hovertemplate": "<i>id</i>: 96<br><b>rep</b>: [61 58 97 84]",
         "line": {
          "color": "rgb(40, 59, 110)"
         },
         "mode": "lines",
         "name": "dim 1",
         "showlegend": false,
         "type": "scatter",
         "x": [
          70,
          205
         ],
         "y": [
          23,
          23
         ]
        },
        {
         "hovertemplate": "<i>id</i>: 84<br><b>rep</b>: [ 91  93  84 129]",
         "line": {
          "color": "rgb(40, 59, 110)"
         },
         "mode": "lines",
         "name": "dim 1",
         "showlegend": false,
         "type": "scatter",
         "x": [
          71,
          158
         ],
         "y": [
          24,
          24
         ]
        },
        {
         "hovertemplate": "<i>id</i>: 94<br><b>rep</b>: [103  50 126  75]",
         "line": {
          "color": "rgb(40, 59, 110)"
         },
         "mode": "lines",
         "name": "dim 1",
         "showlegend": false,
         "type": "scatter",
         "x": [
          80,
          175
         ],
         "y": [
          25,
          25
         ]
        },
        {
         "hovertemplate": "<i>id</i>: 45<br><b>rep</b>: [110 148  93 137]",
         "line": {
          "color": "rgb(40, 59, 110)"
         },
         "mode": "lines",
         "name": "dim 1",
         "showlegend": false,
         "type": "scatter",
         "x": [
          85,
          264
         ],
         "y": [
          26,
          26
         ]
        },
        {
         "hovertemplate": "<i>id</i>: 43<br><b>rep</b>: [ 60  98 118 101]",
         "line": {
          "color": "rgb(40, 59, 110)"
         },
         "mode": "lines",
         "name": "dim 1",
         "showlegend": false,
         "type": "scatter",
         "x": [
          91,
          197
         ],
         "y": [
          27,
          27
         ]
        },
        {
         "hovertemplate": "<i>id</i>: 76<br><b>rep</b>: [143  70 139 141]",
         "line": {
          "color": "rgb(40, 59, 110)"
         },
         "mode": "lines",
         "name": "dim 1",
         "showlegend": false,
         "type": "scatter",
         "x": [
          93,
          214
         ],
         "y": [
          28,
          28
         ]
        },
        {
         "hovertemplate": "<i>id</i>: 49<br><b>rep</b>: [147  87 124 100]",
         "line": {
          "color": "rgb(40, 59, 110)"
         },
         "mode": "lines",
         "name": "dim 1",
         "showlegend": false,
         "type": "scatter",
         "x": [
          94,
          208
         ],
         "y": [
          29,
          29
         ]
        },
        {
         "hovertemplate": "<i>id</i>: 62<br><b>rep</b>: [122 146  73 149]",
         "line": {
          "color": "rgb(40, 59, 110)"
         },
         "mode": "lines",
         "name": "dim 1",
         "showlegend": false,
         "type": "scatter",
         "x": [
          96,
          168
         ],
         "y": [
          30,
          30
         ]
        },
        {
         "hovertemplate": "<i>id</i>: 35<br><b>rep</b>: [130  59 118 117]",
         "line": {
          "color": "rgb(40, 59, 110)"
         },
         "mode": "lines",
         "name": "dim 1",
         "showlegend": false,
         "type": "scatter",
         "x": [
          97,
          251
         ],
         "y": [
          31,
          31
         ]
        },
        {
         "hovertemplate": "<i>id</i>: 98<br><b>rep</b>: [ 59 106  96  78]",
         "line": {
          "color": "rgb(40, 59, 110)"
         },
         "mode": "lines",
         "name": "dim 1",
         "showlegend": false,
         "type": "scatter",
         "x": [
          98,
          287
         ],
         "y": [
          32,
          32
         ]
        },
        {
         "hovertemplate": "<i>id</i>: 4<br><b>rep</b>: [142 106  89 103]",
         "line": {
          "color": "rgb(40, 59, 110)"
         },
         "mode": "lines",
         "name": "dim 1",
         "showlegend": false,
         "type": "scatter",
         "x": [
          99,
          267
         ],
         "y": [
          33,
          33
         ]
        },
        {
         "hovertemplate": "<i>id</i>: 67<br><b>rep</b>: [ 53 107  79 144]",
         "line": {
          "color": "rgb(40, 59, 110)"
         },
         "mode": "lines",
         "name": "dim 1",
         "showlegend": false,
         "type": "scatter",
         "x": [
          102,
          200
         ],
         "y": [
          34,
          34
         ]
        },
        {
         "hovertemplate": "<i>id</i>: 81<br><b>rep</b>: [53 61 77 51]",
         "line": {
          "color": "rgb(40, 59, 110)"
         },
         "mode": "lines",
         "name": "dim 1",
         "showlegend": false,
         "type": "scatter",
         "x": [
          104,
          287
         ],
         "y": [
          35,
          35
         ]
        },
        {
         "hovertemplate": "<i>id</i>: 63<br><b>rep</b>: [ 95  53  82 145]",
         "line": {
          "color": "rgb(40, 59, 110)"
         },
         "mode": "lines",
         "name": "dim 1",
         "showlegend": false,
         "type": "scatter",
         "x": [
          107,
          272
         ],
         "y": [
          36,
          36
         ]
        },
        {
         "hovertemplate": "<i>id</i>: 15<br><b>rep</b>: [ 68 129 143 132]",
         "line": {
          "color": "rgb(40, 59, 110)"
         },
         "mode": "lines",
         "name": "dim 1",
         "showlegend": false,
         "type": "scatter",
         "x": [
          112,
          278
         ],
         "y": [
          37,
          37
         ]
        },
        {
         "hovertemplate": "<i>id</i>: 2<br><b>rep</b>: [144  85  76  62]",
         "line": {
          "color": "rgb(40, 59, 110)"
         },
         "mode": "lines",
         "name": "dim 1",
         "showlegend": false,
         "type": "scatter",
         "x": [
          115,
          251
         ],
         "y": [
          38,
          38
         ]
        },
        {
         "hovertemplate": "<i>id</i>: 89<br><b>rep</b>: [108  65 144 147]",
         "line": {
          "color": "rgb(40, 59, 110)"
         },
         "mode": "lines",
         "name": "dim 1",
         "showlegend": false,
         "type": "scatter",
         "x": [
          120,
          204
         ],
         "y": [
          39,
          39
         ]
        },
        {
         "hovertemplate": "<i>id</i>: 93<br><b>rep</b>: [ 97  78 115  57]",
         "line": {
          "color": "rgb(40, 59, 110)"
         },
         "mode": "lines",
         "name": "dim 1",
         "showlegend": false,
         "type": "scatter",
         "x": [
          121,
          210
         ],
         "y": [
          40,
          40
         ]
        },
        {
         "hovertemplate": "<i>id</i>: 11<br><b>rep</b>: [124 129 131  78]",
         "line": {
          "color": "rgb(40, 59, 110)"
         },
         "mode": "lines",
         "name": "dim 1",
         "showlegend": false,
         "type": "scatter",
         "x": [
          123,
          267
         ],
         "y": [
          41,
          41
         ]
        },
        {
         "hovertemplate": "<i>id</i>: 16<br><b>rep</b>: [130 107 111 119]",
         "line": {
          "color": "rgb(40, 59, 110)"
         },
         "mode": "lines",
         "name": "dim 1",
         "showlegend": false,
         "type": "scatter",
         "x": [
          123,
          278
         ],
         "y": [
          42,
          42
         ]
        },
        {
         "hovertemplate": "<i>id</i>: 41<br><b>rep</b>: [ 76  64 121  60]",
         "line": {
          "color": "rgb(40, 59, 110)"
         },
         "mode": "lines",
         "name": "dim 1",
         "showlegend": false,
         "type": "scatter",
         "x": [
          128,
          184
         ],
         "y": [
          43,
          43
         ]
        },
        {
         "hovertemplate": "<i>id</i>: 58<br><b>rep</b>: [ 64  65 116 137]",
         "line": {
          "color": "rgb(40, 59, 110)"
         },
         "mode": "lines",
         "name": "dim 1",
         "showlegend": false,
         "type": "scatter",
         "x": [
          134,
          226
         ],
         "y": [
          44,
          44
         ]
        },
        {
         "hovertemplate": "<i>id</i>: 61<br><b>rep</b>: [ 60 109 128  87]",
         "line": {
          "color": "rgb(40, 59, 110)"
         },
         "mode": "lines",
         "name": "dim 1",
         "showlegend": false,
         "type": "scatter",
         "x": [
          136,
          232
         ],
         "y": [
          45,
          45
         ]
        },
        {
         "hovertemplate": "<i>id</i>: 46<br><b>rep</b>: [122  89 141  62]",
         "line": {
          "color": "rgb(40, 59, 110)"
         },
         "mode": "lines",
         "name": "dim 1",
         "showlegend": false,
         "type": "scatter",
         "x": [
          141,
          259
         ],
         "y": [
          46,
          46
         ]
        },
        {
         "hovertemplate": "<i>id</i>: 59<br><b>rep</b>: [ 60 137  69 130]",
         "line": {
          "color": "rgb(42, 94, 151)"
         },
         "mode": "lines",
         "name": "dim 2",
         "showlegend": true,
         "type": "scatter",
         "x": [
          55,
          158
         ],
         "y": [
          47,
          47
         ]
        },
        {
         "hovertemplate": "<i>id</i>: 65<br><b>rep</b>: [ 52 123  97 140]",
         "line": {
          "color": "rgb(42, 94, 151)"
         },
         "mode": "lines",
         "name": "dim 2",
         "showlegend": false,
         "type": "scatter",
         "x": [
          57,
          211
         ],
         "y": [
          48,
          48
         ]
        },
        {
         "hovertemplate": "<i>id</i>: 53<br><b>rep</b>: [ 97  62 109  84]",
         "line": {
          "color": "rgb(42, 94, 151)"
         },
         "mode": "lines",
         "name": "dim 2",
         "showlegend": false,
         "type": "scatter",
         "x": [
          58,
          224
         ],
         "y": [
          49,
          49
         ]
        },
        {
         "hovertemplate": "<i>id</i>: 19<br><b>rep</b>: [138 125 117  69]",
         "line": {
          "color": "rgb(42, 94, 151)"
         },
         "mode": "lines",
         "name": "dim 2",
         "showlegend": false,
         "type": "scatter",
         "x": [
          69,
          198
         ],
         "y": [
          50,
          50
         ]
        },
        {
         "hovertemplate": "<i>id</i>: 83<br><b>rep</b>: [145  56 108  88]",
         "line": {
          "color": "rgb(42, 94, 151)"
         },
         "mode": "lines",
         "name": "dim 2",
         "showlegend": false,
         "type": "scatter",
         "x": [
          71,
          188
         ],
         "y": [
          51,
          51
         ]
        },
        {
         "hovertemplate": "<i>id</i>: 6<br><b>rep</b>: [ 93  54  77 125]",
         "line": {
          "color": "rgb(42, 94, 151)"
         },
         "mode": "lines",
         "name": "dim 2",
         "showlegend": false,
         "type": "scatter",
         "x": [
          75,
          261
         ],
         "y": [
          52,
          52
         ]
        },
        {
         "hovertemplate": "<i>id</i>: 57<br><b>rep</b>: [123 129  82 149]",
         "line": {
          "color": "rgb(42, 94, 151)"
         },
         "mode": "lines",
         "name": "dim 2",
         "showlegend": false,
         "type": "scatter",
         "x": [
          84,
          174
         ],
         "y": [
          53,
          53
         ]
        },
        {
         "hovertemplate": "<i>id</i>: 82<br><b>rep</b>: [ 86 107 123  89]",
         "line": {
          "color": "rgb(42, 94, 151)"
         },
         "mode": "lines",
         "name": "dim 2",
         "showlegend": false,
         "type": "scatter",
         "x": [
          103,
          242
         ],
         "y": [
          54,
          54
         ]
        },
        {
         "hovertemplate": "<i>id</i>: 85<br><b>rep</b>: [115 100  57 125]",
         "line": {
          "color": "rgb(42, 94, 151)"
         },
         "mode": "lines",
         "name": "dim 2",
         "showlegend": false,
         "type": "scatter",
         "x": [
          103,
          178
         ],
         "y": [
          55,
          55
         ]
        },
        {
         "hovertemplate": "<i>id</i>: 31<br><b>rep</b>: [125 146  61 126]",
         "line": {
          "color": "rgb(42, 94, 151)"
         },
         "mode": "lines",
         "name": "dim 2",
         "showlegend": false,
         "type": "scatter",
         "x": [
          104,
          170
         ],
         "y": [
          56,
          56
         ]
        },
        {
         "hovertemplate": "<i>id</i>: 47<br><b>rep</b>: [141  78  66 119]",
         "line": {
          "color": "rgb(42, 94, 151)"
         },
         "mode": "lines",
         "name": "dim 2",
         "showlegend": false,
         "type": "scatter",
         "x": [
          104,
          267
         ],
         "y": [
          57,
          57
         ]
        },
        {
         "hovertemplate": "<i>id</i>: 88<br><b>rep</b>: [149  56 127 129]",
         "line": {
          "color": "rgb(42, 94, 151)"
         },
         "mode": "lines",
         "name": "dim 2",
         "showlegend": false,
         "type": "scatter",
         "x": [
          113,
          206
         ],
         "y": [
          58,
          58
         ]
        },
        {
         "hovertemplate": "<i>id</i>: 54<br><b>rep</b>: [133  86 136  92]",
         "line": {
          "color": "rgb(42, 94, 151)"
         },
         "mode": "lines",
         "name": "dim 2",
         "showlegend": false,
         "type": "scatter",
         "x": [
          115,
          185
         ],
         "y": [
          59,
          59
         ]
        },
        {
         "hovertemplate": "<i>id</i>: 12<br><b>rep</b>: [121  68  58 119]",
         "line": {
          "color": "rgb(42, 94, 151)"
         },
         "mode": "lines",
         "name": "dim 2",
         "showlegend": false,
         "type": "scatter",
         "x": [
          118,
          211
         ],
         "y": [
          60,
          60
         ]
        },
        {
         "hovertemplate": "<i>id</i>: 97<br><b>rep</b>: [ 88  96  90 125]",
         "line": {
          "color": "rgb(42, 94, 151)"
         },
         "mode": "lines",
         "name": "dim 2",
         "showlegend": false,
         "type": "scatter",
         "x": [
          120,
          193
         ],
         "y": [
          61,
          61
         ]
        },
        {
         "hovertemplate": "<i>id</i>: 42<br><b>rep</b>: [134 100  68  88]",
         "line": {
          "color": "rgb(42, 94, 151)"
         },
         "mode": "lines",
         "name": "dim 2",
         "showlegend": false,
         "type": "scatter",
         "x": [
          126,
          220
         ],
         "y": [
          62,
          62
         ]
        },
        {
         "hovertemplate": "<i>id</i>: 50<br><b>rep</b>: [ 74  50  51 127]",
         "line": {
          "color": "rgb(42, 94, 151)"
         },
         "mode": "lines",
         "name": "dim 2",
         "showlegend": false,
         "type": "scatter",
         "x": [
          134,
          197
         ],
         "y": [
          63,
          63
         ]
        },
        {
         "hovertemplate": "<i>id</i>: 25<br><b>rep</b>: [120 104 103  62]",
         "line": {
          "color": "rgb(42, 94, 151)"
         },
         "mode": "lines",
         "name": "dim 2",
         "showlegend": false,
         "type": "scatter",
         "x": [
          137,
          181
         ],
         "y": [
          64,
          64
         ]
        },
        {
         "hovertemplate": "<i>id</i>: 48<br><b>rep</b>: [124 115 116  55]",
         "line": {
          "color": "rgb(42, 94, 151)"
         },
         "mode": "lines",
         "name": "dim 2",
         "showlegend": false,
         "type": "scatter",
         "x": [
          148,
          198
         ],
         "y": [
          65,
          65
         ]
        },
        {
         "hovertemplate": "<i>id</i>: 30<br><b>rep</b>: [ 99  58  53 146]",
         "line": {
          "color": "rgb(68, 117, 193)"
         },
         "mode": "lines",
         "name": "dim 3",
         "showlegend": true,
         "type": "scatter",
         "x": [
          52,
          159
         ],
         "y": [
          66,
          66
         ]
        },
        {
         "hovertemplate": "<i>id</i>: 87<br><b>rep</b>: [103  90 132  94]",
         "line": {
          "color": "rgb(68, 117, 193)"
         },
         "mode": "lines",
         "name": "dim 3",
         "showlegend": false,
         "type": "scatter",
         "x": [
          52,
          251
         ],
         "y": [
          67,
          67
         ]
        },
        {
         "hovertemplate": "<i>id</i>: 17<br><b>rep</b>: [ 89 125 130  80]",
         "line": {
          "color": "rgb(68, 117, 193)"
         },
         "mode": "lines",
         "name": "dim 3",
         "showlegend": false,
         "type": "scatter",
         "x": [
          58,
          195
         ],
         "y": [
          68,
          68
         ]
        },
        {
         "hovertemplate": "<i>id</i>: 21<br><b>rep</b>: [ 66 122  84 135]",
         "line": {
          "color": "rgb(68, 117, 193)"
         },
         "mode": "lines",
         "name": "dim 3",
         "showlegend": false,
         "type": "scatter",
         "x": [
          58,
          295
         ],
         "y": [
          69,
          69
         ]
        },
        {
         "hovertemplate": "<i>id</i>: 28<br><b>rep</b>: [ 84  91 149  71]",
         "line": {
          "color": "rgb(68, 117, 193)"
         },
         "mode": "lines",
         "name": "dim 3",
         "showlegend": false,
         "type": "scatter",
         "x": [
          58,
          212
         ],
         "y": [
          70,
          70
         ]
        },
        {
         "hovertemplate": "<i>id</i>: 99<br><b>rep</b>: [106 129 135  72]",
         "line": {
          "color": "rgb(68, 117, 193)"
         },
         "mode": "lines",
         "name": "dim 3",
         "showlegend": false,
         "type": "scatter",
         "x": [
          67,
          182
         ],
         "y": [
          71,
          71
         ]
        },
        {
         "hovertemplate": "<i>id</i>: 5<br><b>rep</b>: [ 73 123  85  57]",
         "line": {
          "color": "rgb(68, 117, 193)"
         },
         "mode": "lines",
         "name": "dim 3",
         "showlegend": false,
         "type": "scatter",
         "x": [
          70,
          237
         ],
         "y": [
          72,
          72
         ]
        },
        {
         "hovertemplate": "<i>id</i>: 0<br><b>rep</b>: [103 139 105 148]",
         "line": {
          "color": "rgb(68, 117, 193)"
         },
         "mode": "lines",
         "name": "dim 3",
         "showlegend": false,
         "type": "scatter",
         "x": [
          76,
          173
         ],
         "y": [
          73,
          73
         ]
        },
        {
         "hovertemplate": "<i>id</i>: 20<br><b>rep</b>: [124  89  98  61]",
         "line": {
          "color": "rgb(68, 117, 193)"
         },
         "mode": "lines",
         "name": "dim 3",
         "showlegend": false,
         "type": "scatter",
         "x": [
          76,
          207
         ],
         "y": [
          74,
          74
         ]
        },
        {
         "hovertemplate": "<i>id</i>: 91<br><b>rep</b>: [ 93  52  53 101]",
         "line": {
          "color": "rgb(68, 117, 193)"
         },
         "mode": "lines",
         "name": "dim 3",
         "showlegend": false,
         "type": "scatter",
         "x": [
          78,
          211
         ],
         "y": [
          75,
          75
         ]
        },
        {
         "hovertemplate": "<i>id</i>: 39<br><b>rep</b>: [117  63 113  89]",
         "line": {
          "color": "rgb(68, 117, 193)"
         },
         "mode": "lines",
         "name": "dim 3",
         "showlegend": false,
         "type": "scatter",
         "x": [
          82,
          210
         ],
         "y": [
          76,
          76
         ]
        },
        {
         "hovertemplate": "<i>id</i>: 69<br><b>rep</b>: [146  98  70 131]",
         "line": {
          "color": "rgb(68, 117, 193)"
         },
         "mode": "lines",
         "name": "dim 3",
         "showlegend": false,
         "type": "scatter",
         "x": [
          90,
          179
         ],
         "y": [
          77,
          77
         ]
        },
        {
         "hovertemplate": "<i>id</i>: 92<br><b>rep</b>: [ 79 139  65 108]",
         "line": {
          "color": "rgb(68, 117, 193)"
         },
         "mode": "lines",
         "name": "dim 3",
         "showlegend": false,
         "type": "scatter",
         "x": [
          97,
          198
         ],
         "y": [
          78,
          78
         ]
        },
        {
         "hovertemplate": "<i>id</i>: 74<br><b>rep</b>: [78 51 73 50]",
         "line": {
          "color": "rgb(68, 117, 193)"
         },
         "mode": "lines",
         "name": "dim 3",
         "showlegend": false,
         "type": "scatter",
         "x": [
          107,
          282
         ],
         "y": [
          79,
          79
         ]
        },
        {
         "hovertemplate": "<i>id</i>: 51<br><b>rep</b>: [51 98 80 62]",
         "line": {
          "color": "rgb(68, 117, 193)"
         },
         "mode": "lines",
         "name": "dim 3",
         "showlegend": false,
         "type": "scatter",
         "x": [
          120,
          168
         ],
         "y": [
          80,
          80
         ]
        },
        {
         "hovertemplate": "<i>id</i>: 95<br><b>rep</b>: [ 97 105 136 108]",
         "line": {
          "color": "rgb(68, 117, 193)"
         },
         "mode": "lines",
         "name": "dim 3",
         "showlegend": false,
         "type": "scatter",
         "x": [
          124,
          299
         ],
         "y": [
          81,
          81
         ]
        },
        {
         "hovertemplate": "<i>id</i>: 32<br><b>rep</b>: [115  62 128 137]",
         "line": {
          "color": "rgb(68, 117, 193)"
         },
         "mode": "lines",
         "name": "dim 3",
         "showlegend": false,
         "type": "scatter",
         "x": [
          131,
          273
         ],
         "y": [
          82,
          82
         ]
        },
        {
         "hovertemplate": "<i>id</i>: 23<br><b>rep</b>: [132  72 109  53]",
         "line": {
          "color": "rgb(68, 117, 193)"
         },
         "mode": "lines",
         "name": "dim 3",
         "showlegend": false,
         "type": "scatter",
         "x": [
          132,
          283
         ],
         "y": [
          83,
          83
         ]
        },
        {
         "hovertemplate": "<i>id</i>: 66<br><b>rep</b>: [122  82  65  73]",
         "line": {
          "color": "rgb(68, 117, 193)"
         },
         "mode": "lines",
         "name": "dim 3",
         "showlegend": false,
         "type": "scatter",
         "x": [
          132,
          221
         ],
         "y": [
          84,
          84
         ]
        },
        {
         "hovertemplate": "<i>id</i>: 18<br><b>rep</b>: [ 95 133  67 128]",
         "line": {
          "color": "rgb(68, 117, 193)"
         },
         "mode": "lines",
         "name": "dim 3",
         "showlegend": false,
         "type": "scatter",
         "x": [
          140,
          228
         ],
         "y": [
          85,
          85
         ]
        },
        {
         "hovertemplate": "<i>id</i>: 72<br><b>rep</b>: [ 88  51  70 142]",
         "line": {
          "color": "rgb(96, 137, 190)"
         },
         "mode": "lines",
         "name": "dim 4",
         "showlegend": true,
         "type": "scatter",
         "x": [
          50,
          276
         ],
         "y": [
          86,
          86
         ]
        },
        {
         "hovertemplate": "<i>id</i>: 24<br><b>rep</b>: [118  59 141  61]",
         "line": {
          "color": "rgb(96, 137, 190)"
         },
         "mode": "lines",
         "name": "dim 4",
         "showlegend": false,
         "type": "scatter",
         "x": [
          55,
          187
         ],
         "y": [
          87,
          87
         ]
        },
        {
         "hovertemplate": "<i>id</i>: 10<br><b>rep</b>: [140  97  74 137]",
         "line": {
          "color": "rgb(96, 137, 190)"
         },
         "mode": "lines",
         "name": "dim 4",
         "showlegend": false,
         "type": "scatter",
         "x": [
          62,
          185
         ],
         "y": [
          88,
          88
         ]
        },
        {
         "hovertemplate": "<i>id</i>: 29<br><b>rep</b>: [100  93  59 132]",
         "line": {
          "color": "rgb(96, 137, 190)"
         },
         "mode": "lines",
         "name": "dim 4",
         "showlegend": false,
         "type": "scatter",
         "x": [
          63,
          209
         ],
         "y": [
          89,
          89
         ]
        },
        {
         "hovertemplate": "<i>id</i>: 34<br><b>rep</b>: [142 122 148 108]",
         "line": {
          "color": "rgb(96, 137, 190)"
         },
         "mode": "lines",
         "name": "dim 4",
         "showlegend": false,
         "type": "scatter",
         "x": [
          65,
          276
         ],
         "y": [
          90,
          90
         ]
        },
        {
         "hovertemplate": "<i>id</i>: 9<br><b>rep</b>: [136  57  94 124]",
         "line": {
          "color": "rgb(96, 137, 190)"
         },
         "mode": "lines",
         "name": "dim 4",
         "showlegend": false,
         "type": "scatter",
         "x": [
          87,
          153
         ],
         "y": [
          91,
          91
         ]
        },
        {
         "hovertemplate": "<i>id</i>: 55<br><b>rep</b>: [130 146 141  67]",
         "line": {
          "color": "rgb(96, 137, 190)"
         },
         "mode": "lines",
         "name": "dim 4",
         "showlegend": false,
         "type": "scatter",
         "x": [
          90,
          206
         ],
         "y": [
          92,
          92
         ]
        },
        {
         "hovertemplate": "<i>id</i>: 68<br><b>rep</b>: [112 116 115 149]",
         "line": {
          "color": "rgb(96, 137, 190)"
         },
         "mode": "lines",
         "name": "dim 4",
         "showlegend": false,
         "type": "scatter",
         "x": [
          91,
          259
         ],
         "y": [
          93,
          93
         ]
        },
        {
         "hovertemplate": "<i>id</i>: 70<br><b>rep</b>: [93 86 79 80]",
         "line": {
          "color": "rgb(96, 137, 190)"
         },
         "mode": "lines",
         "name": "dim 4",
         "showlegend": false,
         "type": "scatter",
         "x": [
          116,
          281
         ],
         "y": [
          94,
          94
         ]
        },
        {
         "hovertemplate": "<i>id</i>: 26<br><b>rep</b>: [ 53 137  68  65]",
         "line": {
          "color": "rgb(96, 137, 190)"
         },
         "mode": "lines",
         "name": "dim 4",
         "showlegend": false,
         "type": "scatter",
         "x": [
          124,
          159
         ],
         "y": [
          95,
          95
         ]
        },
        {
         "hovertemplate": "<i>id</i>: 52<br><b>rep</b>: [136 139 111  67]",
         "line": {
          "color": "rgb(96, 137, 190)"
         },
         "mode": "lines",
         "name": "dim 4",
         "showlegend": false,
         "type": "scatter",
         "x": [
          125,
          206
         ],
         "y": [
          96,
          96
         ]
        },
        {
         "hovertemplate": "<i>id</i>: 77<br><b>rep</b>: [ 98  94 116 127]",
         "line": {
          "color": "rgb(96, 137, 190)"
         },
         "mode": "lines",
         "name": "dim 4",
         "showlegend": false,
         "type": "scatter",
         "x": [
          129,
          225
         ],
         "y": [
          97,
          97
         ]
        },
        {
         "hovertemplate": "<i>id</i>: 22<br><b>rep</b>: [130 148  87  81]",
         "line": {
          "color": "rgb(96, 137, 190)"
         },
         "mode": "lines",
         "name": "dim 4",
         "showlegend": false,
         "type": "scatter",
         "x": [
          133,
          276
         ],
         "y": [
          98,
          98
         ]
        },
        {
         "hovertemplate": "<i>id</i>: 13<br><b>rep</b>: [128 136 144 134]",
         "line": {
          "color": "rgb(96, 137, 190)"
         },
         "mode": "lines",
         "name": "dim 4",
         "showlegend": false,
         "type": "scatter",
         "x": [
          139,
          293
         ],
         "y": [
          99,
          99
         ]
        },
        {
         "hovertemplate": "<i>id</i>: 3<br><b>rep</b>: [ 50  97  88 101]",
         "line": {
          "color": "rgb(96, 137, 190)"
         },
         "mode": "lines",
         "name": "dim 4",
         "showlegend": false,
         "type": "scatter",
         "x": [
          144,
          161
         ],
         "y": [
          100,
          100
         ]
        }
       ],
       "layout": {
        "hovermode": "x unified",
        "legend": {
         "orientation": "h",
         "x": 1,
         "xanchor": "right",
         "y": 1.02,
         "yanchor": "bottom"
        },
        "template": {
         "data": {
          "scatter": [
           {
            "marker": {
             "symbol": "circle"
            },
            "type": "scatter"
           }
          ]
         },
         "layout": {
          "colorscale": {
           "sequential": [
            [
             0,
             "rgb(44, 26, 76)"
            ],
            [
             0.1,
             "rgb(40, 59, 110)"
            ],
            [
             0.2,
             "rgb(42, 94, 151)"
            ],
            [
             0.3,
             "rgb(68, 117, 193)"
            ],
            [
             0.4,
             "rgb(96, 137, 190)"
            ],
            [
             0.5,
             "rgb(125, 156, 181)"
            ],
            [
             0.6,
             "rgb(155, 175, 172)"
            ],
            [
             0.7,
             "rgb(186, 196, 163)"
            ],
            [
             0.8,
             "rgb(215, 217, 161)"
            ],
            [
             0.9,
             "rgb(237, 236, 206)"
            ],
            [
             1,
             "rgb(255, 255, 255)"
            ]
           ]
          },
          "colorway": [
           "rgb(44, 26, 76)",
           "rgb(40, 59, 110)",
           "rgb(42, 94, 151)",
           "rgb(68, 117, 193)",
           "rgb(96, 137, 190)",
           "rgb(125, 156, 181)",
           "rgb(155, 175, 172)",
           "rgb(186, 196, 163)",
           "rgb(215, 217, 161)",
           "rgb(237, 236, 206)",
           "rgb(255, 255, 255)"
          ],
          "font": {
           "color": "#3f4142",
           "family": "Avenir"
          },
          "paper_bgcolor": "#fff",
          "plot_bgcolor": "#fff",
          "violingap": 0.4,
          "xaxis": {
           "color": "#3f4142",
           "gridcolor": "#ebf0f2",
           "gridwidth": 0.5,
           "linewidth": 1
          },
          "yaxis": {
           "color": "#3f4142",
           "gridcolor": "#ebf0f2",
           "gridwidth": 0.5,
           "linewidth": 1
          }
         }
        },
        "title": {
         "text": "Barcode"
        },
        "xaxis": {
         "title": {
          "text": "Filtration index"
         }
        },
        "yaxis": {
         "title": {
          "text": "H_k"
         }
        }
       }
      },
      "text/html": [
       "<div>                            <div id=\"3a9d06f9-1a95-4cfd-9065-fa96b89eab3a\" class=\"plotly-graph-div\" style=\"height:525px; width:100%;\"></div>            <script type=\"text/javascript\">                require([\"plotly\"], function(Plotly) {                    window.PLOTLYENV=window.PLOTLYENV || {};                                    if (document.getElementById(\"3a9d06f9-1a95-4cfd-9065-fa96b89eab3a\")) {                    Plotly.newPlot(                        \"3a9d06f9-1a95-4cfd-9065-fa96b89eab3a\",                        [{\"hovertemplate\": \"<i>id</i>: 38<br><b>rep</b>: [ 67  51 121  75]\", \"line\": {\"color\": \"rgb(44, 26, 76)\"}, \"mode\": \"lines\", \"name\": \"dim 0\", \"showlegend\": true, \"type\": \"scatter\", \"x\": [50.0, 220.0], \"y\": [1, 1]}, {\"hovertemplate\": \"<i>id</i>: 60<br><b>rep</b>: [ 59 111  78 113]\", \"line\": {\"color\": \"rgb(44, 26, 76)\"}, \"mode\": \"lines\", \"name\": \"dim 0\", \"showlegend\": false, \"type\": \"scatter\", \"x\": [59.0, 162.0], \"y\": [2, 2]}, {\"hovertemplate\": \"<i>id</i>: 90<br><b>rep</b>: [ 87 103  66  51]\", \"line\": {\"color\": \"rgb(44, 26, 76)\"}, \"mode\": \"lines\", \"name\": \"dim 0\", \"showlegend\": false, \"type\": \"scatter\", \"x\": [69.0, 239.0], \"y\": [3, 3]}, {\"hovertemplate\": \"<i>id</i>: 36<br><b>rep</b>: [139  77  58 108]\", \"line\": {\"color\": \"rgb(44, 26, 76)\"}, \"mode\": \"lines\", \"name\": \"dim 0\", \"showlegend\": false, \"type\": \"scatter\", \"x\": [73.0, 219.0], \"y\": [4, 4]}, {\"hovertemplate\": \"<i>id</i>: 37<br><b>rep</b>: [119 109  89  51]\", \"line\": {\"color\": \"rgb(44, 26, 76)\"}, \"mode\": \"lines\", \"name\": \"dim 0\", \"showlegend\": false, \"type\": \"scatter\", \"x\": [73.0, 213.0], \"y\": [5, 5]}, {\"hovertemplate\": \"<i>id</i>: 78<br><b>rep</b>: [114  73  89  54]\", \"line\": {\"color\": \"rgb(44, 26, 76)\"}, \"mode\": \"lines\", \"name\": \"dim 0\", \"showlegend\": false, \"type\": \"scatter\", \"x\": [75.0, 239.0], \"y\": [6, 6]}, {\"hovertemplate\": \"<i>id</i>: 56<br><b>rep</b>: [ 70  71  92 112]\", \"line\": {\"color\": \"rgb(44, 26, 76)\"}, \"mode\": \"lines\", \"name\": \"dim 0\", \"showlegend\": false, \"type\": \"scatter\", \"x\": [76.0, 297.0], \"y\": [7, 7]}, {\"hovertemplate\": \"<i>id</i>: 1<br><b>rep</b>: [ 63 112  90  78]\", \"line\": {\"color\": \"rgb(44, 26, 76)\"}, \"mode\": \"lines\", \"name\": \"dim 0\", \"showlegend\": false, \"type\": \"scatter\", \"x\": [80.0, 248.0], \"y\": [8, 8]}, {\"hovertemplate\": \"<i>id</i>: 8<br><b>rep</b>: [ 87  77  62 133]\", \"line\": {\"color\": \"rgb(44, 26, 76)\"}, \"mode\": \"lines\", \"name\": \"dim 0\", \"showlegend\": false, \"type\": \"scatter\", \"x\": [89.0, 280.0], \"y\": [9, 9]}, {\"hovertemplate\": \"<i>id</i>: 80<br><b>rep</b>: [ 51  77 109  83]\", \"line\": {\"color\": \"rgb(44, 26, 76)\"}, \"mode\": \"lines\", \"name\": \"dim 0\", \"showlegend\": false, \"type\": \"scatter\", \"x\": [96.0, 179.0], \"y\": [10, 10]}, {\"hovertemplate\": \"<i>id</i>: 27<br><b>rep</b>: [ 86 139  94  67]\", \"line\": {\"color\": \"rgb(44, 26, 76)\"}, \"mode\": \"lines\", \"name\": \"dim 0\", \"showlegend\": false, \"type\": \"scatter\", \"x\": [101.0, 164.0], \"y\": [11, 11]}, {\"hovertemplate\": \"<i>id</i>: 86<br><b>rep</b>: [ 97  83 105 116]\", \"line\": {\"color\": \"rgb(44, 26, 76)\"}, \"mode\": \"lines\", \"name\": \"dim 0\", \"showlegend\": false, \"type\": \"scatter\", \"x\": [115.0, 286.0], \"y\": [12, 12]}, {\"hovertemplate\": \"<i>id</i>: 64<br><b>rep</b>: [102  72 109 110]\", \"line\": {\"color\": \"rgb(44, 26, 76)\"}, \"mode\": \"lines\", \"name\": \"dim 0\", \"showlegend\": false, \"type\": \"scatter\", \"x\": [131.0, 299.0], \"y\": [13, 13]}, {\"hovertemplate\": \"<i>id</i>: 75<br><b>rep</b>: [109 127 100 115]\", \"line\": {\"color\": \"rgb(44, 26, 76)\"}, \"mode\": \"lines\", \"name\": \"dim 0\", \"showlegend\": false, \"type\": \"scatter\", \"x\": [133.0, 258.0], \"y\": [14, 14]}, {\"hovertemplate\": \"<i>id</i>: 73<br><b>rep</b>: [105  69  64  57]\", \"line\": {\"color\": \"rgb(44, 26, 76)\"}, \"mode\": \"lines\", \"name\": \"dim 0\", \"showlegend\": false, \"type\": \"scatter\", \"x\": [143.0, 234.0], \"y\": [15, 15]}, {\"hovertemplate\": \"<i>id</i>: 14<br><b>rep</b>: [ 78  51 102 108]\", \"line\": {\"color\": \"rgb(44, 26, 76)\"}, \"mode\": \"lines\", \"name\": \"dim 0\", \"showlegend\": false, \"type\": \"scatter\", \"x\": [147.0, 158.0], \"y\": [16, 16]}, {\"hovertemplate\": \"<i>id</i>: 71<br><b>rep</b>: [ 79  95 117  64]\", \"line\": {\"color\": \"rgb(44, 26, 76)\"}, \"mode\": \"lines\", \"name\": \"dim 0\", \"showlegend\": false, \"type\": \"scatter\", \"x\": [147.0, 285.0], \"y\": [17, 17]}, {\"hovertemplate\": \"<i>id</i>: 79<br><b>rep</b>: [ 63  68  78 101]\", \"line\": {\"color\": \"rgb(40, 59, 110)\"}, \"mode\": \"lines\", \"name\": \"dim 1\", \"showlegend\": true, \"type\": \"scatter\", \"x\": [51.0, 258.0], \"y\": [18, 18]}, {\"hovertemplate\": \"<i>id</i>: 7<br><b>rep</b>: [77 96 52 71]\", \"line\": {\"color\": \"rgb(40, 59, 110)\"}, \"mode\": \"lines\", \"name\": \"dim 1\", \"showlegend\": false, \"type\": \"scatter\", \"x\": [61.0, 217.0], \"y\": [19, 19]}, {\"hovertemplate\": \"<i>id</i>: 44<br><b>rep</b>: [123  55 144  79]\", \"line\": {\"color\": \"rgb(40, 59, 110)\"}, \"mode\": \"lines\", \"name\": \"dim 1\", \"showlegend\": false, \"type\": \"scatter\", \"x\": [63.0, 166.0], \"y\": [20, 20]}, {\"hovertemplate\": \"<i>id</i>: 33<br><b>rep</b>: [149  67 118 114]\", \"line\": {\"color\": \"rgb(40, 59, 110)\"}, \"mode\": \"lines\", \"name\": \"dim 1\", \"showlegend\": false, \"type\": \"scatter\", \"x\": [65.0, 228.0], \"y\": [21, 21]}, {\"hovertemplate\": \"<i>id</i>: 40<br><b>rep</b>: [ 87  98  89 143]\", \"line\": {\"color\": \"rgb(40, 59, 110)\"}, \"mode\": \"lines\", \"name\": \"dim 1\", \"showlegend\": false, \"type\": \"scatter\", \"x\": [68.0, 165.0], \"y\": [22, 22]}, {\"hovertemplate\": \"<i>id</i>: 96<br><b>rep</b>: [61 58 97 84]\", \"line\": {\"color\": \"rgb(40, 59, 110)\"}, \"mode\": \"lines\", \"name\": \"dim 1\", \"showlegend\": false, \"type\": \"scatter\", \"x\": [70.0, 205.0], \"y\": [23, 23]}, {\"hovertemplate\": \"<i>id</i>: 84<br><b>rep</b>: [ 91  93  84 129]\", \"line\": {\"color\": \"rgb(40, 59, 110)\"}, \"mode\": \"lines\", \"name\": \"dim 1\", \"showlegend\": false, \"type\": \"scatter\", \"x\": [71.0, 158.0], \"y\": [24, 24]}, {\"hovertemplate\": \"<i>id</i>: 94<br><b>rep</b>: [103  50 126  75]\", \"line\": {\"color\": \"rgb(40, 59, 110)\"}, \"mode\": \"lines\", \"name\": \"dim 1\", \"showlegend\": false, \"type\": \"scatter\", \"x\": [80.0, 175.0], \"y\": [25, 25]}, {\"hovertemplate\": \"<i>id</i>: 45<br><b>rep</b>: [110 148  93 137]\", \"line\": {\"color\": \"rgb(40, 59, 110)\"}, \"mode\": \"lines\", \"name\": \"dim 1\", \"showlegend\": false, \"type\": \"scatter\", \"x\": [85.0, 264.0], \"y\": [26, 26]}, {\"hovertemplate\": \"<i>id</i>: 43<br><b>rep</b>: [ 60  98 118 101]\", \"line\": {\"color\": \"rgb(40, 59, 110)\"}, \"mode\": \"lines\", \"name\": \"dim 1\", \"showlegend\": false, \"type\": \"scatter\", \"x\": [91.0, 197.0], \"y\": [27, 27]}, {\"hovertemplate\": \"<i>id</i>: 76<br><b>rep</b>: [143  70 139 141]\", \"line\": {\"color\": \"rgb(40, 59, 110)\"}, \"mode\": \"lines\", \"name\": \"dim 1\", \"showlegend\": false, \"type\": \"scatter\", \"x\": [93.0, 214.0], \"y\": [28, 28]}, {\"hovertemplate\": \"<i>id</i>: 49<br><b>rep</b>: [147  87 124 100]\", \"line\": {\"color\": \"rgb(40, 59, 110)\"}, \"mode\": \"lines\", \"name\": \"dim 1\", \"showlegend\": false, \"type\": \"scatter\", \"x\": [94.0, 208.0], \"y\": [29, 29]}, {\"hovertemplate\": \"<i>id</i>: 62<br><b>rep</b>: [122 146  73 149]\", \"line\": {\"color\": \"rgb(40, 59, 110)\"}, \"mode\": \"lines\", \"name\": \"dim 1\", \"showlegend\": false, \"type\": \"scatter\", \"x\": [96.0, 168.0], \"y\": [30, 30]}, {\"hovertemplate\": \"<i>id</i>: 35<br><b>rep</b>: [130  59 118 117]\", \"line\": {\"color\": \"rgb(40, 59, 110)\"}, \"mode\": \"lines\", \"name\": \"dim 1\", \"showlegend\": false, \"type\": \"scatter\", \"x\": [97.0, 251.0], \"y\": [31, 31]}, {\"hovertemplate\": \"<i>id</i>: 98<br><b>rep</b>: [ 59 106  96  78]\", \"line\": {\"color\": \"rgb(40, 59, 110)\"}, \"mode\": \"lines\", \"name\": \"dim 1\", \"showlegend\": false, \"type\": \"scatter\", \"x\": [98.0, 287.0], \"y\": [32, 32]}, {\"hovertemplate\": \"<i>id</i>: 4<br><b>rep</b>: [142 106  89 103]\", \"line\": {\"color\": \"rgb(40, 59, 110)\"}, \"mode\": \"lines\", \"name\": \"dim 1\", \"showlegend\": false, \"type\": \"scatter\", \"x\": [99.0, 267.0], \"y\": [33, 33]}, {\"hovertemplate\": \"<i>id</i>: 67<br><b>rep</b>: [ 53 107  79 144]\", \"line\": {\"color\": \"rgb(40, 59, 110)\"}, \"mode\": \"lines\", \"name\": \"dim 1\", \"showlegend\": false, \"type\": \"scatter\", \"x\": [102.0, 200.0], \"y\": [34, 34]}, {\"hovertemplate\": \"<i>id</i>: 81<br><b>rep</b>: [53 61 77 51]\", \"line\": {\"color\": \"rgb(40, 59, 110)\"}, \"mode\": \"lines\", \"name\": \"dim 1\", \"showlegend\": false, \"type\": \"scatter\", \"x\": [104.0, 287.0], \"y\": [35, 35]}, {\"hovertemplate\": \"<i>id</i>: 63<br><b>rep</b>: [ 95  53  82 145]\", \"line\": {\"color\": \"rgb(40, 59, 110)\"}, \"mode\": \"lines\", \"name\": \"dim 1\", \"showlegend\": false, \"type\": \"scatter\", \"x\": [107.0, 272.0], \"y\": [36, 36]}, {\"hovertemplate\": \"<i>id</i>: 15<br><b>rep</b>: [ 68 129 143 132]\", \"line\": {\"color\": \"rgb(40, 59, 110)\"}, \"mode\": \"lines\", \"name\": \"dim 1\", \"showlegend\": false, \"type\": \"scatter\", \"x\": [112.0, 278.0], \"y\": [37, 37]}, {\"hovertemplate\": \"<i>id</i>: 2<br><b>rep</b>: [144  85  76  62]\", \"line\": {\"color\": \"rgb(40, 59, 110)\"}, \"mode\": \"lines\", \"name\": \"dim 1\", \"showlegend\": false, \"type\": \"scatter\", \"x\": [115.0, 251.0], \"y\": [38, 38]}, {\"hovertemplate\": \"<i>id</i>: 89<br><b>rep</b>: [108  65 144 147]\", \"line\": {\"color\": \"rgb(40, 59, 110)\"}, \"mode\": \"lines\", \"name\": \"dim 1\", \"showlegend\": false, \"type\": \"scatter\", \"x\": [120.0, 204.0], \"y\": [39, 39]}, {\"hovertemplate\": \"<i>id</i>: 93<br><b>rep</b>: [ 97  78 115  57]\", \"line\": {\"color\": \"rgb(40, 59, 110)\"}, \"mode\": \"lines\", \"name\": \"dim 1\", \"showlegend\": false, \"type\": \"scatter\", \"x\": [121.0, 210.0], \"y\": [40, 40]}, {\"hovertemplate\": \"<i>id</i>: 11<br><b>rep</b>: [124 129 131  78]\", \"line\": {\"color\": \"rgb(40, 59, 110)\"}, \"mode\": \"lines\", \"name\": \"dim 1\", \"showlegend\": false, \"type\": \"scatter\", \"x\": [123.0, 267.0], \"y\": [41, 41]}, {\"hovertemplate\": \"<i>id</i>: 16<br><b>rep</b>: [130 107 111 119]\", \"line\": {\"color\": \"rgb(40, 59, 110)\"}, \"mode\": \"lines\", \"name\": \"dim 1\", \"showlegend\": false, \"type\": \"scatter\", \"x\": [123.0, 278.0], \"y\": [42, 42]}, {\"hovertemplate\": \"<i>id</i>: 41<br><b>rep</b>: [ 76  64 121  60]\", \"line\": {\"color\": \"rgb(40, 59, 110)\"}, \"mode\": \"lines\", \"name\": \"dim 1\", \"showlegend\": false, \"type\": \"scatter\", \"x\": [128.0, 184.0], \"y\": [43, 43]}, {\"hovertemplate\": \"<i>id</i>: 58<br><b>rep</b>: [ 64  65 116 137]\", \"line\": {\"color\": \"rgb(40, 59, 110)\"}, \"mode\": \"lines\", \"name\": \"dim 1\", \"showlegend\": false, \"type\": \"scatter\", \"x\": [134.0, 226.0], \"y\": [44, 44]}, {\"hovertemplate\": \"<i>id</i>: 61<br><b>rep</b>: [ 60 109 128  87]\", \"line\": {\"color\": \"rgb(40, 59, 110)\"}, \"mode\": \"lines\", \"name\": \"dim 1\", \"showlegend\": false, \"type\": \"scatter\", \"x\": [136.0, 232.0], \"y\": [45, 45]}, {\"hovertemplate\": \"<i>id</i>: 46<br><b>rep</b>: [122  89 141  62]\", \"line\": {\"color\": \"rgb(40, 59, 110)\"}, \"mode\": \"lines\", \"name\": \"dim 1\", \"showlegend\": false, \"type\": \"scatter\", \"x\": [141.0, 259.0], \"y\": [46, 46]}, {\"hovertemplate\": \"<i>id</i>: 59<br><b>rep</b>: [ 60 137  69 130]\", \"line\": {\"color\": \"rgb(42, 94, 151)\"}, \"mode\": \"lines\", \"name\": \"dim 2\", \"showlegend\": true, \"type\": \"scatter\", \"x\": [55.0, 158.0], \"y\": [47, 47]}, {\"hovertemplate\": \"<i>id</i>: 65<br><b>rep</b>: [ 52 123  97 140]\", \"line\": {\"color\": \"rgb(42, 94, 151)\"}, \"mode\": \"lines\", \"name\": \"dim 2\", \"showlegend\": false, \"type\": \"scatter\", \"x\": [57.0, 211.0], \"y\": [48, 48]}, {\"hovertemplate\": \"<i>id</i>: 53<br><b>rep</b>: [ 97  62 109  84]\", \"line\": {\"color\": \"rgb(42, 94, 151)\"}, \"mode\": \"lines\", \"name\": \"dim 2\", \"showlegend\": false, \"type\": \"scatter\", \"x\": [58.0, 224.0], \"y\": [49, 49]}, {\"hovertemplate\": \"<i>id</i>: 19<br><b>rep</b>: [138 125 117  69]\", \"line\": {\"color\": \"rgb(42, 94, 151)\"}, \"mode\": \"lines\", \"name\": \"dim 2\", \"showlegend\": false, \"type\": \"scatter\", \"x\": [69.0, 198.0], \"y\": [50, 50]}, {\"hovertemplate\": \"<i>id</i>: 83<br><b>rep</b>: [145  56 108  88]\", \"line\": {\"color\": \"rgb(42, 94, 151)\"}, \"mode\": \"lines\", \"name\": \"dim 2\", \"showlegend\": false, \"type\": \"scatter\", \"x\": [71.0, 188.0], \"y\": [51, 51]}, {\"hovertemplate\": \"<i>id</i>: 6<br><b>rep</b>: [ 93  54  77 125]\", \"line\": {\"color\": \"rgb(42, 94, 151)\"}, \"mode\": \"lines\", \"name\": \"dim 2\", \"showlegend\": false, \"type\": \"scatter\", \"x\": [75.0, 261.0], \"y\": [52, 52]}, {\"hovertemplate\": \"<i>id</i>: 57<br><b>rep</b>: [123 129  82 149]\", \"line\": {\"color\": \"rgb(42, 94, 151)\"}, \"mode\": \"lines\", \"name\": \"dim 2\", \"showlegend\": false, \"type\": \"scatter\", \"x\": [84.0, 174.0], \"y\": [53, 53]}, {\"hovertemplate\": \"<i>id</i>: 82<br><b>rep</b>: [ 86 107 123  89]\", \"line\": {\"color\": \"rgb(42, 94, 151)\"}, \"mode\": \"lines\", \"name\": \"dim 2\", \"showlegend\": false, \"type\": \"scatter\", \"x\": [103.0, 242.0], \"y\": [54, 54]}, {\"hovertemplate\": \"<i>id</i>: 85<br><b>rep</b>: [115 100  57 125]\", \"line\": {\"color\": \"rgb(42, 94, 151)\"}, \"mode\": \"lines\", \"name\": \"dim 2\", \"showlegend\": false, \"type\": \"scatter\", \"x\": [103.0, 178.0], \"y\": [55, 55]}, {\"hovertemplate\": \"<i>id</i>: 31<br><b>rep</b>: [125 146  61 126]\", \"line\": {\"color\": \"rgb(42, 94, 151)\"}, \"mode\": \"lines\", \"name\": \"dim 2\", \"showlegend\": false, \"type\": \"scatter\", \"x\": [104.0, 170.0], \"y\": [56, 56]}, {\"hovertemplate\": \"<i>id</i>: 47<br><b>rep</b>: [141  78  66 119]\", \"line\": {\"color\": \"rgb(42, 94, 151)\"}, \"mode\": \"lines\", \"name\": \"dim 2\", \"showlegend\": false, \"type\": \"scatter\", \"x\": [104.0, 267.0], \"y\": [57, 57]}, {\"hovertemplate\": \"<i>id</i>: 88<br><b>rep</b>: [149  56 127 129]\", \"line\": {\"color\": \"rgb(42, 94, 151)\"}, \"mode\": \"lines\", \"name\": \"dim 2\", \"showlegend\": false, \"type\": \"scatter\", \"x\": [113.0, 206.0], \"y\": [58, 58]}, {\"hovertemplate\": \"<i>id</i>: 54<br><b>rep</b>: [133  86 136  92]\", \"line\": {\"color\": \"rgb(42, 94, 151)\"}, \"mode\": \"lines\", \"name\": \"dim 2\", \"showlegend\": false, \"type\": \"scatter\", \"x\": [115.0, 185.0], \"y\": [59, 59]}, {\"hovertemplate\": \"<i>id</i>: 12<br><b>rep</b>: [121  68  58 119]\", \"line\": {\"color\": \"rgb(42, 94, 151)\"}, \"mode\": \"lines\", \"name\": \"dim 2\", \"showlegend\": false, \"type\": \"scatter\", \"x\": [118.0, 211.0], \"y\": [60, 60]}, {\"hovertemplate\": \"<i>id</i>: 97<br><b>rep</b>: [ 88  96  90 125]\", \"line\": {\"color\": \"rgb(42, 94, 151)\"}, \"mode\": \"lines\", \"name\": \"dim 2\", \"showlegend\": false, \"type\": \"scatter\", \"x\": [120.0, 193.0], \"y\": [61, 61]}, {\"hovertemplate\": \"<i>id</i>: 42<br><b>rep</b>: [134 100  68  88]\", \"line\": {\"color\": \"rgb(42, 94, 151)\"}, \"mode\": \"lines\", \"name\": \"dim 2\", \"showlegend\": false, \"type\": \"scatter\", \"x\": [126.0, 220.0], \"y\": [62, 62]}, {\"hovertemplate\": \"<i>id</i>: 50<br><b>rep</b>: [ 74  50  51 127]\", \"line\": {\"color\": \"rgb(42, 94, 151)\"}, \"mode\": \"lines\", \"name\": \"dim 2\", \"showlegend\": false, \"type\": \"scatter\", \"x\": [134.0, 197.0], \"y\": [63, 63]}, {\"hovertemplate\": \"<i>id</i>: 25<br><b>rep</b>: [120 104 103  62]\", \"line\": {\"color\": \"rgb(42, 94, 151)\"}, \"mode\": \"lines\", \"name\": \"dim 2\", \"showlegend\": false, \"type\": \"scatter\", \"x\": [137.0, 181.0], \"y\": [64, 64]}, {\"hovertemplate\": \"<i>id</i>: 48<br><b>rep</b>: [124 115 116  55]\", \"line\": {\"color\": \"rgb(42, 94, 151)\"}, \"mode\": \"lines\", \"name\": \"dim 2\", \"showlegend\": false, \"type\": \"scatter\", \"x\": [148.0, 198.0], \"y\": [65, 65]}, {\"hovertemplate\": \"<i>id</i>: 30<br><b>rep</b>: [ 99  58  53 146]\", \"line\": {\"color\": \"rgb(68, 117, 193)\"}, \"mode\": \"lines\", \"name\": \"dim 3\", \"showlegend\": true, \"type\": \"scatter\", \"x\": [52.0, 159.0], \"y\": [66, 66]}, {\"hovertemplate\": \"<i>id</i>: 87<br><b>rep</b>: [103  90 132  94]\", \"line\": {\"color\": \"rgb(68, 117, 193)\"}, \"mode\": \"lines\", \"name\": \"dim 3\", \"showlegend\": false, \"type\": \"scatter\", \"x\": [52.0, 251.0], \"y\": [67, 67]}, {\"hovertemplate\": \"<i>id</i>: 17<br><b>rep</b>: [ 89 125 130  80]\", \"line\": {\"color\": \"rgb(68, 117, 193)\"}, \"mode\": \"lines\", \"name\": \"dim 3\", \"showlegend\": false, \"type\": \"scatter\", \"x\": [58.0, 195.0], \"y\": [68, 68]}, {\"hovertemplate\": \"<i>id</i>: 21<br><b>rep</b>: [ 66 122  84 135]\", \"line\": {\"color\": \"rgb(68, 117, 193)\"}, \"mode\": \"lines\", \"name\": \"dim 3\", \"showlegend\": false, \"type\": \"scatter\", \"x\": [58.0, 295.0], \"y\": [69, 69]}, {\"hovertemplate\": \"<i>id</i>: 28<br><b>rep</b>: [ 84  91 149  71]\", \"line\": {\"color\": \"rgb(68, 117, 193)\"}, \"mode\": \"lines\", \"name\": \"dim 3\", \"showlegend\": false, \"type\": \"scatter\", \"x\": [58.0, 212.0], \"y\": [70, 70]}, {\"hovertemplate\": \"<i>id</i>: 99<br><b>rep</b>: [106 129 135  72]\", \"line\": {\"color\": \"rgb(68, 117, 193)\"}, \"mode\": \"lines\", \"name\": \"dim 3\", \"showlegend\": false, \"type\": \"scatter\", \"x\": [67.0, 182.0], \"y\": [71, 71]}, {\"hovertemplate\": \"<i>id</i>: 5<br><b>rep</b>: [ 73 123  85  57]\", \"line\": {\"color\": \"rgb(68, 117, 193)\"}, \"mode\": \"lines\", \"name\": \"dim 3\", \"showlegend\": false, \"type\": \"scatter\", \"x\": [70.0, 237.0], \"y\": [72, 72]}, {\"hovertemplate\": \"<i>id</i>: 0<br><b>rep</b>: [103 139 105 148]\", \"line\": {\"color\": \"rgb(68, 117, 193)\"}, \"mode\": \"lines\", \"name\": \"dim 3\", \"showlegend\": false, \"type\": \"scatter\", \"x\": [76.0, 173.0], \"y\": [73, 73]}, {\"hovertemplate\": \"<i>id</i>: 20<br><b>rep</b>: [124  89  98  61]\", \"line\": {\"color\": \"rgb(68, 117, 193)\"}, \"mode\": \"lines\", \"name\": \"dim 3\", \"showlegend\": false, \"type\": \"scatter\", \"x\": [76.0, 207.0], \"y\": [74, 74]}, {\"hovertemplate\": \"<i>id</i>: 91<br><b>rep</b>: [ 93  52  53 101]\", \"line\": {\"color\": \"rgb(68, 117, 193)\"}, \"mode\": \"lines\", \"name\": \"dim 3\", \"showlegend\": false, \"type\": \"scatter\", \"x\": [78.0, 211.0], \"y\": [75, 75]}, {\"hovertemplate\": \"<i>id</i>: 39<br><b>rep</b>: [117  63 113  89]\", \"line\": {\"color\": \"rgb(68, 117, 193)\"}, \"mode\": \"lines\", \"name\": \"dim 3\", \"showlegend\": false, \"type\": \"scatter\", \"x\": [82.0, 210.0], \"y\": [76, 76]}, {\"hovertemplate\": \"<i>id</i>: 69<br><b>rep</b>: [146  98  70 131]\", \"line\": {\"color\": \"rgb(68, 117, 193)\"}, \"mode\": \"lines\", \"name\": \"dim 3\", \"showlegend\": false, \"type\": \"scatter\", \"x\": [90.0, 179.0], \"y\": [77, 77]}, {\"hovertemplate\": \"<i>id</i>: 92<br><b>rep</b>: [ 79 139  65 108]\", \"line\": {\"color\": \"rgb(68, 117, 193)\"}, \"mode\": \"lines\", \"name\": \"dim 3\", \"showlegend\": false, \"type\": \"scatter\", \"x\": [97.0, 198.0], \"y\": [78, 78]}, {\"hovertemplate\": \"<i>id</i>: 74<br><b>rep</b>: [78 51 73 50]\", \"line\": {\"color\": \"rgb(68, 117, 193)\"}, \"mode\": \"lines\", \"name\": \"dim 3\", \"showlegend\": false, \"type\": \"scatter\", \"x\": [107.0, 282.0], \"y\": [79, 79]}, {\"hovertemplate\": \"<i>id</i>: 51<br><b>rep</b>: [51 98 80 62]\", \"line\": {\"color\": \"rgb(68, 117, 193)\"}, \"mode\": \"lines\", \"name\": \"dim 3\", \"showlegend\": false, \"type\": \"scatter\", \"x\": [120.0, 168.0], \"y\": [80, 80]}, {\"hovertemplate\": \"<i>id</i>: 95<br><b>rep</b>: [ 97 105 136 108]\", \"line\": {\"color\": \"rgb(68, 117, 193)\"}, \"mode\": \"lines\", \"name\": \"dim 3\", \"showlegend\": false, \"type\": \"scatter\", \"x\": [124.0, 299.0], \"y\": [81, 81]}, {\"hovertemplate\": \"<i>id</i>: 32<br><b>rep</b>: [115  62 128 137]\", \"line\": {\"color\": \"rgb(68, 117, 193)\"}, \"mode\": \"lines\", \"name\": \"dim 3\", \"showlegend\": false, \"type\": \"scatter\", \"x\": [131.0, 273.0], \"y\": [82, 82]}, {\"hovertemplate\": \"<i>id</i>: 23<br><b>rep</b>: [132  72 109  53]\", \"line\": {\"color\": \"rgb(68, 117, 193)\"}, \"mode\": \"lines\", \"name\": \"dim 3\", \"showlegend\": false, \"type\": \"scatter\", \"x\": [132.0, 283.0], \"y\": [83, 83]}, {\"hovertemplate\": \"<i>id</i>: 66<br><b>rep</b>: [122  82  65  73]\", \"line\": {\"color\": \"rgb(68, 117, 193)\"}, \"mode\": \"lines\", \"name\": \"dim 3\", \"showlegend\": false, \"type\": \"scatter\", \"x\": [132.0, 221.0], \"y\": [84, 84]}, {\"hovertemplate\": \"<i>id</i>: 18<br><b>rep</b>: [ 95 133  67 128]\", \"line\": {\"color\": \"rgb(68, 117, 193)\"}, \"mode\": \"lines\", \"name\": \"dim 3\", \"showlegend\": false, \"type\": \"scatter\", \"x\": [140.0, 228.0], \"y\": [85, 85]}, {\"hovertemplate\": \"<i>id</i>: 72<br><b>rep</b>: [ 88  51  70 142]\", \"line\": {\"color\": \"rgb(96, 137, 190)\"}, \"mode\": \"lines\", \"name\": \"dim 4\", \"showlegend\": true, \"type\": \"scatter\", \"x\": [50.0, 276.0], \"y\": [86, 86]}, {\"hovertemplate\": \"<i>id</i>: 24<br><b>rep</b>: [118  59 141  61]\", \"line\": {\"color\": \"rgb(96, 137, 190)\"}, \"mode\": \"lines\", \"name\": \"dim 4\", \"showlegend\": false, \"type\": \"scatter\", \"x\": [55.0, 187.0], \"y\": [87, 87]}, {\"hovertemplate\": \"<i>id</i>: 10<br><b>rep</b>: [140  97  74 137]\", \"line\": {\"color\": \"rgb(96, 137, 190)\"}, \"mode\": \"lines\", \"name\": \"dim 4\", \"showlegend\": false, \"type\": \"scatter\", \"x\": [62.0, 185.0], \"y\": [88, 88]}, {\"hovertemplate\": \"<i>id</i>: 29<br><b>rep</b>: [100  93  59 132]\", \"line\": {\"color\": \"rgb(96, 137, 190)\"}, \"mode\": \"lines\", \"name\": \"dim 4\", \"showlegend\": false, \"type\": \"scatter\", \"x\": [63.0, 209.0], \"y\": [89, 89]}, {\"hovertemplate\": \"<i>id</i>: 34<br><b>rep</b>: [142 122 148 108]\", \"line\": {\"color\": \"rgb(96, 137, 190)\"}, \"mode\": \"lines\", \"name\": \"dim 4\", \"showlegend\": false, \"type\": \"scatter\", \"x\": [65.0, 276.0], \"y\": [90, 90]}, {\"hovertemplate\": \"<i>id</i>: 9<br><b>rep</b>: [136  57  94 124]\", \"line\": {\"color\": \"rgb(96, 137, 190)\"}, \"mode\": \"lines\", \"name\": \"dim 4\", \"showlegend\": false, \"type\": \"scatter\", \"x\": [87.0, 153.0], \"y\": [91, 91]}, {\"hovertemplate\": \"<i>id</i>: 55<br><b>rep</b>: [130 146 141  67]\", \"line\": {\"color\": \"rgb(96, 137, 190)\"}, \"mode\": \"lines\", \"name\": \"dim 4\", \"showlegend\": false, \"type\": \"scatter\", \"x\": [90.0, 206.0], \"y\": [92, 92]}, {\"hovertemplate\": \"<i>id</i>: 68<br><b>rep</b>: [112 116 115 149]\", \"line\": {\"color\": \"rgb(96, 137, 190)\"}, \"mode\": \"lines\", \"name\": \"dim 4\", \"showlegend\": false, \"type\": \"scatter\", \"x\": [91.0, 259.0], \"y\": [93, 93]}, {\"hovertemplate\": \"<i>id</i>: 70<br><b>rep</b>: [93 86 79 80]\", \"line\": {\"color\": \"rgb(96, 137, 190)\"}, \"mode\": \"lines\", \"name\": \"dim 4\", \"showlegend\": false, \"type\": \"scatter\", \"x\": [116.0, 281.0], \"y\": [94, 94]}, {\"hovertemplate\": \"<i>id</i>: 26<br><b>rep</b>: [ 53 137  68  65]\", \"line\": {\"color\": \"rgb(96, 137, 190)\"}, \"mode\": \"lines\", \"name\": \"dim 4\", \"showlegend\": false, \"type\": \"scatter\", \"x\": [124.0, 159.0], \"y\": [95, 95]}, {\"hovertemplate\": \"<i>id</i>: 52<br><b>rep</b>: [136 139 111  67]\", \"line\": {\"color\": \"rgb(96, 137, 190)\"}, \"mode\": \"lines\", \"name\": \"dim 4\", \"showlegend\": false, \"type\": \"scatter\", \"x\": [125.0, 206.0], \"y\": [96, 96]}, {\"hovertemplate\": \"<i>id</i>: 77<br><b>rep</b>: [ 98  94 116 127]\", \"line\": {\"color\": \"rgb(96, 137, 190)\"}, \"mode\": \"lines\", \"name\": \"dim 4\", \"showlegend\": false, \"type\": \"scatter\", \"x\": [129.0, 225.0], \"y\": [97, 97]}, {\"hovertemplate\": \"<i>id</i>: 22<br><b>rep</b>: [130 148  87  81]\", \"line\": {\"color\": \"rgb(96, 137, 190)\"}, \"mode\": \"lines\", \"name\": \"dim 4\", \"showlegend\": false, \"type\": \"scatter\", \"x\": [133.0, 276.0], \"y\": [98, 98]}, {\"hovertemplate\": \"<i>id</i>: 13<br><b>rep</b>: [128 136 144 134]\", \"line\": {\"color\": \"rgb(96, 137, 190)\"}, \"mode\": \"lines\", \"name\": \"dim 4\", \"showlegend\": false, \"type\": \"scatter\", \"x\": [139.0, 293.0], \"y\": [99, 99]}, {\"hovertemplate\": \"<i>id</i>: 3<br><b>rep</b>: [ 50  97  88 101]\", \"line\": {\"color\": \"rgb(96, 137, 190)\"}, \"mode\": \"lines\", \"name\": \"dim 4\", \"showlegend\": false, \"type\": \"scatter\", \"x\": [144.0, 161.0], \"y\": [100, 100]}],                        {\"hovermode\": \"x unified\", \"legend\": {\"orientation\": \"h\", \"x\": 1, \"xanchor\": \"right\", \"y\": 1.02, \"yanchor\": \"bottom\"}, \"template\": {\"data\": {\"scatter\": [{\"marker\": {\"symbol\": \"circle\"}, \"type\": \"scatter\"}]}, \"layout\": {\"colorscale\": {\"sequential\": [[0.0, \"rgb(44, 26, 76)\"], [0.1, \"rgb(40, 59, 110)\"], [0.2, \"rgb(42, 94, 151)\"], [0.3, \"rgb(68, 117, 193)\"], [0.4, \"rgb(96, 137, 190)\"], [0.5, \"rgb(125, 156, 181)\"], [0.6, \"rgb(155, 175, 172)\"], [0.7, \"rgb(186, 196, 163)\"], [0.8, \"rgb(215, 217, 161)\"], [0.9, \"rgb(237, 236, 206)\"], [1.0, \"rgb(255, 255, 255)\"]]}, \"colorway\": [\"rgb(44, 26, 76)\", \"rgb(40, 59, 110)\", \"rgb(42, 94, 151)\", \"rgb(68, 117, 193)\", \"rgb(96, 137, 190)\", \"rgb(125, 156, 181)\", \"rgb(155, 175, 172)\", \"rgb(186, 196, 163)\", \"rgb(215, 217, 161)\", \"rgb(237, 236, 206)\", \"rgb(255, 255, 255)\"], \"font\": {\"color\": \"#3f4142\", \"family\": \"Avenir\"}, \"paper_bgcolor\": \"#fff\", \"plot_bgcolor\": \"#fff\", \"violingap\": 0.4, \"xaxis\": {\"color\": \"#3f4142\", \"gridcolor\": \"#ebf0f2\", \"gridwidth\": 0.5, \"linewidth\": 1}, \"yaxis\": {\"color\": \"#3f4142\", \"gridcolor\": \"#ebf0f2\", \"gridwidth\": 0.5, \"linewidth\": 1}}}, \"title\": {\"text\": \"Barcode\"}, \"xaxis\": {\"title\": {\"text\": \"Filtration index\"}}, \"yaxis\": {\"title\": {\"text\": \"H_k\"}}},                        {\"responsive\": true}                    ).then(function(){\n",
       "                            \n",
       "var gd = document.getElementById('3a9d06f9-1a95-4cfd-9065-fa96b89eab3a');\n",
       "var x = new MutationObserver(function (mutations, observer) {{\n",
       "        var display = window.getComputedStyle(gd).display;\n",
       "        if (!display || display === 'none') {{\n",
       "            console.log([gd, 'removed!']);\n",
       "            Plotly.purge(gd);\n",
       "            observer.disconnect();\n",
       "        }}\n",
       "}});\n",
       "\n",
       "// Listen for the removal of the full notebook cells\n",
       "var notebookContainer = gd.closest('#notebook-container');\n",
       "if (notebookContainer) {{\n",
       "    x.observe(notebookContainer, {childList: true});\n",
       "}}\n",
       "\n",
       "// Listen for the clearing of the current output cell\n",
       "var outputEl = gd.closest('.output');\n",
       "if (outputEl) {{\n",
       "    x.observe(outputEl, {childList: true});\n",
       "}}\n",
       "\n",
       "                        })                };                });            </script>        </div>"
      ]
     },
     "metadata": {},
     "output_type": "display_data"
    }
   ],
   "source": [
    "fig = go.Figure()\n",
    "bar_df_sorted = bar_df.sort_values(by=[\"bar_dim\", \"bar_birth\"])\n",
    "bar_df_sorted = bar_df_sorted.reset_index(drop=True)\n",
    "\n",
    "for b,bar in bar_df_sorted.iterrows():\n",
    "    \n",
    "    if (bar_df_sorted.iloc[b-1][\"bar_dim\"] != bar[\"bar_dim\"]) :\n",
    "        showlegendtf = True\n",
    "    else :\n",
    "        showlegendtf = False\n",
    "        \n",
    "    fig.add_trace(go.Scatter(x=[bar[\"bar_birth\"], bar[\"bar_death\"]], y=[b+1, b+1],\n",
    "                    mode='lines',\n",
    "                    name=f'dim {bar[\"bar_dim\"]}',\n",
    "                    showlegend=showlegendtf,\n",
    "                    line=dict(color=aptviz_themes.davos_colors[int(bar[\"bar_dim\"])]),\n",
    "                    hovertemplate =\n",
    "                        f'<i>id</i>: {bar[\"bar_id\"]}'+\n",
    "                        f'<br><b>rep</b>: {bar[\"rep\"]}'))\n",
    "\n",
    "\n",
    "\n",
    "# Add nice effects and such\n",
    "fig.update_layout(title_text=\"Barcode\")\n",
    "fig.update_yaxes(title_text = \"H_k\")\n",
    "fig.update_xaxes(title_text = \"Filtration index\")\n",
    "fig.update_layout(legend=dict(\n",
    "    orientation=\"h\",\n",
    "    yanchor=\"bottom\",\n",
    "    y=1.02,\n",
    "    xanchor=\"right\",\n",
    "    x=1\n",
    "))\n",
    "fig.update_layout(hovermode=\"x unified\")\n",
    "fig.show()\n",
    "\n",
    "# # fig.write_image(\"fig1.pdf\")\n"
   ]
  },
  {
   "cell_type": "code",
   "execution_count": null,
   "metadata": {},
   "outputs": [],
   "source": []
  }
 ],
 "metadata": {
  "kernelspec": {
   "display_name": "Python 3",
   "language": "python",
   "name": "python3"
  },
  "language_info": {
   "codemirror_mode": {
    "name": "ipython",
    "version": 3
   },
   "file_extension": ".py",
   "mimetype": "text/x-python",
   "name": "python",
   "nbconvert_exporter": "python",
   "pygments_lexer": "ipython3",
   "version": "3.8.6"
  }
 },
 "nbformat": 4,
 "nbformat_minor": 4
}
